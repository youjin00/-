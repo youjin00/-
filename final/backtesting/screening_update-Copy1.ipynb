{
 "cells": [
  {
   "cell_type": "markdown",
   "id": "98b36eac",
   "metadata": {},
   "source": [
    "### <b> 단기 투자 시 수익 성과가 좋은 팩터 전략 <b>\n",
    "    1. 밸류 팩터(1m) : 저pbr, 저per (단, per>0이고 pbr>0인 종목)\n",
    "    2. 어닝 모멘텀(1m) : EPS 변화율이 높은 종목\n",
    "    3. 가격 모멘텀\n",
    "    - 이격도 리버전 : 단기 투자 전략에 주가/직전 1개월 평균주가 하위 종목을 선택합니다 \n",
    "    - 주가 리버전 (1m) : 직전 1개월 주가 수익률 하위 종목 투자\n",
    "    4. 트레이딩 팩터 : 개인 순매수 (1m)"
   ]
  },
  {
   "cell_type": "code",
   "execution_count": 8,
   "id": "f3aa6561",
   "metadata": {},
   "outputs": [
    {
     "data": {
      "text/html": [
       "        <script type=\"text/javascript\">\n",
       "        window.PlotlyConfig = {MathJaxConfig: 'local'};\n",
       "        if (window.MathJax && window.MathJax.Hub && window.MathJax.Hub.Config) {window.MathJax.Hub.Config({SVG: {font: \"STIX-Web\"}});}\n",
       "        if (typeof require !== 'undefined') {\n",
       "        require.undef(\"plotly\");\n",
       "        requirejs.config({\n",
       "            paths: {\n",
       "                'plotly': ['https://cdn.plot.ly/plotly-2.12.1.min']\n",
       "            }\n",
       "        });\n",
       "        require(['plotly'], function(Plotly) {\n",
       "            window._Plotly = Plotly;\n",
       "        });\n",
       "        }\n",
       "        </script>\n",
       "        "
      ]
     },
     "metadata": {},
     "output_type": "display_data"
    }
   ],
   "source": [
    "import pandas as pd\n",
    "import numpy as np\n",
    "import chart_studio.plotly as py\n",
    "import cufflinks as cf\n",
    "cf.go_offline(connected=True)\n",
    "import json\n",
    "import requests\n",
    "\n",
    "from pykrx import stock"
   ]
  },
  {
   "cell_type": "markdown",
   "id": "08c18be4",
   "metadata": {},
   "source": [
    "### 1.가치주 : 저per, 저pbr"
   ]
  },
  {
   "cell_type": "code",
   "execution_count": 9,
   "id": "292b3da0",
   "metadata": {},
   "outputs": [
    {
     "data": {
      "text/html": [
       "<div>\n",
       "<style scoped>\n",
       "    .dataframe tbody tr th:only-of-type {\n",
       "        vertical-align: middle;\n",
       "    }\n",
       "\n",
       "    .dataframe tbody tr th {\n",
       "        vertical-align: top;\n",
       "    }\n",
       "\n",
       "    .dataframe thead th {\n",
       "        text-align: right;\n",
       "    }\n",
       "</style>\n",
       "<table border=\"1\" class=\"dataframe\">\n",
       "  <thead>\n",
       "    <tr style=\"text-align: right;\">\n",
       "      <th></th>\n",
       "      <th>종가</th>\n",
       "      <th>시가총액</th>\n",
       "    </tr>\n",
       "    <tr>\n",
       "      <th>티커</th>\n",
       "      <th></th>\n",
       "      <th></th>\n",
       "    </tr>\n",
       "  </thead>\n",
       "  <tbody>\n",
       "    <tr>\n",
       "      <th>005930</th>\n",
       "      <td>74700</td>\n",
       "      <td>445942756485000</td>\n",
       "    </tr>\n",
       "    <tr>\n",
       "      <th>000660</th>\n",
       "      <td>141300</td>\n",
       "      <td>102866734174500</td>\n",
       "    </tr>\n",
       "    <tr>\n",
       "      <th>373220</th>\n",
       "      <td>383500</td>\n",
       "      <td>89739000000000</td>\n",
       "    </tr>\n",
       "    <tr>\n",
       "      <th>207940</th>\n",
       "      <td>770000</td>\n",
       "      <td>54803980000000</td>\n",
       "    </tr>\n",
       "    <tr>\n",
       "      <th>005935</th>\n",
       "      <td>60300</td>\n",
       "      <td>49620068010000</td>\n",
       "    </tr>\n",
       "  </tbody>\n",
       "</table>\n",
       "</div>"
      ],
      "text/plain": [
       "            종가             시가총액\n",
       "티커                             \n",
       "005930   74700  445942756485000\n",
       "000660  141300  102866734174500\n",
       "373220  383500   89739000000000\n",
       "207940  770000   54803980000000\n",
       "005935   60300   49620068010000"
      ]
     },
     "execution_count": 9,
     "metadata": {},
     "output_type": "execute_result"
    }
   ],
   "source": [
    "data = stock.get_market_cap(\"20240119\", market=\"ALL\") #3개월의 투자 수익률 확인 위해\n",
    "data = data[['종가', '시가총액']]\n",
    "data.head()"
   ]
  },
  {
   "cell_type": "code",
   "execution_count": 10,
   "id": "879c0f0d",
   "metadata": {},
   "outputs": [
    {
     "data": {
      "text/html": [
       "<div>\n",
       "<style scoped>\n",
       "    .dataframe tbody tr th:only-of-type {\n",
       "        vertical-align: middle;\n",
       "    }\n",
       "\n",
       "    .dataframe tbody tr th {\n",
       "        vertical-align: top;\n",
       "    }\n",
       "\n",
       "    .dataframe thead th {\n",
       "        text-align: right;\n",
       "    }\n",
       "</style>\n",
       "<table border=\"1\" class=\"dataframe\">\n",
       "  <thead>\n",
       "    <tr style=\"text-align: right;\">\n",
       "      <th></th>\n",
       "      <th>BPS</th>\n",
       "      <th>PER</th>\n",
       "      <th>PBR</th>\n",
       "      <th>EPS</th>\n",
       "      <th>DIV</th>\n",
       "      <th>DPS</th>\n",
       "    </tr>\n",
       "    <tr>\n",
       "      <th>티커</th>\n",
       "      <th></th>\n",
       "      <th></th>\n",
       "      <th></th>\n",
       "      <th></th>\n",
       "      <th></th>\n",
       "      <th></th>\n",
       "    </tr>\n",
       "  </thead>\n",
       "  <tbody>\n",
       "    <tr>\n",
       "      <th>060310</th>\n",
       "      <td>947</td>\n",
       "      <td>117.50</td>\n",
       "      <td>3.72</td>\n",
       "      <td>30</td>\n",
       "      <td>0.00</td>\n",
       "      <td>0</td>\n",
       "    </tr>\n",
       "    <tr>\n",
       "      <th>095570</th>\n",
       "      <td>8076</td>\n",
       "      <td>23.06</td>\n",
       "      <td>0.57</td>\n",
       "      <td>201</td>\n",
       "      <td>5.83</td>\n",
       "      <td>270</td>\n",
       "    </tr>\n",
       "    <tr>\n",
       "      <th>006840</th>\n",
       "      <td>41948</td>\n",
       "      <td>0.00</td>\n",
       "      <td>0.39</td>\n",
       "      <td>0</td>\n",
       "      <td>1.22</td>\n",
       "      <td>200</td>\n",
       "    </tr>\n",
       "    <tr>\n",
       "      <th>054620</th>\n",
       "      <td>10864</td>\n",
       "      <td>16.10</td>\n",
       "      <td>0.75</td>\n",
       "      <td>505</td>\n",
       "      <td>0.00</td>\n",
       "      <td>0</td>\n",
       "    </tr>\n",
       "    <tr>\n",
       "      <th>265520</th>\n",
       "      <td>17980</td>\n",
       "      <td>4.10</td>\n",
       "      <td>1.25</td>\n",
       "      <td>5463</td>\n",
       "      <td>1.21</td>\n",
       "      <td>270</td>\n",
       "    </tr>\n",
       "  </tbody>\n",
       "</table>\n",
       "</div>"
      ],
      "text/plain": [
       "          BPS     PER   PBR   EPS   DIV  DPS\n",
       "티커                                          \n",
       "060310    947  117.50  3.72    30  0.00    0\n",
       "095570   8076   23.06  0.57   201  5.83  270\n",
       "006840  41948    0.00  0.39     0  1.22  200\n",
       "054620  10864   16.10  0.75   505  0.00    0\n",
       "265520  17980    4.10  1.25  5463  1.21  270"
      ]
     },
     "execution_count": 10,
     "metadata": {},
     "output_type": "execute_result"
    }
   ],
   "source": [
    "#api 활용 데이터 - per, pbr\n",
    "df = stock.get_market_fundamental_by_ticker(\"20240119\", market='ALL')\n",
    "df.head()"
   ]
  },
  {
   "cell_type": "code",
   "execution_count": 11,
   "id": "75aba902",
   "metadata": {},
   "outputs": [
    {
     "data": {
      "text/html": [
       "<div>\n",
       "<style scoped>\n",
       "    .dataframe tbody tr th:only-of-type {\n",
       "        vertical-align: middle;\n",
       "    }\n",
       "\n",
       "    .dataframe tbody tr th {\n",
       "        vertical-align: top;\n",
       "    }\n",
       "\n",
       "    .dataframe thead th {\n",
       "        text-align: right;\n",
       "    }\n",
       "</style>\n",
       "<table border=\"1\" class=\"dataframe\">\n",
       "  <thead>\n",
       "    <tr style=\"text-align: right;\">\n",
       "      <th></th>\n",
       "      <th>BPS</th>\n",
       "      <th>PER</th>\n",
       "      <th>PBR</th>\n",
       "      <th>EPS</th>\n",
       "      <th>DIV</th>\n",
       "      <th>DPS</th>\n",
       "    </tr>\n",
       "  </thead>\n",
       "  <tbody>\n",
       "    <tr>\n",
       "      <th>count</th>\n",
       "      <td>2.606000e+03</td>\n",
       "      <td>2606.000000</td>\n",
       "      <td>2606.000000</td>\n",
       "      <td>2606.000000</td>\n",
       "      <td>2606.000000</td>\n",
       "      <td>2606.000000</td>\n",
       "    </tr>\n",
       "    <tr>\n",
       "      <th>mean</th>\n",
       "      <td>2.209889e+04</td>\n",
       "      <td>29.720652</td>\n",
       "      <td>2.357943</td>\n",
       "      <td>1726.657713</td>\n",
       "      <td>1.320388</td>\n",
       "      <td>344.605142</td>\n",
       "    </tr>\n",
       "    <tr>\n",
       "      <th>std</th>\n",
       "      <td>1.208338e+05</td>\n",
       "      <td>222.339143</td>\n",
       "      <td>15.335183</td>\n",
       "      <td>10168.974801</td>\n",
       "      <td>2.190288</td>\n",
       "      <td>1162.628930</td>\n",
       "    </tr>\n",
       "    <tr>\n",
       "      <th>min</th>\n",
       "      <td>0.000000e+00</td>\n",
       "      <td>0.000000</td>\n",
       "      <td>0.000000</td>\n",
       "      <td>0.000000</td>\n",
       "      <td>0.000000</td>\n",
       "      <td>0.000000</td>\n",
       "    </tr>\n",
       "    <tr>\n",
       "      <th>25%</th>\n",
       "      <td>1.456250e+03</td>\n",
       "      <td>0.000000</td>\n",
       "      <td>0.480000</td>\n",
       "      <td>0.000000</td>\n",
       "      <td>0.000000</td>\n",
       "      <td>0.000000</td>\n",
       "    </tr>\n",
       "    <tr>\n",
       "      <th>50%</th>\n",
       "      <td>4.807000e+03</td>\n",
       "      <td>5.435000</td>\n",
       "      <td>0.975000</td>\n",
       "      <td>143.500000</td>\n",
       "      <td>0.000000</td>\n",
       "      <td>0.000000</td>\n",
       "    </tr>\n",
       "    <tr>\n",
       "      <th>75%</th>\n",
       "      <td>1.265075e+04</td>\n",
       "      <td>16.970000</td>\n",
       "      <td>1.990000</td>\n",
       "      <td>939.000000</td>\n",
       "      <td>1.967500</td>\n",
       "      <td>200.000000</td>\n",
       "    </tr>\n",
       "    <tr>\n",
       "      <th>max</th>\n",
       "      <td>4.906107e+06</td>\n",
       "      <td>6890.000000</td>\n",
       "      <td>741.180000</td>\n",
       "      <td>406090.000000</td>\n",
       "      <td>34.200000</td>\n",
       "      <td>20000.000000</td>\n",
       "    </tr>\n",
       "  </tbody>\n",
       "</table>\n",
       "</div>"
      ],
      "text/plain": [
       "                BPS          PER          PBR            EPS          DIV  \\\n",
       "count  2.606000e+03  2606.000000  2606.000000    2606.000000  2606.000000   \n",
       "mean   2.209889e+04    29.720652     2.357943    1726.657713     1.320388   \n",
       "std    1.208338e+05   222.339143    15.335183   10168.974801     2.190288   \n",
       "min    0.000000e+00     0.000000     0.000000       0.000000     0.000000   \n",
       "25%    1.456250e+03     0.000000     0.480000       0.000000     0.000000   \n",
       "50%    4.807000e+03     5.435000     0.975000     143.500000     0.000000   \n",
       "75%    1.265075e+04    16.970000     1.990000     939.000000     1.967500   \n",
       "max    4.906107e+06  6890.000000   741.180000  406090.000000    34.200000   \n",
       "\n",
       "                DPS  \n",
       "count   2606.000000  \n",
       "mean     344.605142  \n",
       "std     1162.628930  \n",
       "min        0.000000  \n",
       "25%        0.000000  \n",
       "50%        0.000000  \n",
       "75%      200.000000  \n",
       "max    20000.000000  "
      ]
     },
     "execution_count": 11,
     "metadata": {},
     "output_type": "execute_result"
    }
   ],
   "source": [
    "df.describe() #per<5 고정 #PBR의 경우 상위 25% 값보다 작은 것"
   ]
  },
  {
   "cell_type": "code",
   "execution_count": 12,
   "id": "ed0cff69",
   "metadata": {},
   "outputs": [
    {
     "data": {
      "text/html": [
       "<div>\n",
       "<style scoped>\n",
       "    .dataframe tbody tr th:only-of-type {\n",
       "        vertical-align: middle;\n",
       "    }\n",
       "\n",
       "    .dataframe tbody tr th {\n",
       "        vertical-align: top;\n",
       "    }\n",
       "\n",
       "    .dataframe thead th {\n",
       "        text-align: right;\n",
       "    }\n",
       "</style>\n",
       "<table border=\"1\" class=\"dataframe\">\n",
       "  <thead>\n",
       "    <tr style=\"text-align: right;\">\n",
       "      <th></th>\n",
       "      <th>PER</th>\n",
       "      <th>PBR</th>\n",
       "    </tr>\n",
       "    <tr>\n",
       "      <th>티커</th>\n",
       "      <th></th>\n",
       "      <th></th>\n",
       "    </tr>\n",
       "  </thead>\n",
       "  <tbody>\n",
       "    <tr>\n",
       "      <th>006840</th>\n",
       "      <td>0.00</td>\n",
       "      <td>0.39</td>\n",
       "    </tr>\n",
       "    <tr>\n",
       "      <th>138930</th>\n",
       "      <td>2.91</td>\n",
       "      <td>0.23</td>\n",
       "    </tr>\n",
       "    <tr>\n",
       "      <th>001465</th>\n",
       "      <td>0.00</td>\n",
       "      <td>0.00</td>\n",
       "    </tr>\n",
       "    <tr>\n",
       "      <th>035760</th>\n",
       "      <td>0.00</td>\n",
       "      <td>0.36</td>\n",
       "    </tr>\n",
       "    <tr>\n",
       "      <th>00104K</th>\n",
       "      <td>0.00</td>\n",
       "      <td>0.00</td>\n",
       "    </tr>\n",
       "    <tr>\n",
       "      <th>...</th>\n",
       "      <td>...</td>\n",
       "      <td>...</td>\n",
       "    </tr>\n",
       "    <tr>\n",
       "      <th>028080</th>\n",
       "      <td>0.00</td>\n",
       "      <td>0.47</td>\n",
       "    </tr>\n",
       "    <tr>\n",
       "      <th>079980</th>\n",
       "      <td>0.00</td>\n",
       "      <td>0.35</td>\n",
       "    </tr>\n",
       "    <tr>\n",
       "      <th>005010</th>\n",
       "      <td>0.84</td>\n",
       "      <td>0.29</td>\n",
       "    </tr>\n",
       "    <tr>\n",
       "      <th>000540</th>\n",
       "      <td>1.35</td>\n",
       "      <td>0.26</td>\n",
       "    </tr>\n",
       "    <tr>\n",
       "      <th>000545</th>\n",
       "      <td>0.00</td>\n",
       "      <td>0.00</td>\n",
       "    </tr>\n",
       "  </tbody>\n",
       "</table>\n",
       "<p>488 rows × 2 columns</p>\n",
       "</div>"
      ],
      "text/plain": [
       "         PER   PBR\n",
       "티커                \n",
       "006840  0.00  0.39\n",
       "138930  2.91  0.23\n",
       "001465  0.00  0.00\n",
       "035760  0.00  0.36\n",
       "00104K  0.00  0.00\n",
       "...      ...   ...\n",
       "028080  0.00  0.47\n",
       "079980  0.00  0.35\n",
       "005010  0.84  0.29\n",
       "000540  1.35  0.26\n",
       "000545  0.00  0.00\n",
       "\n",
       "[488 rows x 2 columns]"
      ]
     },
     "execution_count": 12,
     "metadata": {},
     "output_type": "execute_result"
    }
   ],
   "source": [
    "#업데이트 편의를 위해 넘파이 사용\n",
    "import numpy as np\n",
    "column_pbr = df['PBR'].values\n",
    "pbr_25 = np.percentile(column_pbr, 25)\n",
    "\n",
    "df2 = df.loc[(df['PER'] < 5) & (df['PBR'] < pbr_25)] #저per, 저pbr인 데이터\n",
    "df2 = df2[['PER', 'PBR']]\n",
    "df2"
   ]
  },
  {
   "cell_type": "code",
   "execution_count": 13,
   "id": "d451617a",
   "metadata": {},
   "outputs": [
    {
     "data": {
      "text/plain": [
       "Index(['006840', '138930', '001465', '035760', '00104K', '011155', '001045',\n",
       "       '097955', '000480', '456440',\n",
       "       ...\n",
       "       '008775', '002460', '133820', '000850', '032560', '028080', '079980',\n",
       "       '005010', '000540', '000545'],\n",
       "      dtype='object', name='티커', length=488)"
      ]
     },
     "execution_count": 13,
     "metadata": {},
     "output_type": "execute_result"
    }
   ],
   "source": [
    "df2.index"
   ]
  },
  {
   "cell_type": "code",
   "execution_count": 14,
   "id": "92f22116",
   "metadata": {
    "scrolled": true
   },
   "outputs": [
    {
     "data": {
      "text/html": [
       "<div>\n",
       "<style scoped>\n",
       "    .dataframe tbody tr th:only-of-type {\n",
       "        vertical-align: middle;\n",
       "    }\n",
       "\n",
       "    .dataframe tbody tr th {\n",
       "        vertical-align: top;\n",
       "    }\n",
       "\n",
       "    .dataframe thead th {\n",
       "        text-align: right;\n",
       "    }\n",
       "</style>\n",
       "<table border=\"1\" class=\"dataframe\">\n",
       "  <thead>\n",
       "    <tr style=\"text-align: right;\">\n",
       "      <th></th>\n",
       "      <th>종가</th>\n",
       "      <th>시가총액</th>\n",
       "      <th>PER</th>\n",
       "      <th>PBR</th>\n",
       "    </tr>\n",
       "    <tr>\n",
       "      <th>티커</th>\n",
       "      <th></th>\n",
       "      <th></th>\n",
       "      <th></th>\n",
       "      <th></th>\n",
       "    </tr>\n",
       "  </thead>\n",
       "  <tbody>\n",
       "    <tr>\n",
       "      <th>005935</th>\n",
       "      <td>60300</td>\n",
       "      <td>49620068010000</td>\n",
       "      <td>0.00</td>\n",
       "      <td>0.00</td>\n",
       "    </tr>\n",
       "    <tr>\n",
       "      <th>105560</th>\n",
       "      <td>49500</td>\n",
       "      <td>19973798064000</td>\n",
       "      <td>4.52</td>\n",
       "      <td>0.40</td>\n",
       "    </tr>\n",
       "    <tr>\n",
       "      <th>055550</th>\n",
       "      <td>36800</td>\n",
       "      <td>18869548532800</td>\n",
       "      <td>4.35</td>\n",
       "      <td>0.39</td>\n",
       "    </tr>\n",
       "    <tr>\n",
       "      <th>011200</th>\n",
       "      <td>19220</td>\n",
       "      <td>13243339113120</td>\n",
       "      <td>0.94</td>\n",
       "      <td>0.45</td>\n",
       "    </tr>\n",
       "    <tr>\n",
       "      <th>086790</th>\n",
       "      <td>41200</td>\n",
       "      <td>12045091837600</td>\n",
       "      <td>3.49</td>\n",
       "      <td>0.33</td>\n",
       "    </tr>\n",
       "    <tr>\n",
       "      <th>...</th>\n",
       "      <td>...</td>\n",
       "      <td>...</td>\n",
       "      <td>...</td>\n",
       "      <td>...</td>\n",
       "    </tr>\n",
       "    <tr>\n",
       "      <th>001525</th>\n",
       "      <td>5940</td>\n",
       "      <td>3669322140</td>\n",
       "      <td>0.00</td>\n",
       "      <td>0.00</td>\n",
       "    </tr>\n",
       "    <tr>\n",
       "      <th>002787</th>\n",
       "      <td>12410</td>\n",
       "      <td>3658567280</td>\n",
       "      <td>0.00</td>\n",
       "      <td>0.00</td>\n",
       "    </tr>\n",
       "    <tr>\n",
       "      <th>002785</th>\n",
       "      <td>4230</td>\n",
       "      <td>3626032140</td>\n",
       "      <td>0.00</td>\n",
       "      <td>0.00</td>\n",
       "    </tr>\n",
       "    <tr>\n",
       "      <th>021045</th>\n",
       "      <td>8490</td>\n",
       "      <td>3601848540</td>\n",
       "      <td>0.00</td>\n",
       "      <td>0.00</td>\n",
       "    </tr>\n",
       "    <tr>\n",
       "      <th>001527</th>\n",
       "      <td>11060</td>\n",
       "      <td>3412773140</td>\n",
       "      <td>0.00</td>\n",
       "      <td>0.00</td>\n",
       "    </tr>\n",
       "  </tbody>\n",
       "</table>\n",
       "<p>488 rows × 4 columns</p>\n",
       "</div>"
      ],
      "text/plain": [
       "           종가            시가총액   PER   PBR\n",
       "티커                                       \n",
       "005935  60300  49620068010000  0.00  0.00\n",
       "105560  49500  19973798064000  4.52  0.40\n",
       "055550  36800  18869548532800  4.35  0.39\n",
       "011200  19220  13243339113120  0.94  0.45\n",
       "086790  41200  12045091837600  3.49  0.33\n",
       "...       ...             ...   ...   ...\n",
       "001525   5940      3669322140  0.00  0.00\n",
       "002787  12410      3658567280  0.00  0.00\n",
       "002785   4230      3626032140  0.00  0.00\n",
       "021045   8490      3601848540  0.00  0.00\n",
       "001527  11060      3412773140  0.00  0.00\n",
       "\n",
       "[488 rows x 4 columns]"
      ]
     },
     "execution_count": 14,
     "metadata": {},
     "output_type": "execute_result"
    }
   ],
   "source": [
    "df3 = pd.merge(data, df2, on='티커')\n",
    "df3"
   ]
  },
  {
   "cell_type": "markdown",
   "id": "6b9e9bbf",
   "metadata": {},
   "source": [
    "### 1.2 PER > 0, PBR > 0"
   ]
  },
  {
   "cell_type": "code",
   "execution_count": 15,
   "id": "6087dc56",
   "metadata": {},
   "outputs": [
    {
     "data": {
      "text/plain": [
       "(153, 3)"
      ]
     },
     "execution_count": 15,
     "metadata": {},
     "output_type": "execute_result"
    }
   ],
   "source": [
    "df3 = df3.loc[(df['PER'] > 0) & (df['PBR'] > 0)]\n",
    "df3 = df3[['종가', 'PER', 'PBR']]\n",
    "df3.shape "
   ]
  },
  {
   "cell_type": "code",
   "execution_count": 16,
   "id": "41ccd6d0",
   "metadata": {
    "scrolled": false
   },
   "outputs": [
    {
     "data": {
      "text/plain": [
       "Index(['105560', '055550', '011200', '086790', '316140', '024110', '004020',\n",
       "       '078930', '011780', '138930',\n",
       "       ...\n",
       "       '006200', '127710', '050120', '012620', '000950', '225590', '054940',\n",
       "       '106240', '377460', '115570'],\n",
       "      dtype='object', name='티커', length=153)"
      ]
     },
     "execution_count": 16,
     "metadata": {},
     "output_type": "execute_result"
    }
   ],
   "source": [
    "df3.index"
   ]
  },
  {
   "cell_type": "markdown",
   "id": "de142296",
   "metadata": {},
   "source": [
    "   ### 3. EPS 변화율 \n",
    "   - 1m 기준"
   ]
  },
  {
   "cell_type": "code",
   "execution_count": 22,
   "id": "6f8ad1ba",
   "metadata": {},
   "outputs": [
    {
     "data": {
      "text/html": [
       "<div>\n",
       "<style scoped>\n",
       "    .dataframe tbody tr th:only-of-type {\n",
       "        vertical-align: middle;\n",
       "    }\n",
       "\n",
       "    .dataframe tbody tr th {\n",
       "        vertical-align: top;\n",
       "    }\n",
       "\n",
       "    .dataframe thead th {\n",
       "        text-align: right;\n",
       "    }\n",
       "</style>\n",
       "<table border=\"1\" class=\"dataframe\">\n",
       "  <thead>\n",
       "    <tr style=\"text-align: right;\">\n",
       "      <th>날짜</th>\n",
       "      <th>2023-12-31</th>\n",
       "      <th>2024-01-31</th>\n",
       "    </tr>\n",
       "  </thead>\n",
       "  <tbody>\n",
       "    <tr>\n",
       "      <th>BPS</th>\n",
       "      <td>41948.00</td>\n",
       "      <td>41948.00</td>\n",
       "    </tr>\n",
       "    <tr>\n",
       "      <th>PER</th>\n",
       "      <td>0.00</td>\n",
       "      <td>0.00</td>\n",
       "    </tr>\n",
       "    <tr>\n",
       "      <th>PBR</th>\n",
       "      <td>0.42</td>\n",
       "      <td>0.41</td>\n",
       "    </tr>\n",
       "    <tr>\n",
       "      <th>EPS</th>\n",
       "      <td>0.00</td>\n",
       "      <td>0.00</td>\n",
       "    </tr>\n",
       "    <tr>\n",
       "      <th>DIV</th>\n",
       "      <td>1.15</td>\n",
       "      <td>1.17</td>\n",
       "    </tr>\n",
       "    <tr>\n",
       "      <th>DPS</th>\n",
       "      <td>200.00</td>\n",
       "      <td>200.00</td>\n",
       "    </tr>\n",
       "  </tbody>\n",
       "</table>\n",
       "</div>"
      ],
      "text/plain": [
       "날짜   2023-12-31  2024-01-31\n",
       "BPS    41948.00    41948.00\n",
       "PER        0.00        0.00\n",
       "PBR        0.42        0.41\n",
       "EPS        0.00        0.00\n",
       "DIV        1.15        1.17\n",
       "DPS      200.00      200.00"
      ]
     },
     "execution_count": 22,
     "metadata": {},
     "output_type": "execute_result"
    }
   ],
   "source": [
    "#eps변화율 분석(1m)\n",
    "df = stock.get_market_fundamental(\"20231203\", \"20240104\", '006840', freq=\"m\")\n",
    "df = df.T\n",
    "df"
   ]
  },
  {
   "cell_type": "code",
   "execution_count": 23,
   "id": "d39478d4",
   "metadata": {
    "scrolled": true
   },
   "outputs": [
    {
     "data": {
      "text/html": [
       "<div>\n",
       "<style scoped>\n",
       "    .dataframe tbody tr th:only-of-type {\n",
       "        vertical-align: middle;\n",
       "    }\n",
       "\n",
       "    .dataframe tbody tr th {\n",
       "        vertical-align: top;\n",
       "    }\n",
       "\n",
       "    .dataframe thead th {\n",
       "        text-align: right;\n",
       "    }\n",
       "</style>\n",
       "<table border=\"1\" class=\"dataframe\">\n",
       "  <thead>\n",
       "    <tr style=\"text-align: right;\">\n",
       "      <th></th>\n",
       "      <th>BPS</th>\n",
       "      <th>PER</th>\n",
       "      <th>PBR</th>\n",
       "      <th>EPS</th>\n",
       "      <th>DIV</th>\n",
       "      <th>DPS</th>\n",
       "    </tr>\n",
       "    <tr>\n",
       "      <th>티커</th>\n",
       "      <th></th>\n",
       "      <th></th>\n",
       "      <th></th>\n",
       "      <th></th>\n",
       "      <th></th>\n",
       "      <th></th>\n",
       "    </tr>\n",
       "  </thead>\n",
       "  <tbody>\n",
       "    <tr>\n",
       "      <th>105560</th>\n",
       "      <td>0.0</td>\n",
       "      <td>0.040426</td>\n",
       "      <td>0.048781</td>\n",
       "      <td>0.0</td>\n",
       "      <td>-0.040140</td>\n",
       "      <td>0.0</td>\n",
       "    </tr>\n",
       "    <tr>\n",
       "      <th>055550</th>\n",
       "      <td>0.0</td>\n",
       "      <td>0.068966</td>\n",
       "      <td>0.051282</td>\n",
       "      <td>0.0</td>\n",
       "      <td>-0.065836</td>\n",
       "      <td>0.0</td>\n",
       "    </tr>\n",
       "    <tr>\n",
       "      <th>011200</th>\n",
       "      <td>0.0</td>\n",
       "      <td>0.219512</td>\n",
       "      <td>0.225000</td>\n",
       "      <td>0.0</td>\n",
       "      <td>-0.184615</td>\n",
       "      <td>0.0</td>\n",
       "    </tr>\n",
       "    <tr>\n",
       "      <th>086790</th>\n",
       "      <td>0.0</td>\n",
       "      <td>0.028329</td>\n",
       "      <td>0.030303</td>\n",
       "      <td>0.0</td>\n",
       "      <td>-0.024907</td>\n",
       "      <td>0.0</td>\n",
       "    </tr>\n",
       "    <tr>\n",
       "      <th>316140</th>\n",
       "      <td>0.0</td>\n",
       "      <td>-0.003257</td>\n",
       "      <td>0.000000</td>\n",
       "      <td>0.0</td>\n",
       "      <td>0.002278</td>\n",
       "      <td>0.0</td>\n",
       "    </tr>\n",
       "    <tr>\n",
       "      <th>...</th>\n",
       "      <td>...</td>\n",
       "      <td>...</td>\n",
       "      <td>...</td>\n",
       "      <td>...</td>\n",
       "      <td>...</td>\n",
       "      <td>...</td>\n",
       "    </tr>\n",
       "    <tr>\n",
       "      <th>225590</th>\n",
       "      <td>0.0</td>\n",
       "      <td>-0.029762</td>\n",
       "      <td>-0.040816</td>\n",
       "      <td>0.0</td>\n",
       "      <td>NaN</td>\n",
       "      <td>NaN</td>\n",
       "    </tr>\n",
       "    <tr>\n",
       "      <th>054940</th>\n",
       "      <td>0.0</td>\n",
       "      <td>-0.002558</td>\n",
       "      <td>0.000000</td>\n",
       "      <td>0.0</td>\n",
       "      <td>NaN</td>\n",
       "      <td>NaN</td>\n",
       "    </tr>\n",
       "    <tr>\n",
       "      <th>106240</th>\n",
       "      <td>0.0</td>\n",
       "      <td>0.083333</td>\n",
       "      <td>0.064516</td>\n",
       "      <td>0.0</td>\n",
       "      <td>NaN</td>\n",
       "      <td>NaN</td>\n",
       "    </tr>\n",
       "    <tr>\n",
       "      <th>377460</th>\n",
       "      <td>0.0</td>\n",
       "      <td>0.000000</td>\n",
       "      <td>0.000000</td>\n",
       "      <td>0.0</td>\n",
       "      <td>NaN</td>\n",
       "      <td>NaN</td>\n",
       "    </tr>\n",
       "    <tr>\n",
       "      <th>115570</th>\n",
       "      <td>0.0</td>\n",
       "      <td>-0.005362</td>\n",
       "      <td>0.000000</td>\n",
       "      <td>0.0</td>\n",
       "      <td>NaN</td>\n",
       "      <td>NaN</td>\n",
       "    </tr>\n",
       "  </tbody>\n",
       "</table>\n",
       "<p>153 rows × 6 columns</p>\n",
       "</div>"
      ],
      "text/plain": [
       "        BPS       PER       PBR  EPS       DIV  DPS\n",
       "티커                                                 \n",
       "105560  0.0  0.040426  0.048781  0.0 -0.040140  0.0\n",
       "055550  0.0  0.068966  0.051282  0.0 -0.065836  0.0\n",
       "011200  0.0  0.219512  0.225000  0.0 -0.184615  0.0\n",
       "086790  0.0  0.028329  0.030303  0.0 -0.024907  0.0\n",
       "316140  0.0 -0.003257  0.000000  0.0  0.002278  0.0\n",
       "...     ...       ...       ...  ...       ...  ...\n",
       "225590  0.0 -0.029762 -0.040816  0.0       NaN  NaN\n",
       "054940  0.0 -0.002558  0.000000  0.0       NaN  NaN\n",
       "106240  0.0  0.083333  0.064516  0.0       NaN  NaN\n",
       "377460  0.0  0.000000  0.000000  0.0       NaN  NaN\n",
       "115570  0.0 -0.005362  0.000000  0.0       NaN  NaN\n",
       "\n",
       "[153 rows x 6 columns]"
      ]
     },
     "execution_count": 23,
     "metadata": {},
     "output_type": "execute_result"
    }
   ],
   "source": [
    "import pandas as pd\n",
    "\n",
    "ticker = df3.index\n",
    "eps_change_data = []\n",
    "\n",
    "for stock_code in ticker:\n",
    "    df = stock.get_market_fundamental(\"20231203\", \"20240104\", stock_code, freq=\"m\")\n",
    "    df = df.T\n",
    "    df['변화율'] = (df.iloc[:, 1] - df.iloc[:, 0]) / df.iloc[:, 0]\n",
    "    eps_change_data.append(df['변화율'])\n",
    "\n",
    "# DataFrame 생성\n",
    "eps_change_df = pd.DataFrame(eps_change_data, index=ticker)\n",
    "eps_change_df"
   ]
  },
  {
   "cell_type": "code",
   "execution_count": 24,
   "id": "c3055172",
   "metadata": {},
   "outputs": [
    {
     "data": {
      "text/plain": [
       "0.0"
      ]
     },
     "execution_count": 24,
     "metadata": {},
     "output_type": "execute_result"
    }
   ],
   "source": [
    "eps_change_df['EPS'].mean()"
   ]
  },
  {
   "cell_type": "code",
   "execution_count": 25,
   "id": "88e80086",
   "metadata": {},
   "outputs": [
    {
     "data": {
      "text/plain": [
       "['105560',\n",
       " '055550',\n",
       " '011200',\n",
       " '086790',\n",
       " '316140',\n",
       " '024110',\n",
       " '004020',\n",
       " '078930',\n",
       " '011780',\n",
       " '138930',\n",
       " '088350',\n",
       " '036460',\n",
       " '175330',\n",
       " '028670',\n",
       " '139480',\n",
       " '000880',\n",
       " '047040',\n",
       " '004170',\n",
       " '375500',\n",
       " '139130',\n",
       " '137310',\n",
       " '006360',\n",
       " '001120',\n",
       " '009970',\n",
       " '000670',\n",
       " '003380',\n",
       " '023590',\n",
       " '016380',\n",
       " '006120',\n",
       " '003240',\n",
       " '001720',\n",
       " '007700',\n",
       " '383800',\n",
       " '032190',\n",
       " '020000',\n",
       " '001940',\n",
       " '058650',\n",
       " '377740',\n",
       " '017940',\n",
       " '123890',\n",
       " '151860',\n",
       " '002310',\n",
       " '002030',\n",
       " '093050',\n",
       " '005810',\n",
       " '306200',\n",
       " '007690',\n",
       " '003300',\n",
       " '035890',\n",
       " '003960',\n",
       " '084010',\n",
       " '036530',\n",
       " '003800',\n",
       " '029460',\n",
       " '003120',\n",
       " '000480',\n",
       " '104700',\n",
       " '013120',\n",
       " '005010',\n",
       " '001500',\n",
       " '009160',\n",
       " '030530',\n",
       " '213500',\n",
       " '001230',\n",
       " '037710',\n",
       " '018310',\n",
       " '002810',\n",
       " '001270',\n",
       " '016590',\n",
       " '035510',\n",
       " '004360',\n",
       " '030210',\n",
       " '002020',\n",
       " '007160',\n",
       " '363280',\n",
       " '038540',\n",
       " '003200',\n",
       " '035080',\n",
       " '009580',\n",
       " '003070',\n",
       " '000540',\n",
       " '023760',\n",
       " '317400',\n",
       " '007860',\n",
       " '014280',\n",
       " '104480',\n",
       " '092790',\n",
       " '039560',\n",
       " '023600',\n",
       " '000700',\n",
       " '121440',\n",
       " '012700',\n",
       " '000320',\n",
       " '067990',\n",
       " '003830',\n",
       " '037460',\n",
       " '053700',\n",
       " '003650',\n",
       " '007330',\n",
       " '005960',\n",
       " '024090',\n",
       " '013580',\n",
       " '004150',\n",
       " '032560',\n",
       " '054800',\n",
       " '001750',\n",
       " '267290',\n",
       " '005710',\n",
       " '004720',\n",
       " '002460',\n",
       " '073560',\n",
       " '004890',\n",
       " '052330',\n",
       " '009410',\n",
       " '007980',\n",
       " '227840',\n",
       " '241770',\n",
       " '011370',\n",
       " '016090',\n",
       " '011560',\n",
       " '005800',\n",
       " '024800',\n",
       " '004960',\n",
       " '088910',\n",
       " '017480',\n",
       " '129260',\n",
       " '101330',\n",
       " '091590',\n",
       " '017650',\n",
       " '002920',\n",
       " '007680',\n",
       " '000850',\n",
       " '006660',\n",
       " '155660',\n",
       " '032940',\n",
       " '008420',\n",
       " '069730',\n",
       " '016250',\n",
       " '004870',\n",
       " '004590',\n",
       " '040610',\n",
       " '024830',\n",
       " '140520',\n",
       " '006200',\n",
       " '127710',\n",
       " '050120',\n",
       " '012620',\n",
       " '000950',\n",
       " '225590',\n",
       " '054940',\n",
       " '106240',\n",
       " '377460',\n",
       " '115570']"
      ]
     },
     "execution_count": 25,
     "metadata": {},
     "output_type": "execute_result"
    }
   ],
   "source": [
    "eps_change_df = eps_change_df.loc[eps_change_df['EPS'] <= 0]\n",
    "ticker = eps_change_df.index.to_list()\n",
    "ticker"
   ]
  },
  {
   "cell_type": "markdown",
   "id": "9a3ae15e",
   "metadata": {},
   "source": [
    "### 4. 주가 리버전 (1m)\n",
    "- 직전 1 달간 주가수익률 하위 투자 . 주가 모멘텀 (1m) 팩터의 반대"
   ]
  },
  {
   "cell_type": "code",
   "execution_count": 34,
   "id": "ec89172e",
   "metadata": {},
   "outputs": [
    {
     "data": {
      "text/plain": [
       "-1.93929173693086"
      ]
     },
     "execution_count": 34,
     "metadata": {},
     "output_type": "execute_result"
    }
   ],
   "source": [
    "df = stock.get_market_ohlcv(\"20231219\", \"20240119\", '024110', \"m\") #직전 한달 주가 수익률\n",
    "gain = ((df.iloc[1,3] - df.iloc[0,3]) / df.iloc[0,3]) * 100\n",
    "gain"
   ]
  },
  {
   "cell_type": "code",
   "execution_count": 35,
   "id": "79a0a166",
   "metadata": {},
   "outputs": [
    {
     "data": {
      "text/html": [
       "<div>\n",
       "<style scoped>\n",
       "    .dataframe tbody tr th:only-of-type {\n",
       "        vertical-align: middle;\n",
       "    }\n",
       "\n",
       "    .dataframe tbody tr th {\n",
       "        vertical-align: top;\n",
       "    }\n",
       "\n",
       "    .dataframe thead th {\n",
       "        text-align: right;\n",
       "    }\n",
       "</style>\n",
       "<table border=\"1\" class=\"dataframe\">\n",
       "  <thead>\n",
       "    <tr style=\"text-align: right;\">\n",
       "      <th></th>\n",
       "      <th>시가</th>\n",
       "      <th>고가</th>\n",
       "      <th>저가</th>\n",
       "      <th>종가</th>\n",
       "      <th>거래량</th>\n",
       "    </tr>\n",
       "    <tr>\n",
       "      <th>날짜</th>\n",
       "      <th></th>\n",
       "      <th></th>\n",
       "      <th></th>\n",
       "      <th></th>\n",
       "      <th></th>\n",
       "    </tr>\n",
       "  </thead>\n",
       "  <tbody>\n",
       "    <tr>\n",
       "      <th>2023-12-31</th>\n",
       "      <td>11800</td>\n",
       "      <td>11910</td>\n",
       "      <td>11560</td>\n",
       "      <td>11860</td>\n",
       "      <td>10702107</td>\n",
       "    </tr>\n",
       "    <tr>\n",
       "      <th>2024-01-31</th>\n",
       "      <td>11740</td>\n",
       "      <td>11820</td>\n",
       "      <td>11350</td>\n",
       "      <td>11630</td>\n",
       "      <td>10979931</td>\n",
       "    </tr>\n",
       "  </tbody>\n",
       "</table>\n",
       "</div>"
      ],
      "text/plain": [
       "               시가     고가     저가     종가       거래량\n",
       "날짜                                              \n",
       "2023-12-31  11800  11910  11560  11860  10702107\n",
       "2024-01-31  11740  11820  11350  11630  10979931"
      ]
     },
     "execution_count": 35,
     "metadata": {},
     "output_type": "execute_result"
    }
   ],
   "source": [
    "df"
   ]
  },
  {
   "cell_type": "code",
   "execution_count": 36,
   "id": "5ef81bb4",
   "metadata": {},
   "outputs": [],
   "source": [
    "import pandas as pd\n",
    "\n",
    "tickers = eps_change_df.index.to_list()\n",
    "gains = []\n",
    "\n",
    "for ticker in tickers:\n",
    "    df = stock.get_market_ohlcv(\"20231219\", \"20240119\", ticker, \"m\")\n",
    "    gain = ((df.iloc[1,3] - df.iloc[0,3]) / df.iloc[0,3]) * 100\n",
    "    gains.append(gain)\n",
    "\n",
    "result_df = pd.DataFrame({'ticker': tickers, 'gain': gains})\n",
    "result_df.set_index('ticker', inplace=True)"
   ]
  },
  {
   "cell_type": "code",
   "execution_count": 37,
   "id": "a8f3295f",
   "metadata": {},
   "outputs": [
    {
     "data": {
      "text/html": [
       "<div>\n",
       "<style scoped>\n",
       "    .dataframe tbody tr th:only-of-type {\n",
       "        vertical-align: middle;\n",
       "    }\n",
       "\n",
       "    .dataframe tbody tr th {\n",
       "        vertical-align: top;\n",
       "    }\n",
       "\n",
       "    .dataframe thead th {\n",
       "        text-align: right;\n",
       "    }\n",
       "</style>\n",
       "<table border=\"1\" class=\"dataframe\">\n",
       "  <thead>\n",
       "    <tr style=\"text-align: right;\">\n",
       "      <th></th>\n",
       "      <th>gain</th>\n",
       "    </tr>\n",
       "  </thead>\n",
       "  <tbody>\n",
       "    <tr>\n",
       "      <th>count</th>\n",
       "      <td>153.000000</td>\n",
       "    </tr>\n",
       "    <tr>\n",
       "      <th>mean</th>\n",
       "      <td>-3.619749</td>\n",
       "    </tr>\n",
       "    <tr>\n",
       "      <th>std</th>\n",
       "      <td>5.289040</td>\n",
       "    </tr>\n",
       "    <tr>\n",
       "      <th>min</th>\n",
       "      <td>-16.403311</td>\n",
       "    </tr>\n",
       "    <tr>\n",
       "      <th>25%</th>\n",
       "      <td>-6.122449</td>\n",
       "    </tr>\n",
       "    <tr>\n",
       "      <th>50%</th>\n",
       "      <td>-3.916084</td>\n",
       "    </tr>\n",
       "    <tr>\n",
       "      <th>75%</th>\n",
       "      <td>-1.424051</td>\n",
       "    </tr>\n",
       "    <tr>\n",
       "      <th>max</th>\n",
       "      <td>14.065934</td>\n",
       "    </tr>\n",
       "  </tbody>\n",
       "</table>\n",
       "</div>"
      ],
      "text/plain": [
       "             gain\n",
       "count  153.000000\n",
       "mean    -3.619749\n",
       "std      5.289040\n",
       "min    -16.403311\n",
       "25%     -6.122449\n",
       "50%     -3.916084\n",
       "75%     -1.424051\n",
       "max     14.065934"
      ]
     },
     "execution_count": 37,
     "metadata": {},
     "output_type": "execute_result"
    }
   ],
   "source": [
    "result_df.describe()"
   ]
  },
  {
   "cell_type": "code",
   "execution_count": 38,
   "id": "d0cdb5a8",
   "metadata": {},
   "outputs": [
    {
     "data": {
      "text/plain": [
       "38"
      ]
     },
     "execution_count": 38,
     "metadata": {},
     "output_type": "execute_result"
    }
   ],
   "source": [
    "gain_25 = result_df['gain'].quantile(0.25)\n",
    "selected_rows = result_df['gain'] < gain_25\n",
    "\n",
    "temp_df = result_df[selected_rows]\n",
    "temp_df.index.nunique() #36개의 종목 필터링"
   ]
  },
  {
   "cell_type": "code",
   "execution_count": 39,
   "id": "006b373b",
   "metadata": {},
   "outputs": [
    {
     "data": {
      "text/plain": [
       "Index(['105560', '055550', '004020', '011780', '088350', '036460', '175330',\n",
       "       '139480', '000880', '004170', '137310', '001120', '009970', '000670',\n",
       "       '016380', '007700', '306200', '003120', '000480', '001230', '004360',\n",
       "       '030210', '003070', '317400', '007860', '092790', '012700', '067990',\n",
       "       '053700', '005960', '013580', '004890', '007980', '101330', '091590',\n",
       "       '140520', '000950', '106240'],\n",
       "      dtype='object', name='ticker')"
      ]
     },
     "execution_count": 39,
     "metadata": {},
     "output_type": "execute_result"
    }
   ],
   "source": [
    "temp_df.index"
   ]
  },
  {
   "cell_type": "markdown",
   "id": "ee75f5c7",
   "metadata": {},
   "source": [
    "### 5. 이격도 리버전 (1m)\n",
    "- 저이격도 선택"
   ]
  },
  {
   "cell_type": "code",
   "execution_count": 40,
   "id": "f4fa8124",
   "metadata": {},
   "outputs": [
    {
     "data": {
      "text/plain": [
       "95.99714591509097"
      ]
     },
     "execution_count": 40,
     "metadata": {},
     "output_type": "execute_result"
    }
   ],
   "source": [
    "data = stock.get_market_ohlcv(\"20231219\", \"20240119\", \"011200\", \"d\")\n",
    "mean = data['종가'].mean()\n",
    "close_temp = stock.get_market_ohlcv(\"20240119\",\"20240119\", \"011200\", \"d\")\n",
    "close = close_temp.iloc[0,3]\n",
    "revision = (close / mean) * 100\n",
    "revision"
   ]
  },
  {
   "cell_type": "code",
   "execution_count": 41,
   "id": "eb68d391",
   "metadata": {},
   "outputs": [],
   "source": [
    "tickers = temp_df.index.tolist()\n",
    "revisions = []\n",
    "\n",
    "for ticker in tickers:\n",
    "    data = stock.get_market_ohlcv(\"20231219\", \"20240119\", ticker, \"d\")\n",
    "    mean = data['종가'].mean()\n",
    "    close_temp = stock.get_market_ohlcv(\"20240119\",\"20240119\", ticker, \"d\")\n",
    "    close = close_temp.iloc[0,3]\n",
    "    revision = (close / mean) * 100\n",
    "    revisions.append(revision)\n",
    "\n",
    "# 새로운 데이터프레임 생성\n",
    "result_df = pd.DataFrame({'ticker': tickers, 'revision': revisions})\n",
    "result_df.set_index('ticker', inplace=True)"
   ]
  },
  {
   "cell_type": "code",
   "execution_count": 42,
   "id": "23c24f16",
   "metadata": {},
   "outputs": [
    {
     "data": {
      "text/html": [
       "<div>\n",
       "<style scoped>\n",
       "    .dataframe tbody tr th:only-of-type {\n",
       "        vertical-align: middle;\n",
       "    }\n",
       "\n",
       "    .dataframe tbody tr th {\n",
       "        vertical-align: top;\n",
       "    }\n",
       "\n",
       "    .dataframe thead th {\n",
       "        text-align: right;\n",
       "    }\n",
       "</style>\n",
       "<table border=\"1\" class=\"dataframe\">\n",
       "  <thead>\n",
       "    <tr style=\"text-align: right;\">\n",
       "      <th></th>\n",
       "      <th>revision</th>\n",
       "    </tr>\n",
       "  </thead>\n",
       "  <tbody>\n",
       "    <tr>\n",
       "      <th>count</th>\n",
       "      <td>38.000000</td>\n",
       "    </tr>\n",
       "    <tr>\n",
       "      <th>mean</th>\n",
       "      <td>93.479831</td>\n",
       "    </tr>\n",
       "    <tr>\n",
       "      <th>std</th>\n",
       "      <td>2.348191</td>\n",
       "    </tr>\n",
       "    <tr>\n",
       "      <th>min</th>\n",
       "      <td>87.549251</td>\n",
       "    </tr>\n",
       "    <tr>\n",
       "      <th>25%</th>\n",
       "      <td>91.897306</td>\n",
       "    </tr>\n",
       "    <tr>\n",
       "      <th>50%</th>\n",
       "      <td>93.724039</td>\n",
       "    </tr>\n",
       "    <tr>\n",
       "      <th>75%</th>\n",
       "      <td>94.834295</td>\n",
       "    </tr>\n",
       "    <tr>\n",
       "      <th>max</th>\n",
       "      <td>98.247782</td>\n",
       "    </tr>\n",
       "  </tbody>\n",
       "</table>\n",
       "</div>"
      ],
      "text/plain": [
       "        revision\n",
       "count  38.000000\n",
       "mean   93.479831\n",
       "std     2.348191\n",
       "min    87.549251\n",
       "25%    91.897306\n",
       "50%    93.724039\n",
       "75%    94.834295\n",
       "max    98.247782"
      ]
     },
     "execution_count": 42,
     "metadata": {},
     "output_type": "execute_result"
    }
   ],
   "source": [
    "result_df.describe()"
   ]
  },
  {
   "cell_type": "code",
   "execution_count": 43,
   "id": "a28f36c3",
   "metadata": {},
   "outputs": [
    {
     "data": {
      "text/plain": [
       "19"
      ]
     },
     "execution_count": 43,
     "metadata": {},
     "output_type": "execute_result"
    }
   ],
   "source": [
    "revision_50 = result_df['revision'].quantile(0.5)\n",
    "selected_rows = result_df['revision'] < revision_50\n",
    "\n",
    "revision_df = result_df[selected_rows]\n",
    "revision_df.index.nunique() "
   ]
  },
  {
   "cell_type": "code",
   "execution_count": 44,
   "id": "7ce8be4e",
   "metadata": {},
   "outputs": [
    {
     "data": {
      "text/plain": [
       "Index(['004020', '011780', '088350', '004170', '137310', '000670', '016380',\n",
       "       '007700', '003120', '000480', '001230', '030210', '003070', '092790',\n",
       "       '005960', '004890', '007980', '091590', '000950'],\n",
       "      dtype='object', name='ticker')"
      ]
     },
     "execution_count": 44,
     "metadata": {},
     "output_type": "execute_result"
    }
   ],
   "source": [
    "revision_df.index"
   ]
  },
  {
   "cell_type": "markdown",
   "id": "4da8efdb",
   "metadata": {},
   "source": [
    "### 6. 개인 순매수 (1m)\n",
    "- 직전 한달 간 개인 순매수대금 / 시가총액 *100\n",
    "- 고개인매수 종목"
   ]
  },
  {
   "cell_type": "code",
   "execution_count": 45,
   "id": "62b9c5f8",
   "metadata": {},
   "outputs": [
    {
     "data": {
      "text/plain": [
       "0.0054153607562867235"
      ]
     },
     "execution_count": 45,
     "metadata": {},
     "output_type": "execute_result"
    }
   ],
   "source": [
    "data1 = stock.get_market_trading_value_by_date(\"20231219\", \"20240119\", '024110')[['기관합계','개인']] #직전 한달간 개인 순매수 대금\n",
    "data2 = stock.get_market_cap(\"20231219\", \"20240119\", '024110')['시가총액']\n",
    "data1['개인순매수'] = (data1['개인'] / data2) * 100\n",
    "data1 = data1[['개인', '개인순매수']]\n",
    "data1['개인순매수'].mean()"
   ]
  },
  {
   "cell_type": "code",
   "execution_count": 46,
   "id": "744473fa",
   "metadata": {},
   "outputs": [
    {
     "data": {
      "text/html": [
       "<div>\n",
       "<style scoped>\n",
       "    .dataframe tbody tr th:only-of-type {\n",
       "        vertical-align: middle;\n",
       "    }\n",
       "\n",
       "    .dataframe tbody tr th {\n",
       "        vertical-align: top;\n",
       "    }\n",
       "\n",
       "    .dataframe thead th {\n",
       "        text-align: right;\n",
       "    }\n",
       "</style>\n",
       "<table border=\"1\" class=\"dataframe\">\n",
       "  <thead>\n",
       "    <tr style=\"text-align: right;\">\n",
       "      <th></th>\n",
       "      <th>mean</th>\n",
       "    </tr>\n",
       "    <tr>\n",
       "      <th>ticker</th>\n",
       "      <th></th>\n",
       "    </tr>\n",
       "  </thead>\n",
       "  <tbody>\n",
       "    <tr>\n",
       "      <th>011200</th>\n",
       "      <td>-0.047920</td>\n",
       "    </tr>\n",
       "    <tr>\n",
       "      <th>000670</th>\n",
       "      <td>0.003378</td>\n",
       "    </tr>\n",
       "    <tr>\n",
       "      <th>003240</th>\n",
       "      <td>0.004105</td>\n",
       "    </tr>\n",
       "    <tr>\n",
       "      <th>005880</th>\n",
       "      <td>0.086930</td>\n",
       "    </tr>\n",
       "    <tr>\n",
       "      <th>000540</th>\n",
       "      <td>0.002260</td>\n",
       "    </tr>\n",
       "    <tr>\n",
       "      <th>013120</th>\n",
       "      <td>0.002326</td>\n",
       "    </tr>\n",
       "    <tr>\n",
       "      <th>044450</th>\n",
       "      <td>-0.032182</td>\n",
       "    </tr>\n",
       "    <tr>\n",
       "      <th>363280</th>\n",
       "      <td>0.062050</td>\n",
       "    </tr>\n",
       "    <tr>\n",
       "      <th>317400</th>\n",
       "      <td>0.023633</td>\n",
       "    </tr>\n",
       "    <tr>\n",
       "      <th>104480</th>\n",
       "      <td>0.029370</td>\n",
       "    </tr>\n",
       "    <tr>\n",
       "      <th>053700</th>\n",
       "      <td>-0.000188</td>\n",
       "    </tr>\n",
       "    <tr>\n",
       "      <th>091590</th>\n",
       "      <td>-0.004372</td>\n",
       "    </tr>\n",
       "    <tr>\n",
       "      <th>004870</th>\n",
       "      <td>-0.007920</td>\n",
       "    </tr>\n",
       "    <tr>\n",
       "      <th>050860</th>\n",
       "      <td>0.005941</td>\n",
       "    </tr>\n",
       "    <tr>\n",
       "      <th>290120</th>\n",
       "      <td>0.000029</td>\n",
       "    </tr>\n",
       "    <tr>\n",
       "      <th>050120</th>\n",
       "      <td>-0.000657</td>\n",
       "    </tr>\n",
       "    <tr>\n",
       "      <th>073540</th>\n",
       "      <td>-0.012184</td>\n",
       "    </tr>\n",
       "    <tr>\n",
       "      <th>115570</th>\n",
       "      <td>0.016016</td>\n",
       "    </tr>\n",
       "  </tbody>\n",
       "</table>\n",
       "</div>"
      ],
      "text/plain": [
       "            mean\n",
       "ticker          \n",
       "011200 -0.047920\n",
       "000670  0.003378\n",
       "003240  0.004105\n",
       "005880  0.086930\n",
       "000540  0.002260\n",
       "013120  0.002326\n",
       "044450 -0.032182\n",
       "363280  0.062050\n",
       "317400  0.023633\n",
       "104480  0.029370\n",
       "053700 -0.000188\n",
       "091590 -0.004372\n",
       "004870 -0.007920\n",
       "050860  0.005941\n",
       "290120  0.000029\n",
       "050120 -0.000657\n",
       "073540 -0.012184\n",
       "115570  0.016016"
      ]
     },
     "execution_count": 46,
     "metadata": {},
     "output_type": "execute_result"
    }
   ],
   "source": [
    "tickers = ['011200', '000670', '003240', '005880', '000540', '013120', '044450',\n",
    "       '363280', '317400', '104480', '053700', '091590', '004870', '050860',\n",
    "       '290120', '050120', '073540', '115570']\n",
    "mean_values = []\n",
    "\n",
    "for ticker in tickers:\n",
    "    data1 = stock.get_market_trading_value_by_date(\"20231219\", \"20240119\", ticker)\n",
    "    data2 = stock.get_market_cap(\"20231219\", \"20240119\", ticker)['시가총액']\n",
    "    data1['개인순매수'] = (data1['개인'] / data2) * 100\n",
    "    mean = data1['개인순매수'].mean()\n",
    "    mean_values.append(mean)\n",
    "\n",
    "final_df = pd.DataFrame({'ticker': tickers, 'mean': mean_values})\n",
    "final_df.set_index('ticker', inplace=True)\n",
    "final_df"
   ]
  },
  {
   "cell_type": "code",
   "execution_count": 50,
   "id": "7068e88f",
   "metadata": {
    "scrolled": true
   },
   "outputs": [
    {
     "data": {
      "text/html": [
       "<div>\n",
       "<style scoped>\n",
       "    .dataframe tbody tr th:only-of-type {\n",
       "        vertical-align: middle;\n",
       "    }\n",
       "\n",
       "    .dataframe tbody tr th {\n",
       "        vertical-align: top;\n",
       "    }\n",
       "\n",
       "    .dataframe thead th {\n",
       "        text-align: right;\n",
       "    }\n",
       "</style>\n",
       "<table border=\"1\" class=\"dataframe\">\n",
       "  <thead>\n",
       "    <tr style=\"text-align: right;\">\n",
       "      <th></th>\n",
       "      <th>mean</th>\n",
       "    </tr>\n",
       "  </thead>\n",
       "  <tbody>\n",
       "    <tr>\n",
       "      <th>count</th>\n",
       "      <td>18.000000</td>\n",
       "    </tr>\n",
       "    <tr>\n",
       "      <th>mean</th>\n",
       "      <td>0.007256</td>\n",
       "    </tr>\n",
       "    <tr>\n",
       "      <th>std</th>\n",
       "      <td>0.030461</td>\n",
       "    </tr>\n",
       "    <tr>\n",
       "      <th>min</th>\n",
       "      <td>-0.047920</td>\n",
       "    </tr>\n",
       "    <tr>\n",
       "      <th>25%</th>\n",
       "      <td>-0.003443</td>\n",
       "    </tr>\n",
       "    <tr>\n",
       "      <th>50%</th>\n",
       "      <td>0.002293</td>\n",
       "    </tr>\n",
       "    <tr>\n",
       "      <th>75%</th>\n",
       "      <td>0.013497</td>\n",
       "    </tr>\n",
       "    <tr>\n",
       "      <th>max</th>\n",
       "      <td>0.086930</td>\n",
       "    </tr>\n",
       "  </tbody>\n",
       "</table>\n",
       "</div>"
      ],
      "text/plain": [
       "            mean\n",
       "count  18.000000\n",
       "mean    0.007256\n",
       "std     0.030461\n",
       "min    -0.047920\n",
       "25%    -0.003443\n",
       "50%     0.002293\n",
       "75%     0.013497\n",
       "max     0.086930"
      ]
     },
     "execution_count": 50,
     "metadata": {},
     "output_type": "execute_result"
    }
   ],
   "source": [
    "final_df.describe()"
   ]
  },
  {
   "cell_type": "code",
   "execution_count": 55,
   "id": "fa396cb8",
   "metadata": {},
   "outputs": [
    {
     "data": {
      "text/plain": [
       "Index(['011200', '000540', '044450', '053700', '091590', '004870', '290120',\n",
       "       '050120', '073540'],\n",
       "      dtype='object', name='ticker')"
      ]
     },
     "execution_count": 55,
     "metadata": {},
     "output_type": "execute_result"
    }
   ],
   "source": [
    "final_50 = final_df['mean'].quantile(0.5)\n",
    "selected_rows = final_df['mean'] < final_50\n",
    "screening = final_df[selected_rows]\n",
    "screening.index"
   ]
  },
  {
   "cell_type": "markdown",
   "id": "a6373388",
   "metadata": {},
   "source": [
    "### 백테스트"
   ]
  },
  {
   "cell_type": "code",
   "execution_count": 242,
   "id": "490a549a",
   "metadata": {
    "scrolled": true
   },
   "outputs": [
    {
     "data": {
      "text/html": [
       "<div>\n",
       "<style scoped>\n",
       "    .dataframe tbody tr th:only-of-type {\n",
       "        vertical-align: middle;\n",
       "    }\n",
       "\n",
       "    .dataframe tbody tr th {\n",
       "        vertical-align: top;\n",
       "    }\n",
       "\n",
       "    .dataframe thead th {\n",
       "        text-align: right;\n",
       "    }\n",
       "</style>\n",
       "<table border=\"1\" class=\"dataframe\">\n",
       "  <thead>\n",
       "    <tr style=\"text-align: right;\">\n",
       "      <th></th>\n",
       "      <th>Open</th>\n",
       "      <th>High</th>\n",
       "      <th>Low</th>\n",
       "      <th>Close</th>\n",
       "      <th>Volume</th>\n",
       "      <th>Change</th>\n",
       "      <th>UpDown</th>\n",
       "      <th>Comp</th>\n",
       "      <th>Amount</th>\n",
       "      <th>MarCap</th>\n",
       "      <th>agr</th>\n",
       "    </tr>\n",
       "    <tr>\n",
       "      <th>Date</th>\n",
       "      <th></th>\n",
       "      <th></th>\n",
       "      <th></th>\n",
       "      <th></th>\n",
       "      <th></th>\n",
       "      <th></th>\n",
       "      <th></th>\n",
       "      <th></th>\n",
       "      <th></th>\n",
       "      <th></th>\n",
       "      <th></th>\n",
       "    </tr>\n",
       "  </thead>\n",
       "  <tbody>\n",
       "    <tr>\n",
       "      <th>2024-01-19</th>\n",
       "      <td>2468.43</td>\n",
       "      <td>2479.00</td>\n",
       "      <td>2455.50</td>\n",
       "      <td>2472.74</td>\n",
       "      <td>518806918</td>\n",
       "      <td>0.0134</td>\n",
       "      <td>1</td>\n",
       "      <td>32.70</td>\n",
       "      <td>9174537029762</td>\n",
       "      <td>2005853267137231</td>\n",
       "      <td>1.001746</td>\n",
       "    </tr>\n",
       "    <tr>\n",
       "      <th>2024-01-22</th>\n",
       "      <td>2489.57</td>\n",
       "      <td>2490.69</td>\n",
       "      <td>2464.35</td>\n",
       "      <td>2464.35</td>\n",
       "      <td>388045571</td>\n",
       "      <td>-0.0034</td>\n",
       "      <td>2</td>\n",
       "      <td>-8.39</td>\n",
       "      <td>8419915774574</td>\n",
       "      <td>1999139797919650</td>\n",
       "      <td>0.989870</td>\n",
       "    </tr>\n",
       "    <tr>\n",
       "      <th>2024-01-23</th>\n",
       "      <td>2478.32</td>\n",
       "      <td>2482.84</td>\n",
       "      <td>2464.24</td>\n",
       "      <td>2478.61</td>\n",
       "      <td>472284165</td>\n",
       "      <td>0.0058</td>\n",
       "      <td>1</td>\n",
       "      <td>14.26</td>\n",
       "      <td>8029400288499</td>\n",
       "      <td>2010744285970351</td>\n",
       "      <td>1.000117</td>\n",
       "    </tr>\n",
       "    <tr>\n",
       "      <th>2024-01-24</th>\n",
       "      <td>2476.22</td>\n",
       "      <td>2476.22</td>\n",
       "      <td>2454.34</td>\n",
       "      <td>2469.69</td>\n",
       "      <td>395463694</td>\n",
       "      <td>-0.0036</td>\n",
       "      <td>2</td>\n",
       "      <td>-8.92</td>\n",
       "      <td>7446526589060</td>\n",
       "      <td>2003932327419686</td>\n",
       "      <td>0.997363</td>\n",
       "    </tr>\n",
       "    <tr>\n",
       "      <th>2024-01-25</th>\n",
       "      <td>2467.73</td>\n",
       "      <td>2474.01</td>\n",
       "      <td>2452.36</td>\n",
       "      <td>2470.34</td>\n",
       "      <td>357233504</td>\n",
       "      <td>0.0003</td>\n",
       "      <td>1</td>\n",
       "      <td>0.65</td>\n",
       "      <td>8124338284896</td>\n",
       "      <td>2003599594512515</td>\n",
       "      <td>1.001058</td>\n",
       "    </tr>\n",
       "    <tr>\n",
       "      <th>2024-01-26</th>\n",
       "      <td>2458.05</td>\n",
       "      <td>2502.61</td>\n",
       "      <td>2453.45</td>\n",
       "      <td>2478.56</td>\n",
       "      <td>292662412</td>\n",
       "      <td>0.0033</td>\n",
       "      <td>1</td>\n",
       "      <td>8.22</td>\n",
       "      <td>7144493302087</td>\n",
       "      <td>2009937343154269</td>\n",
       "      <td>1.008344</td>\n",
       "    </tr>\n",
       "    <tr>\n",
       "      <th>2024-01-29</th>\n",
       "      <td>2490.93</td>\n",
       "      <td>2516.92</td>\n",
       "      <td>2483.81</td>\n",
       "      <td>2500.65</td>\n",
       "      <td>427439639</td>\n",
       "      <td>0.0089</td>\n",
       "      <td>1</td>\n",
       "      <td>22.09</td>\n",
       "      <td>8958520572993</td>\n",
       "      <td>2034462573480314</td>\n",
       "      <td>1.003902</td>\n",
       "    </tr>\n",
       "    <tr>\n",
       "      <th>2024-01-30</th>\n",
       "      <td>2523.68</td>\n",
       "      <td>2528.54</td>\n",
       "      <td>2498.81</td>\n",
       "      <td>2498.81</td>\n",
       "      <td>481808939</td>\n",
       "      <td>-0.0007</td>\n",
       "      <td>2</td>\n",
       "      <td>-1.84</td>\n",
       "      <td>8734431084623</td>\n",
       "      <td>2032788176215422</td>\n",
       "      <td>0.990145</td>\n",
       "    </tr>\n",
       "    <tr>\n",
       "      <th>2024-01-31</th>\n",
       "      <td>2487.90</td>\n",
       "      <td>2502.45</td>\n",
       "      <td>2486.97</td>\n",
       "      <td>2497.09</td>\n",
       "      <td>454574443</td>\n",
       "      <td>-0.0007</td>\n",
       "      <td>2</td>\n",
       "      <td>-1.72</td>\n",
       "      <td>9000429911787</td>\n",
       "      <td>2030032668710527</td>\n",
       "      <td>1.003694</td>\n",
       "    </tr>\n",
       "    <tr>\n",
       "      <th>2024-02-01</th>\n",
       "      <td>2491.93</td>\n",
       "      <td>2542.46</td>\n",
       "      <td>2491.93</td>\n",
       "      <td>2542.46</td>\n",
       "      <td>751074606</td>\n",
       "      <td>0.0182</td>\n",
       "      <td>1</td>\n",
       "      <td>45.37</td>\n",
       "      <td>13462481624148</td>\n",
       "      <td>2067112301934090</td>\n",
       "      <td>1.020277</td>\n",
       "    </tr>\n",
       "    <tr>\n",
       "      <th>2024-02-02</th>\n",
       "      <td>2559.40</td>\n",
       "      <td>2615.34</td>\n",
       "      <td>2559.39</td>\n",
       "      <td>2615.31</td>\n",
       "      <td>596121129</td>\n",
       "      <td>0.0287</td>\n",
       "      <td>1</td>\n",
       "      <td>72.85</td>\n",
       "      <td>14368149719486</td>\n",
       "      <td>2126219526202082</td>\n",
       "      <td>1.021845</td>\n",
       "    </tr>\n",
       "    <tr>\n",
       "      <th>2024-02-05</th>\n",
       "      <td>2612.77</td>\n",
       "      <td>2612.77</td>\n",
       "      <td>2562.50</td>\n",
       "      <td>2591.31</td>\n",
       "      <td>511677820</td>\n",
       "      <td>-0.0092</td>\n",
       "      <td>2</td>\n",
       "      <td>-24.00</td>\n",
       "      <td>12476233311073</td>\n",
       "      <td>2107741572677307</td>\n",
       "      <td>0.991786</td>\n",
       "    </tr>\n",
       "    <tr>\n",
       "      <th>2024-02-06</th>\n",
       "      <td>2584.20</td>\n",
       "      <td>2599.18</td>\n",
       "      <td>2563.87</td>\n",
       "      <td>2576.20</td>\n",
       "      <td>411617635</td>\n",
       "      <td>-0.0058</td>\n",
       "      <td>2</td>\n",
       "      <td>-15.11</td>\n",
       "      <td>10386506269960</td>\n",
       "      <td>2095645930554876</td>\n",
       "      <td>0.996904</td>\n",
       "    </tr>\n",
       "    <tr>\n",
       "      <th>2024-02-07</th>\n",
       "      <td>2592.59</td>\n",
       "      <td>2625.24</td>\n",
       "      <td>2588.09</td>\n",
       "      <td>2609.58</td>\n",
       "      <td>518182343</td>\n",
       "      <td>0.0130</td>\n",
       "      <td>1</td>\n",
       "      <td>33.38</td>\n",
       "      <td>11491680255121</td>\n",
       "      <td>2123763208093908</td>\n",
       "      <td>1.006553</td>\n",
       "    </tr>\n",
       "    <tr>\n",
       "      <th>2024-02-08</th>\n",
       "      <td>2620.26</td>\n",
       "      <td>2629.51</td>\n",
       "      <td>2610.21</td>\n",
       "      <td>2620.32</td>\n",
       "      <td>430009355</td>\n",
       "      <td>0.0041</td>\n",
       "      <td>1</td>\n",
       "      <td>10.74</td>\n",
       "      <td>12493447627224</td>\n",
       "      <td>2132384707693318</td>\n",
       "      <td>1.000023</td>\n",
       "    </tr>\n",
       "    <tr>\n",
       "      <th>2024-02-13</th>\n",
       "      <td>2644.17</td>\n",
       "      <td>2656.87</td>\n",
       "      <td>2640.96</td>\n",
       "      <td>2649.64</td>\n",
       "      <td>559385295</td>\n",
       "      <td>0.0112</td>\n",
       "      <td>1</td>\n",
       "      <td>29.32</td>\n",
       "      <td>13294428567621</td>\n",
       "      <td>2157419255239933</td>\n",
       "      <td>1.002069</td>\n",
       "    </tr>\n",
       "    <tr>\n",
       "      <th>2024-02-14</th>\n",
       "      <td>2609.60</td>\n",
       "      <td>2627.31</td>\n",
       "      <td>2601.99</td>\n",
       "      <td>2620.42</td>\n",
       "      <td>543525036</td>\n",
       "      <td>-0.0110</td>\n",
       "      <td>2</td>\n",
       "      <td>-29.22</td>\n",
       "      <td>10107666432067</td>\n",
       "      <td>2134335214502237</td>\n",
       "      <td>1.004146</td>\n",
       "    </tr>\n",
       "    <tr>\n",
       "      <th>2024-02-15</th>\n",
       "      <td>2643.81</td>\n",
       "      <td>2643.86</td>\n",
       "      <td>2613.80</td>\n",
       "      <td>2613.80</td>\n",
       "      <td>621363093</td>\n",
       "      <td>-0.0025</td>\n",
       "      <td>2</td>\n",
       "      <td>-6.62</td>\n",
       "      <td>10691023734593</td>\n",
       "      <td>2128007409746468</td>\n",
       "      <td>0.988649</td>\n",
       "    </tr>\n",
       "    <tr>\n",
       "      <th>2024-02-16</th>\n",
       "      <td>2635.63</td>\n",
       "      <td>2648.76</td>\n",
       "      <td>2625.01</td>\n",
       "      <td>2648.76</td>\n",
       "      <td>593841761</td>\n",
       "      <td>0.0134</td>\n",
       "      <td>1</td>\n",
       "      <td>34.96</td>\n",
       "      <td>10221803977167</td>\n",
       "      <td>2156678843913596</td>\n",
       "      <td>1.004982</td>\n",
       "    </tr>\n",
       "    <tr>\n",
       "      <th>2024-02-19</th>\n",
       "      <td>2653.12</td>\n",
       "      <td>2683.39</td>\n",
       "      <td>2653.12</td>\n",
       "      <td>2680.26</td>\n",
       "      <td>422699048</td>\n",
       "      <td>0.0119</td>\n",
       "      <td>1</td>\n",
       "      <td>31.50</td>\n",
       "      <td>9820891305363</td>\n",
       "      <td>2182000859841736</td>\n",
       "      <td>1.010229</td>\n",
       "    </tr>\n",
       "    <tr>\n",
       "      <th>2024-02-20</th>\n",
       "      <td>2671.55</td>\n",
       "      <td>2673.84</td>\n",
       "      <td>2643.93</td>\n",
       "      <td>2657.79</td>\n",
       "      <td>612668186</td>\n",
       "      <td>-0.0084</td>\n",
       "      <td>2</td>\n",
       "      <td>-22.47</td>\n",
       "      <td>9999238286778</td>\n",
       "      <td>2164246683674156</td>\n",
       "      <td>0.994849</td>\n",
       "    </tr>\n",
       "    <tr>\n",
       "      <th>2024-02-21</th>\n",
       "      <td>2656.92</td>\n",
       "      <td>2670.95</td>\n",
       "      <td>2644.04</td>\n",
       "      <td>2653.31</td>\n",
       "      <td>562144348</td>\n",
       "      <td>-0.0017</td>\n",
       "      <td>2</td>\n",
       "      <td>-4.48</td>\n",
       "      <td>9150151196628</td>\n",
       "      <td>2160613141082502</td>\n",
       "      <td>0.998641</td>\n",
       "    </tr>\n",
       "    <tr>\n",
       "      <th>2024-02-22</th>\n",
       "      <td>2671.69</td>\n",
       "      <td>2671.69</td>\n",
       "      <td>2653.99</td>\n",
       "      <td>2664.27</td>\n",
       "      <td>456396847</td>\n",
       "      <td>0.0041</td>\n",
       "      <td>1</td>\n",
       "      <td>10.96</td>\n",
       "      <td>10278918996172</td>\n",
       "      <td>2169296821127555</td>\n",
       "      <td>0.997223</td>\n",
       "    </tr>\n",
       "    <tr>\n",
       "      <th>2024-02-23</th>\n",
       "      <td>2681.03</td>\n",
       "      <td>2694.80</td>\n",
       "      <td>2665.21</td>\n",
       "      <td>2667.70</td>\n",
       "      <td>415376166</td>\n",
       "      <td>0.0013</td>\n",
       "      <td>1</td>\n",
       "      <td>3.43</td>\n",
       "      <td>10282074497042</td>\n",
       "      <td>2172012827862754</td>\n",
       "      <td>0.995028</td>\n",
       "    </tr>\n",
       "    <tr>\n",
       "      <th>2024-02-26</th>\n",
       "      <td>2657.35</td>\n",
       "      <td>2659.60</td>\n",
       "      <td>2629.78</td>\n",
       "      <td>2647.08</td>\n",
       "      <td>531661427</td>\n",
       "      <td>-0.0077</td>\n",
       "      <td>2</td>\n",
       "      <td>-20.62</td>\n",
       "      <td>10950640820454</td>\n",
       "      <td>2154285533222444</td>\n",
       "      <td>0.996135</td>\n",
       "    </tr>\n",
       "    <tr>\n",
       "      <th>2024-02-27</th>\n",
       "      <td>2654.76</td>\n",
       "      <td>2654.76</td>\n",
       "      <td>2619.38</td>\n",
       "      <td>2625.05</td>\n",
       "      <td>574301706</td>\n",
       "      <td>-0.0083</td>\n",
       "      <td>2</td>\n",
       "      <td>-22.03</td>\n",
       "      <td>12634501574691</td>\n",
       "      <td>2138605308580859</td>\n",
       "      <td>0.988809</td>\n",
       "    </tr>\n",
       "    <tr>\n",
       "      <th>2024-02-28</th>\n",
       "      <td>2629.11</td>\n",
       "      <td>2657.32</td>\n",
       "      <td>2623.15</td>\n",
       "      <td>2652.29</td>\n",
       "      <td>421552569</td>\n",
       "      <td>0.0104</td>\n",
       "      <td>1</td>\n",
       "      <td>27.24</td>\n",
       "      <td>10266442750037</td>\n",
       "      <td>2160300898648426</td>\n",
       "      <td>1.008817</td>\n",
       "    </tr>\n",
       "    <tr>\n",
       "      <th>2024-02-29</th>\n",
       "      <td>2643.48</td>\n",
       "      <td>2647.56</td>\n",
       "      <td>2628.62</td>\n",
       "      <td>2642.36</td>\n",
       "      <td>496064469</td>\n",
       "      <td>-0.0037</td>\n",
       "      <td>2</td>\n",
       "      <td>-9.93</td>\n",
       "      <td>12975398337140</td>\n",
       "      <td>2154501763495998</td>\n",
       "      <td>0.999576</td>\n",
       "    </tr>\n",
       "    <tr>\n",
       "      <th>2024-03-04</th>\n",
       "      <td>2664.52</td>\n",
       "      <td>2682.80</td>\n",
       "      <td>2662.32</td>\n",
       "      <td>2674.27</td>\n",
       "      <td>404014324</td>\n",
       "      <td>0.0121</td>\n",
       "      <td>1</td>\n",
       "      <td>31.91</td>\n",
       "      <td>12680157695305</td>\n",
       "      <td>2180068721681928</td>\n",
       "      <td>1.003659</td>\n",
       "    </tr>\n",
       "    <tr>\n",
       "      <th>2024-03-05</th>\n",
       "      <td>2660.80</td>\n",
       "      <td>2684.83</td>\n",
       "      <td>2649.35</td>\n",
       "      <td>2649.40</td>\n",
       "      <td>457237152</td>\n",
       "      <td>-0.0093</td>\n",
       "      <td>2</td>\n",
       "      <td>-24.87</td>\n",
       "      <td>12207053152140</td>\n",
       "      <td>2159737907605954</td>\n",
       "      <td>0.995716</td>\n",
       "    </tr>\n",
       "    <tr>\n",
       "      <th>2024-03-06</th>\n",
       "      <td>2638.84</td>\n",
       "      <td>2649.78</td>\n",
       "      <td>2630.16</td>\n",
       "      <td>2641.49</td>\n",
       "      <td>378993989</td>\n",
       "      <td>-0.0030</td>\n",
       "      <td>2</td>\n",
       "      <td>-7.91</td>\n",
       "      <td>10533005950271</td>\n",
       "      <td>2152385363230447</td>\n",
       "      <td>1.001004</td>\n",
       "    </tr>\n",
       "    <tr>\n",
       "      <th>2024-03-07</th>\n",
       "      <td>2653.98</td>\n",
       "      <td>2660.26</td>\n",
       "      <td>2633.57</td>\n",
       "      <td>2647.62</td>\n",
       "      <td>462910823</td>\n",
       "      <td>0.0023</td>\n",
       "      <td>1</td>\n",
       "      <td>6.13</td>\n",
       "      <td>10871921043030</td>\n",
       "      <td>2157093122013549</td>\n",
       "      <td>0.997604</td>\n",
       "    </tr>\n",
       "    <tr>\n",
       "      <th>2024-03-08</th>\n",
       "      <td>2676.79</td>\n",
       "      <td>2688.00</td>\n",
       "      <td>2668.38</td>\n",
       "      <td>2680.35</td>\n",
       "      <td>454259855</td>\n",
       "      <td>0.0124</td>\n",
       "      <td>1</td>\n",
       "      <td>32.73</td>\n",
       "      <td>11479440624975</td>\n",
       "      <td>2183434413990576</td>\n",
       "      <td>1.001330</td>\n",
       "    </tr>\n",
       "    <tr>\n",
       "      <th>2024-03-11</th>\n",
       "      <td>2665.58</td>\n",
       "      <td>2677.21</td>\n",
       "      <td>2658.74</td>\n",
       "      <td>2659.84</td>\n",
       "      <td>391384816</td>\n",
       "      <td>-0.0077</td>\n",
       "      <td>2</td>\n",
       "      <td>-20.51</td>\n",
       "      <td>8856058910332</td>\n",
       "      <td>2165991239911813</td>\n",
       "      <td>0.997847</td>\n",
       "    </tr>\n",
       "    <tr>\n",
       "      <th>2024-03-12</th>\n",
       "      <td>2673.47</td>\n",
       "      <td>2686.14</td>\n",
       "      <td>2659.72</td>\n",
       "      <td>2681.81</td>\n",
       "      <td>403969278</td>\n",
       "      <td>0.0083</td>\n",
       "      <td>1</td>\n",
       "      <td>21.97</td>\n",
       "      <td>9731030845026</td>\n",
       "      <td>2183694627398137</td>\n",
       "      <td>1.003120</td>\n",
       "    </tr>\n",
       "    <tr>\n",
       "      <th>2024-03-13</th>\n",
       "      <td>2694.71</td>\n",
       "      <td>2701.45</td>\n",
       "      <td>2679.54</td>\n",
       "      <td>2693.57</td>\n",
       "      <td>498759769</td>\n",
       "      <td>0.0044</td>\n",
       "      <td>1</td>\n",
       "      <td>11.76</td>\n",
       "      <td>10957571435594</td>\n",
       "      <td>2193638398555053</td>\n",
       "      <td>0.999577</td>\n",
       "    </tr>\n",
       "    <tr>\n",
       "      <th>2024-03-14</th>\n",
       "      <td>2698.37</td>\n",
       "      <td>2718.76</td>\n",
       "      <td>2696.31</td>\n",
       "      <td>2718.76</td>\n",
       "      <td>609288045</td>\n",
       "      <td>0.0094</td>\n",
       "      <td>1</td>\n",
       "      <td>25.19</td>\n",
       "      <td>14142602900461</td>\n",
       "      <td>2214176883564676</td>\n",
       "      <td>1.007556</td>\n",
       "    </tr>\n",
       "    <tr>\n",
       "      <th>2024-03-15</th>\n",
       "      <td>2701.91</td>\n",
       "      <td>2705.59</td>\n",
       "      <td>2666.84</td>\n",
       "      <td>2666.84</td>\n",
       "      <td>584947718</td>\n",
       "      <td>-0.0191</td>\n",
       "      <td>2</td>\n",
       "      <td>-51.92</td>\n",
       "      <td>13235768120641</td>\n",
       "      <td>2171246910784166</td>\n",
       "      <td>0.987020</td>\n",
       "    </tr>\n",
       "    <tr>\n",
       "      <th>2024-03-18</th>\n",
       "      <td>2678.52</td>\n",
       "      <td>2688.07</td>\n",
       "      <td>2665.28</td>\n",
       "      <td>2685.84</td>\n",
       "      <td>408182483</td>\n",
       "      <td>0.0071</td>\n",
       "      <td>1</td>\n",
       "      <td>19.00</td>\n",
       "      <td>9523805666900</td>\n",
       "      <td>2186414425213829</td>\n",
       "      <td>1.002733</td>\n",
       "    </tr>\n",
       "    <tr>\n",
       "      <th>2024-03-19</th>\n",
       "      <td>2673.57</td>\n",
       "      <td>2673.57</td>\n",
       "      <td>2645.14</td>\n",
       "      <td>2656.17</td>\n",
       "      <td>695865617</td>\n",
       "      <td>-0.0110</td>\n",
       "      <td>2</td>\n",
       "      <td>-29.67</td>\n",
       "      <td>10702804612977</td>\n",
       "      <td>2162284635365968</td>\n",
       "      <td>0.993492</td>\n",
       "    </tr>\n",
       "    <tr>\n",
       "      <th>2024-03-20</th>\n",
       "      <td>2680.70</td>\n",
       "      <td>2692.52</td>\n",
       "      <td>2674.09</td>\n",
       "      <td>2690.14</td>\n",
       "      <td>720451805</td>\n",
       "      <td>0.0128</td>\n",
       "      <td>1</td>\n",
       "      <td>33.97</td>\n",
       "      <td>12739395278981</td>\n",
       "      <td>2190991693310006</td>\n",
       "      <td>1.003521</td>\n",
       "    </tr>\n",
       "  </tbody>\n",
       "</table>\n",
       "</div>"
      ],
      "text/plain": [
       "               Open     High      Low    Close     Volume  Change  UpDown  \\\n",
       "Date                                                                        \n",
       "2024-01-19  2468.43  2479.00  2455.50  2472.74  518806918  0.0134       1   \n",
       "2024-01-22  2489.57  2490.69  2464.35  2464.35  388045571 -0.0034       2   \n",
       "2024-01-23  2478.32  2482.84  2464.24  2478.61  472284165  0.0058       1   \n",
       "2024-01-24  2476.22  2476.22  2454.34  2469.69  395463694 -0.0036       2   \n",
       "2024-01-25  2467.73  2474.01  2452.36  2470.34  357233504  0.0003       1   \n",
       "2024-01-26  2458.05  2502.61  2453.45  2478.56  292662412  0.0033       1   \n",
       "2024-01-29  2490.93  2516.92  2483.81  2500.65  427439639  0.0089       1   \n",
       "2024-01-30  2523.68  2528.54  2498.81  2498.81  481808939 -0.0007       2   \n",
       "2024-01-31  2487.90  2502.45  2486.97  2497.09  454574443 -0.0007       2   \n",
       "2024-02-01  2491.93  2542.46  2491.93  2542.46  751074606  0.0182       1   \n",
       "2024-02-02  2559.40  2615.34  2559.39  2615.31  596121129  0.0287       1   \n",
       "2024-02-05  2612.77  2612.77  2562.50  2591.31  511677820 -0.0092       2   \n",
       "2024-02-06  2584.20  2599.18  2563.87  2576.20  411617635 -0.0058       2   \n",
       "2024-02-07  2592.59  2625.24  2588.09  2609.58  518182343  0.0130       1   \n",
       "2024-02-08  2620.26  2629.51  2610.21  2620.32  430009355  0.0041       1   \n",
       "2024-02-13  2644.17  2656.87  2640.96  2649.64  559385295  0.0112       1   \n",
       "2024-02-14  2609.60  2627.31  2601.99  2620.42  543525036 -0.0110       2   \n",
       "2024-02-15  2643.81  2643.86  2613.80  2613.80  621363093 -0.0025       2   \n",
       "2024-02-16  2635.63  2648.76  2625.01  2648.76  593841761  0.0134       1   \n",
       "2024-02-19  2653.12  2683.39  2653.12  2680.26  422699048  0.0119       1   \n",
       "2024-02-20  2671.55  2673.84  2643.93  2657.79  612668186 -0.0084       2   \n",
       "2024-02-21  2656.92  2670.95  2644.04  2653.31  562144348 -0.0017       2   \n",
       "2024-02-22  2671.69  2671.69  2653.99  2664.27  456396847  0.0041       1   \n",
       "2024-02-23  2681.03  2694.80  2665.21  2667.70  415376166  0.0013       1   \n",
       "2024-02-26  2657.35  2659.60  2629.78  2647.08  531661427 -0.0077       2   \n",
       "2024-02-27  2654.76  2654.76  2619.38  2625.05  574301706 -0.0083       2   \n",
       "2024-02-28  2629.11  2657.32  2623.15  2652.29  421552569  0.0104       1   \n",
       "2024-02-29  2643.48  2647.56  2628.62  2642.36  496064469 -0.0037       2   \n",
       "2024-03-04  2664.52  2682.80  2662.32  2674.27  404014324  0.0121       1   \n",
       "2024-03-05  2660.80  2684.83  2649.35  2649.40  457237152 -0.0093       2   \n",
       "2024-03-06  2638.84  2649.78  2630.16  2641.49  378993989 -0.0030       2   \n",
       "2024-03-07  2653.98  2660.26  2633.57  2647.62  462910823  0.0023       1   \n",
       "2024-03-08  2676.79  2688.00  2668.38  2680.35  454259855  0.0124       1   \n",
       "2024-03-11  2665.58  2677.21  2658.74  2659.84  391384816 -0.0077       2   \n",
       "2024-03-12  2673.47  2686.14  2659.72  2681.81  403969278  0.0083       1   \n",
       "2024-03-13  2694.71  2701.45  2679.54  2693.57  498759769  0.0044       1   \n",
       "2024-03-14  2698.37  2718.76  2696.31  2718.76  609288045  0.0094       1   \n",
       "2024-03-15  2701.91  2705.59  2666.84  2666.84  584947718 -0.0191       2   \n",
       "2024-03-18  2678.52  2688.07  2665.28  2685.84  408182483  0.0071       1   \n",
       "2024-03-19  2673.57  2673.57  2645.14  2656.17  695865617 -0.0110       2   \n",
       "2024-03-20  2680.70  2692.52  2674.09  2690.14  720451805  0.0128       1   \n",
       "\n",
       "             Comp          Amount            MarCap       agr  \n",
       "Date                                                           \n",
       "2024-01-19  32.70   9174537029762  2005853267137231  1.001746  \n",
       "2024-01-22  -8.39   8419915774574  1999139797919650  0.989870  \n",
       "2024-01-23  14.26   8029400288499  2010744285970351  1.000117  \n",
       "2024-01-24  -8.92   7446526589060  2003932327419686  0.997363  \n",
       "2024-01-25   0.65   8124338284896  2003599594512515  1.001058  \n",
       "2024-01-26   8.22   7144493302087  2009937343154269  1.008344  \n",
       "2024-01-29  22.09   8958520572993  2034462573480314  1.003902  \n",
       "2024-01-30  -1.84   8734431084623  2032788176215422  0.990145  \n",
       "2024-01-31  -1.72   9000429911787  2030032668710527  1.003694  \n",
       "2024-02-01  45.37  13462481624148  2067112301934090  1.020277  \n",
       "2024-02-02  72.85  14368149719486  2126219526202082  1.021845  \n",
       "2024-02-05 -24.00  12476233311073  2107741572677307  0.991786  \n",
       "2024-02-06 -15.11  10386506269960  2095645930554876  0.996904  \n",
       "2024-02-07  33.38  11491680255121  2123763208093908  1.006553  \n",
       "2024-02-08  10.74  12493447627224  2132384707693318  1.000023  \n",
       "2024-02-13  29.32  13294428567621  2157419255239933  1.002069  \n",
       "2024-02-14 -29.22  10107666432067  2134335214502237  1.004146  \n",
       "2024-02-15  -6.62  10691023734593  2128007409746468  0.988649  \n",
       "2024-02-16  34.96  10221803977167  2156678843913596  1.004982  \n",
       "2024-02-19  31.50   9820891305363  2182000859841736  1.010229  \n",
       "2024-02-20 -22.47   9999238286778  2164246683674156  0.994849  \n",
       "2024-02-21  -4.48   9150151196628  2160613141082502  0.998641  \n",
       "2024-02-22  10.96  10278918996172  2169296821127555  0.997223  \n",
       "2024-02-23   3.43  10282074497042  2172012827862754  0.995028  \n",
       "2024-02-26 -20.62  10950640820454  2154285533222444  0.996135  \n",
       "2024-02-27 -22.03  12634501574691  2138605308580859  0.988809  \n",
       "2024-02-28  27.24  10266442750037  2160300898648426  1.008817  \n",
       "2024-02-29  -9.93  12975398337140  2154501763495998  0.999576  \n",
       "2024-03-04  31.91  12680157695305  2180068721681928  1.003659  \n",
       "2024-03-05 -24.87  12207053152140  2159737907605954  0.995716  \n",
       "2024-03-06  -7.91  10533005950271  2152385363230447  1.001004  \n",
       "2024-03-07   6.13  10871921043030  2157093122013549  0.997604  \n",
       "2024-03-08  32.73  11479440624975  2183434413990576  1.001330  \n",
       "2024-03-11 -20.51   8856058910332  2165991239911813  0.997847  \n",
       "2024-03-12  21.97   9731030845026  2183694627398137  1.003120  \n",
       "2024-03-13  11.76  10957571435594  2193638398555053  0.999577  \n",
       "2024-03-14  25.19  14142602900461  2214176883564676  1.007556  \n",
       "2024-03-15 -51.92  13235768120641  2171246910784166  0.987020  \n",
       "2024-03-18  19.00   9523805666900  2186414425213829  1.002733  \n",
       "2024-03-19 -29.67  10702804612977  2162284635365968  0.993492  \n",
       "2024-03-20  33.97  12739395278981  2190991693310006  1.003521  "
      ]
     },
     "execution_count": 242,
     "metadata": {},
     "output_type": "execute_result"
    }
   ],
   "source": [
    "#백테스트를 위한 코드\n",
    "from pykrx import stock\n",
    "import FinanceDataReader as fdr\n",
    "\n",
    "ref = fdr.DataReader(\n",
    "    symbol = 'KS11',\n",
    "    start = '20240119',\n",
    "    end = '20240320') #3개월 간 코스피 지수 수익률\n",
    "\n",
    "ref['agr'] = (ref['Close'] / ref['Open'])\n",
    "ref"
   ]
  },
  {
   "cell_type": "code",
   "execution_count": 243,
   "id": "2c0749f3",
   "metadata": {
    "scrolled": false
   },
   "outputs": [
    {
     "data": {
      "application/vnd.plotly.v1+json": {
       "config": {
        "linkText": "Export to plot.ly",
        "plotlyServerURL": "https://plot.ly",
        "showLink": true
       },
       "data": [
        {
         "line": {
          "color": "rgba(255, 153, 51, 1.0)",
          "dash": "solid",
          "shape": "linear",
          "width": 1.3
         },
         "mode": "lines",
         "name": "agr",
         "text": "",
         "type": "scatter",
         "x": [
          "2024-01-19",
          "2024-01-22",
          "2024-01-23",
          "2024-01-24",
          "2024-01-25",
          "2024-01-26",
          "2024-01-29",
          "2024-01-30",
          "2024-01-31",
          "2024-02-01",
          "2024-02-02",
          "2024-02-05",
          "2024-02-06",
          "2024-02-07",
          "2024-02-08",
          "2024-02-13",
          "2024-02-14",
          "2024-02-15",
          "2024-02-16",
          "2024-02-19",
          "2024-02-20",
          "2024-02-21",
          "2024-02-22",
          "2024-02-23",
          "2024-02-26",
          "2024-02-27",
          "2024-02-28",
          "2024-02-29",
          "2024-03-04",
          "2024-03-05",
          "2024-03-06",
          "2024-03-07",
          "2024-03-08",
          "2024-03-11",
          "2024-03-12",
          "2024-03-13",
          "2024-03-14",
          "2024-03-15",
          "2024-03-18",
          "2024-03-19",
          "2024-03-20"
         ],
         "y": [
          1.0017460491081376,
          0.9898697365408483,
          1.0001170147519287,
          0.9973629160575395,
          1.0010576521742656,
          1.0083440125302576,
          1.0039021570256894,
          0.9901453433081849,
          1.0036938783713172,
          1.0202774556267633,
          1.0218449636633586,
          0.9917864947928826,
          0.9969042643758224,
          1.006553292267578,
          1.0000228984909894,
          1.0020687020879897,
          1.0041462293071737,
          0.9886489573759083,
          1.004981731123109,
          1.0102294656856834,
          0.9948494319776908,
          0.9986412838926275,
          0.9972227316791993,
          0.9950280302719475,
          0.9961352475210266,
          0.9888087812080941,
          1.0088166718014842,
          0.9995763160682132,
          1.0036591956525003,
          0.9957155742633794,
          1.0010042291309817,
          0.9976035991228268,
          1.00132995117286,
          0.9978466224986683,
          1.0031195412703342,
          0.9995769489110146,
          1.0075564136867814,
          0.9870202930519523,
          1.0027328524707675,
          0.9934918479785455,
          1.0035214682732123
         ]
        }
       ],
       "layout": {
        "legend": {
         "bgcolor": "#F5F6F9",
         "font": {
          "color": "#4D5663"
         }
        },
        "paper_bgcolor": "#F5F6F9",
        "plot_bgcolor": "#F5F6F9",
        "template": {
         "layout": {
          "template": {
           "layout": {
            "template": {
             "layout": {
              "template": {
               "layout": {
                "template": {
                 "layout": {
                  "template": {
                   "layout": {
                    "template": {
                     "data": {
                      "bar": [
                       {
                        "error_x": {
                         "color": "rgb(36,36,36)"
                        },
                        "error_y": {
                         "color": "rgb(36,36,36)"
                        },
                        "marker": {
                         "line": {
                          "color": "rgb(234,234,242)",
                          "width": 0.5
                         },
                         "pattern": {
                          "fillmode": "overlay",
                          "size": 10,
                          "solidity": 0.2
                         }
                        },
                        "type": "bar"
                       }
                      ],
                      "barpolar": [
                       {
                        "marker": {
                         "line": {
                          "color": "rgb(234,234,242)",
                          "width": 0.5
                         },
                         "pattern": {
                          "fillmode": "overlay",
                          "size": 10,
                          "solidity": 0.2
                         }
                        },
                        "type": "barpolar"
                       }
                      ],
                      "carpet": [
                       {
                        "aaxis": {
                         "endlinecolor": "rgb(36,36,36)",
                         "gridcolor": "white",
                         "linecolor": "white",
                         "minorgridcolor": "white",
                         "startlinecolor": "rgb(36,36,36)"
                        },
                        "baxis": {
                         "endlinecolor": "rgb(36,36,36)",
                         "gridcolor": "white",
                         "linecolor": "white",
                         "minorgridcolor": "white",
                         "startlinecolor": "rgb(36,36,36)"
                        },
                        "type": "carpet"
                       }
                      ],
                      "choropleth": [
                       {
                        "colorbar": {
                         "outlinewidth": 0,
                         "tickcolor": "rgb(36,36,36)",
                         "ticklen": 8,
                         "ticks": "outside",
                         "tickwidth": 2
                        },
                        "type": "choropleth"
                       }
                      ],
                      "contour": [
                       {
                        "colorbar": {
                         "outlinewidth": 0,
                         "tickcolor": "rgb(36,36,36)",
                         "ticklen": 8,
                         "ticks": "outside",
                         "tickwidth": 2
                        },
                        "colorscale": [
                         [
                          0,
                          "rgb(2,4,25)"
                         ],
                         [
                          0.06274509803921569,
                          "rgb(24,15,41)"
                         ],
                         [
                          0.12549019607843137,
                          "rgb(47,23,57)"
                         ],
                         [
                          0.18823529411764706,
                          "rgb(71,28,72)"
                         ],
                         [
                          0.25098039215686274,
                          "rgb(97,30,82)"
                         ],
                         [
                          0.3137254901960784,
                          "rgb(123,30,89)"
                         ],
                         [
                          0.3764705882352941,
                          "rgb(150,27,91)"
                         ],
                         [
                          0.4392156862745098,
                          "rgb(177,22,88)"
                         ],
                         [
                          0.5019607843137255,
                          "rgb(203,26,79)"
                         ],
                         [
                          0.5647058823529412,
                          "rgb(223,47,67)"
                         ],
                         [
                          0.6274509803921569,
                          "rgb(236,76,61)"
                         ],
                         [
                          0.6901960784313725,
                          "rgb(242,107,73)"
                         ],
                         [
                          0.7529411764705882,
                          "rgb(244,135,95)"
                         ],
                         [
                          0.8156862745098039,
                          "rgb(245,162,122)"
                         ],
                         [
                          0.8784313725490196,
                          "rgb(246,188,153)"
                         ],
                         [
                          0.9411764705882353,
                          "rgb(247,212,187)"
                         ],
                         [
                          1,
                          "rgb(250,234,220)"
                         ]
                        ],
                        "type": "contour"
                       }
                      ],
                      "contourcarpet": [
                       {
                        "colorbar": {
                         "outlinewidth": 0,
                         "tickcolor": "rgb(36,36,36)",
                         "ticklen": 8,
                         "ticks": "outside",
                         "tickwidth": 2
                        },
                        "type": "contourcarpet"
                       }
                      ],
                      "heatmap": [
                       {
                        "colorbar": {
                         "outlinewidth": 0,
                         "tickcolor": "rgb(36,36,36)",
                         "ticklen": 8,
                         "ticks": "outside",
                         "tickwidth": 2
                        },
                        "colorscale": [
                         [
                          0,
                          "rgb(2,4,25)"
                         ],
                         [
                          0.06274509803921569,
                          "rgb(24,15,41)"
                         ],
                         [
                          0.12549019607843137,
                          "rgb(47,23,57)"
                         ],
                         [
                          0.18823529411764706,
                          "rgb(71,28,72)"
                         ],
                         [
                          0.25098039215686274,
                          "rgb(97,30,82)"
                         ],
                         [
                          0.3137254901960784,
                          "rgb(123,30,89)"
                         ],
                         [
                          0.3764705882352941,
                          "rgb(150,27,91)"
                         ],
                         [
                          0.4392156862745098,
                          "rgb(177,22,88)"
                         ],
                         [
                          0.5019607843137255,
                          "rgb(203,26,79)"
                         ],
                         [
                          0.5647058823529412,
                          "rgb(223,47,67)"
                         ],
                         [
                          0.6274509803921569,
                          "rgb(236,76,61)"
                         ],
                         [
                          0.6901960784313725,
                          "rgb(242,107,73)"
                         ],
                         [
                          0.7529411764705882,
                          "rgb(244,135,95)"
                         ],
                         [
                          0.8156862745098039,
                          "rgb(245,162,122)"
                         ],
                         [
                          0.8784313725490196,
                          "rgb(246,188,153)"
                         ],
                         [
                          0.9411764705882353,
                          "rgb(247,212,187)"
                         ],
                         [
                          1,
                          "rgb(250,234,220)"
                         ]
                        ],
                        "type": "heatmap"
                       }
                      ],
                      "heatmapgl": [
                       {
                        "colorbar": {
                         "outlinewidth": 0,
                         "tickcolor": "rgb(36,36,36)",
                         "ticklen": 8,
                         "ticks": "outside",
                         "tickwidth": 2
                        },
                        "colorscale": [
                         [
                          0,
                          "rgb(2,4,25)"
                         ],
                         [
                          0.06274509803921569,
                          "rgb(24,15,41)"
                         ],
                         [
                          0.12549019607843137,
                          "rgb(47,23,57)"
                         ],
                         [
                          0.18823529411764706,
                          "rgb(71,28,72)"
                         ],
                         [
                          0.25098039215686274,
                          "rgb(97,30,82)"
                         ],
                         [
                          0.3137254901960784,
                          "rgb(123,30,89)"
                         ],
                         [
                          0.3764705882352941,
                          "rgb(150,27,91)"
                         ],
                         [
                          0.4392156862745098,
                          "rgb(177,22,88)"
                         ],
                         [
                          0.5019607843137255,
                          "rgb(203,26,79)"
                         ],
                         [
                          0.5647058823529412,
                          "rgb(223,47,67)"
                         ],
                         [
                          0.6274509803921569,
                          "rgb(236,76,61)"
                         ],
                         [
                          0.6901960784313725,
                          "rgb(242,107,73)"
                         ],
                         [
                          0.7529411764705882,
                          "rgb(244,135,95)"
                         ],
                         [
                          0.8156862745098039,
                          "rgb(245,162,122)"
                         ],
                         [
                          0.8784313725490196,
                          "rgb(246,188,153)"
                         ],
                         [
                          0.9411764705882353,
                          "rgb(247,212,187)"
                         ],
                         [
                          1,
                          "rgb(250,234,220)"
                         ]
                        ],
                        "type": "heatmapgl"
                       }
                      ],
                      "histogram": [
                       {
                        "marker": {
                         "pattern": {
                          "fillmode": "overlay",
                          "size": 10,
                          "solidity": 0.2
                         }
                        },
                        "type": "histogram"
                       }
                      ],
                      "histogram2d": [
                       {
                        "colorbar": {
                         "outlinewidth": 0,
                         "tickcolor": "rgb(36,36,36)",
                         "ticklen": 8,
                         "ticks": "outside",
                         "tickwidth": 2
                        },
                        "colorscale": [
                         [
                          0,
                          "rgb(2,4,25)"
                         ],
                         [
                          0.06274509803921569,
                          "rgb(24,15,41)"
                         ],
                         [
                          0.12549019607843137,
                          "rgb(47,23,57)"
                         ],
                         [
                          0.18823529411764706,
                          "rgb(71,28,72)"
                         ],
                         [
                          0.25098039215686274,
                          "rgb(97,30,82)"
                         ],
                         [
                          0.3137254901960784,
                          "rgb(123,30,89)"
                         ],
                         [
                          0.3764705882352941,
                          "rgb(150,27,91)"
                         ],
                         [
                          0.4392156862745098,
                          "rgb(177,22,88)"
                         ],
                         [
                          0.5019607843137255,
                          "rgb(203,26,79)"
                         ],
                         [
                          0.5647058823529412,
                          "rgb(223,47,67)"
                         ],
                         [
                          0.6274509803921569,
                          "rgb(236,76,61)"
                         ],
                         [
                          0.6901960784313725,
                          "rgb(242,107,73)"
                         ],
                         [
                          0.7529411764705882,
                          "rgb(244,135,95)"
                         ],
                         [
                          0.8156862745098039,
                          "rgb(245,162,122)"
                         ],
                         [
                          0.8784313725490196,
                          "rgb(246,188,153)"
                         ],
                         [
                          0.9411764705882353,
                          "rgb(247,212,187)"
                         ],
                         [
                          1,
                          "rgb(250,234,220)"
                         ]
                        ],
                        "type": "histogram2d"
                       }
                      ],
                      "histogram2dcontour": [
                       {
                        "colorbar": {
                         "outlinewidth": 0,
                         "tickcolor": "rgb(36,36,36)",
                         "ticklen": 8,
                         "ticks": "outside",
                         "tickwidth": 2
                        },
                        "colorscale": [
                         [
                          0,
                          "rgb(2,4,25)"
                         ],
                         [
                          0.06274509803921569,
                          "rgb(24,15,41)"
                         ],
                         [
                          0.12549019607843137,
                          "rgb(47,23,57)"
                         ],
                         [
                          0.18823529411764706,
                          "rgb(71,28,72)"
                         ],
                         [
                          0.25098039215686274,
                          "rgb(97,30,82)"
                         ],
                         [
                          0.3137254901960784,
                          "rgb(123,30,89)"
                         ],
                         [
                          0.3764705882352941,
                          "rgb(150,27,91)"
                         ],
                         [
                          0.4392156862745098,
                          "rgb(177,22,88)"
                         ],
                         [
                          0.5019607843137255,
                          "rgb(203,26,79)"
                         ],
                         [
                          0.5647058823529412,
                          "rgb(223,47,67)"
                         ],
                         [
                          0.6274509803921569,
                          "rgb(236,76,61)"
                         ],
                         [
                          0.6901960784313725,
                          "rgb(242,107,73)"
                         ],
                         [
                          0.7529411764705882,
                          "rgb(244,135,95)"
                         ],
                         [
                          0.8156862745098039,
                          "rgb(245,162,122)"
                         ],
                         [
                          0.8784313725490196,
                          "rgb(246,188,153)"
                         ],
                         [
                          0.9411764705882353,
                          "rgb(247,212,187)"
                         ],
                         [
                          1,
                          "rgb(250,234,220)"
                         ]
                        ],
                        "type": "histogram2dcontour"
                       }
                      ],
                      "mesh3d": [
                       {
                        "colorbar": {
                         "outlinewidth": 0,
                         "tickcolor": "rgb(36,36,36)",
                         "ticklen": 8,
                         "ticks": "outside",
                         "tickwidth": 2
                        },
                        "type": "mesh3d"
                       }
                      ],
                      "parcoords": [
                       {
                        "line": {
                         "colorbar": {
                          "outlinewidth": 0,
                          "tickcolor": "rgb(36,36,36)",
                          "ticklen": 8,
                          "ticks": "outside",
                          "tickwidth": 2
                         }
                        },
                        "type": "parcoords"
                       }
                      ],
                      "pie": [
                       {
                        "automargin": true,
                        "type": "pie"
                       }
                      ],
                      "scatter": [
                       {
                        "fillpattern": {
                         "fillmode": "overlay",
                         "size": 10,
                         "solidity": 0.2
                        },
                        "type": "scatter"
                       }
                      ],
                      "scatter3d": [
                       {
                        "line": {
                         "colorbar": {
                          "outlinewidth": 0,
                          "tickcolor": "rgb(36,36,36)",
                          "ticklen": 8,
                          "ticks": "outside",
                          "tickwidth": 2
                         }
                        },
                        "marker": {
                         "colorbar": {
                          "outlinewidth": 0,
                          "tickcolor": "rgb(36,36,36)",
                          "ticklen": 8,
                          "ticks": "outside",
                          "tickwidth": 2
                         }
                        },
                        "type": "scatter3d"
                       }
                      ],
                      "scattercarpet": [
                       {
                        "marker": {
                         "colorbar": {
                          "outlinewidth": 0,
                          "tickcolor": "rgb(36,36,36)",
                          "ticklen": 8,
                          "ticks": "outside",
                          "tickwidth": 2
                         }
                        },
                        "type": "scattercarpet"
                       }
                      ],
                      "scattergeo": [
                       {
                        "marker": {
                         "colorbar": {
                          "outlinewidth": 0,
                          "tickcolor": "rgb(36,36,36)",
                          "ticklen": 8,
                          "ticks": "outside",
                          "tickwidth": 2
                         }
                        },
                        "type": "scattergeo"
                       }
                      ],
                      "scattergl": [
                       {
                        "marker": {
                         "colorbar": {
                          "outlinewidth": 0,
                          "tickcolor": "rgb(36,36,36)",
                          "ticklen": 8,
                          "ticks": "outside",
                          "tickwidth": 2
                         }
                        },
                        "type": "scattergl"
                       }
                      ],
                      "scattermapbox": [
                       {
                        "marker": {
                         "colorbar": {
                          "outlinewidth": 0,
                          "tickcolor": "rgb(36,36,36)",
                          "ticklen": 8,
                          "ticks": "outside",
                          "tickwidth": 2
                         }
                        },
                        "type": "scattermapbox"
                       }
                      ],
                      "scatterpolar": [
                       {
                        "marker": {
                         "colorbar": {
                          "outlinewidth": 0,
                          "tickcolor": "rgb(36,36,36)",
                          "ticklen": 8,
                          "ticks": "outside",
                          "tickwidth": 2
                         }
                        },
                        "type": "scatterpolar"
                       }
                      ],
                      "scatterpolargl": [
                       {
                        "marker": {
                         "colorbar": {
                          "outlinewidth": 0,
                          "tickcolor": "rgb(36,36,36)",
                          "ticklen": 8,
                          "ticks": "outside",
                          "tickwidth": 2
                         }
                        },
                        "type": "scatterpolargl"
                       }
                      ],
                      "scatterternary": [
                       {
                        "marker": {
                         "colorbar": {
                          "outlinewidth": 0,
                          "tickcolor": "rgb(36,36,36)",
                          "ticklen": 8,
                          "ticks": "outside",
                          "tickwidth": 2
                         }
                        },
                        "type": "scatterternary"
                       }
                      ],
                      "surface": [
                       {
                        "colorbar": {
                         "outlinewidth": 0,
                         "tickcolor": "rgb(36,36,36)",
                         "ticklen": 8,
                         "ticks": "outside",
                         "tickwidth": 2
                        },
                        "colorscale": [
                         [
                          0,
                          "rgb(2,4,25)"
                         ],
                         [
                          0.06274509803921569,
                          "rgb(24,15,41)"
                         ],
                         [
                          0.12549019607843137,
                          "rgb(47,23,57)"
                         ],
                         [
                          0.18823529411764706,
                          "rgb(71,28,72)"
                         ],
                         [
                          0.25098039215686274,
                          "rgb(97,30,82)"
                         ],
                         [
                          0.3137254901960784,
                          "rgb(123,30,89)"
                         ],
                         [
                          0.3764705882352941,
                          "rgb(150,27,91)"
                         ],
                         [
                          0.4392156862745098,
                          "rgb(177,22,88)"
                         ],
                         [
                          0.5019607843137255,
                          "rgb(203,26,79)"
                         ],
                         [
                          0.5647058823529412,
                          "rgb(223,47,67)"
                         ],
                         [
                          0.6274509803921569,
                          "rgb(236,76,61)"
                         ],
                         [
                          0.6901960784313725,
                          "rgb(242,107,73)"
                         ],
                         [
                          0.7529411764705882,
                          "rgb(244,135,95)"
                         ],
                         [
                          0.8156862745098039,
                          "rgb(245,162,122)"
                         ],
                         [
                          0.8784313725490196,
                          "rgb(246,188,153)"
                         ],
                         [
                          0.9411764705882353,
                          "rgb(247,212,187)"
                         ],
                         [
                          1,
                          "rgb(250,234,220)"
                         ]
                        ],
                        "type": "surface"
                       }
                      ],
                      "table": [
                       {
                        "cells": {
                         "fill": {
                          "color": "rgb(231,231,240)"
                         },
                         "line": {
                          "color": "white"
                         }
                        },
                        "header": {
                         "fill": {
                          "color": "rgb(183,183,191)"
                         },
                         "line": {
                          "color": "white"
                         }
                        },
                        "type": "table"
                       }
                      ]
                     },
                     "layout": {
                      "annotationdefaults": {
                       "arrowcolor": "rgb(67,103,167)"
                      },
                      "autotypenumbers": "strict",
                      "coloraxis": {
                       "colorbar": {
                        "outlinewidth": 0,
                        "tickcolor": "rgb(36,36,36)",
                        "ticklen": 8,
                        "ticks": "outside",
                        "tickwidth": 2
                       }
                      },
                      "colorscale": {
                       "sequential": [
                        [
                         0,
                         "rgb(2,4,25)"
                        ],
                        [
                         0.06274509803921569,
                         "rgb(24,15,41)"
                        ],
                        [
                         0.12549019607843137,
                         "rgb(47,23,57)"
                        ],
                        [
                         0.18823529411764706,
                         "rgb(71,28,72)"
                        ],
                        [
                         0.25098039215686274,
                         "rgb(97,30,82)"
                        ],
                        [
                         0.3137254901960784,
                         "rgb(123,30,89)"
                        ],
                        [
                         0.3764705882352941,
                         "rgb(150,27,91)"
                        ],
                        [
                         0.4392156862745098,
                         "rgb(177,22,88)"
                        ],
                        [
                         0.5019607843137255,
                         "rgb(203,26,79)"
                        ],
                        [
                         0.5647058823529412,
                         "rgb(223,47,67)"
                        ],
                        [
                         0.6274509803921569,
                         "rgb(236,76,61)"
                        ],
                        [
                         0.6901960784313725,
                         "rgb(242,107,73)"
                        ],
                        [
                         0.7529411764705882,
                         "rgb(244,135,95)"
                        ],
                        [
                         0.8156862745098039,
                         "rgb(245,162,122)"
                        ],
                        [
                         0.8784313725490196,
                         "rgb(246,188,153)"
                        ],
                        [
                         0.9411764705882353,
                         "rgb(247,212,187)"
                        ],
                        [
                         1,
                         "rgb(250,234,220)"
                        ]
                       ],
                       "sequentialminus": [
                        [
                         0,
                         "rgb(2,4,25)"
                        ],
                        [
                         0.06274509803921569,
                         "rgb(24,15,41)"
                        ],
                        [
                         0.12549019607843137,
                         "rgb(47,23,57)"
                        ],
                        [
                         0.18823529411764706,
                         "rgb(71,28,72)"
                        ],
                        [
                         0.25098039215686274,
                         "rgb(97,30,82)"
                        ],
                        [
                         0.3137254901960784,
                         "rgb(123,30,89)"
                        ],
                        [
                         0.3764705882352941,
                         "rgb(150,27,91)"
                        ],
                        [
                         0.4392156862745098,
                         "rgb(177,22,88)"
                        ],
                        [
                         0.5019607843137255,
                         "rgb(203,26,79)"
                        ],
                        [
                         0.5647058823529412,
                         "rgb(223,47,67)"
                        ],
                        [
                         0.6274509803921569,
                         "rgb(236,76,61)"
                        ],
                        [
                         0.6901960784313725,
                         "rgb(242,107,73)"
                        ],
                        [
                         0.7529411764705882,
                         "rgb(244,135,95)"
                        ],
                        [
                         0.8156862745098039,
                         "rgb(245,162,122)"
                        ],
                        [
                         0.8784313725490196,
                         "rgb(246,188,153)"
                        ],
                        [
                         0.9411764705882353,
                         "rgb(247,212,187)"
                        ],
                        [
                         1,
                         "rgb(250,234,220)"
                        ]
                       ]
                      },
                      "colorway": [
                       "rgb(76,114,176)",
                       "rgb(221,132,82)",
                       "rgb(85,168,104)",
                       "rgb(196,78,82)",
                       "rgb(129,114,179)",
                       "rgb(147,120,96)",
                       "rgb(218,139,195)",
                       "rgb(140,140,140)",
                       "rgb(204,185,116)",
                       "rgb(100,181,205)"
                      ],
                      "font": {
                       "color": "rgb(36,36,36)"
                      },
                      "geo": {
                       "bgcolor": "white",
                       "lakecolor": "white",
                       "landcolor": "rgb(234,234,242)",
                       "showlakes": true,
                       "showland": true,
                       "subunitcolor": "white"
                      },
                      "hoverlabel": {
                       "align": "left"
                      },
                      "hovermode": "closest",
                      "paper_bgcolor": "white",
                      "plot_bgcolor": "rgb(234,234,242)",
                      "polar": {
                       "angularaxis": {
                        "gridcolor": "white",
                        "linecolor": "white",
                        "showgrid": true,
                        "ticks": ""
                       },
                       "bgcolor": "rgb(234,234,242)",
                       "radialaxis": {
                        "gridcolor": "white",
                        "linecolor": "white",
                        "showgrid": true,
                        "ticks": ""
                       }
                      },
                      "scene": {
                       "xaxis": {
                        "backgroundcolor": "rgb(234,234,242)",
                        "gridcolor": "white",
                        "gridwidth": 2,
                        "linecolor": "white",
                        "showbackground": true,
                        "showgrid": true,
                        "ticks": "",
                        "zerolinecolor": "white"
                       },
                       "yaxis": {
                        "backgroundcolor": "rgb(234,234,242)",
                        "gridcolor": "white",
                        "gridwidth": 2,
                        "linecolor": "white",
                        "showbackground": true,
                        "showgrid": true,
                        "ticks": "",
                        "zerolinecolor": "white"
                       },
                       "zaxis": {
                        "backgroundcolor": "rgb(234,234,242)",
                        "gridcolor": "white",
                        "gridwidth": 2,
                        "linecolor": "white",
                        "showbackground": true,
                        "showgrid": true,
                        "ticks": "",
                        "zerolinecolor": "white"
                       }
                      },
                      "shapedefaults": {
                       "fillcolor": "rgb(67,103,167)",
                       "line": {
                        "width": 0
                       },
                       "opacity": 0.5
                      },
                      "ternary": {
                       "aaxis": {
                        "gridcolor": "white",
                        "linecolor": "white",
                        "showgrid": true,
                        "ticks": ""
                       },
                       "baxis": {
                        "gridcolor": "white",
                        "linecolor": "white",
                        "showgrid": true,
                        "ticks": ""
                       },
                       "bgcolor": "rgb(234,234,242)",
                       "caxis": {
                        "gridcolor": "white",
                        "linecolor": "white",
                        "showgrid": true,
                        "ticks": ""
                       }
                      },
                      "xaxis": {
                       "automargin": true,
                       "gridcolor": "white",
                       "linecolor": "white",
                       "showgrid": true,
                       "ticks": "",
                       "title": {
                        "standoff": 15
                       },
                       "zerolinecolor": "white"
                      },
                      "yaxis": {
                       "automargin": true,
                       "gridcolor": "white",
                       "linecolor": "white",
                       "showgrid": true,
                       "ticks": "",
                       "title": {
                        "standoff": 15
                       },
                       "zerolinecolor": "white"
                      }
                     }
                    }
                   }
                  }
                 }
                }
               }
              }
             }
            }
           }
          }
         }
        },
        "title": {
         "font": {
          "color": "#4D5663"
         }
        },
        "xaxis": {
         "gridcolor": "#E1E5ED",
         "showgrid": true,
         "tickfont": {
          "color": "#4D5663"
         },
         "title": {
          "font": {
           "color": "#4D5663"
          },
          "text": ""
         },
         "zerolinecolor": "#E1E5ED"
        },
        "yaxis": {
         "gridcolor": "#E1E5ED",
         "showgrid": true,
         "tickfont": {
          "color": "#4D5663"
         },
         "title": {
          "font": {
           "color": "#4D5663"
          },
          "text": ""
         },
         "zerolinecolor": "#E1E5ED"
        }
       }
      },
      "text/html": [
       "<div>                            <div id=\"1f71137e-418b-4e27-8ab7-7e4d815539a5\" class=\"plotly-graph-div\" style=\"height:525px; width:100%;\"></div>            <script type=\"text/javascript\">                require([\"plotly\"], function(Plotly) {                    window.PLOTLYENV=window.PLOTLYENV || {};\n",
       "                    window.PLOTLYENV.BASE_URL='https://plot.ly';                                    if (document.getElementById(\"1f71137e-418b-4e27-8ab7-7e4d815539a5\")) {                    Plotly.newPlot(                        \"1f71137e-418b-4e27-8ab7-7e4d815539a5\",                        [{\"line\":{\"color\":\"rgba(255, 153, 51, 1.0)\",\"dash\":\"solid\",\"shape\":\"linear\",\"width\":1.3},\"mode\":\"lines\",\"name\":\"agr\",\"text\":\"\",\"x\":[\"2024-01-19\",\"2024-01-22\",\"2024-01-23\",\"2024-01-24\",\"2024-01-25\",\"2024-01-26\",\"2024-01-29\",\"2024-01-30\",\"2024-01-31\",\"2024-02-01\",\"2024-02-02\",\"2024-02-05\",\"2024-02-06\",\"2024-02-07\",\"2024-02-08\",\"2024-02-13\",\"2024-02-14\",\"2024-02-15\",\"2024-02-16\",\"2024-02-19\",\"2024-02-20\",\"2024-02-21\",\"2024-02-22\",\"2024-02-23\",\"2024-02-26\",\"2024-02-27\",\"2024-02-28\",\"2024-02-29\",\"2024-03-04\",\"2024-03-05\",\"2024-03-06\",\"2024-03-07\",\"2024-03-08\",\"2024-03-11\",\"2024-03-12\",\"2024-03-13\",\"2024-03-14\",\"2024-03-15\",\"2024-03-18\",\"2024-03-19\",\"2024-03-20\"],\"y\":[1.0017460491081376,0.9898697365408483,1.0001170147519287,0.9973629160575395,1.0010576521742656,1.0083440125302576,1.0039021570256894,0.9901453433081849,1.0036938783713172,1.0202774556267633,1.0218449636633586,0.9917864947928826,0.9969042643758224,1.006553292267578,1.0000228984909894,1.0020687020879897,1.0041462293071737,0.9886489573759083,1.004981731123109,1.0102294656856834,0.9948494319776908,0.9986412838926275,0.9972227316791993,0.9950280302719475,0.9961352475210266,0.9888087812080941,1.0088166718014842,0.9995763160682132,1.0036591956525003,0.9957155742633794,1.0010042291309817,0.9976035991228268,1.00132995117286,0.9978466224986683,1.0031195412703342,0.9995769489110146,1.0075564136867814,0.9870202930519523,1.0027328524707675,0.9934918479785455,1.0035214682732123],\"type\":\"scatter\"}],                        {\"legend\":{\"bgcolor\":\"#F5F6F9\",\"font\":{\"color\":\"#4D5663\"}},\"paper_bgcolor\":\"#F5F6F9\",\"plot_bgcolor\":\"#F5F6F9\",\"template\":{\"layout\":{\"template\":{\"layout\":{\"template\":{\"layout\":{\"template\":{\"layout\":{\"template\":{\"layout\":{\"template\":{\"layout\":{\"template\":{\"data\":{\"barpolar\":[{\"marker\":{\"line\":{\"color\":\"rgb(234,234,242)\",\"width\":0.5},\"pattern\":{\"fillmode\":\"overlay\",\"size\":10,\"solidity\":0.2}},\"type\":\"barpolar\"}],\"bar\":[{\"error_x\":{\"color\":\"rgb(36,36,36)\"},\"error_y\":{\"color\":\"rgb(36,36,36)\"},\"marker\":{\"line\":{\"color\":\"rgb(234,234,242)\",\"width\":0.5},\"pattern\":{\"fillmode\":\"overlay\",\"size\":10,\"solidity\":0.2}},\"type\":\"bar\"}],\"carpet\":[{\"aaxis\":{\"endlinecolor\":\"rgb(36,36,36)\",\"gridcolor\":\"white\",\"linecolor\":\"white\",\"minorgridcolor\":\"white\",\"startlinecolor\":\"rgb(36,36,36)\"},\"baxis\":{\"endlinecolor\":\"rgb(36,36,36)\",\"gridcolor\":\"white\",\"linecolor\":\"white\",\"minorgridcolor\":\"white\",\"startlinecolor\":\"rgb(36,36,36)\"},\"type\":\"carpet\"}],\"choropleth\":[{\"colorbar\":{\"outlinewidth\":0,\"tickcolor\":\"rgb(36,36,36)\",\"ticklen\":8,\"ticks\":\"outside\",\"tickwidth\":2},\"type\":\"choropleth\"}],\"contourcarpet\":[{\"colorbar\":{\"outlinewidth\":0,\"tickcolor\":\"rgb(36,36,36)\",\"ticklen\":8,\"ticks\":\"outside\",\"tickwidth\":2},\"type\":\"contourcarpet\"}],\"contour\":[{\"colorbar\":{\"outlinewidth\":0,\"tickcolor\":\"rgb(36,36,36)\",\"ticklen\":8,\"ticks\":\"outside\",\"tickwidth\":2},\"colorscale\":[[0.0,\"rgb(2,4,25)\"],[0.06274509803921569,\"rgb(24,15,41)\"],[0.12549019607843137,\"rgb(47,23,57)\"],[0.18823529411764706,\"rgb(71,28,72)\"],[0.25098039215686274,\"rgb(97,30,82)\"],[0.3137254901960784,\"rgb(123,30,89)\"],[0.3764705882352941,\"rgb(150,27,91)\"],[0.4392156862745098,\"rgb(177,22,88)\"],[0.5019607843137255,\"rgb(203,26,79)\"],[0.5647058823529412,\"rgb(223,47,67)\"],[0.6274509803921569,\"rgb(236,76,61)\"],[0.6901960784313725,\"rgb(242,107,73)\"],[0.7529411764705882,\"rgb(244,135,95)\"],[0.8156862745098039,\"rgb(245,162,122)\"],[0.8784313725490196,\"rgb(246,188,153)\"],[0.9411764705882353,\"rgb(247,212,187)\"],[1.0,\"rgb(250,234,220)\"]],\"type\":\"contour\"}],\"heatmapgl\":[{\"colorbar\":{\"outlinewidth\":0,\"tickcolor\":\"rgb(36,36,36)\",\"ticklen\":8,\"ticks\":\"outside\",\"tickwidth\":2},\"colorscale\":[[0.0,\"rgb(2,4,25)\"],[0.06274509803921569,\"rgb(24,15,41)\"],[0.12549019607843137,\"rgb(47,23,57)\"],[0.18823529411764706,\"rgb(71,28,72)\"],[0.25098039215686274,\"rgb(97,30,82)\"],[0.3137254901960784,\"rgb(123,30,89)\"],[0.3764705882352941,\"rgb(150,27,91)\"],[0.4392156862745098,\"rgb(177,22,88)\"],[0.5019607843137255,\"rgb(203,26,79)\"],[0.5647058823529412,\"rgb(223,47,67)\"],[0.6274509803921569,\"rgb(236,76,61)\"],[0.6901960784313725,\"rgb(242,107,73)\"],[0.7529411764705882,\"rgb(244,135,95)\"],[0.8156862745098039,\"rgb(245,162,122)\"],[0.8784313725490196,\"rgb(246,188,153)\"],[0.9411764705882353,\"rgb(247,212,187)\"],[1.0,\"rgb(250,234,220)\"]],\"type\":\"heatmapgl\"}],\"heatmap\":[{\"colorbar\":{\"outlinewidth\":0,\"tickcolor\":\"rgb(36,36,36)\",\"ticklen\":8,\"ticks\":\"outside\",\"tickwidth\":2},\"colorscale\":[[0.0,\"rgb(2,4,25)\"],[0.06274509803921569,\"rgb(24,15,41)\"],[0.12549019607843137,\"rgb(47,23,57)\"],[0.18823529411764706,\"rgb(71,28,72)\"],[0.25098039215686274,\"rgb(97,30,82)\"],[0.3137254901960784,\"rgb(123,30,89)\"],[0.3764705882352941,\"rgb(150,27,91)\"],[0.4392156862745098,\"rgb(177,22,88)\"],[0.5019607843137255,\"rgb(203,26,79)\"],[0.5647058823529412,\"rgb(223,47,67)\"],[0.6274509803921569,\"rgb(236,76,61)\"],[0.6901960784313725,\"rgb(242,107,73)\"],[0.7529411764705882,\"rgb(244,135,95)\"],[0.8156862745098039,\"rgb(245,162,122)\"],[0.8784313725490196,\"rgb(246,188,153)\"],[0.9411764705882353,\"rgb(247,212,187)\"],[1.0,\"rgb(250,234,220)\"]],\"type\":\"heatmap\"}],\"histogram2dcontour\":[{\"colorbar\":{\"outlinewidth\":0,\"tickcolor\":\"rgb(36,36,36)\",\"ticklen\":8,\"ticks\":\"outside\",\"tickwidth\":2},\"colorscale\":[[0.0,\"rgb(2,4,25)\"],[0.06274509803921569,\"rgb(24,15,41)\"],[0.12549019607843137,\"rgb(47,23,57)\"],[0.18823529411764706,\"rgb(71,28,72)\"],[0.25098039215686274,\"rgb(97,30,82)\"],[0.3137254901960784,\"rgb(123,30,89)\"],[0.3764705882352941,\"rgb(150,27,91)\"],[0.4392156862745098,\"rgb(177,22,88)\"],[0.5019607843137255,\"rgb(203,26,79)\"],[0.5647058823529412,\"rgb(223,47,67)\"],[0.6274509803921569,\"rgb(236,76,61)\"],[0.6901960784313725,\"rgb(242,107,73)\"],[0.7529411764705882,\"rgb(244,135,95)\"],[0.8156862745098039,\"rgb(245,162,122)\"],[0.8784313725490196,\"rgb(246,188,153)\"],[0.9411764705882353,\"rgb(247,212,187)\"],[1.0,\"rgb(250,234,220)\"]],\"type\":\"histogram2dcontour\"}],\"histogram2d\":[{\"colorbar\":{\"outlinewidth\":0,\"tickcolor\":\"rgb(36,36,36)\",\"ticklen\":8,\"ticks\":\"outside\",\"tickwidth\":2},\"colorscale\":[[0.0,\"rgb(2,4,25)\"],[0.06274509803921569,\"rgb(24,15,41)\"],[0.12549019607843137,\"rgb(47,23,57)\"],[0.18823529411764706,\"rgb(71,28,72)\"],[0.25098039215686274,\"rgb(97,30,82)\"],[0.3137254901960784,\"rgb(123,30,89)\"],[0.3764705882352941,\"rgb(150,27,91)\"],[0.4392156862745098,\"rgb(177,22,88)\"],[0.5019607843137255,\"rgb(203,26,79)\"],[0.5647058823529412,\"rgb(223,47,67)\"],[0.6274509803921569,\"rgb(236,76,61)\"],[0.6901960784313725,\"rgb(242,107,73)\"],[0.7529411764705882,\"rgb(244,135,95)\"],[0.8156862745098039,\"rgb(245,162,122)\"],[0.8784313725490196,\"rgb(246,188,153)\"],[0.9411764705882353,\"rgb(247,212,187)\"],[1.0,\"rgb(250,234,220)\"]],\"type\":\"histogram2d\"}],\"histogram\":[{\"marker\":{\"pattern\":{\"fillmode\":\"overlay\",\"size\":10,\"solidity\":0.2}},\"type\":\"histogram\"}],\"mesh3d\":[{\"colorbar\":{\"outlinewidth\":0,\"tickcolor\":\"rgb(36,36,36)\",\"ticklen\":8,\"ticks\":\"outside\",\"tickwidth\":2},\"type\":\"mesh3d\"}],\"parcoords\":[{\"line\":{\"colorbar\":{\"outlinewidth\":0,\"tickcolor\":\"rgb(36,36,36)\",\"ticklen\":8,\"ticks\":\"outside\",\"tickwidth\":2}},\"type\":\"parcoords\"}],\"pie\":[{\"automargin\":true,\"type\":\"pie\"}],\"scatter3d\":[{\"line\":{\"colorbar\":{\"outlinewidth\":0,\"tickcolor\":\"rgb(36,36,36)\",\"ticklen\":8,\"ticks\":\"outside\",\"tickwidth\":2}},\"marker\":{\"colorbar\":{\"outlinewidth\":0,\"tickcolor\":\"rgb(36,36,36)\",\"ticklen\":8,\"ticks\":\"outside\",\"tickwidth\":2}},\"type\":\"scatter3d\"}],\"scattercarpet\":[{\"marker\":{\"colorbar\":{\"outlinewidth\":0,\"tickcolor\":\"rgb(36,36,36)\",\"ticklen\":8,\"ticks\":\"outside\",\"tickwidth\":2}},\"type\":\"scattercarpet\"}],\"scattergeo\":[{\"marker\":{\"colorbar\":{\"outlinewidth\":0,\"tickcolor\":\"rgb(36,36,36)\",\"ticklen\":8,\"ticks\":\"outside\",\"tickwidth\":2}},\"type\":\"scattergeo\"}],\"scattergl\":[{\"marker\":{\"colorbar\":{\"outlinewidth\":0,\"tickcolor\":\"rgb(36,36,36)\",\"ticklen\":8,\"ticks\":\"outside\",\"tickwidth\":2}},\"type\":\"scattergl\"}],\"scattermapbox\":[{\"marker\":{\"colorbar\":{\"outlinewidth\":0,\"tickcolor\":\"rgb(36,36,36)\",\"ticklen\":8,\"ticks\":\"outside\",\"tickwidth\":2}},\"type\":\"scattermapbox\"}],\"scatterpolargl\":[{\"marker\":{\"colorbar\":{\"outlinewidth\":0,\"tickcolor\":\"rgb(36,36,36)\",\"ticklen\":8,\"ticks\":\"outside\",\"tickwidth\":2}},\"type\":\"scatterpolargl\"}],\"scatterpolar\":[{\"marker\":{\"colorbar\":{\"outlinewidth\":0,\"tickcolor\":\"rgb(36,36,36)\",\"ticklen\":8,\"ticks\":\"outside\",\"tickwidth\":2}},\"type\":\"scatterpolar\"}],\"scatter\":[{\"fillpattern\":{\"fillmode\":\"overlay\",\"size\":10,\"solidity\":0.2},\"type\":\"scatter\"}],\"scatterternary\":[{\"marker\":{\"colorbar\":{\"outlinewidth\":0,\"tickcolor\":\"rgb(36,36,36)\",\"ticklen\":8,\"ticks\":\"outside\",\"tickwidth\":2}},\"type\":\"scatterternary\"}],\"surface\":[{\"colorbar\":{\"outlinewidth\":0,\"tickcolor\":\"rgb(36,36,36)\",\"ticklen\":8,\"ticks\":\"outside\",\"tickwidth\":2},\"colorscale\":[[0.0,\"rgb(2,4,25)\"],[0.06274509803921569,\"rgb(24,15,41)\"],[0.12549019607843137,\"rgb(47,23,57)\"],[0.18823529411764706,\"rgb(71,28,72)\"],[0.25098039215686274,\"rgb(97,30,82)\"],[0.3137254901960784,\"rgb(123,30,89)\"],[0.3764705882352941,\"rgb(150,27,91)\"],[0.4392156862745098,\"rgb(177,22,88)\"],[0.5019607843137255,\"rgb(203,26,79)\"],[0.5647058823529412,\"rgb(223,47,67)\"],[0.6274509803921569,\"rgb(236,76,61)\"],[0.6901960784313725,\"rgb(242,107,73)\"],[0.7529411764705882,\"rgb(244,135,95)\"],[0.8156862745098039,\"rgb(245,162,122)\"],[0.8784313725490196,\"rgb(246,188,153)\"],[0.9411764705882353,\"rgb(247,212,187)\"],[1.0,\"rgb(250,234,220)\"]],\"type\":\"surface\"}],\"table\":[{\"cells\":{\"fill\":{\"color\":\"rgb(231,231,240)\"},\"line\":{\"color\":\"white\"}},\"header\":{\"fill\":{\"color\":\"rgb(183,183,191)\"},\"line\":{\"color\":\"white\"}},\"type\":\"table\"}]},\"layout\":{\"annotationdefaults\":{\"arrowcolor\":\"rgb(67,103,167)\"},\"autotypenumbers\":\"strict\",\"coloraxis\":{\"colorbar\":{\"outlinewidth\":0,\"tickcolor\":\"rgb(36,36,36)\",\"ticklen\":8,\"ticks\":\"outside\",\"tickwidth\":2}},\"colorscale\":{\"sequential\":[[0.0,\"rgb(2,4,25)\"],[0.06274509803921569,\"rgb(24,15,41)\"],[0.12549019607843137,\"rgb(47,23,57)\"],[0.18823529411764706,\"rgb(71,28,72)\"],[0.25098039215686274,\"rgb(97,30,82)\"],[0.3137254901960784,\"rgb(123,30,89)\"],[0.3764705882352941,\"rgb(150,27,91)\"],[0.4392156862745098,\"rgb(177,22,88)\"],[0.5019607843137255,\"rgb(203,26,79)\"],[0.5647058823529412,\"rgb(223,47,67)\"],[0.6274509803921569,\"rgb(236,76,61)\"],[0.6901960784313725,\"rgb(242,107,73)\"],[0.7529411764705882,\"rgb(244,135,95)\"],[0.8156862745098039,\"rgb(245,162,122)\"],[0.8784313725490196,\"rgb(246,188,153)\"],[0.9411764705882353,\"rgb(247,212,187)\"],[1.0,\"rgb(250,234,220)\"]],\"sequentialminus\":[[0.0,\"rgb(2,4,25)\"],[0.06274509803921569,\"rgb(24,15,41)\"],[0.12549019607843137,\"rgb(47,23,57)\"],[0.18823529411764706,\"rgb(71,28,72)\"],[0.25098039215686274,\"rgb(97,30,82)\"],[0.3137254901960784,\"rgb(123,30,89)\"],[0.3764705882352941,\"rgb(150,27,91)\"],[0.4392156862745098,\"rgb(177,22,88)\"],[0.5019607843137255,\"rgb(203,26,79)\"],[0.5647058823529412,\"rgb(223,47,67)\"],[0.6274509803921569,\"rgb(236,76,61)\"],[0.6901960784313725,\"rgb(242,107,73)\"],[0.7529411764705882,\"rgb(244,135,95)\"],[0.8156862745098039,\"rgb(245,162,122)\"],[0.8784313725490196,\"rgb(246,188,153)\"],[0.9411764705882353,\"rgb(247,212,187)\"],[1.0,\"rgb(250,234,220)\"]]},\"colorway\":[\"rgb(76,114,176)\",\"rgb(221,132,82)\",\"rgb(85,168,104)\",\"rgb(196,78,82)\",\"rgb(129,114,179)\",\"rgb(147,120,96)\",\"rgb(218,139,195)\",\"rgb(140,140,140)\",\"rgb(204,185,116)\",\"rgb(100,181,205)\"],\"font\":{\"color\":\"rgb(36,36,36)\"},\"geo\":{\"bgcolor\":\"white\",\"lakecolor\":\"white\",\"landcolor\":\"rgb(234,234,242)\",\"showlakes\":true,\"showland\":true,\"subunitcolor\":\"white\"},\"hoverlabel\":{\"align\":\"left\"},\"hovermode\":\"closest\",\"paper_bgcolor\":\"white\",\"plot_bgcolor\":\"rgb(234,234,242)\",\"polar\":{\"angularaxis\":{\"gridcolor\":\"white\",\"linecolor\":\"white\",\"showgrid\":true,\"ticks\":\"\"},\"bgcolor\":\"rgb(234,234,242)\",\"radialaxis\":{\"gridcolor\":\"white\",\"linecolor\":\"white\",\"showgrid\":true,\"ticks\":\"\"}},\"scene\":{\"xaxis\":{\"backgroundcolor\":\"rgb(234,234,242)\",\"gridcolor\":\"white\",\"gridwidth\":2,\"linecolor\":\"white\",\"showbackground\":true,\"showgrid\":true,\"ticks\":\"\",\"zerolinecolor\":\"white\"},\"yaxis\":{\"backgroundcolor\":\"rgb(234,234,242)\",\"gridcolor\":\"white\",\"gridwidth\":2,\"linecolor\":\"white\",\"showbackground\":true,\"showgrid\":true,\"ticks\":\"\",\"zerolinecolor\":\"white\"},\"zaxis\":{\"backgroundcolor\":\"rgb(234,234,242)\",\"gridcolor\":\"white\",\"gridwidth\":2,\"linecolor\":\"white\",\"showbackground\":true,\"showgrid\":true,\"ticks\":\"\",\"zerolinecolor\":\"white\"}},\"shapedefaults\":{\"fillcolor\":\"rgb(67,103,167)\",\"line\":{\"width\":0},\"opacity\":0.5},\"ternary\":{\"aaxis\":{\"gridcolor\":\"white\",\"linecolor\":\"white\",\"showgrid\":true,\"ticks\":\"\"},\"baxis\":{\"gridcolor\":\"white\",\"linecolor\":\"white\",\"showgrid\":true,\"ticks\":\"\"},\"bgcolor\":\"rgb(234,234,242)\",\"caxis\":{\"gridcolor\":\"white\",\"linecolor\":\"white\",\"showgrid\":true,\"ticks\":\"\"}},\"xaxis\":{\"automargin\":true,\"gridcolor\":\"white\",\"linecolor\":\"white\",\"showgrid\":true,\"ticks\":\"\",\"title\":{\"standoff\":15},\"zerolinecolor\":\"white\"},\"yaxis\":{\"automargin\":true,\"gridcolor\":\"white\",\"linecolor\":\"white\",\"showgrid\":true,\"ticks\":\"\",\"title\":{\"standoff\":15},\"zerolinecolor\":\"white\"}}}}}}}}}}}}}}},\"title\":{\"font\":{\"color\":\"#4D5663\"}},\"xaxis\":{\"gridcolor\":\"#E1E5ED\",\"showgrid\":true,\"tickfont\":{\"color\":\"#4D5663\"},\"title\":{\"font\":{\"color\":\"#4D5663\"},\"text\":\"\"},\"zerolinecolor\":\"#E1E5ED\"},\"yaxis\":{\"gridcolor\":\"#E1E5ED\",\"showgrid\":true,\"tickfont\":{\"color\":\"#4D5663\"},\"title\":{\"font\":{\"color\":\"#4D5663\"},\"text\":\"\"},\"zerolinecolor\":\"#E1E5ED\"}},                        {\"showLink\": true, \"linkText\": \"Export to plot.ly\", \"plotlyServerURL\": \"https://plot.ly\", \"responsive\": true}                    ).then(function(){\n",
       "                            \n",
       "var gd = document.getElementById('1f71137e-418b-4e27-8ab7-7e4d815539a5');\n",
       "var x = new MutationObserver(function (mutations, observer) {{\n",
       "        var display = window.getComputedStyle(gd).display;\n",
       "        if (!display || display === 'none') {{\n",
       "            console.log([gd, 'removed!']);\n",
       "            Plotly.purge(gd);\n",
       "            observer.disconnect();\n",
       "        }}\n",
       "}});\n",
       "\n",
       "// Listen for the removal of the full notebook cells\n",
       "var notebookContainer = gd.closest('#notebook-container');\n",
       "if (notebookContainer) {{\n",
       "    x.observe(notebookContainer, {childList: true});\n",
       "}}\n",
       "\n",
       "// Listen for the clearing of the current output cell\n",
       "var outputEl = gd.closest('.output');\n",
       "if (outputEl) {{\n",
       "    x.observe(outputEl, {childList: true});\n",
       "}}\n",
       "\n",
       "                        })                };                });            </script>        </div>"
      ]
     },
     "metadata": {},
     "output_type": "display_data"
    }
   ],
   "source": [
    "ref['agr'].iplot(kind='scatter')"
   ]
  },
  {
   "cell_type": "code",
   "execution_count": 244,
   "id": "2bcf7fad",
   "metadata": {},
   "outputs": [
    {
     "data": {
      "text/plain": [
       "날짜\n",
       "2024-01-19    1.002119\n",
       "2024-01-22    1.052854\n",
       "2024-01-23    1.002008\n",
       "2024-01-24    0.974052\n",
       "2024-01-25    0.987705\n",
       "2024-01-26    1.018868\n",
       "2024-01-29    1.000000\n",
       "2024-01-30    0.973251\n",
       "2024-01-31    0.982906\n",
       "2024-02-01    1.028384\n",
       "2024-02-02    1.012739\n",
       "2024-02-05    0.995807\n",
       "2024-02-06    1.008457\n",
       "2024-02-07    1.006289\n",
       "2024-02-08    0.993902\n",
       "2024-02-13    0.995902\n",
       "2024-02-14    1.004237\n",
       "2024-02-15    1.004228\n",
       "2024-02-16    1.023158\n",
       "2024-02-19    1.012295\n",
       "2024-02-20    0.993927\n",
       "2024-02-21    0.979633\n",
       "2024-02-22    1.010571\n",
       "2024-02-23    1.025157\n",
       "2024-02-26    0.981595\n",
       "2024-02-27    0.995833\n",
       "2024-02-28    1.010571\n",
       "2024-02-29    0.993711\n",
       "2024-03-04    0.989451\n",
       "2024-03-05    0.960334\n",
       "2024-03-06    0.984615\n",
       "2024-03-07    0.991071\n",
       "2024-03-08    1.020270\n",
       "2024-03-11    0.975610\n",
       "2024-03-12    0.986364\n",
       "2024-03-13    1.002304\n",
       "2024-03-14    0.986207\n",
       "2024-03-15    1.034965\n",
       "2024-03-18    0.954751\n",
       "2024-03-19    1.000000\n",
       "2024-03-20    1.007075\n",
       "Name: 수익률, dtype: float64"
      ]
     },
     "execution_count": 244,
     "metadata": {},
     "output_type": "execute_result"
    }
   ],
   "source": [
    "data = stock.get_market_ohlcv(\"20240119\", \"20240320\", ticker, \"d\")\n",
    "data['수익률'] = data['종가'] / data['시가']\n",
    "data = data['수익률']\n",
    "data"
   ]
  },
  {
   "cell_type": "code",
   "execution_count": 245,
   "id": "a2e5639f",
   "metadata": {},
   "outputs": [],
   "source": [
    "import pandas as pd\n",
    "\n",
    "tickers = screening.index\n",
    "result_df = pd.DataFrame(columns=['날짜'] + list(tickers))\n",
    "\n",
    "for ticker in tickers:\n",
    "    data = stock.get_market_ohlcv(\"20240119\", \"20240320\", ticker, \"d\")\n",
    "    data['수익률'] = data['종가'] / data['시가']\n",
    "    result_df[ticker] = data['수익률']\n",
    "    if '날짜' not in result_df.columns:\n",
    "        result_df['날짜'] = data.index\n",
    "\n",
    "result_df.set_index('날짜', inplace=True)"
   ]
  },
  {
   "cell_type": "code",
   "execution_count": 250,
   "id": "0ebbae5e",
   "metadata": {},
   "outputs": [],
   "source": [
    "import pandas as pd\n",
    "\n",
    "tickers = screening.index\n",
    "date_range = pd.date_range(start=\"20240119\", end=\"20240320\")\n",
    "result_df = pd.DataFrame(index=date_range)\n",
    "\n",
    "for ticker in tickers:\n",
    "    data = stock.get_market_ohlcv(\"20240119\", \"20240320\", ticker, \"d\")\n",
    "    data['수익률'] = (data['종가'] / data['시가'])\n",
    "    result_df[ticker] = data['수익률']\n",
    "\n",
    "# NaN 값을 이전 행의 값으로 채우기\n",
    "result_df.fillna(method='ffill', inplace=True)\n",
    "\n",
    "result_df.index.name = '날짜'"
   ]
  },
  {
   "cell_type": "code",
   "execution_count": 252,
   "id": "430b48bb",
   "metadata": {},
   "outputs": [
    {
     "data": {
      "text/html": [
       "<div>\n",
       "<style scoped>\n",
       "    .dataframe tbody tr th:only-of-type {\n",
       "        vertical-align: middle;\n",
       "    }\n",
       "\n",
       "    .dataframe tbody tr th {\n",
       "        vertical-align: top;\n",
       "    }\n",
       "\n",
       "    .dataframe thead th {\n",
       "        text-align: right;\n",
       "    }\n",
       "</style>\n",
       "<table border=\"1\" class=\"dataframe\">\n",
       "  <thead>\n",
       "    <tr style=\"text-align: right;\">\n",
       "      <th></th>\n",
       "      <th>011200</th>\n",
       "      <th>000540</th>\n",
       "      <th>044450</th>\n",
       "      <th>053700</th>\n",
       "      <th>091590</th>\n",
       "      <th>004870</th>\n",
       "      <th>290120</th>\n",
       "      <th>050120</th>\n",
       "      <th>073540</th>\n",
       "      <th>평균수익률</th>\n",
       "    </tr>\n",
       "    <tr>\n",
       "      <th>날짜</th>\n",
       "      <th></th>\n",
       "      <th></th>\n",
       "      <th></th>\n",
       "      <th></th>\n",
       "      <th></th>\n",
       "      <th></th>\n",
       "      <th></th>\n",
       "      <th></th>\n",
       "      <th></th>\n",
       "      <th></th>\n",
       "    </tr>\n",
       "  </thead>\n",
       "  <tbody>\n",
       "    <tr>\n",
       "      <th>2024-01-19</th>\n",
       "      <td>0.985136</td>\n",
       "      <td>1.005226</td>\n",
       "      <td>1.017680</td>\n",
       "      <td>1.009091</td>\n",
       "      <td>0.995114</td>\n",
       "      <td>0.985075</td>\n",
       "      <td>1.016644</td>\n",
       "      <td>1.003565</td>\n",
       "      <td>1.002119</td>\n",
       "      <td>1.002183</td>\n",
       "    </tr>\n",
       "    <tr>\n",
       "      <th>2024-01-20</th>\n",
       "      <td>0.985136</td>\n",
       "      <td>1.005226</td>\n",
       "      <td>1.017680</td>\n",
       "      <td>1.009091</td>\n",
       "      <td>0.995114</td>\n",
       "      <td>0.985075</td>\n",
       "      <td>1.016644</td>\n",
       "      <td>1.003565</td>\n",
       "      <td>1.002119</td>\n",
       "      <td>1.002183</td>\n",
       "    </tr>\n",
       "    <tr>\n",
       "      <th>2024-01-21</th>\n",
       "      <td>0.985136</td>\n",
       "      <td>1.005226</td>\n",
       "      <td>1.017680</td>\n",
       "      <td>1.009091</td>\n",
       "      <td>0.995114</td>\n",
       "      <td>0.985075</td>\n",
       "      <td>1.016644</td>\n",
       "      <td>1.003565</td>\n",
       "      <td>1.002119</td>\n",
       "      <td>1.002183</td>\n",
       "    </tr>\n",
       "    <tr>\n",
       "      <th>2024-01-22</th>\n",
       "      <td>0.986323</td>\n",
       "      <td>0.994819</td>\n",
       "      <td>1.005525</td>\n",
       "      <td>0.989324</td>\n",
       "      <td>0.983713</td>\n",
       "      <td>1.011538</td>\n",
       "      <td>0.953457</td>\n",
       "      <td>0.998224</td>\n",
       "      <td>1.052854</td>\n",
       "      <td>0.997309</td>\n",
       "    </tr>\n",
       "    <tr>\n",
       "      <th>2024-01-23</th>\n",
       "      <td>1.041009</td>\n",
       "      <td>0.996540</td>\n",
       "      <td>1.010905</td>\n",
       "      <td>1.014414</td>\n",
       "      <td>0.996672</td>\n",
       "      <td>0.947467</td>\n",
       "      <td>1.006974</td>\n",
       "      <td>1.000000</td>\n",
       "      <td>1.002008</td>\n",
       "      <td>1.001777</td>\n",
       "    </tr>\n",
       "    <tr>\n",
       "      <th>...</th>\n",
       "      <td>...</td>\n",
       "      <td>...</td>\n",
       "      <td>...</td>\n",
       "      <td>...</td>\n",
       "      <td>...</td>\n",
       "      <td>...</td>\n",
       "      <td>...</td>\n",
       "      <td>...</td>\n",
       "      <td>...</td>\n",
       "      <td>...</td>\n",
       "    </tr>\n",
       "    <tr>\n",
       "      <th>2024-03-16</th>\n",
       "      <td>0.951132</td>\n",
       "      <td>0.964546</td>\n",
       "      <td>0.971530</td>\n",
       "      <td>0.985102</td>\n",
       "      <td>0.989267</td>\n",
       "      <td>0.980645</td>\n",
       "      <td>0.993884</td>\n",
       "      <td>1.000000</td>\n",
       "      <td>1.034965</td>\n",
       "      <td>0.985675</td>\n",
       "    </tr>\n",
       "    <tr>\n",
       "      <th>2024-03-17</th>\n",
       "      <td>0.951132</td>\n",
       "      <td>0.964546</td>\n",
       "      <td>0.971530</td>\n",
       "      <td>0.985102</td>\n",
       "      <td>0.989267</td>\n",
       "      <td>0.980645</td>\n",
       "      <td>0.993884</td>\n",
       "      <td>1.000000</td>\n",
       "      <td>1.034965</td>\n",
       "      <td>0.985675</td>\n",
       "    </tr>\n",
       "    <tr>\n",
       "      <th>2024-03-18</th>\n",
       "      <td>0.996276</td>\n",
       "      <td>0.986842</td>\n",
       "      <td>0.998779</td>\n",
       "      <td>0.992439</td>\n",
       "      <td>0.971377</td>\n",
       "      <td>1.010893</td>\n",
       "      <td>1.013867</td>\n",
       "      <td>1.005725</td>\n",
       "      <td>0.954751</td>\n",
       "      <td>0.992328</td>\n",
       "    </tr>\n",
       "    <tr>\n",
       "      <th>2024-03-19</th>\n",
       "      <td>0.978777</td>\n",
       "      <td>0.980176</td>\n",
       "      <td>0.985507</td>\n",
       "      <td>0.980989</td>\n",
       "      <td>1.000000</td>\n",
       "      <td>0.978632</td>\n",
       "      <td>0.986322</td>\n",
       "      <td>1.003774</td>\n",
       "      <td>1.000000</td>\n",
       "      <td>0.988242</td>\n",
       "    </tr>\n",
       "    <tr>\n",
       "      <th>2024-03-20</th>\n",
       "      <td>0.994300</td>\n",
       "      <td>1.009070</td>\n",
       "      <td>1.008578</td>\n",
       "      <td>1.011650</td>\n",
       "      <td>0.988785</td>\n",
       "      <td>0.989083</td>\n",
       "      <td>1.001541</td>\n",
       "      <td>0.982955</td>\n",
       "      <td>1.007075</td>\n",
       "      <td>0.999226</td>\n",
       "    </tr>\n",
       "  </tbody>\n",
       "</table>\n",
       "<p>62 rows × 10 columns</p>\n",
       "</div>"
      ],
      "text/plain": [
       "              011200    000540    044450    053700    091590    004870  \\\n",
       "날짜                                                                       \n",
       "2024-01-19  0.985136  1.005226  1.017680  1.009091  0.995114  0.985075   \n",
       "2024-01-20  0.985136  1.005226  1.017680  1.009091  0.995114  0.985075   \n",
       "2024-01-21  0.985136  1.005226  1.017680  1.009091  0.995114  0.985075   \n",
       "2024-01-22  0.986323  0.994819  1.005525  0.989324  0.983713  1.011538   \n",
       "2024-01-23  1.041009  0.996540  1.010905  1.014414  0.996672  0.947467   \n",
       "...              ...       ...       ...       ...       ...       ...   \n",
       "2024-03-16  0.951132  0.964546  0.971530  0.985102  0.989267  0.980645   \n",
       "2024-03-17  0.951132  0.964546  0.971530  0.985102  0.989267  0.980645   \n",
       "2024-03-18  0.996276  0.986842  0.998779  0.992439  0.971377  1.010893   \n",
       "2024-03-19  0.978777  0.980176  0.985507  0.980989  1.000000  0.978632   \n",
       "2024-03-20  0.994300  1.009070  1.008578  1.011650  0.988785  0.989083   \n",
       "\n",
       "              290120    050120    073540     평균수익률  \n",
       "날짜                                                  \n",
       "2024-01-19  1.016644  1.003565  1.002119  1.002183  \n",
       "2024-01-20  1.016644  1.003565  1.002119  1.002183  \n",
       "2024-01-21  1.016644  1.003565  1.002119  1.002183  \n",
       "2024-01-22  0.953457  0.998224  1.052854  0.997309  \n",
       "2024-01-23  1.006974  1.000000  1.002008  1.001777  \n",
       "...              ...       ...       ...       ...  \n",
       "2024-03-16  0.993884  1.000000  1.034965  0.985675  \n",
       "2024-03-17  0.993884  1.000000  1.034965  0.985675  \n",
       "2024-03-18  1.013867  1.005725  0.954751  0.992328  \n",
       "2024-03-19  0.986322  1.003774  1.000000  0.988242  \n",
       "2024-03-20  1.001541  0.982955  1.007075  0.999226  \n",
       "\n",
       "[62 rows x 10 columns]"
      ]
     },
     "execution_count": 252,
     "metadata": {},
     "output_type": "execute_result"
    }
   ],
   "source": [
    "result_df['평균수익률'] = result_df.mean(axis=1)\n",
    "result_df"
   ]
  },
  {
   "cell_type": "code",
   "execution_count": 253,
   "id": "78fa477e",
   "metadata": {},
   "outputs": [
    {
     "data": {
      "application/vnd.plotly.v1+json": {
       "config": {
        "linkText": "Export to plot.ly",
        "plotlyServerURL": "https://plot.ly",
        "showLink": true
       },
       "data": [
        {
         "line": {
          "color": "rgba(255, 153, 51, 1.0)",
          "dash": "solid",
          "shape": "linear",
          "width": 1.3
         },
         "mode": "lines",
         "name": "평균수익률",
         "text": "",
         "type": "scatter",
         "x": [
          "2024-01-19",
          "2024-01-20",
          "2024-01-21",
          "2024-01-22",
          "2024-01-23",
          "2024-01-24",
          "2024-01-25",
          "2024-01-26",
          "2024-01-27",
          "2024-01-28",
          "2024-01-29",
          "2024-01-30",
          "2024-01-31",
          "2024-02-01",
          "2024-02-02",
          "2024-02-03",
          "2024-02-04",
          "2024-02-05",
          "2024-02-06",
          "2024-02-07",
          "2024-02-08",
          "2024-02-09",
          "2024-02-10",
          "2024-02-11",
          "2024-02-12",
          "2024-02-13",
          "2024-02-14",
          "2024-02-15",
          "2024-02-16",
          "2024-02-17",
          "2024-02-18",
          "2024-02-19",
          "2024-02-20",
          "2024-02-21",
          "2024-02-22",
          "2024-02-23",
          "2024-02-24",
          "2024-02-25",
          "2024-02-26",
          "2024-02-27",
          "2024-02-28",
          "2024-02-29",
          "2024-03-01",
          "2024-03-02",
          "2024-03-03",
          "2024-03-04",
          "2024-03-05",
          "2024-03-06",
          "2024-03-07",
          "2024-03-08",
          "2024-03-09",
          "2024-03-10",
          "2024-03-11",
          "2024-03-12",
          "2024-03-13",
          "2024-03-14",
          "2024-03-15",
          "2024-03-16",
          "2024-03-17",
          "2024-03-18",
          "2024-03-19",
          "2024-03-20"
         ],
         "y": [
          1.0021831851310747,
          1.0021831851310747,
          1.0021831851310747,
          0.9973086147920872,
          1.0017766343018772,
          0.9983511644048524,
          0.9988544343585141,
          1.0084862434059234,
          1.0084862434059234,
          1.0084862434059234,
          1.0019502923021824,
          0.996587588005442,
          0.9994184317709427,
          1.0414117186585066,
          1.0004139321279204,
          1.0004139321279204,
          1.0004139321279204,
          0.9900065904218646,
          0.9895721541583143,
          1.0118142957163154,
          0.9904142126457999,
          0.9904142126457999,
          0.9904142126457999,
          0.9904142126457999,
          0.9904142126457999,
          0.9993481246898942,
          1.0017348180053802,
          1.0073858510787514,
          1.0155051833205933,
          1.0155051833205933,
          1.0155051833205933,
          1.0069719524255705,
          0.9917421458037892,
          0.9862994982990769,
          0.9990636107967865,
          1.0021614349690213,
          1.0021614349690213,
          1.0021614349690213,
          0.9850263537129239,
          0.9833124393611047,
          1.0120856364304065,
          1.0032129791770146,
          1.0032129791770146,
          1.0032129791770146,
          1.0032129791770146,
          0.9864008967960824,
          0.9921974520436022,
          0.9960348383637648,
          0.987889659543517,
          0.9922250151467059,
          0.9922250151467059,
          0.9922250151467059,
          0.9966139875942814,
          0.9936473420275005,
          0.9961602513042583,
          0.997184995594113,
          0.9856746565041641,
          0.9856746565041641,
          0.9856746565041641,
          0.992327754336159,
          0.9882418702569739,
          0.9992264741056602
         ]
        }
       ],
       "layout": {
        "legend": {
         "bgcolor": "#F5F6F9",
         "font": {
          "color": "#4D5663"
         }
        },
        "paper_bgcolor": "#F5F6F9",
        "plot_bgcolor": "#F5F6F9",
        "template": {
         "layout": {
          "template": {
           "layout": {
            "template": {
             "layout": {
              "template": {
               "layout": {
                "template": {
                 "layout": {
                  "template": {
                   "layout": {
                    "template": {
                     "layout": {
                      "template": {
                       "layout": {
                        "template": {
                         "data": {
                          "bar": [
                           {
                            "error_x": {
                             "color": "rgb(36,36,36)"
                            },
                            "error_y": {
                             "color": "rgb(36,36,36)"
                            },
                            "marker": {
                             "line": {
                              "color": "rgb(234,234,242)",
                              "width": 0.5
                             },
                             "pattern": {
                              "fillmode": "overlay",
                              "size": 10,
                              "solidity": 0.2
                             }
                            },
                            "type": "bar"
                           }
                          ],
                          "barpolar": [
                           {
                            "marker": {
                             "line": {
                              "color": "rgb(234,234,242)",
                              "width": 0.5
                             },
                             "pattern": {
                              "fillmode": "overlay",
                              "size": 10,
                              "solidity": 0.2
                             }
                            },
                            "type": "barpolar"
                           }
                          ],
                          "carpet": [
                           {
                            "aaxis": {
                             "endlinecolor": "rgb(36,36,36)",
                             "gridcolor": "white",
                             "linecolor": "white",
                             "minorgridcolor": "white",
                             "startlinecolor": "rgb(36,36,36)"
                            },
                            "baxis": {
                             "endlinecolor": "rgb(36,36,36)",
                             "gridcolor": "white",
                             "linecolor": "white",
                             "minorgridcolor": "white",
                             "startlinecolor": "rgb(36,36,36)"
                            },
                            "type": "carpet"
                           }
                          ],
                          "choropleth": [
                           {
                            "colorbar": {
                             "outlinewidth": 0,
                             "tickcolor": "rgb(36,36,36)",
                             "ticklen": 8,
                             "ticks": "outside",
                             "tickwidth": 2
                            },
                            "type": "choropleth"
                           }
                          ],
                          "contour": [
                           {
                            "colorbar": {
                             "outlinewidth": 0,
                             "tickcolor": "rgb(36,36,36)",
                             "ticklen": 8,
                             "ticks": "outside",
                             "tickwidth": 2
                            },
                            "colorscale": [
                             [
                              0,
                              "rgb(2,4,25)"
                             ],
                             [
                              0.06274509803921569,
                              "rgb(24,15,41)"
                             ],
                             [
                              0.12549019607843137,
                              "rgb(47,23,57)"
                             ],
                             [
                              0.18823529411764706,
                              "rgb(71,28,72)"
                             ],
                             [
                              0.25098039215686274,
                              "rgb(97,30,82)"
                             ],
                             [
                              0.3137254901960784,
                              "rgb(123,30,89)"
                             ],
                             [
                              0.3764705882352941,
                              "rgb(150,27,91)"
                             ],
                             [
                              0.4392156862745098,
                              "rgb(177,22,88)"
                             ],
                             [
                              0.5019607843137255,
                              "rgb(203,26,79)"
                             ],
                             [
                              0.5647058823529412,
                              "rgb(223,47,67)"
                             ],
                             [
                              0.6274509803921569,
                              "rgb(236,76,61)"
                             ],
                             [
                              0.6901960784313725,
                              "rgb(242,107,73)"
                             ],
                             [
                              0.7529411764705882,
                              "rgb(244,135,95)"
                             ],
                             [
                              0.8156862745098039,
                              "rgb(245,162,122)"
                             ],
                             [
                              0.8784313725490196,
                              "rgb(246,188,153)"
                             ],
                             [
                              0.9411764705882353,
                              "rgb(247,212,187)"
                             ],
                             [
                              1,
                              "rgb(250,234,220)"
                             ]
                            ],
                            "type": "contour"
                           }
                          ],
                          "contourcarpet": [
                           {
                            "colorbar": {
                             "outlinewidth": 0,
                             "tickcolor": "rgb(36,36,36)",
                             "ticklen": 8,
                             "ticks": "outside",
                             "tickwidth": 2
                            },
                            "type": "contourcarpet"
                           }
                          ],
                          "heatmap": [
                           {
                            "colorbar": {
                             "outlinewidth": 0,
                             "tickcolor": "rgb(36,36,36)",
                             "ticklen": 8,
                             "ticks": "outside",
                             "tickwidth": 2
                            },
                            "colorscale": [
                             [
                              0,
                              "rgb(2,4,25)"
                             ],
                             [
                              0.06274509803921569,
                              "rgb(24,15,41)"
                             ],
                             [
                              0.12549019607843137,
                              "rgb(47,23,57)"
                             ],
                             [
                              0.18823529411764706,
                              "rgb(71,28,72)"
                             ],
                             [
                              0.25098039215686274,
                              "rgb(97,30,82)"
                             ],
                             [
                              0.3137254901960784,
                              "rgb(123,30,89)"
                             ],
                             [
                              0.3764705882352941,
                              "rgb(150,27,91)"
                             ],
                             [
                              0.4392156862745098,
                              "rgb(177,22,88)"
                             ],
                             [
                              0.5019607843137255,
                              "rgb(203,26,79)"
                             ],
                             [
                              0.5647058823529412,
                              "rgb(223,47,67)"
                             ],
                             [
                              0.6274509803921569,
                              "rgb(236,76,61)"
                             ],
                             [
                              0.6901960784313725,
                              "rgb(242,107,73)"
                             ],
                             [
                              0.7529411764705882,
                              "rgb(244,135,95)"
                             ],
                             [
                              0.8156862745098039,
                              "rgb(245,162,122)"
                             ],
                             [
                              0.8784313725490196,
                              "rgb(246,188,153)"
                             ],
                             [
                              0.9411764705882353,
                              "rgb(247,212,187)"
                             ],
                             [
                              1,
                              "rgb(250,234,220)"
                             ]
                            ],
                            "type": "heatmap"
                           }
                          ],
                          "heatmapgl": [
                           {
                            "colorbar": {
                             "outlinewidth": 0,
                             "tickcolor": "rgb(36,36,36)",
                             "ticklen": 8,
                             "ticks": "outside",
                             "tickwidth": 2
                            },
                            "colorscale": [
                             [
                              0,
                              "rgb(2,4,25)"
                             ],
                             [
                              0.06274509803921569,
                              "rgb(24,15,41)"
                             ],
                             [
                              0.12549019607843137,
                              "rgb(47,23,57)"
                             ],
                             [
                              0.18823529411764706,
                              "rgb(71,28,72)"
                             ],
                             [
                              0.25098039215686274,
                              "rgb(97,30,82)"
                             ],
                             [
                              0.3137254901960784,
                              "rgb(123,30,89)"
                             ],
                             [
                              0.3764705882352941,
                              "rgb(150,27,91)"
                             ],
                             [
                              0.4392156862745098,
                              "rgb(177,22,88)"
                             ],
                             [
                              0.5019607843137255,
                              "rgb(203,26,79)"
                             ],
                             [
                              0.5647058823529412,
                              "rgb(223,47,67)"
                             ],
                             [
                              0.6274509803921569,
                              "rgb(236,76,61)"
                             ],
                             [
                              0.6901960784313725,
                              "rgb(242,107,73)"
                             ],
                             [
                              0.7529411764705882,
                              "rgb(244,135,95)"
                             ],
                             [
                              0.8156862745098039,
                              "rgb(245,162,122)"
                             ],
                             [
                              0.8784313725490196,
                              "rgb(246,188,153)"
                             ],
                             [
                              0.9411764705882353,
                              "rgb(247,212,187)"
                             ],
                             [
                              1,
                              "rgb(250,234,220)"
                             ]
                            ],
                            "type": "heatmapgl"
                           }
                          ],
                          "histogram": [
                           {
                            "marker": {
                             "pattern": {
                              "fillmode": "overlay",
                              "size": 10,
                              "solidity": 0.2
                             }
                            },
                            "type": "histogram"
                           }
                          ],
                          "histogram2d": [
                           {
                            "colorbar": {
                             "outlinewidth": 0,
                             "tickcolor": "rgb(36,36,36)",
                             "ticklen": 8,
                             "ticks": "outside",
                             "tickwidth": 2
                            },
                            "colorscale": [
                             [
                              0,
                              "rgb(2,4,25)"
                             ],
                             [
                              0.06274509803921569,
                              "rgb(24,15,41)"
                             ],
                             [
                              0.12549019607843137,
                              "rgb(47,23,57)"
                             ],
                             [
                              0.18823529411764706,
                              "rgb(71,28,72)"
                             ],
                             [
                              0.25098039215686274,
                              "rgb(97,30,82)"
                             ],
                             [
                              0.3137254901960784,
                              "rgb(123,30,89)"
                             ],
                             [
                              0.3764705882352941,
                              "rgb(150,27,91)"
                             ],
                             [
                              0.4392156862745098,
                              "rgb(177,22,88)"
                             ],
                             [
                              0.5019607843137255,
                              "rgb(203,26,79)"
                             ],
                             [
                              0.5647058823529412,
                              "rgb(223,47,67)"
                             ],
                             [
                              0.6274509803921569,
                              "rgb(236,76,61)"
                             ],
                             [
                              0.6901960784313725,
                              "rgb(242,107,73)"
                             ],
                             [
                              0.7529411764705882,
                              "rgb(244,135,95)"
                             ],
                             [
                              0.8156862745098039,
                              "rgb(245,162,122)"
                             ],
                             [
                              0.8784313725490196,
                              "rgb(246,188,153)"
                             ],
                             [
                              0.9411764705882353,
                              "rgb(247,212,187)"
                             ],
                             [
                              1,
                              "rgb(250,234,220)"
                             ]
                            ],
                            "type": "histogram2d"
                           }
                          ],
                          "histogram2dcontour": [
                           {
                            "colorbar": {
                             "outlinewidth": 0,
                             "tickcolor": "rgb(36,36,36)",
                             "ticklen": 8,
                             "ticks": "outside",
                             "tickwidth": 2
                            },
                            "colorscale": [
                             [
                              0,
                              "rgb(2,4,25)"
                             ],
                             [
                              0.06274509803921569,
                              "rgb(24,15,41)"
                             ],
                             [
                              0.12549019607843137,
                              "rgb(47,23,57)"
                             ],
                             [
                              0.18823529411764706,
                              "rgb(71,28,72)"
                             ],
                             [
                              0.25098039215686274,
                              "rgb(97,30,82)"
                             ],
                             [
                              0.3137254901960784,
                              "rgb(123,30,89)"
                             ],
                             [
                              0.3764705882352941,
                              "rgb(150,27,91)"
                             ],
                             [
                              0.4392156862745098,
                              "rgb(177,22,88)"
                             ],
                             [
                              0.5019607843137255,
                              "rgb(203,26,79)"
                             ],
                             [
                              0.5647058823529412,
                              "rgb(223,47,67)"
                             ],
                             [
                              0.6274509803921569,
                              "rgb(236,76,61)"
                             ],
                             [
                              0.6901960784313725,
                              "rgb(242,107,73)"
                             ],
                             [
                              0.7529411764705882,
                              "rgb(244,135,95)"
                             ],
                             [
                              0.8156862745098039,
                              "rgb(245,162,122)"
                             ],
                             [
                              0.8784313725490196,
                              "rgb(246,188,153)"
                             ],
                             [
                              0.9411764705882353,
                              "rgb(247,212,187)"
                             ],
                             [
                              1,
                              "rgb(250,234,220)"
                             ]
                            ],
                            "type": "histogram2dcontour"
                           }
                          ],
                          "mesh3d": [
                           {
                            "colorbar": {
                             "outlinewidth": 0,
                             "tickcolor": "rgb(36,36,36)",
                             "ticklen": 8,
                             "ticks": "outside",
                             "tickwidth": 2
                            },
                            "type": "mesh3d"
                           }
                          ],
                          "parcoords": [
                           {
                            "line": {
                             "colorbar": {
                              "outlinewidth": 0,
                              "tickcolor": "rgb(36,36,36)",
                              "ticklen": 8,
                              "ticks": "outside",
                              "tickwidth": 2
                             }
                            },
                            "type": "parcoords"
                           }
                          ],
                          "pie": [
                           {
                            "automargin": true,
                            "type": "pie"
                           }
                          ],
                          "scatter": [
                           {
                            "fillpattern": {
                             "fillmode": "overlay",
                             "size": 10,
                             "solidity": 0.2
                            },
                            "type": "scatter"
                           }
                          ],
                          "scatter3d": [
                           {
                            "line": {
                             "colorbar": {
                              "outlinewidth": 0,
                              "tickcolor": "rgb(36,36,36)",
                              "ticklen": 8,
                              "ticks": "outside",
                              "tickwidth": 2
                             }
                            },
                            "marker": {
                             "colorbar": {
                              "outlinewidth": 0,
                              "tickcolor": "rgb(36,36,36)",
                              "ticklen": 8,
                              "ticks": "outside",
                              "tickwidth": 2
                             }
                            },
                            "type": "scatter3d"
                           }
                          ],
                          "scattercarpet": [
                           {
                            "marker": {
                             "colorbar": {
                              "outlinewidth": 0,
                              "tickcolor": "rgb(36,36,36)",
                              "ticklen": 8,
                              "ticks": "outside",
                              "tickwidth": 2
                             }
                            },
                            "type": "scattercarpet"
                           }
                          ],
                          "scattergeo": [
                           {
                            "marker": {
                             "colorbar": {
                              "outlinewidth": 0,
                              "tickcolor": "rgb(36,36,36)",
                              "ticklen": 8,
                              "ticks": "outside",
                              "tickwidth": 2
                             }
                            },
                            "type": "scattergeo"
                           }
                          ],
                          "scattergl": [
                           {
                            "marker": {
                             "colorbar": {
                              "outlinewidth": 0,
                              "tickcolor": "rgb(36,36,36)",
                              "ticklen": 8,
                              "ticks": "outside",
                              "tickwidth": 2
                             }
                            },
                            "type": "scattergl"
                           }
                          ],
                          "scattermapbox": [
                           {
                            "marker": {
                             "colorbar": {
                              "outlinewidth": 0,
                              "tickcolor": "rgb(36,36,36)",
                              "ticklen": 8,
                              "ticks": "outside",
                              "tickwidth": 2
                             }
                            },
                            "type": "scattermapbox"
                           }
                          ],
                          "scatterpolar": [
                           {
                            "marker": {
                             "colorbar": {
                              "outlinewidth": 0,
                              "tickcolor": "rgb(36,36,36)",
                              "ticklen": 8,
                              "ticks": "outside",
                              "tickwidth": 2
                             }
                            },
                            "type": "scatterpolar"
                           }
                          ],
                          "scatterpolargl": [
                           {
                            "marker": {
                             "colorbar": {
                              "outlinewidth": 0,
                              "tickcolor": "rgb(36,36,36)",
                              "ticklen": 8,
                              "ticks": "outside",
                              "tickwidth": 2
                             }
                            },
                            "type": "scatterpolargl"
                           }
                          ],
                          "scatterternary": [
                           {
                            "marker": {
                             "colorbar": {
                              "outlinewidth": 0,
                              "tickcolor": "rgb(36,36,36)",
                              "ticklen": 8,
                              "ticks": "outside",
                              "tickwidth": 2
                             }
                            },
                            "type": "scatterternary"
                           }
                          ],
                          "surface": [
                           {
                            "colorbar": {
                             "outlinewidth": 0,
                             "tickcolor": "rgb(36,36,36)",
                             "ticklen": 8,
                             "ticks": "outside",
                             "tickwidth": 2
                            },
                            "colorscale": [
                             [
                              0,
                              "rgb(2,4,25)"
                             ],
                             [
                              0.06274509803921569,
                              "rgb(24,15,41)"
                             ],
                             [
                              0.12549019607843137,
                              "rgb(47,23,57)"
                             ],
                             [
                              0.18823529411764706,
                              "rgb(71,28,72)"
                             ],
                             [
                              0.25098039215686274,
                              "rgb(97,30,82)"
                             ],
                             [
                              0.3137254901960784,
                              "rgb(123,30,89)"
                             ],
                             [
                              0.3764705882352941,
                              "rgb(150,27,91)"
                             ],
                             [
                              0.4392156862745098,
                              "rgb(177,22,88)"
                             ],
                             [
                              0.5019607843137255,
                              "rgb(203,26,79)"
                             ],
                             [
                              0.5647058823529412,
                              "rgb(223,47,67)"
                             ],
                             [
                              0.6274509803921569,
                              "rgb(236,76,61)"
                             ],
                             [
                              0.6901960784313725,
                              "rgb(242,107,73)"
                             ],
                             [
                              0.7529411764705882,
                              "rgb(244,135,95)"
                             ],
                             [
                              0.8156862745098039,
                              "rgb(245,162,122)"
                             ],
                             [
                              0.8784313725490196,
                              "rgb(246,188,153)"
                             ],
                             [
                              0.9411764705882353,
                              "rgb(247,212,187)"
                             ],
                             [
                              1,
                              "rgb(250,234,220)"
                             ]
                            ],
                            "type": "surface"
                           }
                          ],
                          "table": [
                           {
                            "cells": {
                             "fill": {
                              "color": "rgb(231,231,240)"
                             },
                             "line": {
                              "color": "white"
                             }
                            },
                            "header": {
                             "fill": {
                              "color": "rgb(183,183,191)"
                             },
                             "line": {
                              "color": "white"
                             }
                            },
                            "type": "table"
                           }
                          ]
                         },
                         "layout": {
                          "annotationdefaults": {
                           "arrowcolor": "rgb(67,103,167)"
                          },
                          "autotypenumbers": "strict",
                          "coloraxis": {
                           "colorbar": {
                            "outlinewidth": 0,
                            "tickcolor": "rgb(36,36,36)",
                            "ticklen": 8,
                            "ticks": "outside",
                            "tickwidth": 2
                           }
                          },
                          "colorscale": {
                           "sequential": [
                            [
                             0,
                             "rgb(2,4,25)"
                            ],
                            [
                             0.06274509803921569,
                             "rgb(24,15,41)"
                            ],
                            [
                             0.12549019607843137,
                             "rgb(47,23,57)"
                            ],
                            [
                             0.18823529411764706,
                             "rgb(71,28,72)"
                            ],
                            [
                             0.25098039215686274,
                             "rgb(97,30,82)"
                            ],
                            [
                             0.3137254901960784,
                             "rgb(123,30,89)"
                            ],
                            [
                             0.3764705882352941,
                             "rgb(150,27,91)"
                            ],
                            [
                             0.4392156862745098,
                             "rgb(177,22,88)"
                            ],
                            [
                             0.5019607843137255,
                             "rgb(203,26,79)"
                            ],
                            [
                             0.5647058823529412,
                             "rgb(223,47,67)"
                            ],
                            [
                             0.6274509803921569,
                             "rgb(236,76,61)"
                            ],
                            [
                             0.6901960784313725,
                             "rgb(242,107,73)"
                            ],
                            [
                             0.7529411764705882,
                             "rgb(244,135,95)"
                            ],
                            [
                             0.8156862745098039,
                             "rgb(245,162,122)"
                            ],
                            [
                             0.8784313725490196,
                             "rgb(246,188,153)"
                            ],
                            [
                             0.9411764705882353,
                             "rgb(247,212,187)"
                            ],
                            [
                             1,
                             "rgb(250,234,220)"
                            ]
                           ],
                           "sequentialminus": [
                            [
                             0,
                             "rgb(2,4,25)"
                            ],
                            [
                             0.06274509803921569,
                             "rgb(24,15,41)"
                            ],
                            [
                             0.12549019607843137,
                             "rgb(47,23,57)"
                            ],
                            [
                             0.18823529411764706,
                             "rgb(71,28,72)"
                            ],
                            [
                             0.25098039215686274,
                             "rgb(97,30,82)"
                            ],
                            [
                             0.3137254901960784,
                             "rgb(123,30,89)"
                            ],
                            [
                             0.3764705882352941,
                             "rgb(150,27,91)"
                            ],
                            [
                             0.4392156862745098,
                             "rgb(177,22,88)"
                            ],
                            [
                             0.5019607843137255,
                             "rgb(203,26,79)"
                            ],
                            [
                             0.5647058823529412,
                             "rgb(223,47,67)"
                            ],
                            [
                             0.6274509803921569,
                             "rgb(236,76,61)"
                            ],
                            [
                             0.6901960784313725,
                             "rgb(242,107,73)"
                            ],
                            [
                             0.7529411764705882,
                             "rgb(244,135,95)"
                            ],
                            [
                             0.8156862745098039,
                             "rgb(245,162,122)"
                            ],
                            [
                             0.8784313725490196,
                             "rgb(246,188,153)"
                            ],
                            [
                             0.9411764705882353,
                             "rgb(247,212,187)"
                            ],
                            [
                             1,
                             "rgb(250,234,220)"
                            ]
                           ]
                          },
                          "colorway": [
                           "rgb(76,114,176)",
                           "rgb(221,132,82)",
                           "rgb(85,168,104)",
                           "rgb(196,78,82)",
                           "rgb(129,114,179)",
                           "rgb(147,120,96)",
                           "rgb(218,139,195)",
                           "rgb(140,140,140)",
                           "rgb(204,185,116)",
                           "rgb(100,181,205)"
                          ],
                          "font": {
                           "color": "rgb(36,36,36)"
                          },
                          "geo": {
                           "bgcolor": "white",
                           "lakecolor": "white",
                           "landcolor": "rgb(234,234,242)",
                           "showlakes": true,
                           "showland": true,
                           "subunitcolor": "white"
                          },
                          "hoverlabel": {
                           "align": "left"
                          },
                          "hovermode": "closest",
                          "paper_bgcolor": "white",
                          "plot_bgcolor": "rgb(234,234,242)",
                          "polar": {
                           "angularaxis": {
                            "gridcolor": "white",
                            "linecolor": "white",
                            "showgrid": true,
                            "ticks": ""
                           },
                           "bgcolor": "rgb(234,234,242)",
                           "radialaxis": {
                            "gridcolor": "white",
                            "linecolor": "white",
                            "showgrid": true,
                            "ticks": ""
                           }
                          },
                          "scene": {
                           "xaxis": {
                            "backgroundcolor": "rgb(234,234,242)",
                            "gridcolor": "white",
                            "gridwidth": 2,
                            "linecolor": "white",
                            "showbackground": true,
                            "showgrid": true,
                            "ticks": "",
                            "zerolinecolor": "white"
                           },
                           "yaxis": {
                            "backgroundcolor": "rgb(234,234,242)",
                            "gridcolor": "white",
                            "gridwidth": 2,
                            "linecolor": "white",
                            "showbackground": true,
                            "showgrid": true,
                            "ticks": "",
                            "zerolinecolor": "white"
                           },
                           "zaxis": {
                            "backgroundcolor": "rgb(234,234,242)",
                            "gridcolor": "white",
                            "gridwidth": 2,
                            "linecolor": "white",
                            "showbackground": true,
                            "showgrid": true,
                            "ticks": "",
                            "zerolinecolor": "white"
                           }
                          },
                          "shapedefaults": {
                           "fillcolor": "rgb(67,103,167)",
                           "line": {
                            "width": 0
                           },
                           "opacity": 0.5
                          },
                          "ternary": {
                           "aaxis": {
                            "gridcolor": "white",
                            "linecolor": "white",
                            "showgrid": true,
                            "ticks": ""
                           },
                           "baxis": {
                            "gridcolor": "white",
                            "linecolor": "white",
                            "showgrid": true,
                            "ticks": ""
                           },
                           "bgcolor": "rgb(234,234,242)",
                           "caxis": {
                            "gridcolor": "white",
                            "linecolor": "white",
                            "showgrid": true,
                            "ticks": ""
                           }
                          },
                          "xaxis": {
                           "automargin": true,
                           "gridcolor": "white",
                           "linecolor": "white",
                           "showgrid": true,
                           "ticks": "",
                           "title": {
                            "standoff": 15
                           },
                           "zerolinecolor": "white"
                          },
                          "yaxis": {
                           "automargin": true,
                           "gridcolor": "white",
                           "linecolor": "white",
                           "showgrid": true,
                           "ticks": "",
                           "title": {
                            "standoff": 15
                           },
                           "zerolinecolor": "white"
                          }
                         }
                        }
                       }
                      }
                     }
                    }
                   }
                  }
                 }
                }
               }
              }
             }
            }
           }
          }
         }
        },
        "title": {
         "font": {
          "color": "#4D5663"
         }
        },
        "xaxis": {
         "gridcolor": "#E1E5ED",
         "showgrid": true,
         "tickfont": {
          "color": "#4D5663"
         },
         "title": {
          "font": {
           "color": "#4D5663"
          },
          "text": ""
         },
         "zerolinecolor": "#E1E5ED"
        },
        "yaxis": {
         "gridcolor": "#E1E5ED",
         "showgrid": true,
         "tickfont": {
          "color": "#4D5663"
         },
         "title": {
          "font": {
           "color": "#4D5663"
          },
          "text": ""
         },
         "zerolinecolor": "#E1E5ED"
        }
       }
      },
      "text/html": [
       "<div>                            <div id=\"a09eff61-ada3-4f77-82c7-1464c20384b9\" class=\"plotly-graph-div\" style=\"height:525px; width:100%;\"></div>            <script type=\"text/javascript\">                require([\"plotly\"], function(Plotly) {                    window.PLOTLYENV=window.PLOTLYENV || {};\n",
       "                    window.PLOTLYENV.BASE_URL='https://plot.ly';                                    if (document.getElementById(\"a09eff61-ada3-4f77-82c7-1464c20384b9\")) {                    Plotly.newPlot(                        \"a09eff61-ada3-4f77-82c7-1464c20384b9\",                        [{\"line\":{\"color\":\"rgba(255, 153, 51, 1.0)\",\"dash\":\"solid\",\"shape\":\"linear\",\"width\":1.3},\"mode\":\"lines\",\"name\":\"\\ud3c9\\uade0\\uc218\\uc775\\ub960\",\"text\":\"\",\"x\":[\"2024-01-19\",\"2024-01-20\",\"2024-01-21\",\"2024-01-22\",\"2024-01-23\",\"2024-01-24\",\"2024-01-25\",\"2024-01-26\",\"2024-01-27\",\"2024-01-28\",\"2024-01-29\",\"2024-01-30\",\"2024-01-31\",\"2024-02-01\",\"2024-02-02\",\"2024-02-03\",\"2024-02-04\",\"2024-02-05\",\"2024-02-06\",\"2024-02-07\",\"2024-02-08\",\"2024-02-09\",\"2024-02-10\",\"2024-02-11\",\"2024-02-12\",\"2024-02-13\",\"2024-02-14\",\"2024-02-15\",\"2024-02-16\",\"2024-02-17\",\"2024-02-18\",\"2024-02-19\",\"2024-02-20\",\"2024-02-21\",\"2024-02-22\",\"2024-02-23\",\"2024-02-24\",\"2024-02-25\",\"2024-02-26\",\"2024-02-27\",\"2024-02-28\",\"2024-02-29\",\"2024-03-01\",\"2024-03-02\",\"2024-03-03\",\"2024-03-04\",\"2024-03-05\",\"2024-03-06\",\"2024-03-07\",\"2024-03-08\",\"2024-03-09\",\"2024-03-10\",\"2024-03-11\",\"2024-03-12\",\"2024-03-13\",\"2024-03-14\",\"2024-03-15\",\"2024-03-16\",\"2024-03-17\",\"2024-03-18\",\"2024-03-19\",\"2024-03-20\"],\"y\":[1.0021831851310747,1.0021831851310747,1.0021831851310747,0.9973086147920872,1.0017766343018772,0.9983511644048524,0.9988544343585141,1.0084862434059234,1.0084862434059234,1.0084862434059234,1.0019502923021824,0.996587588005442,0.9994184317709427,1.0414117186585066,1.0004139321279204,1.0004139321279204,1.0004139321279204,0.9900065904218646,0.9895721541583143,1.0118142957163154,0.9904142126457999,0.9904142126457999,0.9904142126457999,0.9904142126457999,0.9904142126457999,0.9993481246898942,1.0017348180053802,1.0073858510787514,1.0155051833205933,1.0155051833205933,1.0155051833205933,1.0069719524255705,0.9917421458037892,0.9862994982990769,0.9990636107967865,1.0021614349690213,1.0021614349690213,1.0021614349690213,0.9850263537129239,0.9833124393611047,1.0120856364304065,1.0032129791770146,1.0032129791770146,1.0032129791770146,1.0032129791770146,0.9864008967960824,0.9921974520436022,0.9960348383637648,0.987889659543517,0.9922250151467059,0.9922250151467059,0.9922250151467059,0.9966139875942814,0.9936473420275005,0.9961602513042583,0.997184995594113,0.9856746565041641,0.9856746565041641,0.9856746565041641,0.992327754336159,0.9882418702569739,0.9992264741056602],\"type\":\"scatter\"}],                        {\"legend\":{\"bgcolor\":\"#F5F6F9\",\"font\":{\"color\":\"#4D5663\"}},\"paper_bgcolor\":\"#F5F6F9\",\"plot_bgcolor\":\"#F5F6F9\",\"template\":{\"layout\":{\"template\":{\"layout\":{\"template\":{\"layout\":{\"template\":{\"layout\":{\"template\":{\"layout\":{\"template\":{\"layout\":{\"template\":{\"layout\":{\"template\":{\"layout\":{\"template\":{\"data\":{\"barpolar\":[{\"marker\":{\"line\":{\"color\":\"rgb(234,234,242)\",\"width\":0.5},\"pattern\":{\"fillmode\":\"overlay\",\"size\":10,\"solidity\":0.2}},\"type\":\"barpolar\"}],\"bar\":[{\"error_x\":{\"color\":\"rgb(36,36,36)\"},\"error_y\":{\"color\":\"rgb(36,36,36)\"},\"marker\":{\"line\":{\"color\":\"rgb(234,234,242)\",\"width\":0.5},\"pattern\":{\"fillmode\":\"overlay\",\"size\":10,\"solidity\":0.2}},\"type\":\"bar\"}],\"carpet\":[{\"aaxis\":{\"endlinecolor\":\"rgb(36,36,36)\",\"gridcolor\":\"white\",\"linecolor\":\"white\",\"minorgridcolor\":\"white\",\"startlinecolor\":\"rgb(36,36,36)\"},\"baxis\":{\"endlinecolor\":\"rgb(36,36,36)\",\"gridcolor\":\"white\",\"linecolor\":\"white\",\"minorgridcolor\":\"white\",\"startlinecolor\":\"rgb(36,36,36)\"},\"type\":\"carpet\"}],\"choropleth\":[{\"colorbar\":{\"outlinewidth\":0,\"tickcolor\":\"rgb(36,36,36)\",\"ticklen\":8,\"ticks\":\"outside\",\"tickwidth\":2},\"type\":\"choropleth\"}],\"contourcarpet\":[{\"colorbar\":{\"outlinewidth\":0,\"tickcolor\":\"rgb(36,36,36)\",\"ticklen\":8,\"ticks\":\"outside\",\"tickwidth\":2},\"type\":\"contourcarpet\"}],\"contour\":[{\"colorbar\":{\"outlinewidth\":0,\"tickcolor\":\"rgb(36,36,36)\",\"ticklen\":8,\"ticks\":\"outside\",\"tickwidth\":2},\"colorscale\":[[0.0,\"rgb(2,4,25)\"],[0.06274509803921569,\"rgb(24,15,41)\"],[0.12549019607843137,\"rgb(47,23,57)\"],[0.18823529411764706,\"rgb(71,28,72)\"],[0.25098039215686274,\"rgb(97,30,82)\"],[0.3137254901960784,\"rgb(123,30,89)\"],[0.3764705882352941,\"rgb(150,27,91)\"],[0.4392156862745098,\"rgb(177,22,88)\"],[0.5019607843137255,\"rgb(203,26,79)\"],[0.5647058823529412,\"rgb(223,47,67)\"],[0.6274509803921569,\"rgb(236,76,61)\"],[0.6901960784313725,\"rgb(242,107,73)\"],[0.7529411764705882,\"rgb(244,135,95)\"],[0.8156862745098039,\"rgb(245,162,122)\"],[0.8784313725490196,\"rgb(246,188,153)\"],[0.9411764705882353,\"rgb(247,212,187)\"],[1.0,\"rgb(250,234,220)\"]],\"type\":\"contour\"}],\"heatmapgl\":[{\"colorbar\":{\"outlinewidth\":0,\"tickcolor\":\"rgb(36,36,36)\",\"ticklen\":8,\"ticks\":\"outside\",\"tickwidth\":2},\"colorscale\":[[0.0,\"rgb(2,4,25)\"],[0.06274509803921569,\"rgb(24,15,41)\"],[0.12549019607843137,\"rgb(47,23,57)\"],[0.18823529411764706,\"rgb(71,28,72)\"],[0.25098039215686274,\"rgb(97,30,82)\"],[0.3137254901960784,\"rgb(123,30,89)\"],[0.3764705882352941,\"rgb(150,27,91)\"],[0.4392156862745098,\"rgb(177,22,88)\"],[0.5019607843137255,\"rgb(203,26,79)\"],[0.5647058823529412,\"rgb(223,47,67)\"],[0.6274509803921569,\"rgb(236,76,61)\"],[0.6901960784313725,\"rgb(242,107,73)\"],[0.7529411764705882,\"rgb(244,135,95)\"],[0.8156862745098039,\"rgb(245,162,122)\"],[0.8784313725490196,\"rgb(246,188,153)\"],[0.9411764705882353,\"rgb(247,212,187)\"],[1.0,\"rgb(250,234,220)\"]],\"type\":\"heatmapgl\"}],\"heatmap\":[{\"colorbar\":{\"outlinewidth\":0,\"tickcolor\":\"rgb(36,36,36)\",\"ticklen\":8,\"ticks\":\"outside\",\"tickwidth\":2},\"colorscale\":[[0.0,\"rgb(2,4,25)\"],[0.06274509803921569,\"rgb(24,15,41)\"],[0.12549019607843137,\"rgb(47,23,57)\"],[0.18823529411764706,\"rgb(71,28,72)\"],[0.25098039215686274,\"rgb(97,30,82)\"],[0.3137254901960784,\"rgb(123,30,89)\"],[0.3764705882352941,\"rgb(150,27,91)\"],[0.4392156862745098,\"rgb(177,22,88)\"],[0.5019607843137255,\"rgb(203,26,79)\"],[0.5647058823529412,\"rgb(223,47,67)\"],[0.6274509803921569,\"rgb(236,76,61)\"],[0.6901960784313725,\"rgb(242,107,73)\"],[0.7529411764705882,\"rgb(244,135,95)\"],[0.8156862745098039,\"rgb(245,162,122)\"],[0.8784313725490196,\"rgb(246,188,153)\"],[0.9411764705882353,\"rgb(247,212,187)\"],[1.0,\"rgb(250,234,220)\"]],\"type\":\"heatmap\"}],\"histogram2dcontour\":[{\"colorbar\":{\"outlinewidth\":0,\"tickcolor\":\"rgb(36,36,36)\",\"ticklen\":8,\"ticks\":\"outside\",\"tickwidth\":2},\"colorscale\":[[0.0,\"rgb(2,4,25)\"],[0.06274509803921569,\"rgb(24,15,41)\"],[0.12549019607843137,\"rgb(47,23,57)\"],[0.18823529411764706,\"rgb(71,28,72)\"],[0.25098039215686274,\"rgb(97,30,82)\"],[0.3137254901960784,\"rgb(123,30,89)\"],[0.3764705882352941,\"rgb(150,27,91)\"],[0.4392156862745098,\"rgb(177,22,88)\"],[0.5019607843137255,\"rgb(203,26,79)\"],[0.5647058823529412,\"rgb(223,47,67)\"],[0.6274509803921569,\"rgb(236,76,61)\"],[0.6901960784313725,\"rgb(242,107,73)\"],[0.7529411764705882,\"rgb(244,135,95)\"],[0.8156862745098039,\"rgb(245,162,122)\"],[0.8784313725490196,\"rgb(246,188,153)\"],[0.9411764705882353,\"rgb(247,212,187)\"],[1.0,\"rgb(250,234,220)\"]],\"type\":\"histogram2dcontour\"}],\"histogram2d\":[{\"colorbar\":{\"outlinewidth\":0,\"tickcolor\":\"rgb(36,36,36)\",\"ticklen\":8,\"ticks\":\"outside\",\"tickwidth\":2},\"colorscale\":[[0.0,\"rgb(2,4,25)\"],[0.06274509803921569,\"rgb(24,15,41)\"],[0.12549019607843137,\"rgb(47,23,57)\"],[0.18823529411764706,\"rgb(71,28,72)\"],[0.25098039215686274,\"rgb(97,30,82)\"],[0.3137254901960784,\"rgb(123,30,89)\"],[0.3764705882352941,\"rgb(150,27,91)\"],[0.4392156862745098,\"rgb(177,22,88)\"],[0.5019607843137255,\"rgb(203,26,79)\"],[0.5647058823529412,\"rgb(223,47,67)\"],[0.6274509803921569,\"rgb(236,76,61)\"],[0.6901960784313725,\"rgb(242,107,73)\"],[0.7529411764705882,\"rgb(244,135,95)\"],[0.8156862745098039,\"rgb(245,162,122)\"],[0.8784313725490196,\"rgb(246,188,153)\"],[0.9411764705882353,\"rgb(247,212,187)\"],[1.0,\"rgb(250,234,220)\"]],\"type\":\"histogram2d\"}],\"histogram\":[{\"marker\":{\"pattern\":{\"fillmode\":\"overlay\",\"size\":10,\"solidity\":0.2}},\"type\":\"histogram\"}],\"mesh3d\":[{\"colorbar\":{\"outlinewidth\":0,\"tickcolor\":\"rgb(36,36,36)\",\"ticklen\":8,\"ticks\":\"outside\",\"tickwidth\":2},\"type\":\"mesh3d\"}],\"parcoords\":[{\"line\":{\"colorbar\":{\"outlinewidth\":0,\"tickcolor\":\"rgb(36,36,36)\",\"ticklen\":8,\"ticks\":\"outside\",\"tickwidth\":2}},\"type\":\"parcoords\"}],\"pie\":[{\"automargin\":true,\"type\":\"pie\"}],\"scatter3d\":[{\"line\":{\"colorbar\":{\"outlinewidth\":0,\"tickcolor\":\"rgb(36,36,36)\",\"ticklen\":8,\"ticks\":\"outside\",\"tickwidth\":2}},\"marker\":{\"colorbar\":{\"outlinewidth\":0,\"tickcolor\":\"rgb(36,36,36)\",\"ticklen\":8,\"ticks\":\"outside\",\"tickwidth\":2}},\"type\":\"scatter3d\"}],\"scattercarpet\":[{\"marker\":{\"colorbar\":{\"outlinewidth\":0,\"tickcolor\":\"rgb(36,36,36)\",\"ticklen\":8,\"ticks\":\"outside\",\"tickwidth\":2}},\"type\":\"scattercarpet\"}],\"scattergeo\":[{\"marker\":{\"colorbar\":{\"outlinewidth\":0,\"tickcolor\":\"rgb(36,36,36)\",\"ticklen\":8,\"ticks\":\"outside\",\"tickwidth\":2}},\"type\":\"scattergeo\"}],\"scattergl\":[{\"marker\":{\"colorbar\":{\"outlinewidth\":0,\"tickcolor\":\"rgb(36,36,36)\",\"ticklen\":8,\"ticks\":\"outside\",\"tickwidth\":2}},\"type\":\"scattergl\"}],\"scattermapbox\":[{\"marker\":{\"colorbar\":{\"outlinewidth\":0,\"tickcolor\":\"rgb(36,36,36)\",\"ticklen\":8,\"ticks\":\"outside\",\"tickwidth\":2}},\"type\":\"scattermapbox\"}],\"scatterpolargl\":[{\"marker\":{\"colorbar\":{\"outlinewidth\":0,\"tickcolor\":\"rgb(36,36,36)\",\"ticklen\":8,\"ticks\":\"outside\",\"tickwidth\":2}},\"type\":\"scatterpolargl\"}],\"scatterpolar\":[{\"marker\":{\"colorbar\":{\"outlinewidth\":0,\"tickcolor\":\"rgb(36,36,36)\",\"ticklen\":8,\"ticks\":\"outside\",\"tickwidth\":2}},\"type\":\"scatterpolar\"}],\"scatter\":[{\"fillpattern\":{\"fillmode\":\"overlay\",\"size\":10,\"solidity\":0.2},\"type\":\"scatter\"}],\"scatterternary\":[{\"marker\":{\"colorbar\":{\"outlinewidth\":0,\"tickcolor\":\"rgb(36,36,36)\",\"ticklen\":8,\"ticks\":\"outside\",\"tickwidth\":2}},\"type\":\"scatterternary\"}],\"surface\":[{\"colorbar\":{\"outlinewidth\":0,\"tickcolor\":\"rgb(36,36,36)\",\"ticklen\":8,\"ticks\":\"outside\",\"tickwidth\":2},\"colorscale\":[[0.0,\"rgb(2,4,25)\"],[0.06274509803921569,\"rgb(24,15,41)\"],[0.12549019607843137,\"rgb(47,23,57)\"],[0.18823529411764706,\"rgb(71,28,72)\"],[0.25098039215686274,\"rgb(97,30,82)\"],[0.3137254901960784,\"rgb(123,30,89)\"],[0.3764705882352941,\"rgb(150,27,91)\"],[0.4392156862745098,\"rgb(177,22,88)\"],[0.5019607843137255,\"rgb(203,26,79)\"],[0.5647058823529412,\"rgb(223,47,67)\"],[0.6274509803921569,\"rgb(236,76,61)\"],[0.6901960784313725,\"rgb(242,107,73)\"],[0.7529411764705882,\"rgb(244,135,95)\"],[0.8156862745098039,\"rgb(245,162,122)\"],[0.8784313725490196,\"rgb(246,188,153)\"],[0.9411764705882353,\"rgb(247,212,187)\"],[1.0,\"rgb(250,234,220)\"]],\"type\":\"surface\"}],\"table\":[{\"cells\":{\"fill\":{\"color\":\"rgb(231,231,240)\"},\"line\":{\"color\":\"white\"}},\"header\":{\"fill\":{\"color\":\"rgb(183,183,191)\"},\"line\":{\"color\":\"white\"}},\"type\":\"table\"}]},\"layout\":{\"annotationdefaults\":{\"arrowcolor\":\"rgb(67,103,167)\"},\"autotypenumbers\":\"strict\",\"coloraxis\":{\"colorbar\":{\"outlinewidth\":0,\"tickcolor\":\"rgb(36,36,36)\",\"ticklen\":8,\"ticks\":\"outside\",\"tickwidth\":2}},\"colorscale\":{\"sequential\":[[0.0,\"rgb(2,4,25)\"],[0.06274509803921569,\"rgb(24,15,41)\"],[0.12549019607843137,\"rgb(47,23,57)\"],[0.18823529411764706,\"rgb(71,28,72)\"],[0.25098039215686274,\"rgb(97,30,82)\"],[0.3137254901960784,\"rgb(123,30,89)\"],[0.3764705882352941,\"rgb(150,27,91)\"],[0.4392156862745098,\"rgb(177,22,88)\"],[0.5019607843137255,\"rgb(203,26,79)\"],[0.5647058823529412,\"rgb(223,47,67)\"],[0.6274509803921569,\"rgb(236,76,61)\"],[0.6901960784313725,\"rgb(242,107,73)\"],[0.7529411764705882,\"rgb(244,135,95)\"],[0.8156862745098039,\"rgb(245,162,122)\"],[0.8784313725490196,\"rgb(246,188,153)\"],[0.9411764705882353,\"rgb(247,212,187)\"],[1.0,\"rgb(250,234,220)\"]],\"sequentialminus\":[[0.0,\"rgb(2,4,25)\"],[0.06274509803921569,\"rgb(24,15,41)\"],[0.12549019607843137,\"rgb(47,23,57)\"],[0.18823529411764706,\"rgb(71,28,72)\"],[0.25098039215686274,\"rgb(97,30,82)\"],[0.3137254901960784,\"rgb(123,30,89)\"],[0.3764705882352941,\"rgb(150,27,91)\"],[0.4392156862745098,\"rgb(177,22,88)\"],[0.5019607843137255,\"rgb(203,26,79)\"],[0.5647058823529412,\"rgb(223,47,67)\"],[0.6274509803921569,\"rgb(236,76,61)\"],[0.6901960784313725,\"rgb(242,107,73)\"],[0.7529411764705882,\"rgb(244,135,95)\"],[0.8156862745098039,\"rgb(245,162,122)\"],[0.8784313725490196,\"rgb(246,188,153)\"],[0.9411764705882353,\"rgb(247,212,187)\"],[1.0,\"rgb(250,234,220)\"]]},\"colorway\":[\"rgb(76,114,176)\",\"rgb(221,132,82)\",\"rgb(85,168,104)\",\"rgb(196,78,82)\",\"rgb(129,114,179)\",\"rgb(147,120,96)\",\"rgb(218,139,195)\",\"rgb(140,140,140)\",\"rgb(204,185,116)\",\"rgb(100,181,205)\"],\"font\":{\"color\":\"rgb(36,36,36)\"},\"geo\":{\"bgcolor\":\"white\",\"lakecolor\":\"white\",\"landcolor\":\"rgb(234,234,242)\",\"showlakes\":true,\"showland\":true,\"subunitcolor\":\"white\"},\"hoverlabel\":{\"align\":\"left\"},\"hovermode\":\"closest\",\"paper_bgcolor\":\"white\",\"plot_bgcolor\":\"rgb(234,234,242)\",\"polar\":{\"angularaxis\":{\"gridcolor\":\"white\",\"linecolor\":\"white\",\"showgrid\":true,\"ticks\":\"\"},\"bgcolor\":\"rgb(234,234,242)\",\"radialaxis\":{\"gridcolor\":\"white\",\"linecolor\":\"white\",\"showgrid\":true,\"ticks\":\"\"}},\"scene\":{\"xaxis\":{\"backgroundcolor\":\"rgb(234,234,242)\",\"gridcolor\":\"white\",\"gridwidth\":2,\"linecolor\":\"white\",\"showbackground\":true,\"showgrid\":true,\"ticks\":\"\",\"zerolinecolor\":\"white\"},\"yaxis\":{\"backgroundcolor\":\"rgb(234,234,242)\",\"gridcolor\":\"white\",\"gridwidth\":2,\"linecolor\":\"white\",\"showbackground\":true,\"showgrid\":true,\"ticks\":\"\",\"zerolinecolor\":\"white\"},\"zaxis\":{\"backgroundcolor\":\"rgb(234,234,242)\",\"gridcolor\":\"white\",\"gridwidth\":2,\"linecolor\":\"white\",\"showbackground\":true,\"showgrid\":true,\"ticks\":\"\",\"zerolinecolor\":\"white\"}},\"shapedefaults\":{\"fillcolor\":\"rgb(67,103,167)\",\"line\":{\"width\":0},\"opacity\":0.5},\"ternary\":{\"aaxis\":{\"gridcolor\":\"white\",\"linecolor\":\"white\",\"showgrid\":true,\"ticks\":\"\"},\"baxis\":{\"gridcolor\":\"white\",\"linecolor\":\"white\",\"showgrid\":true,\"ticks\":\"\"},\"bgcolor\":\"rgb(234,234,242)\",\"caxis\":{\"gridcolor\":\"white\",\"linecolor\":\"white\",\"showgrid\":true,\"ticks\":\"\"}},\"xaxis\":{\"automargin\":true,\"gridcolor\":\"white\",\"linecolor\":\"white\",\"showgrid\":true,\"ticks\":\"\",\"title\":{\"standoff\":15},\"zerolinecolor\":\"white\"},\"yaxis\":{\"automargin\":true,\"gridcolor\":\"white\",\"linecolor\":\"white\",\"showgrid\":true,\"ticks\":\"\",\"title\":{\"standoff\":15},\"zerolinecolor\":\"white\"}}}}}}}}}}}}}}}}}}},\"title\":{\"font\":{\"color\":\"#4D5663\"}},\"xaxis\":{\"gridcolor\":\"#E1E5ED\",\"showgrid\":true,\"tickfont\":{\"color\":\"#4D5663\"},\"title\":{\"font\":{\"color\":\"#4D5663\"},\"text\":\"\"},\"zerolinecolor\":\"#E1E5ED\"},\"yaxis\":{\"gridcolor\":\"#E1E5ED\",\"showgrid\":true,\"tickfont\":{\"color\":\"#4D5663\"},\"title\":{\"font\":{\"color\":\"#4D5663\"},\"text\":\"\"},\"zerolinecolor\":\"#E1E5ED\"}},                        {\"showLink\": true, \"linkText\": \"Export to plot.ly\", \"plotlyServerURL\": \"https://plot.ly\", \"responsive\": true}                    ).then(function(){\n",
       "                            \n",
       "var gd = document.getElementById('a09eff61-ada3-4f77-82c7-1464c20384b9');\n",
       "var x = new MutationObserver(function (mutations, observer) {{\n",
       "        var display = window.getComputedStyle(gd).display;\n",
       "        if (!display || display === 'none') {{\n",
       "            console.log([gd, 'removed!']);\n",
       "            Plotly.purge(gd);\n",
       "            observer.disconnect();\n",
       "        }}\n",
       "}});\n",
       "\n",
       "// Listen for the removal of the full notebook cells\n",
       "var notebookContainer = gd.closest('#notebook-container');\n",
       "if (notebookContainer) {{\n",
       "    x.observe(notebookContainer, {childList: true});\n",
       "}}\n",
       "\n",
       "// Listen for the clearing of the current output cell\n",
       "var outputEl = gd.closest('.output');\n",
       "if (outputEl) {{\n",
       "    x.observe(outputEl, {childList: true});\n",
       "}}\n",
       "\n",
       "                        })                };                });            </script>        </div>"
      ]
     },
     "metadata": {},
     "output_type": "display_data"
    }
   ],
   "source": [
    "result_df['평균수익률'].iplot(kind='scatter')"
   ]
  },
  {
   "cell_type": "code",
   "execution_count": 254,
   "id": "18247966",
   "metadata": {},
   "outputs": [
    {
     "data": {
      "application/vnd.plotly.v1+json": {
       "config": {
        "plotlyServerURL": "https://plot.ly"
       },
       "data": [
        {
         "mode": "lines",
         "name": "코스피 수익률",
         "type": "scatter",
         "x": [
          "2024-01-19T00:00:00",
          "2024-01-22T00:00:00",
          "2024-01-23T00:00:00",
          "2024-01-24T00:00:00",
          "2024-01-25T00:00:00",
          "2024-01-26T00:00:00",
          "2024-01-29T00:00:00",
          "2024-01-30T00:00:00",
          "2024-01-31T00:00:00",
          "2024-02-01T00:00:00",
          "2024-02-02T00:00:00",
          "2024-02-05T00:00:00",
          "2024-02-06T00:00:00",
          "2024-02-07T00:00:00",
          "2024-02-08T00:00:00",
          "2024-02-13T00:00:00",
          "2024-02-14T00:00:00",
          "2024-02-15T00:00:00",
          "2024-02-16T00:00:00",
          "2024-02-19T00:00:00",
          "2024-02-20T00:00:00",
          "2024-02-21T00:00:00",
          "2024-02-22T00:00:00",
          "2024-02-23T00:00:00",
          "2024-02-26T00:00:00",
          "2024-02-27T00:00:00",
          "2024-02-28T00:00:00",
          "2024-02-29T00:00:00",
          "2024-03-04T00:00:00",
          "2024-03-05T00:00:00",
          "2024-03-06T00:00:00",
          "2024-03-07T00:00:00",
          "2024-03-08T00:00:00",
          "2024-03-11T00:00:00",
          "2024-03-12T00:00:00",
          "2024-03-13T00:00:00",
          "2024-03-14T00:00:00",
          "2024-03-15T00:00:00",
          "2024-03-18T00:00:00",
          "2024-03-19T00:00:00",
          "2024-03-20T00:00:00"
         ],
         "y": [
          1.0017460491081376,
          0.9898697365408483,
          1.0001170147519287,
          0.9973629160575395,
          1.0010576521742656,
          1.0083440125302576,
          1.0039021570256894,
          0.9901453433081849,
          1.0036938783713172,
          1.0202774556267633,
          1.0218449636633586,
          0.9917864947928826,
          0.9969042643758224,
          1.006553292267578,
          1.0000228984909894,
          1.0020687020879897,
          1.0041462293071737,
          0.9886489573759083,
          1.004981731123109,
          1.0102294656856834,
          0.9948494319776908,
          0.9986412838926275,
          0.9972227316791993,
          0.9950280302719475,
          0.9961352475210266,
          0.9888087812080941,
          1.0088166718014842,
          0.9995763160682132,
          1.0036591956525003,
          0.9957155742633794,
          1.0010042291309817,
          0.9976035991228268,
          1.00132995117286,
          0.9978466224986683,
          1.0031195412703342,
          0.9995769489110146,
          1.0075564136867814,
          0.9870202930519523,
          1.0027328524707675,
          0.9934918479785455,
          1.0035214682732123
         ]
        },
        {
         "mode": "lines",
         "name": "포트폴리오 수익률",
         "type": "scatter",
         "x": [
          "2024-01-19T00:00:00",
          "2024-01-20T00:00:00",
          "2024-01-21T00:00:00",
          "2024-01-22T00:00:00",
          "2024-01-23T00:00:00",
          "2024-01-24T00:00:00",
          "2024-01-25T00:00:00",
          "2024-01-26T00:00:00",
          "2024-01-27T00:00:00",
          "2024-01-28T00:00:00",
          "2024-01-29T00:00:00",
          "2024-01-30T00:00:00",
          "2024-01-31T00:00:00",
          "2024-02-01T00:00:00",
          "2024-02-02T00:00:00",
          "2024-02-03T00:00:00",
          "2024-02-04T00:00:00",
          "2024-02-05T00:00:00",
          "2024-02-06T00:00:00",
          "2024-02-07T00:00:00",
          "2024-02-08T00:00:00",
          "2024-02-09T00:00:00",
          "2024-02-10T00:00:00",
          "2024-02-11T00:00:00",
          "2024-02-12T00:00:00",
          "2024-02-13T00:00:00",
          "2024-02-14T00:00:00",
          "2024-02-15T00:00:00",
          "2024-02-16T00:00:00",
          "2024-02-17T00:00:00",
          "2024-02-18T00:00:00",
          "2024-02-19T00:00:00",
          "2024-02-20T00:00:00",
          "2024-02-21T00:00:00",
          "2024-02-22T00:00:00",
          "2024-02-23T00:00:00",
          "2024-02-24T00:00:00",
          "2024-02-25T00:00:00",
          "2024-02-26T00:00:00",
          "2024-02-27T00:00:00",
          "2024-02-28T00:00:00",
          "2024-02-29T00:00:00",
          "2024-03-01T00:00:00",
          "2024-03-02T00:00:00",
          "2024-03-03T00:00:00",
          "2024-03-04T00:00:00",
          "2024-03-05T00:00:00",
          "2024-03-06T00:00:00",
          "2024-03-07T00:00:00",
          "2024-03-08T00:00:00",
          "2024-03-09T00:00:00",
          "2024-03-10T00:00:00",
          "2024-03-11T00:00:00",
          "2024-03-12T00:00:00",
          "2024-03-13T00:00:00",
          "2024-03-14T00:00:00",
          "2024-03-15T00:00:00",
          "2024-03-16T00:00:00",
          "2024-03-17T00:00:00",
          "2024-03-18T00:00:00",
          "2024-03-19T00:00:00",
          "2024-03-20T00:00:00"
         ],
         "y": [
          1.0021831851310747,
          1.0021831851310747,
          1.0021831851310747,
          0.9973086147920872,
          1.0017766343018772,
          0.9983511644048524,
          0.9988544343585141,
          1.0084862434059234,
          1.0084862434059234,
          1.0084862434059234,
          1.0019502923021824,
          0.996587588005442,
          0.9994184317709427,
          1.0414117186585066,
          1.0004139321279204,
          1.0004139321279204,
          1.0004139321279204,
          0.9900065904218646,
          0.9895721541583143,
          1.0118142957163154,
          0.9904142126457999,
          0.9904142126457999,
          0.9904142126457999,
          0.9904142126457999,
          0.9904142126457999,
          0.9993481246898942,
          1.0017348180053802,
          1.0073858510787514,
          1.0155051833205933,
          1.0155051833205933,
          1.0155051833205933,
          1.0069719524255705,
          0.9917421458037892,
          0.9862994982990769,
          0.9990636107967865,
          1.0021614349690213,
          1.0021614349690213,
          1.0021614349690213,
          0.9850263537129239,
          0.9833124393611047,
          1.0120856364304065,
          1.0032129791770146,
          1.0032129791770146,
          1.0032129791770146,
          1.0032129791770146,
          0.9864008967960824,
          0.9921974520436022,
          0.9960348383637648,
          0.987889659543517,
          0.9922250151467059,
          0.9922250151467059,
          0.9922250151467059,
          0.9966139875942814,
          0.9936473420275005,
          0.9961602513042583,
          0.997184995594113,
          0.9856746565041641,
          0.9856746565041641,
          0.9856746565041641,
          0.992327754336159,
          0.9882418702569739,
          0.9992264741056602
         ]
        }
       ],
       "layout": {
        "template": {
         "layout": {
          "template": {
           "layout": {
            "template": {
             "layout": {
              "template": {
               "layout": {
                "template": {
                 "layout": {
                  "template": {
                   "layout": {
                    "template": {
                     "layout": {
                      "template": {
                       "layout": {
                        "template": {
                         "layout": {
                          "template": {
                           "data": {
                            "bar": [
                             {
                              "error_x": {
                               "color": "rgb(36,36,36)"
                              },
                              "error_y": {
                               "color": "rgb(36,36,36)"
                              },
                              "marker": {
                               "line": {
                                "color": "rgb(234,234,242)",
                                "width": 0.5
                               },
                               "pattern": {
                                "fillmode": "overlay",
                                "size": 10,
                                "solidity": 0.2
                               }
                              },
                              "type": "bar"
                             }
                            ],
                            "barpolar": [
                             {
                              "marker": {
                               "line": {
                                "color": "rgb(234,234,242)",
                                "width": 0.5
                               },
                               "pattern": {
                                "fillmode": "overlay",
                                "size": 10,
                                "solidity": 0.2
                               }
                              },
                              "type": "barpolar"
                             }
                            ],
                            "carpet": [
                             {
                              "aaxis": {
                               "endlinecolor": "rgb(36,36,36)",
                               "gridcolor": "white",
                               "linecolor": "white",
                               "minorgridcolor": "white",
                               "startlinecolor": "rgb(36,36,36)"
                              },
                              "baxis": {
                               "endlinecolor": "rgb(36,36,36)",
                               "gridcolor": "white",
                               "linecolor": "white",
                               "minorgridcolor": "white",
                               "startlinecolor": "rgb(36,36,36)"
                              },
                              "type": "carpet"
                             }
                            ],
                            "choropleth": [
                             {
                              "colorbar": {
                               "outlinewidth": 0,
                               "tickcolor": "rgb(36,36,36)",
                               "ticklen": 8,
                               "ticks": "outside",
                               "tickwidth": 2
                              },
                              "type": "choropleth"
                             }
                            ],
                            "contour": [
                             {
                              "colorbar": {
                               "outlinewidth": 0,
                               "tickcolor": "rgb(36,36,36)",
                               "ticklen": 8,
                               "ticks": "outside",
                               "tickwidth": 2
                              },
                              "colorscale": [
                               [
                                0,
                                "rgb(2,4,25)"
                               ],
                               [
                                0.06274509803921569,
                                "rgb(24,15,41)"
                               ],
                               [
                                0.12549019607843137,
                                "rgb(47,23,57)"
                               ],
                               [
                                0.18823529411764706,
                                "rgb(71,28,72)"
                               ],
                               [
                                0.25098039215686274,
                                "rgb(97,30,82)"
                               ],
                               [
                                0.3137254901960784,
                                "rgb(123,30,89)"
                               ],
                               [
                                0.3764705882352941,
                                "rgb(150,27,91)"
                               ],
                               [
                                0.4392156862745098,
                                "rgb(177,22,88)"
                               ],
                               [
                                0.5019607843137255,
                                "rgb(203,26,79)"
                               ],
                               [
                                0.5647058823529412,
                                "rgb(223,47,67)"
                               ],
                               [
                                0.6274509803921569,
                                "rgb(236,76,61)"
                               ],
                               [
                                0.6901960784313725,
                                "rgb(242,107,73)"
                               ],
                               [
                                0.7529411764705882,
                                "rgb(244,135,95)"
                               ],
                               [
                                0.8156862745098039,
                                "rgb(245,162,122)"
                               ],
                               [
                                0.8784313725490196,
                                "rgb(246,188,153)"
                               ],
                               [
                                0.9411764705882353,
                                "rgb(247,212,187)"
                               ],
                               [
                                1,
                                "rgb(250,234,220)"
                               ]
                              ],
                              "type": "contour"
                             }
                            ],
                            "contourcarpet": [
                             {
                              "colorbar": {
                               "outlinewidth": 0,
                               "tickcolor": "rgb(36,36,36)",
                               "ticklen": 8,
                               "ticks": "outside",
                               "tickwidth": 2
                              },
                              "type": "contourcarpet"
                             }
                            ],
                            "heatmap": [
                             {
                              "colorbar": {
                               "outlinewidth": 0,
                               "tickcolor": "rgb(36,36,36)",
                               "ticklen": 8,
                               "ticks": "outside",
                               "tickwidth": 2
                              },
                              "colorscale": [
                               [
                                0,
                                "rgb(2,4,25)"
                               ],
                               [
                                0.06274509803921569,
                                "rgb(24,15,41)"
                               ],
                               [
                                0.12549019607843137,
                                "rgb(47,23,57)"
                               ],
                               [
                                0.18823529411764706,
                                "rgb(71,28,72)"
                               ],
                               [
                                0.25098039215686274,
                                "rgb(97,30,82)"
                               ],
                               [
                                0.3137254901960784,
                                "rgb(123,30,89)"
                               ],
                               [
                                0.3764705882352941,
                                "rgb(150,27,91)"
                               ],
                               [
                                0.4392156862745098,
                                "rgb(177,22,88)"
                               ],
                               [
                                0.5019607843137255,
                                "rgb(203,26,79)"
                               ],
                               [
                                0.5647058823529412,
                                "rgb(223,47,67)"
                               ],
                               [
                                0.6274509803921569,
                                "rgb(236,76,61)"
                               ],
                               [
                                0.6901960784313725,
                                "rgb(242,107,73)"
                               ],
                               [
                                0.7529411764705882,
                                "rgb(244,135,95)"
                               ],
                               [
                                0.8156862745098039,
                                "rgb(245,162,122)"
                               ],
                               [
                                0.8784313725490196,
                                "rgb(246,188,153)"
                               ],
                               [
                                0.9411764705882353,
                                "rgb(247,212,187)"
                               ],
                               [
                                1,
                                "rgb(250,234,220)"
                               ]
                              ],
                              "type": "heatmap"
                             }
                            ],
                            "heatmapgl": [
                             {
                              "colorbar": {
                               "outlinewidth": 0,
                               "tickcolor": "rgb(36,36,36)",
                               "ticklen": 8,
                               "ticks": "outside",
                               "tickwidth": 2
                              },
                              "colorscale": [
                               [
                                0,
                                "rgb(2,4,25)"
                               ],
                               [
                                0.06274509803921569,
                                "rgb(24,15,41)"
                               ],
                               [
                                0.12549019607843137,
                                "rgb(47,23,57)"
                               ],
                               [
                                0.18823529411764706,
                                "rgb(71,28,72)"
                               ],
                               [
                                0.25098039215686274,
                                "rgb(97,30,82)"
                               ],
                               [
                                0.3137254901960784,
                                "rgb(123,30,89)"
                               ],
                               [
                                0.3764705882352941,
                                "rgb(150,27,91)"
                               ],
                               [
                                0.4392156862745098,
                                "rgb(177,22,88)"
                               ],
                               [
                                0.5019607843137255,
                                "rgb(203,26,79)"
                               ],
                               [
                                0.5647058823529412,
                                "rgb(223,47,67)"
                               ],
                               [
                                0.6274509803921569,
                                "rgb(236,76,61)"
                               ],
                               [
                                0.6901960784313725,
                                "rgb(242,107,73)"
                               ],
                               [
                                0.7529411764705882,
                                "rgb(244,135,95)"
                               ],
                               [
                                0.8156862745098039,
                                "rgb(245,162,122)"
                               ],
                               [
                                0.8784313725490196,
                                "rgb(246,188,153)"
                               ],
                               [
                                0.9411764705882353,
                                "rgb(247,212,187)"
                               ],
                               [
                                1,
                                "rgb(250,234,220)"
                               ]
                              ],
                              "type": "heatmapgl"
                             }
                            ],
                            "histogram": [
                             {
                              "marker": {
                               "pattern": {
                                "fillmode": "overlay",
                                "size": 10,
                                "solidity": 0.2
                               }
                              },
                              "type": "histogram"
                             }
                            ],
                            "histogram2d": [
                             {
                              "colorbar": {
                               "outlinewidth": 0,
                               "tickcolor": "rgb(36,36,36)",
                               "ticklen": 8,
                               "ticks": "outside",
                               "tickwidth": 2
                              },
                              "colorscale": [
                               [
                                0,
                                "rgb(2,4,25)"
                               ],
                               [
                                0.06274509803921569,
                                "rgb(24,15,41)"
                               ],
                               [
                                0.12549019607843137,
                                "rgb(47,23,57)"
                               ],
                               [
                                0.18823529411764706,
                                "rgb(71,28,72)"
                               ],
                               [
                                0.25098039215686274,
                                "rgb(97,30,82)"
                               ],
                               [
                                0.3137254901960784,
                                "rgb(123,30,89)"
                               ],
                               [
                                0.3764705882352941,
                                "rgb(150,27,91)"
                               ],
                               [
                                0.4392156862745098,
                                "rgb(177,22,88)"
                               ],
                               [
                                0.5019607843137255,
                                "rgb(203,26,79)"
                               ],
                               [
                                0.5647058823529412,
                                "rgb(223,47,67)"
                               ],
                               [
                                0.6274509803921569,
                                "rgb(236,76,61)"
                               ],
                               [
                                0.6901960784313725,
                                "rgb(242,107,73)"
                               ],
                               [
                                0.7529411764705882,
                                "rgb(244,135,95)"
                               ],
                               [
                                0.8156862745098039,
                                "rgb(245,162,122)"
                               ],
                               [
                                0.8784313725490196,
                                "rgb(246,188,153)"
                               ],
                               [
                                0.9411764705882353,
                                "rgb(247,212,187)"
                               ],
                               [
                                1,
                                "rgb(250,234,220)"
                               ]
                              ],
                              "type": "histogram2d"
                             }
                            ],
                            "histogram2dcontour": [
                             {
                              "colorbar": {
                               "outlinewidth": 0,
                               "tickcolor": "rgb(36,36,36)",
                               "ticklen": 8,
                               "ticks": "outside",
                               "tickwidth": 2
                              },
                              "colorscale": [
                               [
                                0,
                                "rgb(2,4,25)"
                               ],
                               [
                                0.06274509803921569,
                                "rgb(24,15,41)"
                               ],
                               [
                                0.12549019607843137,
                                "rgb(47,23,57)"
                               ],
                               [
                                0.18823529411764706,
                                "rgb(71,28,72)"
                               ],
                               [
                                0.25098039215686274,
                                "rgb(97,30,82)"
                               ],
                               [
                                0.3137254901960784,
                                "rgb(123,30,89)"
                               ],
                               [
                                0.3764705882352941,
                                "rgb(150,27,91)"
                               ],
                               [
                                0.4392156862745098,
                                "rgb(177,22,88)"
                               ],
                               [
                                0.5019607843137255,
                                "rgb(203,26,79)"
                               ],
                               [
                                0.5647058823529412,
                                "rgb(223,47,67)"
                               ],
                               [
                                0.6274509803921569,
                                "rgb(236,76,61)"
                               ],
                               [
                                0.6901960784313725,
                                "rgb(242,107,73)"
                               ],
                               [
                                0.7529411764705882,
                                "rgb(244,135,95)"
                               ],
                               [
                                0.8156862745098039,
                                "rgb(245,162,122)"
                               ],
                               [
                                0.8784313725490196,
                                "rgb(246,188,153)"
                               ],
                               [
                                0.9411764705882353,
                                "rgb(247,212,187)"
                               ],
                               [
                                1,
                                "rgb(250,234,220)"
                               ]
                              ],
                              "type": "histogram2dcontour"
                             }
                            ],
                            "mesh3d": [
                             {
                              "colorbar": {
                               "outlinewidth": 0,
                               "tickcolor": "rgb(36,36,36)",
                               "ticklen": 8,
                               "ticks": "outside",
                               "tickwidth": 2
                              },
                              "type": "mesh3d"
                             }
                            ],
                            "parcoords": [
                             {
                              "line": {
                               "colorbar": {
                                "outlinewidth": 0,
                                "tickcolor": "rgb(36,36,36)",
                                "ticklen": 8,
                                "ticks": "outside",
                                "tickwidth": 2
                               }
                              },
                              "type": "parcoords"
                             }
                            ],
                            "pie": [
                             {
                              "automargin": true,
                              "type": "pie"
                             }
                            ],
                            "scatter": [
                             {
                              "fillpattern": {
                               "fillmode": "overlay",
                               "size": 10,
                               "solidity": 0.2
                              },
                              "type": "scatter"
                             }
                            ],
                            "scatter3d": [
                             {
                              "line": {
                               "colorbar": {
                                "outlinewidth": 0,
                                "tickcolor": "rgb(36,36,36)",
                                "ticklen": 8,
                                "ticks": "outside",
                                "tickwidth": 2
                               }
                              },
                              "marker": {
                               "colorbar": {
                                "outlinewidth": 0,
                                "tickcolor": "rgb(36,36,36)",
                                "ticklen": 8,
                                "ticks": "outside",
                                "tickwidth": 2
                               }
                              },
                              "type": "scatter3d"
                             }
                            ],
                            "scattercarpet": [
                             {
                              "marker": {
                               "colorbar": {
                                "outlinewidth": 0,
                                "tickcolor": "rgb(36,36,36)",
                                "ticklen": 8,
                                "ticks": "outside",
                                "tickwidth": 2
                               }
                              },
                              "type": "scattercarpet"
                             }
                            ],
                            "scattergeo": [
                             {
                              "marker": {
                               "colorbar": {
                                "outlinewidth": 0,
                                "tickcolor": "rgb(36,36,36)",
                                "ticklen": 8,
                                "ticks": "outside",
                                "tickwidth": 2
                               }
                              },
                              "type": "scattergeo"
                             }
                            ],
                            "scattergl": [
                             {
                              "marker": {
                               "colorbar": {
                                "outlinewidth": 0,
                                "tickcolor": "rgb(36,36,36)",
                                "ticklen": 8,
                                "ticks": "outside",
                                "tickwidth": 2
                               }
                              },
                              "type": "scattergl"
                             }
                            ],
                            "scattermapbox": [
                             {
                              "marker": {
                               "colorbar": {
                                "outlinewidth": 0,
                                "tickcolor": "rgb(36,36,36)",
                                "ticklen": 8,
                                "ticks": "outside",
                                "tickwidth": 2
                               }
                              },
                              "type": "scattermapbox"
                             }
                            ],
                            "scatterpolar": [
                             {
                              "marker": {
                               "colorbar": {
                                "outlinewidth": 0,
                                "tickcolor": "rgb(36,36,36)",
                                "ticklen": 8,
                                "ticks": "outside",
                                "tickwidth": 2
                               }
                              },
                              "type": "scatterpolar"
                             }
                            ],
                            "scatterpolargl": [
                             {
                              "marker": {
                               "colorbar": {
                                "outlinewidth": 0,
                                "tickcolor": "rgb(36,36,36)",
                                "ticklen": 8,
                                "ticks": "outside",
                                "tickwidth": 2
                               }
                              },
                              "type": "scatterpolargl"
                             }
                            ],
                            "scatterternary": [
                             {
                              "marker": {
                               "colorbar": {
                                "outlinewidth": 0,
                                "tickcolor": "rgb(36,36,36)",
                                "ticklen": 8,
                                "ticks": "outside",
                                "tickwidth": 2
                               }
                              },
                              "type": "scatterternary"
                             }
                            ],
                            "surface": [
                             {
                              "colorbar": {
                               "outlinewidth": 0,
                               "tickcolor": "rgb(36,36,36)",
                               "ticklen": 8,
                               "ticks": "outside",
                               "tickwidth": 2
                              },
                              "colorscale": [
                               [
                                0,
                                "rgb(2,4,25)"
                               ],
                               [
                                0.06274509803921569,
                                "rgb(24,15,41)"
                               ],
                               [
                                0.12549019607843137,
                                "rgb(47,23,57)"
                               ],
                               [
                                0.18823529411764706,
                                "rgb(71,28,72)"
                               ],
                               [
                                0.25098039215686274,
                                "rgb(97,30,82)"
                               ],
                               [
                                0.3137254901960784,
                                "rgb(123,30,89)"
                               ],
                               [
                                0.3764705882352941,
                                "rgb(150,27,91)"
                               ],
                               [
                                0.4392156862745098,
                                "rgb(177,22,88)"
                               ],
                               [
                                0.5019607843137255,
                                "rgb(203,26,79)"
                               ],
                               [
                                0.5647058823529412,
                                "rgb(223,47,67)"
                               ],
                               [
                                0.6274509803921569,
                                "rgb(236,76,61)"
                               ],
                               [
                                0.6901960784313725,
                                "rgb(242,107,73)"
                               ],
                               [
                                0.7529411764705882,
                                "rgb(244,135,95)"
                               ],
                               [
                                0.8156862745098039,
                                "rgb(245,162,122)"
                               ],
                               [
                                0.8784313725490196,
                                "rgb(246,188,153)"
                               ],
                               [
                                0.9411764705882353,
                                "rgb(247,212,187)"
                               ],
                               [
                                1,
                                "rgb(250,234,220)"
                               ]
                              ],
                              "type": "surface"
                             }
                            ],
                            "table": [
                             {
                              "cells": {
                               "fill": {
                                "color": "rgb(231,231,240)"
                               },
                               "line": {
                                "color": "white"
                               }
                              },
                              "header": {
                               "fill": {
                                "color": "rgb(183,183,191)"
                               },
                               "line": {
                                "color": "white"
                               }
                              },
                              "type": "table"
                             }
                            ]
                           },
                           "layout": {
                            "annotationdefaults": {
                             "arrowcolor": "rgb(67,103,167)"
                            },
                            "autotypenumbers": "strict",
                            "coloraxis": {
                             "colorbar": {
                              "outlinewidth": 0,
                              "tickcolor": "rgb(36,36,36)",
                              "ticklen": 8,
                              "ticks": "outside",
                              "tickwidth": 2
                             }
                            },
                            "colorscale": {
                             "sequential": [
                              [
                               0,
                               "rgb(2,4,25)"
                              ],
                              [
                               0.06274509803921569,
                               "rgb(24,15,41)"
                              ],
                              [
                               0.12549019607843137,
                               "rgb(47,23,57)"
                              ],
                              [
                               0.18823529411764706,
                               "rgb(71,28,72)"
                              ],
                              [
                               0.25098039215686274,
                               "rgb(97,30,82)"
                              ],
                              [
                               0.3137254901960784,
                               "rgb(123,30,89)"
                              ],
                              [
                               0.3764705882352941,
                               "rgb(150,27,91)"
                              ],
                              [
                               0.4392156862745098,
                               "rgb(177,22,88)"
                              ],
                              [
                               0.5019607843137255,
                               "rgb(203,26,79)"
                              ],
                              [
                               0.5647058823529412,
                               "rgb(223,47,67)"
                              ],
                              [
                               0.6274509803921569,
                               "rgb(236,76,61)"
                              ],
                              [
                               0.6901960784313725,
                               "rgb(242,107,73)"
                              ],
                              [
                               0.7529411764705882,
                               "rgb(244,135,95)"
                              ],
                              [
                               0.8156862745098039,
                               "rgb(245,162,122)"
                              ],
                              [
                               0.8784313725490196,
                               "rgb(246,188,153)"
                              ],
                              [
                               0.9411764705882353,
                               "rgb(247,212,187)"
                              ],
                              [
                               1,
                               "rgb(250,234,220)"
                              ]
                             ],
                             "sequentialminus": [
                              [
                               0,
                               "rgb(2,4,25)"
                              ],
                              [
                               0.06274509803921569,
                               "rgb(24,15,41)"
                              ],
                              [
                               0.12549019607843137,
                               "rgb(47,23,57)"
                              ],
                              [
                               0.18823529411764706,
                               "rgb(71,28,72)"
                              ],
                              [
                               0.25098039215686274,
                               "rgb(97,30,82)"
                              ],
                              [
                               0.3137254901960784,
                               "rgb(123,30,89)"
                              ],
                              [
                               0.3764705882352941,
                               "rgb(150,27,91)"
                              ],
                              [
                               0.4392156862745098,
                               "rgb(177,22,88)"
                              ],
                              [
                               0.5019607843137255,
                               "rgb(203,26,79)"
                              ],
                              [
                               0.5647058823529412,
                               "rgb(223,47,67)"
                              ],
                              [
                               0.6274509803921569,
                               "rgb(236,76,61)"
                              ],
                              [
                               0.6901960784313725,
                               "rgb(242,107,73)"
                              ],
                              [
                               0.7529411764705882,
                               "rgb(244,135,95)"
                              ],
                              [
                               0.8156862745098039,
                               "rgb(245,162,122)"
                              ],
                              [
                               0.8784313725490196,
                               "rgb(246,188,153)"
                              ],
                              [
                               0.9411764705882353,
                               "rgb(247,212,187)"
                              ],
                              [
                               1,
                               "rgb(250,234,220)"
                              ]
                             ]
                            },
                            "colorway": [
                             "rgb(76,114,176)",
                             "rgb(221,132,82)",
                             "rgb(85,168,104)",
                             "rgb(196,78,82)",
                             "rgb(129,114,179)",
                             "rgb(147,120,96)",
                             "rgb(218,139,195)",
                             "rgb(140,140,140)",
                             "rgb(204,185,116)",
                             "rgb(100,181,205)"
                            ],
                            "font": {
                             "color": "rgb(36,36,36)"
                            },
                            "geo": {
                             "bgcolor": "white",
                             "lakecolor": "white",
                             "landcolor": "rgb(234,234,242)",
                             "showlakes": true,
                             "showland": true,
                             "subunitcolor": "white"
                            },
                            "hoverlabel": {
                             "align": "left"
                            },
                            "hovermode": "closest",
                            "paper_bgcolor": "white",
                            "plot_bgcolor": "rgb(234,234,242)",
                            "polar": {
                             "angularaxis": {
                              "gridcolor": "white",
                              "linecolor": "white",
                              "showgrid": true,
                              "ticks": ""
                             },
                             "bgcolor": "rgb(234,234,242)",
                             "radialaxis": {
                              "gridcolor": "white",
                              "linecolor": "white",
                              "showgrid": true,
                              "ticks": ""
                             }
                            },
                            "scene": {
                             "xaxis": {
                              "backgroundcolor": "rgb(234,234,242)",
                              "gridcolor": "white",
                              "gridwidth": 2,
                              "linecolor": "white",
                              "showbackground": true,
                              "showgrid": true,
                              "ticks": "",
                              "zerolinecolor": "white"
                             },
                             "yaxis": {
                              "backgroundcolor": "rgb(234,234,242)",
                              "gridcolor": "white",
                              "gridwidth": 2,
                              "linecolor": "white",
                              "showbackground": true,
                              "showgrid": true,
                              "ticks": "",
                              "zerolinecolor": "white"
                             },
                             "zaxis": {
                              "backgroundcolor": "rgb(234,234,242)",
                              "gridcolor": "white",
                              "gridwidth": 2,
                              "linecolor": "white",
                              "showbackground": true,
                              "showgrid": true,
                              "ticks": "",
                              "zerolinecolor": "white"
                             }
                            },
                            "shapedefaults": {
                             "fillcolor": "rgb(67,103,167)",
                             "line": {
                              "width": 0
                             },
                             "opacity": 0.5
                            },
                            "ternary": {
                             "aaxis": {
                              "gridcolor": "white",
                              "linecolor": "white",
                              "showgrid": true,
                              "ticks": ""
                             },
                             "baxis": {
                              "gridcolor": "white",
                              "linecolor": "white",
                              "showgrid": true,
                              "ticks": ""
                             },
                             "bgcolor": "rgb(234,234,242)",
                             "caxis": {
                              "gridcolor": "white",
                              "linecolor": "white",
                              "showgrid": true,
                              "ticks": ""
                             }
                            },
                            "xaxis": {
                             "automargin": true,
                             "gridcolor": "white",
                             "linecolor": "white",
                             "showgrid": true,
                             "ticks": "",
                             "title": {
                              "standoff": 15
                             },
                             "zerolinecolor": "white"
                            },
                            "yaxis": {
                             "automargin": true,
                             "gridcolor": "white",
                             "linecolor": "white",
                             "showgrid": true,
                             "ticks": "",
                             "title": {
                              "standoff": 15
                             },
                             "zerolinecolor": "white"
                            }
                           }
                          }
                         }
                        }
                       }
                      }
                     }
                    }
                   }
                  }
                 }
                }
               }
              }
             }
            }
           }
          }
         }
        },
        "title": {
         "text": "<b>3개월 수익률<b>"
        },
        "xaxis": {
         "title": {
          "text": "날짜"
         }
        },
        "yaxis": {
         "title": {
          "text": "수익률"
         }
        }
       }
      },
      "text/html": [
       "<div>                            <div id=\"c5a99aa1-bac2-44ed-8892-626ddfcaa759\" class=\"plotly-graph-div\" style=\"height:525px; width:100%;\"></div>            <script type=\"text/javascript\">                require([\"plotly\"], function(Plotly) {                    window.PLOTLYENV=window.PLOTLYENV || {};                                    if (document.getElementById(\"c5a99aa1-bac2-44ed-8892-626ddfcaa759\")) {                    Plotly.newPlot(                        \"c5a99aa1-bac2-44ed-8892-626ddfcaa759\",                        [{\"mode\":\"lines\",\"name\":\"\\ucf54\\uc2a4\\ud53c \\uc218\\uc775\\ub960\",\"x\":[\"2024-01-19T00:00:00\",\"2024-01-22T00:00:00\",\"2024-01-23T00:00:00\",\"2024-01-24T00:00:00\",\"2024-01-25T00:00:00\",\"2024-01-26T00:00:00\",\"2024-01-29T00:00:00\",\"2024-01-30T00:00:00\",\"2024-01-31T00:00:00\",\"2024-02-01T00:00:00\",\"2024-02-02T00:00:00\",\"2024-02-05T00:00:00\",\"2024-02-06T00:00:00\",\"2024-02-07T00:00:00\",\"2024-02-08T00:00:00\",\"2024-02-13T00:00:00\",\"2024-02-14T00:00:00\",\"2024-02-15T00:00:00\",\"2024-02-16T00:00:00\",\"2024-02-19T00:00:00\",\"2024-02-20T00:00:00\",\"2024-02-21T00:00:00\",\"2024-02-22T00:00:00\",\"2024-02-23T00:00:00\",\"2024-02-26T00:00:00\",\"2024-02-27T00:00:00\",\"2024-02-28T00:00:00\",\"2024-02-29T00:00:00\",\"2024-03-04T00:00:00\",\"2024-03-05T00:00:00\",\"2024-03-06T00:00:00\",\"2024-03-07T00:00:00\",\"2024-03-08T00:00:00\",\"2024-03-11T00:00:00\",\"2024-03-12T00:00:00\",\"2024-03-13T00:00:00\",\"2024-03-14T00:00:00\",\"2024-03-15T00:00:00\",\"2024-03-18T00:00:00\",\"2024-03-19T00:00:00\",\"2024-03-20T00:00:00\"],\"y\":[1.0017460491081376,0.9898697365408483,1.0001170147519287,0.9973629160575395,1.0010576521742656,1.0083440125302576,1.0039021570256894,0.9901453433081849,1.0036938783713172,1.0202774556267633,1.0218449636633586,0.9917864947928826,0.9969042643758224,1.006553292267578,1.0000228984909894,1.0020687020879897,1.0041462293071737,0.9886489573759083,1.004981731123109,1.0102294656856834,0.9948494319776908,0.9986412838926275,0.9972227316791993,0.9950280302719475,0.9961352475210266,0.9888087812080941,1.0088166718014842,0.9995763160682132,1.0036591956525003,0.9957155742633794,1.0010042291309817,0.9976035991228268,1.00132995117286,0.9978466224986683,1.0031195412703342,0.9995769489110146,1.0075564136867814,0.9870202930519523,1.0027328524707675,0.9934918479785455,1.0035214682732123],\"type\":\"scatter\"},{\"mode\":\"lines\",\"name\":\"\\ud3ec\\ud2b8\\ud3f4\\ub9ac\\uc624 \\uc218\\uc775\\ub960\",\"x\":[\"2024-01-19T00:00:00\",\"2024-01-20T00:00:00\",\"2024-01-21T00:00:00\",\"2024-01-22T00:00:00\",\"2024-01-23T00:00:00\",\"2024-01-24T00:00:00\",\"2024-01-25T00:00:00\",\"2024-01-26T00:00:00\",\"2024-01-27T00:00:00\",\"2024-01-28T00:00:00\",\"2024-01-29T00:00:00\",\"2024-01-30T00:00:00\",\"2024-01-31T00:00:00\",\"2024-02-01T00:00:00\",\"2024-02-02T00:00:00\",\"2024-02-03T00:00:00\",\"2024-02-04T00:00:00\",\"2024-02-05T00:00:00\",\"2024-02-06T00:00:00\",\"2024-02-07T00:00:00\",\"2024-02-08T00:00:00\",\"2024-02-09T00:00:00\",\"2024-02-10T00:00:00\",\"2024-02-11T00:00:00\",\"2024-02-12T00:00:00\",\"2024-02-13T00:00:00\",\"2024-02-14T00:00:00\",\"2024-02-15T00:00:00\",\"2024-02-16T00:00:00\",\"2024-02-17T00:00:00\",\"2024-02-18T00:00:00\",\"2024-02-19T00:00:00\",\"2024-02-20T00:00:00\",\"2024-02-21T00:00:00\",\"2024-02-22T00:00:00\",\"2024-02-23T00:00:00\",\"2024-02-24T00:00:00\",\"2024-02-25T00:00:00\",\"2024-02-26T00:00:00\",\"2024-02-27T00:00:00\",\"2024-02-28T00:00:00\",\"2024-02-29T00:00:00\",\"2024-03-01T00:00:00\",\"2024-03-02T00:00:00\",\"2024-03-03T00:00:00\",\"2024-03-04T00:00:00\",\"2024-03-05T00:00:00\",\"2024-03-06T00:00:00\",\"2024-03-07T00:00:00\",\"2024-03-08T00:00:00\",\"2024-03-09T00:00:00\",\"2024-03-10T00:00:00\",\"2024-03-11T00:00:00\",\"2024-03-12T00:00:00\",\"2024-03-13T00:00:00\",\"2024-03-14T00:00:00\",\"2024-03-15T00:00:00\",\"2024-03-16T00:00:00\",\"2024-03-17T00:00:00\",\"2024-03-18T00:00:00\",\"2024-03-19T00:00:00\",\"2024-03-20T00:00:00\"],\"y\":[1.0021831851310747,1.0021831851310747,1.0021831851310747,0.9973086147920872,1.0017766343018772,0.9983511644048524,0.9988544343585141,1.0084862434059234,1.0084862434059234,1.0084862434059234,1.0019502923021824,0.996587588005442,0.9994184317709427,1.0414117186585066,1.0004139321279204,1.0004139321279204,1.0004139321279204,0.9900065904218646,0.9895721541583143,1.0118142957163154,0.9904142126457999,0.9904142126457999,0.9904142126457999,0.9904142126457999,0.9904142126457999,0.9993481246898942,1.0017348180053802,1.0073858510787514,1.0155051833205933,1.0155051833205933,1.0155051833205933,1.0069719524255705,0.9917421458037892,0.9862994982990769,0.9990636107967865,1.0021614349690213,1.0021614349690213,1.0021614349690213,0.9850263537129239,0.9833124393611047,1.0120856364304065,1.0032129791770146,1.0032129791770146,1.0032129791770146,1.0032129791770146,0.9864008967960824,0.9921974520436022,0.9960348383637648,0.987889659543517,0.9922250151467059,0.9922250151467059,0.9922250151467059,0.9966139875942814,0.9936473420275005,0.9961602513042583,0.997184995594113,0.9856746565041641,0.9856746565041641,0.9856746565041641,0.992327754336159,0.9882418702569739,0.9992264741056602],\"type\":\"scatter\"}],                        {\"title\":{\"text\":\"<b>3\\uac1c\\uc6d4 \\uc218\\uc775\\ub960<b>\"},\"xaxis\":{\"title\":{\"text\":\"\\ub0a0\\uc9dc\"}},\"yaxis\":{\"title\":{\"text\":\"\\uc218\\uc775\\ub960\"}},\"template\":{\"layout\":{\"template\":{\"layout\":{\"template\":{\"layout\":{\"template\":{\"layout\":{\"template\":{\"layout\":{\"template\":{\"layout\":{\"template\":{\"layout\":{\"template\":{\"layout\":{\"template\":{\"layout\":{\"template\":{\"data\":{\"barpolar\":[{\"marker\":{\"line\":{\"color\":\"rgb(234,234,242)\",\"width\":0.5},\"pattern\":{\"fillmode\":\"overlay\",\"size\":10,\"solidity\":0.2}},\"type\":\"barpolar\"}],\"bar\":[{\"error_x\":{\"color\":\"rgb(36,36,36)\"},\"error_y\":{\"color\":\"rgb(36,36,36)\"},\"marker\":{\"line\":{\"color\":\"rgb(234,234,242)\",\"width\":0.5},\"pattern\":{\"fillmode\":\"overlay\",\"size\":10,\"solidity\":0.2}},\"type\":\"bar\"}],\"carpet\":[{\"aaxis\":{\"endlinecolor\":\"rgb(36,36,36)\",\"gridcolor\":\"white\",\"linecolor\":\"white\",\"minorgridcolor\":\"white\",\"startlinecolor\":\"rgb(36,36,36)\"},\"baxis\":{\"endlinecolor\":\"rgb(36,36,36)\",\"gridcolor\":\"white\",\"linecolor\":\"white\",\"minorgridcolor\":\"white\",\"startlinecolor\":\"rgb(36,36,36)\"},\"type\":\"carpet\"}],\"choropleth\":[{\"colorbar\":{\"outlinewidth\":0,\"tickcolor\":\"rgb(36,36,36)\",\"ticklen\":8,\"ticks\":\"outside\",\"tickwidth\":2},\"type\":\"choropleth\"}],\"contourcarpet\":[{\"colorbar\":{\"outlinewidth\":0,\"tickcolor\":\"rgb(36,36,36)\",\"ticklen\":8,\"ticks\":\"outside\",\"tickwidth\":2},\"type\":\"contourcarpet\"}],\"contour\":[{\"colorbar\":{\"outlinewidth\":0,\"tickcolor\":\"rgb(36,36,36)\",\"ticklen\":8,\"ticks\":\"outside\",\"tickwidth\":2},\"colorscale\":[[0.0,\"rgb(2,4,25)\"],[0.06274509803921569,\"rgb(24,15,41)\"],[0.12549019607843137,\"rgb(47,23,57)\"],[0.18823529411764706,\"rgb(71,28,72)\"],[0.25098039215686274,\"rgb(97,30,82)\"],[0.3137254901960784,\"rgb(123,30,89)\"],[0.3764705882352941,\"rgb(150,27,91)\"],[0.4392156862745098,\"rgb(177,22,88)\"],[0.5019607843137255,\"rgb(203,26,79)\"],[0.5647058823529412,\"rgb(223,47,67)\"],[0.6274509803921569,\"rgb(236,76,61)\"],[0.6901960784313725,\"rgb(242,107,73)\"],[0.7529411764705882,\"rgb(244,135,95)\"],[0.8156862745098039,\"rgb(245,162,122)\"],[0.8784313725490196,\"rgb(246,188,153)\"],[0.9411764705882353,\"rgb(247,212,187)\"],[1.0,\"rgb(250,234,220)\"]],\"type\":\"contour\"}],\"heatmapgl\":[{\"colorbar\":{\"outlinewidth\":0,\"tickcolor\":\"rgb(36,36,36)\",\"ticklen\":8,\"ticks\":\"outside\",\"tickwidth\":2},\"colorscale\":[[0.0,\"rgb(2,4,25)\"],[0.06274509803921569,\"rgb(24,15,41)\"],[0.12549019607843137,\"rgb(47,23,57)\"],[0.18823529411764706,\"rgb(71,28,72)\"],[0.25098039215686274,\"rgb(97,30,82)\"],[0.3137254901960784,\"rgb(123,30,89)\"],[0.3764705882352941,\"rgb(150,27,91)\"],[0.4392156862745098,\"rgb(177,22,88)\"],[0.5019607843137255,\"rgb(203,26,79)\"],[0.5647058823529412,\"rgb(223,47,67)\"],[0.6274509803921569,\"rgb(236,76,61)\"],[0.6901960784313725,\"rgb(242,107,73)\"],[0.7529411764705882,\"rgb(244,135,95)\"],[0.8156862745098039,\"rgb(245,162,122)\"],[0.8784313725490196,\"rgb(246,188,153)\"],[0.9411764705882353,\"rgb(247,212,187)\"],[1.0,\"rgb(250,234,220)\"]],\"type\":\"heatmapgl\"}],\"heatmap\":[{\"colorbar\":{\"outlinewidth\":0,\"tickcolor\":\"rgb(36,36,36)\",\"ticklen\":8,\"ticks\":\"outside\",\"tickwidth\":2},\"colorscale\":[[0.0,\"rgb(2,4,25)\"],[0.06274509803921569,\"rgb(24,15,41)\"],[0.12549019607843137,\"rgb(47,23,57)\"],[0.18823529411764706,\"rgb(71,28,72)\"],[0.25098039215686274,\"rgb(97,30,82)\"],[0.3137254901960784,\"rgb(123,30,89)\"],[0.3764705882352941,\"rgb(150,27,91)\"],[0.4392156862745098,\"rgb(177,22,88)\"],[0.5019607843137255,\"rgb(203,26,79)\"],[0.5647058823529412,\"rgb(223,47,67)\"],[0.6274509803921569,\"rgb(236,76,61)\"],[0.6901960784313725,\"rgb(242,107,73)\"],[0.7529411764705882,\"rgb(244,135,95)\"],[0.8156862745098039,\"rgb(245,162,122)\"],[0.8784313725490196,\"rgb(246,188,153)\"],[0.9411764705882353,\"rgb(247,212,187)\"],[1.0,\"rgb(250,234,220)\"]],\"type\":\"heatmap\"}],\"histogram2dcontour\":[{\"colorbar\":{\"outlinewidth\":0,\"tickcolor\":\"rgb(36,36,36)\",\"ticklen\":8,\"ticks\":\"outside\",\"tickwidth\":2},\"colorscale\":[[0.0,\"rgb(2,4,25)\"],[0.06274509803921569,\"rgb(24,15,41)\"],[0.12549019607843137,\"rgb(47,23,57)\"],[0.18823529411764706,\"rgb(71,28,72)\"],[0.25098039215686274,\"rgb(97,30,82)\"],[0.3137254901960784,\"rgb(123,30,89)\"],[0.3764705882352941,\"rgb(150,27,91)\"],[0.4392156862745098,\"rgb(177,22,88)\"],[0.5019607843137255,\"rgb(203,26,79)\"],[0.5647058823529412,\"rgb(223,47,67)\"],[0.6274509803921569,\"rgb(236,76,61)\"],[0.6901960784313725,\"rgb(242,107,73)\"],[0.7529411764705882,\"rgb(244,135,95)\"],[0.8156862745098039,\"rgb(245,162,122)\"],[0.8784313725490196,\"rgb(246,188,153)\"],[0.9411764705882353,\"rgb(247,212,187)\"],[1.0,\"rgb(250,234,220)\"]],\"type\":\"histogram2dcontour\"}],\"histogram2d\":[{\"colorbar\":{\"outlinewidth\":0,\"tickcolor\":\"rgb(36,36,36)\",\"ticklen\":8,\"ticks\":\"outside\",\"tickwidth\":2},\"colorscale\":[[0.0,\"rgb(2,4,25)\"],[0.06274509803921569,\"rgb(24,15,41)\"],[0.12549019607843137,\"rgb(47,23,57)\"],[0.18823529411764706,\"rgb(71,28,72)\"],[0.25098039215686274,\"rgb(97,30,82)\"],[0.3137254901960784,\"rgb(123,30,89)\"],[0.3764705882352941,\"rgb(150,27,91)\"],[0.4392156862745098,\"rgb(177,22,88)\"],[0.5019607843137255,\"rgb(203,26,79)\"],[0.5647058823529412,\"rgb(223,47,67)\"],[0.6274509803921569,\"rgb(236,76,61)\"],[0.6901960784313725,\"rgb(242,107,73)\"],[0.7529411764705882,\"rgb(244,135,95)\"],[0.8156862745098039,\"rgb(245,162,122)\"],[0.8784313725490196,\"rgb(246,188,153)\"],[0.9411764705882353,\"rgb(247,212,187)\"],[1.0,\"rgb(250,234,220)\"]],\"type\":\"histogram2d\"}],\"histogram\":[{\"marker\":{\"pattern\":{\"fillmode\":\"overlay\",\"size\":10,\"solidity\":0.2}},\"type\":\"histogram\"}],\"mesh3d\":[{\"colorbar\":{\"outlinewidth\":0,\"tickcolor\":\"rgb(36,36,36)\",\"ticklen\":8,\"ticks\":\"outside\",\"tickwidth\":2},\"type\":\"mesh3d\"}],\"parcoords\":[{\"line\":{\"colorbar\":{\"outlinewidth\":0,\"tickcolor\":\"rgb(36,36,36)\",\"ticklen\":8,\"ticks\":\"outside\",\"tickwidth\":2}},\"type\":\"parcoords\"}],\"pie\":[{\"automargin\":true,\"type\":\"pie\"}],\"scatter3d\":[{\"line\":{\"colorbar\":{\"outlinewidth\":0,\"tickcolor\":\"rgb(36,36,36)\",\"ticklen\":8,\"ticks\":\"outside\",\"tickwidth\":2}},\"marker\":{\"colorbar\":{\"outlinewidth\":0,\"tickcolor\":\"rgb(36,36,36)\",\"ticklen\":8,\"ticks\":\"outside\",\"tickwidth\":2}},\"type\":\"scatter3d\"}],\"scattercarpet\":[{\"marker\":{\"colorbar\":{\"outlinewidth\":0,\"tickcolor\":\"rgb(36,36,36)\",\"ticklen\":8,\"ticks\":\"outside\",\"tickwidth\":2}},\"type\":\"scattercarpet\"}],\"scattergeo\":[{\"marker\":{\"colorbar\":{\"outlinewidth\":0,\"tickcolor\":\"rgb(36,36,36)\",\"ticklen\":8,\"ticks\":\"outside\",\"tickwidth\":2}},\"type\":\"scattergeo\"}],\"scattergl\":[{\"marker\":{\"colorbar\":{\"outlinewidth\":0,\"tickcolor\":\"rgb(36,36,36)\",\"ticklen\":8,\"ticks\":\"outside\",\"tickwidth\":2}},\"type\":\"scattergl\"}],\"scattermapbox\":[{\"marker\":{\"colorbar\":{\"outlinewidth\":0,\"tickcolor\":\"rgb(36,36,36)\",\"ticklen\":8,\"ticks\":\"outside\",\"tickwidth\":2}},\"type\":\"scattermapbox\"}],\"scatterpolargl\":[{\"marker\":{\"colorbar\":{\"outlinewidth\":0,\"tickcolor\":\"rgb(36,36,36)\",\"ticklen\":8,\"ticks\":\"outside\",\"tickwidth\":2}},\"type\":\"scatterpolargl\"}],\"scatterpolar\":[{\"marker\":{\"colorbar\":{\"outlinewidth\":0,\"tickcolor\":\"rgb(36,36,36)\",\"ticklen\":8,\"ticks\":\"outside\",\"tickwidth\":2}},\"type\":\"scatterpolar\"}],\"scatter\":[{\"fillpattern\":{\"fillmode\":\"overlay\",\"size\":10,\"solidity\":0.2},\"type\":\"scatter\"}],\"scatterternary\":[{\"marker\":{\"colorbar\":{\"outlinewidth\":0,\"tickcolor\":\"rgb(36,36,36)\",\"ticklen\":8,\"ticks\":\"outside\",\"tickwidth\":2}},\"type\":\"scatterternary\"}],\"surface\":[{\"colorbar\":{\"outlinewidth\":0,\"tickcolor\":\"rgb(36,36,36)\",\"ticklen\":8,\"ticks\":\"outside\",\"tickwidth\":2},\"colorscale\":[[0.0,\"rgb(2,4,25)\"],[0.06274509803921569,\"rgb(24,15,41)\"],[0.12549019607843137,\"rgb(47,23,57)\"],[0.18823529411764706,\"rgb(71,28,72)\"],[0.25098039215686274,\"rgb(97,30,82)\"],[0.3137254901960784,\"rgb(123,30,89)\"],[0.3764705882352941,\"rgb(150,27,91)\"],[0.4392156862745098,\"rgb(177,22,88)\"],[0.5019607843137255,\"rgb(203,26,79)\"],[0.5647058823529412,\"rgb(223,47,67)\"],[0.6274509803921569,\"rgb(236,76,61)\"],[0.6901960784313725,\"rgb(242,107,73)\"],[0.7529411764705882,\"rgb(244,135,95)\"],[0.8156862745098039,\"rgb(245,162,122)\"],[0.8784313725490196,\"rgb(246,188,153)\"],[0.9411764705882353,\"rgb(247,212,187)\"],[1.0,\"rgb(250,234,220)\"]],\"type\":\"surface\"}],\"table\":[{\"cells\":{\"fill\":{\"color\":\"rgb(231,231,240)\"},\"line\":{\"color\":\"white\"}},\"header\":{\"fill\":{\"color\":\"rgb(183,183,191)\"},\"line\":{\"color\":\"white\"}},\"type\":\"table\"}]},\"layout\":{\"annotationdefaults\":{\"arrowcolor\":\"rgb(67,103,167)\"},\"autotypenumbers\":\"strict\",\"coloraxis\":{\"colorbar\":{\"outlinewidth\":0,\"tickcolor\":\"rgb(36,36,36)\",\"ticklen\":8,\"ticks\":\"outside\",\"tickwidth\":2}},\"colorscale\":{\"sequential\":[[0.0,\"rgb(2,4,25)\"],[0.06274509803921569,\"rgb(24,15,41)\"],[0.12549019607843137,\"rgb(47,23,57)\"],[0.18823529411764706,\"rgb(71,28,72)\"],[0.25098039215686274,\"rgb(97,30,82)\"],[0.3137254901960784,\"rgb(123,30,89)\"],[0.3764705882352941,\"rgb(150,27,91)\"],[0.4392156862745098,\"rgb(177,22,88)\"],[0.5019607843137255,\"rgb(203,26,79)\"],[0.5647058823529412,\"rgb(223,47,67)\"],[0.6274509803921569,\"rgb(236,76,61)\"],[0.6901960784313725,\"rgb(242,107,73)\"],[0.7529411764705882,\"rgb(244,135,95)\"],[0.8156862745098039,\"rgb(245,162,122)\"],[0.8784313725490196,\"rgb(246,188,153)\"],[0.9411764705882353,\"rgb(247,212,187)\"],[1.0,\"rgb(250,234,220)\"]],\"sequentialminus\":[[0.0,\"rgb(2,4,25)\"],[0.06274509803921569,\"rgb(24,15,41)\"],[0.12549019607843137,\"rgb(47,23,57)\"],[0.18823529411764706,\"rgb(71,28,72)\"],[0.25098039215686274,\"rgb(97,30,82)\"],[0.3137254901960784,\"rgb(123,30,89)\"],[0.3764705882352941,\"rgb(150,27,91)\"],[0.4392156862745098,\"rgb(177,22,88)\"],[0.5019607843137255,\"rgb(203,26,79)\"],[0.5647058823529412,\"rgb(223,47,67)\"],[0.6274509803921569,\"rgb(236,76,61)\"],[0.6901960784313725,\"rgb(242,107,73)\"],[0.7529411764705882,\"rgb(244,135,95)\"],[0.8156862745098039,\"rgb(245,162,122)\"],[0.8784313725490196,\"rgb(246,188,153)\"],[0.9411764705882353,\"rgb(247,212,187)\"],[1.0,\"rgb(250,234,220)\"]]},\"colorway\":[\"rgb(76,114,176)\",\"rgb(221,132,82)\",\"rgb(85,168,104)\",\"rgb(196,78,82)\",\"rgb(129,114,179)\",\"rgb(147,120,96)\",\"rgb(218,139,195)\",\"rgb(140,140,140)\",\"rgb(204,185,116)\",\"rgb(100,181,205)\"],\"font\":{\"color\":\"rgb(36,36,36)\"},\"geo\":{\"bgcolor\":\"white\",\"lakecolor\":\"white\",\"landcolor\":\"rgb(234,234,242)\",\"showlakes\":true,\"showland\":true,\"subunitcolor\":\"white\"},\"hoverlabel\":{\"align\":\"left\"},\"hovermode\":\"closest\",\"paper_bgcolor\":\"white\",\"plot_bgcolor\":\"rgb(234,234,242)\",\"polar\":{\"angularaxis\":{\"gridcolor\":\"white\",\"linecolor\":\"white\",\"showgrid\":true,\"ticks\":\"\"},\"bgcolor\":\"rgb(234,234,242)\",\"radialaxis\":{\"gridcolor\":\"white\",\"linecolor\":\"white\",\"showgrid\":true,\"ticks\":\"\"}},\"scene\":{\"xaxis\":{\"backgroundcolor\":\"rgb(234,234,242)\",\"gridcolor\":\"white\",\"gridwidth\":2,\"linecolor\":\"white\",\"showbackground\":true,\"showgrid\":true,\"ticks\":\"\",\"zerolinecolor\":\"white\"},\"yaxis\":{\"backgroundcolor\":\"rgb(234,234,242)\",\"gridcolor\":\"white\",\"gridwidth\":2,\"linecolor\":\"white\",\"showbackground\":true,\"showgrid\":true,\"ticks\":\"\",\"zerolinecolor\":\"white\"},\"zaxis\":{\"backgroundcolor\":\"rgb(234,234,242)\",\"gridcolor\":\"white\",\"gridwidth\":2,\"linecolor\":\"white\",\"showbackground\":true,\"showgrid\":true,\"ticks\":\"\",\"zerolinecolor\":\"white\"}},\"shapedefaults\":{\"fillcolor\":\"rgb(67,103,167)\",\"line\":{\"width\":0},\"opacity\":0.5},\"ternary\":{\"aaxis\":{\"gridcolor\":\"white\",\"linecolor\":\"white\",\"showgrid\":true,\"ticks\":\"\"},\"baxis\":{\"gridcolor\":\"white\",\"linecolor\":\"white\",\"showgrid\":true,\"ticks\":\"\"},\"bgcolor\":\"rgb(234,234,242)\",\"caxis\":{\"gridcolor\":\"white\",\"linecolor\":\"white\",\"showgrid\":true,\"ticks\":\"\"}},\"xaxis\":{\"automargin\":true,\"gridcolor\":\"white\",\"linecolor\":\"white\",\"showgrid\":true,\"ticks\":\"\",\"title\":{\"standoff\":15},\"zerolinecolor\":\"white\"},\"yaxis\":{\"automargin\":true,\"gridcolor\":\"white\",\"linecolor\":\"white\",\"showgrid\":true,\"ticks\":\"\",\"title\":{\"standoff\":15},\"zerolinecolor\":\"white\"}}}}}}}}}}}}}}}}}}}}}},                        {\"responsive\": true}                    ).then(function(){\n",
       "                            \n",
       "var gd = document.getElementById('c5a99aa1-bac2-44ed-8892-626ddfcaa759');\n",
       "var x = new MutationObserver(function (mutations, observer) {{\n",
       "        var display = window.getComputedStyle(gd).display;\n",
       "        if (!display || display === 'none') {{\n",
       "            console.log([gd, 'removed!']);\n",
       "            Plotly.purge(gd);\n",
       "            observer.disconnect();\n",
       "        }}\n",
       "}});\n",
       "\n",
       "// Listen for the removal of the full notebook cells\n",
       "var notebookContainer = gd.closest('#notebook-container');\n",
       "if (notebookContainer) {{\n",
       "    x.observe(notebookContainer, {childList: true});\n",
       "}}\n",
       "\n",
       "// Listen for the clearing of the current output cell\n",
       "var outputEl = gd.closest('.output');\n",
       "if (outputEl) {{\n",
       "    x.observe(outputEl, {childList: true});\n",
       "}}\n",
       "\n",
       "                        })                };                });            </script>        </div>"
      ]
     },
     "metadata": {},
     "output_type": "display_data"
    }
   ],
   "source": [
    "import plotly.graph_objs as go\n",
    "import plotly.io as pio\n",
    "\n",
    "pio.templates[\"seaborn\"] = go.layout.Template(layout=go.Layout(template=\"seaborn\"))\n",
    "pio.templates.default = \"seaborn\"\n",
    "\n",
    "scatter_plot = go.Scatter(x=ref.index, y=ref['agr'], mode='lines', name='코스피 수익률')\n",
    "scatter_plot_mean = go.Scatter(x=result_df.index, y=result_df['평균수익률'], mode='lines', name='포트폴리오 수익률')\n",
    "\n",
    "layout = go.Layout(title='<b>3개월 수익률<b>',\n",
    "                   xaxis=dict(title='날짜'),\n",
    "                   yaxis=dict(title='수익률'))\n",
    "\n",
    "# 그래프 객체를 figure로 생성합니다.\n",
    "fig = go.Figure(data=[scatter_plot, scatter_plot_mean], layout=layout)\n",
    "\n",
    "# 그래프 출력\n",
    "fig.show()"
   ]
  }
 ],
 "metadata": {
  "kernelspec": {
   "display_name": "Python 3 (ipykernel)",
   "language": "python",
   "name": "python3"
  },
  "language_info": {
   "codemirror_mode": {
    "name": "ipython",
    "version": 3
   },
   "file_extension": ".py",
   "mimetype": "text/x-python",
   "name": "python",
   "nbconvert_exporter": "python",
   "pygments_lexer": "ipython3",
   "version": "3.11.4"
  }
 },
 "nbformat": 4,
 "nbformat_minor": 5
}
