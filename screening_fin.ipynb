{
 "cells": [
  {
   "cell_type": "code",
   "execution_count": 2,
   "id": "f3aa6561",
   "metadata": {},
   "outputs": [
    {
     "data": {
      "text/html": [
       "        <script type=\"text/javascript\">\n",
       "        window.PlotlyConfig = {MathJaxConfig: 'local'};\n",
       "        if (window.MathJax && window.MathJax.Hub && window.MathJax.Hub.Config) {window.MathJax.Hub.Config({SVG: {font: \"STIX-Web\"}});}\n",
       "        if (typeof require !== 'undefined') {\n",
       "        require.undef(\"plotly\");\n",
       "        requirejs.config({\n",
       "            paths: {\n",
       "                'plotly': ['https://cdn.plot.ly/plotly-2.12.1.min']\n",
       "            }\n",
       "        });\n",
       "        require(['plotly'], function(Plotly) {\n",
       "            window._Plotly = Plotly;\n",
       "        });\n",
       "        }\n",
       "        </script>\n",
       "        "
      ]
     },
     "metadata": {},
     "output_type": "display_data"
    }
   ],
   "source": [
    "import pandas as pd\n",
    "import numpy as np\n",
    "import chart_studio.plotly as py\n",
    "import cufflinks as cf\n",
    "cf.go_offline(connected=True)\n",
    "\n",
    "from pykrx import stock"
   ]
  },
  {
   "cell_type": "code",
   "execution_count": 8,
   "id": "34e16036",
   "metadata": {},
   "outputs": [
    {
     "data": {
      "text/html": [
       "<div>\n",
       "<style scoped>\n",
       "    .dataframe tbody tr th:only-of-type {\n",
       "        vertical-align: middle;\n",
       "    }\n",
       "\n",
       "    .dataframe tbody tr th {\n",
       "        vertical-align: top;\n",
       "    }\n",
       "\n",
       "    .dataframe thead th {\n",
       "        text-align: right;\n",
       "    }\n",
       "</style>\n",
       "<table border=\"1\" class=\"dataframe\">\n",
       "  <thead>\n",
       "    <tr style=\"text-align: right;\">\n",
       "      <th></th>\n",
       "      <th>종목명</th>\n",
       "      <th>종가</th>\n",
       "    </tr>\n",
       "    <tr>\n",
       "      <th>티커</th>\n",
       "      <th></th>\n",
       "      <th></th>\n",
       "    </tr>\n",
       "  </thead>\n",
       "  <tbody>\n",
       "    <tr>\n",
       "      <th>060310</th>\n",
       "      <td>3S</td>\n",
       "      <td>2885</td>\n",
       "    </tr>\n",
       "    <tr>\n",
       "      <th>054620</th>\n",
       "      <td>APS</td>\n",
       "      <td>7310</td>\n",
       "    </tr>\n",
       "    <tr>\n",
       "      <th>265520</th>\n",
       "      <td>AP시스템</td>\n",
       "      <td>20800</td>\n",
       "    </tr>\n",
       "    <tr>\n",
       "      <th>211270</th>\n",
       "      <td>AP위성</td>\n",
       "      <td>16120</td>\n",
       "    </tr>\n",
       "    <tr>\n",
       "      <th>139050</th>\n",
       "      <td>BF랩스</td>\n",
       "      <td>7730</td>\n",
       "    </tr>\n",
       "  </tbody>\n",
       "</table>\n",
       "</div>"
      ],
      "text/plain": [
       "          종목명     종가\n",
       "티커                  \n",
       "060310     3S   2885\n",
       "054620    APS   7310\n",
       "265520  AP시스템  20800\n",
       "211270   AP위성  16120\n",
       "139050   BF랩스   7730"
      ]
     },
     "execution_count": 8,
     "metadata": {},
     "output_type": "execute_result"
    }
   ],
   "source": [
    "data = pd.read_csv('data.csv', encoding='cp949')\n",
    "data = data.set_index('종목코드')\n",
    "data = data.rename_axis(index='티커')\n",
    "data = data[['종목명', '종가']]\n",
    "data.head()"
   ]
  },
  {
   "cell_type": "code",
   "execution_count": 4,
   "id": "879c0f0d",
   "metadata": {},
   "outputs": [
    {
     "data": {
      "text/html": [
       "<div>\n",
       "<style scoped>\n",
       "    .dataframe tbody tr th:only-of-type {\n",
       "        vertical-align: middle;\n",
       "    }\n",
       "\n",
       "    .dataframe tbody tr th {\n",
       "        vertical-align: top;\n",
       "    }\n",
       "\n",
       "    .dataframe thead th {\n",
       "        text-align: right;\n",
       "    }\n",
       "</style>\n",
       "<table border=\"1\" class=\"dataframe\">\n",
       "  <thead>\n",
       "    <tr style=\"text-align: right;\">\n",
       "      <th></th>\n",
       "      <th>BPS</th>\n",
       "      <th>PER</th>\n",
       "      <th>PBR</th>\n",
       "      <th>EPS</th>\n",
       "      <th>DIV</th>\n",
       "      <th>DPS</th>\n",
       "    </tr>\n",
       "    <tr>\n",
       "      <th>티커</th>\n",
       "      <th></th>\n",
       "      <th></th>\n",
       "      <th></th>\n",
       "      <th></th>\n",
       "      <th></th>\n",
       "      <th></th>\n",
       "    </tr>\n",
       "  </thead>\n",
       "  <tbody>\n",
       "    <tr>\n",
       "      <th>060310</th>\n",
       "      <td>947</td>\n",
       "      <td>96.17</td>\n",
       "      <td>3.05</td>\n",
       "      <td>30</td>\n",
       "      <td>0.00</td>\n",
       "      <td>0</td>\n",
       "    </tr>\n",
       "    <tr>\n",
       "      <th>054620</th>\n",
       "      <td>10864</td>\n",
       "      <td>14.48</td>\n",
       "      <td>0.67</td>\n",
       "      <td>505</td>\n",
       "      <td>0.00</td>\n",
       "      <td>0</td>\n",
       "    </tr>\n",
       "    <tr>\n",
       "      <th>265520</th>\n",
       "      <td>17980</td>\n",
       "      <td>3.81</td>\n",
       "      <td>1.16</td>\n",
       "      <td>5463</td>\n",
       "      <td>1.30</td>\n",
       "      <td>270</td>\n",
       "    </tr>\n",
       "    <tr>\n",
       "      <th>211270</th>\n",
       "      <td>5997</td>\n",
       "      <td>56.17</td>\n",
       "      <td>2.69</td>\n",
       "      <td>287</td>\n",
       "      <td>0.43</td>\n",
       "      <td>70</td>\n",
       "    </tr>\n",
       "    <tr>\n",
       "      <th>139050</th>\n",
       "      <td>5010</td>\n",
       "      <td>0.00</td>\n",
       "      <td>1.54</td>\n",
       "      <td>0</td>\n",
       "      <td>0.00</td>\n",
       "      <td>0</td>\n",
       "    </tr>\n",
       "  </tbody>\n",
       "</table>\n",
       "</div>"
      ],
      "text/plain": [
       "          BPS    PER   PBR   EPS   DIV  DPS\n",
       "티커                                         \n",
       "060310    947  96.17  3.05    30  0.00    0\n",
       "054620  10864  14.48  0.67   505  0.00    0\n",
       "265520  17980   3.81  1.16  5463  1.30  270\n",
       "211270   5997  56.17  2.69   287  0.43   70\n",
       "139050   5010   0.00  1.54     0  0.00    0"
      ]
     },
     "execution_count": 4,
     "metadata": {},
     "output_type": "execute_result"
    }
   ],
   "source": [
    "df = stock.get_market_fundamental_by_ticker(date='20240315', market=\"KOSDAQ\")\n",
    "df.head()"
   ]
  },
  {
   "cell_type": "code",
   "execution_count": 5,
   "id": "75aba902",
   "metadata": {},
   "outputs": [
    {
     "data": {
      "text/html": [
       "<div>\n",
       "<style scoped>\n",
       "    .dataframe tbody tr th:only-of-type {\n",
       "        vertical-align: middle;\n",
       "    }\n",
       "\n",
       "    .dataframe tbody tr th {\n",
       "        vertical-align: top;\n",
       "    }\n",
       "\n",
       "    .dataframe thead th {\n",
       "        text-align: right;\n",
       "    }\n",
       "</style>\n",
       "<table border=\"1\" class=\"dataframe\">\n",
       "  <thead>\n",
       "    <tr style=\"text-align: right;\">\n",
       "      <th></th>\n",
       "      <th>BPS</th>\n",
       "      <th>PER</th>\n",
       "      <th>PBR</th>\n",
       "      <th>EPS</th>\n",
       "      <th>DIV</th>\n",
       "      <th>DPS</th>\n",
       "    </tr>\n",
       "  </thead>\n",
       "  <tbody>\n",
       "    <tr>\n",
       "      <th>count</th>\n",
       "      <td>1698.000000</td>\n",
       "      <td>1698.000000</td>\n",
       "      <td>1698.000000</td>\n",
       "      <td>1698.000000</td>\n",
       "      <td>1698.000000</td>\n",
       "      <td>1698.000000</td>\n",
       "    </tr>\n",
       "    <tr>\n",
       "      <th>mean</th>\n",
       "      <td>6394.591873</td>\n",
       "      <td>35.337385</td>\n",
       "      <td>2.939823</td>\n",
       "      <td>572.537102</td>\n",
       "      <td>0.742303</td>\n",
       "      <td>86.898704</td>\n",
       "    </tr>\n",
       "    <tr>\n",
       "      <th>std</th>\n",
       "      <td>9783.363365</td>\n",
       "      <td>278.113901</td>\n",
       "      <td>14.070972</td>\n",
       "      <td>1411.139293</td>\n",
       "      <td>1.470416</td>\n",
       "      <td>270.090579</td>\n",
       "    </tr>\n",
       "    <tr>\n",
       "      <th>min</th>\n",
       "      <td>0.000000</td>\n",
       "      <td>0.000000</td>\n",
       "      <td>0.000000</td>\n",
       "      <td>0.000000</td>\n",
       "      <td>0.000000</td>\n",
       "      <td>0.000000</td>\n",
       "    </tr>\n",
       "    <tr>\n",
       "      <th>25%</th>\n",
       "      <td>1305.250000</td>\n",
       "      <td>0.000000</td>\n",
       "      <td>0.670000</td>\n",
       "      <td>0.000000</td>\n",
       "      <td>0.000000</td>\n",
       "      <td>0.000000</td>\n",
       "    </tr>\n",
       "    <tr>\n",
       "      <th>50%</th>\n",
       "      <td>3481.000000</td>\n",
       "      <td>5.995000</td>\n",
       "      <td>1.230000</td>\n",
       "      <td>86.000000</td>\n",
       "      <td>0.000000</td>\n",
       "      <td>0.000000</td>\n",
       "    </tr>\n",
       "    <tr>\n",
       "      <th>75%</th>\n",
       "      <td>7622.750000</td>\n",
       "      <td>20.262500</td>\n",
       "      <td>2.510000</td>\n",
       "      <td>564.750000</td>\n",
       "      <td>0.980000</td>\n",
       "      <td>70.000000</td>\n",
       "    </tr>\n",
       "    <tr>\n",
       "      <th>max</th>\n",
       "      <td>171357.000000</td>\n",
       "      <td>8700.000000</td>\n",
       "      <td>522.350000</td>\n",
       "      <td>21470.000000</td>\n",
       "      <td>14.210000</td>\n",
       "      <td>5100.000000</td>\n",
       "    </tr>\n",
       "  </tbody>\n",
       "</table>\n",
       "</div>"
      ],
      "text/plain": [
       "                 BPS          PER          PBR           EPS          DIV  \\\n",
       "count    1698.000000  1698.000000  1698.000000   1698.000000  1698.000000   \n",
       "mean     6394.591873    35.337385     2.939823    572.537102     0.742303   \n",
       "std      9783.363365   278.113901    14.070972   1411.139293     1.470416   \n",
       "min         0.000000     0.000000     0.000000      0.000000     0.000000   \n",
       "25%      1305.250000     0.000000     0.670000      0.000000     0.000000   \n",
       "50%      3481.000000     5.995000     1.230000     86.000000     0.000000   \n",
       "75%      7622.750000    20.262500     2.510000    564.750000     0.980000   \n",
       "max    171357.000000  8700.000000   522.350000  21470.000000    14.210000   \n",
       "\n",
       "               DPS  \n",
       "count  1698.000000  \n",
       "mean     86.898704  \n",
       "std     270.090579  \n",
       "min       0.000000  \n",
       "25%       0.000000  \n",
       "50%       0.000000  \n",
       "75%      70.000000  \n",
       "max    5100.000000  "
      ]
     },
     "execution_count": 5,
     "metadata": {},
     "output_type": "execute_result"
    }
   ],
   "source": [
    "df.describe() #per<5, pbr<0.67"
   ]
  },
  {
   "cell_type": "code",
   "execution_count": 6,
   "id": "ed0cff69",
   "metadata": {},
   "outputs": [
    {
     "data": {
      "text/html": [
       "<div>\n",
       "<style scoped>\n",
       "    .dataframe tbody tr th:only-of-type {\n",
       "        vertical-align: middle;\n",
       "    }\n",
       "\n",
       "    .dataframe tbody tr th {\n",
       "        vertical-align: top;\n",
       "    }\n",
       "\n",
       "    .dataframe thead th {\n",
       "        text-align: right;\n",
       "    }\n",
       "</style>\n",
       "<table border=\"1\" class=\"dataframe\">\n",
       "  <thead>\n",
       "    <tr style=\"text-align: right;\">\n",
       "      <th></th>\n",
       "      <th>PER</th>\n",
       "      <th>PBR</th>\n",
       "    </tr>\n",
       "    <tr>\n",
       "      <th>티커</th>\n",
       "      <th></th>\n",
       "      <th></th>\n",
       "    </tr>\n",
       "  </thead>\n",
       "  <tbody>\n",
       "    <tr>\n",
       "      <th>035760</th>\n",
       "      <td>0.00</td>\n",
       "      <td>0.45</td>\n",
       "    </tr>\n",
       "    <tr>\n",
       "      <th>023460</th>\n",
       "      <td>0.00</td>\n",
       "      <td>0.52</td>\n",
       "    </tr>\n",
       "    <tr>\n",
       "      <th>456440</th>\n",
       "      <td>0.00</td>\n",
       "      <td>0.00</td>\n",
       "    </tr>\n",
       "    <tr>\n",
       "      <th>290120</th>\n",
       "      <td>1.57</td>\n",
       "      <td>0.44</td>\n",
       "    </tr>\n",
       "    <tr>\n",
       "      <th>050120</th>\n",
       "      <td>1.37</td>\n",
       "      <td>0.32</td>\n",
       "    </tr>\n",
       "    <tr>\n",
       "      <th>...</th>\n",
       "      <td>...</td>\n",
       "      <td>...</td>\n",
       "    </tr>\n",
       "    <tr>\n",
       "      <th>192410</th>\n",
       "      <td>0.00</td>\n",
       "      <td>0.32</td>\n",
       "    </tr>\n",
       "    <tr>\n",
       "      <th>205470</th>\n",
       "      <td>1.17</td>\n",
       "      <td>0.60</td>\n",
       "    </tr>\n",
       "    <tr>\n",
       "      <th>115160</th>\n",
       "      <td>0.00</td>\n",
       "      <td>0.44</td>\n",
       "    </tr>\n",
       "    <tr>\n",
       "      <th>028080</th>\n",
       "      <td>0.00</td>\n",
       "      <td>0.44</td>\n",
       "    </tr>\n",
       "    <tr>\n",
       "      <th>084110</th>\n",
       "      <td>0.00</td>\n",
       "      <td>0.58</td>\n",
       "    </tr>\n",
       "  </tbody>\n",
       "</table>\n",
       "<p>293 rows × 2 columns</p>\n",
       "</div>"
      ],
      "text/plain": [
       "         PER   PBR\n",
       "티커                \n",
       "035760  0.00  0.45\n",
       "023460  0.00  0.52\n",
       "456440  0.00  0.00\n",
       "290120  1.57  0.44\n",
       "050120  1.37  0.32\n",
       "...      ...   ...\n",
       "192410  0.00  0.32\n",
       "205470  1.17  0.60\n",
       "115160  0.00  0.44\n",
       "028080  0.00  0.44\n",
       "084110  0.00  0.58\n",
       "\n",
       "[293 rows x 2 columns]"
      ]
     },
     "execution_count": 6,
     "metadata": {},
     "output_type": "execute_result"
    }
   ],
   "source": [
    "df2 = df.loc[(df['PER'] < 5) & (df['PBR'] < 0.67)]\n",
    "df2 = df2[['PER', 'PBR']]\n",
    "df2"
   ]
  },
  {
   "cell_type": "code",
   "execution_count": 11,
   "id": "92f22116",
   "metadata": {},
   "outputs": [
    {
     "data": {
      "text/html": [
       "<div>\n",
       "<style scoped>\n",
       "    .dataframe tbody tr th:only-of-type {\n",
       "        vertical-align: middle;\n",
       "    }\n",
       "\n",
       "    .dataframe tbody tr th {\n",
       "        vertical-align: top;\n",
       "    }\n",
       "\n",
       "    .dataframe thead th {\n",
       "        text-align: right;\n",
       "    }\n",
       "</style>\n",
       "<table border=\"1\" class=\"dataframe\">\n",
       "  <thead>\n",
       "    <tr style=\"text-align: right;\">\n",
       "      <th></th>\n",
       "      <th>종목명</th>\n",
       "      <th>종가</th>\n",
       "      <th>PER</th>\n",
       "      <th>PBR</th>\n",
       "    </tr>\n",
       "    <tr>\n",
       "      <th>티커</th>\n",
       "      <th></th>\n",
       "      <th></th>\n",
       "      <th></th>\n",
       "      <th></th>\n",
       "    </tr>\n",
       "  </thead>\n",
       "  <tbody>\n",
       "    <tr>\n",
       "      <th>035760</th>\n",
       "      <td>CJ ENM</td>\n",
       "      <td>76300</td>\n",
       "      <td>0.00</td>\n",
       "      <td>0.45</td>\n",
       "    </tr>\n",
       "    <tr>\n",
       "      <th>023460</th>\n",
       "      <td>CNH</td>\n",
       "      <td>1787</td>\n",
       "      <td>0.00</td>\n",
       "      <td>0.52</td>\n",
       "    </tr>\n",
       "    <tr>\n",
       "      <th>456440</th>\n",
       "      <td>DB금융스팩11호</td>\n",
       "      <td>2270</td>\n",
       "      <td>0.00</td>\n",
       "      <td>0.00</td>\n",
       "    </tr>\n",
       "    <tr>\n",
       "      <th>290120</th>\n",
       "      <td>DH오토리드</td>\n",
       "      <td>3250</td>\n",
       "      <td>1.57</td>\n",
       "      <td>0.44</td>\n",
       "    </tr>\n",
       "    <tr>\n",
       "      <th>050120</th>\n",
       "      <td>ES큐브</td>\n",
       "      <td>2635</td>\n",
       "      <td>1.37</td>\n",
       "      <td>0.32</td>\n",
       "    </tr>\n",
       "    <tr>\n",
       "      <th>...</th>\n",
       "      <td>...</td>\n",
       "      <td>...</td>\n",
       "      <td>...</td>\n",
       "      <td>...</td>\n",
       "    </tr>\n",
       "    <tr>\n",
       "      <th>192410</th>\n",
       "      <td>휴림네트웍스</td>\n",
       "      <td>424</td>\n",
       "      <td>0.00</td>\n",
       "      <td>0.32</td>\n",
       "    </tr>\n",
       "    <tr>\n",
       "      <th>205470</th>\n",
       "      <td>휴마시스</td>\n",
       "      <td>1711</td>\n",
       "      <td>1.17</td>\n",
       "      <td>0.60</td>\n",
       "    </tr>\n",
       "    <tr>\n",
       "      <th>115160</th>\n",
       "      <td>휴맥스</td>\n",
       "      <td>2845</td>\n",
       "      <td>0.00</td>\n",
       "      <td>0.44</td>\n",
       "    </tr>\n",
       "    <tr>\n",
       "      <th>028080</th>\n",
       "      <td>휴맥스홀딩스</td>\n",
       "      <td>4140</td>\n",
       "      <td>0.00</td>\n",
       "      <td>0.44</td>\n",
       "    </tr>\n",
       "    <tr>\n",
       "      <th>084110</th>\n",
       "      <td>휴온스글로벌</td>\n",
       "      <td>22100</td>\n",
       "      <td>0.00</td>\n",
       "      <td>0.58</td>\n",
       "    </tr>\n",
       "  </tbody>\n",
       "</table>\n",
       "<p>293 rows × 4 columns</p>\n",
       "</div>"
      ],
      "text/plain": [
       "              종목명     종가   PER   PBR\n",
       "티커                                  \n",
       "035760     CJ ENM  76300  0.00  0.45\n",
       "023460        CNH   1787  0.00  0.52\n",
       "456440  DB금융스팩11호   2270  0.00  0.00\n",
       "290120     DH오토리드   3250  1.57  0.44\n",
       "050120       ES큐브   2635  1.37  0.32\n",
       "...           ...    ...   ...   ...\n",
       "192410     휴림네트웍스    424  0.00  0.32\n",
       "205470       휴마시스   1711  1.17  0.60\n",
       "115160        휴맥스   2845  0.00  0.44\n",
       "028080     휴맥스홀딩스   4140  0.00  0.44\n",
       "084110     휴온스글로벌  22100  0.00  0.58\n",
       "\n",
       "[293 rows x 4 columns]"
      ]
     },
     "execution_count": 11,
     "metadata": {},
     "output_type": "execute_result"
    }
   ],
   "source": [
    "df3 = pd.merge(data, df2, on='티커')\n",
    "df3"
   ]
  },
  {
   "cell_type": "code",
   "execution_count": 13,
   "id": "6087dc56",
   "metadata": {},
   "outputs": [
    {
     "data": {
      "text/plain": [
       "(64, 4)"
      ]
     },
     "execution_count": 13,
     "metadata": {},
     "output_type": "execute_result"
    }
   ],
   "source": [
    "df3 = df3.loc[(df['PER'] > 0) & (df['PBR'] > 0)]\n",
    "df3.shape #64개의 항목을 추출합니다"
   ]
  },
  {
   "cell_type": "code",
   "execution_count": 129,
   "id": "fe3ea684",
   "metadata": {},
   "outputs": [
    {
     "data": {
      "text/html": [
       "<div>\n",
       "<style scoped>\n",
       "    .dataframe tbody tr th:only-of-type {\n",
       "        vertical-align: middle;\n",
       "    }\n",
       "\n",
       "    .dataframe tbody tr th {\n",
       "        vertical-align: top;\n",
       "    }\n",
       "\n",
       "    .dataframe thead th {\n",
       "        text-align: right;\n",
       "    }\n",
       "</style>\n",
       "<table border=\"1\" class=\"dataframe\">\n",
       "  <thead>\n",
       "    <tr style=\"text-align: right;\">\n",
       "      <th></th>\n",
       "      <th>종가</th>\n",
       "      <th>중심 밴드</th>\n",
       "      <th>이격도</th>\n",
       "    </tr>\n",
       "    <tr>\n",
       "      <th>날짜</th>\n",
       "      <th></th>\n",
       "      <th></th>\n",
       "      <th></th>\n",
       "    </tr>\n",
       "  </thead>\n",
       "  <tbody>\n",
       "    <tr>\n",
       "      <th>2024-03-14</th>\n",
       "      <td>2555</td>\n",
       "      <td>2793.25</td>\n",
       "      <td>91.470509</td>\n",
       "    </tr>\n",
       "    <tr>\n",
       "      <th>2024-03-15</th>\n",
       "      <td>2555</td>\n",
       "      <td>2775.50</td>\n",
       "      <td>92.055485</td>\n",
       "    </tr>\n",
       "  </tbody>\n",
       "</table>\n",
       "</div>"
      ],
      "text/plain": [
       "              종가    중심 밴드        이격도\n",
       "날짜                                  \n",
       "2024-03-14  2555  2793.25  91.470509\n",
       "2024-03-15  2555  2775.50  92.055485"
      ]
     },
     "execution_count": 129,
     "metadata": {},
     "output_type": "execute_result"
    }
   ],
   "source": [
    "data = stock.get_market_ohlcv('20240215', '20240315', ticker)\n",
    "data = data[['종가']]\n",
    "std_dev = data['종가'].rolling(20).std()\n",
    "\n",
    "data['중심 밴드'] = data['종가'].rolling(20).mean()\n",
    "data['이격도'] = (data['종가'] / data['중심 밴드']) * 100\n",
    "data.dropna()"
   ]
  },
  {
   "cell_type": "code",
   "execution_count": 14,
   "id": "41ccd6d0",
   "metadata": {},
   "outputs": [
    {
     "data": {
      "text/plain": [
       "Index(['290120', '050120', '151860', '040610', '016250', '121440', '035080',\n",
       "       '036800', '091590', '039560', '032190', '017650', '007680', '005710',\n",
       "       '140520', '067990', '088910', '013120', '038060', '012700', '241770',\n",
       "       '101330', '053700', '023600', '037460', '017480', '038540', '093920',\n",
       "       '011370', '035890', '011560', '024830', '115570', '036710', '037760',\n",
       "       '352700', '115480', '127710', '054800', '013310', '306040', '003800',\n",
       "       '073540', '054940', '009780', '073560', '032940', '030530', '012620',\n",
       "       '377460', '024800', '119850', '024880', '033290', '052330', '124560',\n",
       "       '104480', '081150', '106240', '225590', '003380', '023760', '045100',\n",
       "       '205470'],\n",
       "      dtype='object', name='티커')"
      ]
     },
     "execution_count": 14,
     "metadata": {},
     "output_type": "execute_result"
    }
   ],
   "source": [
    "df3.index"
   ]
  },
  {
   "cell_type": "code",
   "execution_count": 15,
   "id": "e1385e3b",
   "metadata": {},
   "outputs": [],
   "source": [
    "result_df = pd.DataFrame()\n",
    "tickers = ['290120', '050120', '151860', '040610', '016250', '121440', '035080',\n",
    "       '036800', '091590', '039560', '032190', '017650', '007680', '005710',\n",
    "       '140520', '067990', '088910', '013120', '038060', '012700', '241770',\n",
    "       '101330', '053700', '023600', '037460', '017480', '038540', '093920',\n",
    "       '011370', '035890', '011560', '024830', '115570', '036710', '037760',\n",
    "       '352700', '115480', '127710', '054800', '013310', '306040', '003800',\n",
    "       '073540', '054940', '009780', '073560', '032940', '030530', '012620',\n",
    "       '377460', '024800', '119850', '024880', '033290', '052330', '124560',\n",
    "       '104480', '081150', '106240', '225590', '003380', '023760', '045100',\n",
    "       '205470']\n",
    "\n",
    "for ticker in tickers : \n",
    "    data = stock.get_market_ohlcv('20240215', '20240315', ticker)\n",
    "    data = data[['종가']]\n",
    "    std_dev = data['종가'].rolling(20).std()\n",
    "    \n",
    "    data['중심 밴드'] = data['종가'].rolling(20).mean()\n",
    "    data['이격도'] = (data['종가'] / data['중심 밴드']) * 100\n",
    "    data = data.dropna()\n",
    "    \n",
    "    result_df[ticker] = data['이격도']\n",
    "\n",
    "\n",
    "result_df = result_df.rename_axis(index='티커')\n",
    "result_df = result_df.T "
   ]
  },
  {
   "cell_type": "code",
   "execution_count": 18,
   "id": "50323cae",
   "metadata": {},
   "outputs": [
    {
     "data": {
      "text/html": [
       "<div>\n",
       "<style scoped>\n",
       "    .dataframe tbody tr th:only-of-type {\n",
       "        vertical-align: middle;\n",
       "    }\n",
       "\n",
       "    .dataframe tbody tr th {\n",
       "        vertical-align: top;\n",
       "    }\n",
       "\n",
       "    .dataframe thead th {\n",
       "        text-align: right;\n",
       "    }\n",
       "</style>\n",
       "<table border=\"1\" class=\"dataframe\">\n",
       "  <thead>\n",
       "    <tr style=\"text-align: right;\">\n",
       "      <th>티커</th>\n",
       "      <th>2024-03-14</th>\n",
       "      <th>2024-03-15</th>\n",
       "    </tr>\n",
       "  </thead>\n",
       "  <tbody>\n",
       "    <tr>\n",
       "      <th>count</th>\n",
       "      <td>64.000000</td>\n",
       "      <td>64.000000</td>\n",
       "    </tr>\n",
       "    <tr>\n",
       "      <th>mean</th>\n",
       "      <td>98.521548</td>\n",
       "      <td>98.567811</td>\n",
       "    </tr>\n",
       "    <tr>\n",
       "      <th>std</th>\n",
       "      <td>4.435725</td>\n",
       "      <td>4.398346</td>\n",
       "    </tr>\n",
       "    <tr>\n",
       "      <th>min</th>\n",
       "      <td>91.470509</td>\n",
       "      <td>92.055485</td>\n",
       "    </tr>\n",
       "    <tr>\n",
       "      <th>25%</th>\n",
       "      <td>95.999769</td>\n",
       "      <td>96.149201</td>\n",
       "    </tr>\n",
       "    <tr>\n",
       "      <th>50%</th>\n",
       "      <td>97.845470</td>\n",
       "      <td>97.923120</td>\n",
       "    </tr>\n",
       "    <tr>\n",
       "      <th>75%</th>\n",
       "      <td>100.057215</td>\n",
       "      <td>99.885604</td>\n",
       "    </tr>\n",
       "    <tr>\n",
       "      <th>max</th>\n",
       "      <td>117.671475</td>\n",
       "      <td>117.827764</td>\n",
       "    </tr>\n",
       "  </tbody>\n",
       "</table>\n",
       "</div>"
      ],
      "text/plain": [
       "티커     2024-03-14  2024-03-15\n",
       "count   64.000000   64.000000\n",
       "mean    98.521548   98.567811\n",
       "std      4.435725    4.398346\n",
       "min     91.470509   92.055485\n",
       "25%     95.999769   96.149201\n",
       "50%     97.845470   97.923120\n",
       "75%    100.057215   99.885604\n",
       "max    117.671475  117.827764"
      ]
     },
     "execution_count": 18,
     "metadata": {},
     "output_type": "execute_result"
    }
   ],
   "source": [
    "result_df.describe()"
   ]
  },
  {
   "cell_type": "code",
   "execution_count": 19,
   "id": "38b0b8d5",
   "metadata": {},
   "outputs": [
    {
     "data": {
      "text/plain": [
       "(29, 2)"
      ]
     },
     "execution_count": 19,
     "metadata": {},
     "output_type": "execute_result"
    }
   ],
   "source": [
    "re_df = result_df.loc[(result_df.iloc[:, 0] < 98) & (result_df.iloc[:, 1] < 98)]\n",
    "re_df.shape"
   ]
  },
  {
   "cell_type": "code",
   "execution_count": 30,
   "id": "6622d932",
   "metadata": {},
   "outputs": [
    {
     "data": {
      "text/plain": [
       "Index(['290120', '050120', '016250', '121440', '091590', '088910', '013120',\n",
       "       '012700', '241770', '101330', '053700', '023600', '115570', '036710',\n",
       "       '037760', '115480', '306040', '073540', '054940', '030530', '024800',\n",
       "       '033290', '124560', '104480', '081150', '106240', '225590', '003380',\n",
       "       '205470'],\n",
       "      dtype='object')"
      ]
     },
     "execution_count": 30,
     "metadata": {},
     "output_type": "execute_result"
    }
   ],
   "source": [
    "re_df.index"
   ]
  },
  {
   "cell_type": "code",
   "execution_count": 102,
   "id": "890e03e8",
   "metadata": {},
   "outputs": [
    {
     "data": {
      "text/plain": [
       "[    4133  4133.1  4133.2  4133.3  4133.4  4133.5  4133.6  4133.7  4133.8\n",
       " 0   4133    4133    4133    4133    4133    4133    4133    4133    4133\n",
       " 1   4133    4133    4133    4133    4133    4133    4133    4133    4133\n",
       " 2   4133    4133    4133    4133    4133    4133    4133    4133    4133\n",
       " 3   4133    4133    4133    4133    4133    4133    4133    4133    4133\n",
       " 4   4133    4133    4133    4133    4133    4133    4133    4133    4133\n",
       " 5   4133    4133    4133    4133    4133    4133    4133    4133    4133\n",
       " 6   4133    4133    4133    4133    4133    4133    4133    4133    4133\n",
       " 7   4133    4133    4133    4133    4133    4133    4133    4133    4133\n",
       " 8   4133    4133    4133    4133    4133    4133    4133    4133    4133\n",
       " 9   4133    4133    4133    4133    4133    4133    4133    4133    4133\n",
       " 10  4133    4133    4133    4133    4133    4133    4133    4133    4133\n",
       " 11  4133    4133    4133    4133    4133    4133    4133    4133    4133\n",
       " 12  4133    4133    4133    4133    4133    4133    4133    4133    4133\n",
       " 13  4133    4133    4133    4133    4133    4133    4133    4133    4133\n",
       " 14  4133    4133    4133    4133    4133    4133    4133    4133    4133\n",
       " 15  4133    4133    4133    4133    4133    4133    4133    4133    4133\n",
       " 16  4133    4133    4133    4133    4133    4133    4133    4133    4133\n",
       " 17  4133    4133    4133    4133    4133    4133    4133    4133    4133\n",
       " 18  4133    4133    4133    4133    4133    4133    4133    4133    4133\n",
       " 19  4133    4133    4133    4133    4133    4133    4133    4133    4133\n",
       " 20  4133    4133    4133    4133    4133    4133    4133    4133    4133\n",
       " 21  4133    4133    4133    4133    4133    4133    4133    4133    4133\n",
       " 22  4133    4133    4133    4133    4133    4133    4133    4133    4133\n",
       " 23  4133    4133    4133    4133    4133    4133    4133    4133    4133\n",
       " 24  4133    4133    4133    4133    4133    4133    4133    4133    4133\n",
       " 25  4133    4133    4133    4133    4133    4133    4133    4133    4133\n",
       " 26  4133    4133    4133    4133    4133    4133    4133    4133    4133\n",
       " 27  4133    4133    4133    4133    4133    4133    4133    4133    4133\n",
       " 28  4133    4133    4133    4133    4133    4133    4133    4133    4133\n",
       " 29  4133    4133    4133    4133    4133    4133    4133    4133    4133\n",
       " 30  4133    4133    4133    4133    4133    4133    4133    4133    4133\n",
       " 31  4133    4133    4133    4133    4133    4133    4133    4133    4133\n",
       " 32  4133    4133    4133    4133    4133    4133    4133    4133    4133\n",
       " 33  4133    4133    4133    4133    4133    4133    4133    4133    4133\n",
       " 34  4133    4133    4133    4133    4133    4133    4133    4133    4133,\n",
       "         주요재무정보                연간                                      \\\n",
       "         주요재무정보 2018/12  (IFRS연결) 2019/12  (IFRS연결) 2020/12  (IFRS연결)   \n",
       " 0          매출액               NaN           1575.00           1718.00   \n",
       " 1         영업이익               NaN            101.00            141.00   \n",
       " 2   영업이익(발표기준)               NaN            101.00            141.00   \n",
       " 3     세전계속사업이익               NaN            102.00             73.00   \n",
       " 4        당기순이익               NaN             80.00             58.00   \n",
       " 5    당기순이익(지배)               NaN             80.00             58.00   \n",
       " 6   당기순이익(비지배)               NaN              0.00              0.00   \n",
       " 7         자산총계               NaN           1283.00           1729.00   \n",
       " 8         부채총계               NaN            803.00           1229.00   \n",
       " 9         자본총계               NaN            480.00            501.00   \n",
       " 10    자본총계(지배)               NaN            467.00            500.00   \n",
       " 11   자본총계(비지배)               NaN             13.00              1.00   \n",
       " 12         자본금               NaN             54.00             54.00   \n",
       " 13    영업활동현금흐름               NaN            -48.00            210.00   \n",
       " 14    투자활동현금흐름               NaN           -355.00           -316.00   \n",
       " 15    재무활동현금흐름               NaN            332.00            233.00   \n",
       " 16       CAPEX               NaN             43.00             81.00   \n",
       " 17         FCF               NaN            -91.00            129.00   \n",
       " 18      이자발생부채               NaN            493.00            781.00   \n",
       " 19       영업이익률               NaN              6.41              8.21   \n",
       " 20        순이익률               NaN              5.07              3.36   \n",
       " 21      ROE(%)               NaN               NaN             11.93   \n",
       " 22      ROA(%)               NaN               NaN              3.83   \n",
       " 23        부채비율               NaN            167.21            245.41   \n",
       " 24       자본유보율               NaN            750.26            824.40   \n",
       " 25      EPS(원)               NaN            733.00            530.00   \n",
       " 26      PER(배)               NaN              9.73             14.10   \n",
       " 27      BPS(원)               NaN           4288.00           4593.00   \n",
       " 28      PBR(배)               NaN              1.66              1.63   \n",
       " 29    현금DPS(원)            200.00            200.00            200.00   \n",
       " 30     현금배당수익률              3.49              2.81              2.68   \n",
       " 31   현금배당성향(%)               NaN             27.28             37.76   \n",
       " 32  발행주식수(보통주)       10884000.00       10884000.00       10884299.00   \n",
       " \n",
       "                                                              \\\n",
       "    2021/12  (IFRS연결) 2022/12  (IFRS연결) 2023/12(E)  (IFRS연결)   \n",
       " 0            1790.00           2260.00                  NaN   \n",
       " 1             114.00            223.00                  NaN   \n",
       " 2             114.00            223.00                  NaN   \n",
       " 3             118.00            303.00                  NaN   \n",
       " 4              82.00            239.00                  NaN   \n",
       " 5              83.00            238.00                  NaN   \n",
       " 6              -1.00              0.00                  NaN   \n",
       " 7            2182.00           2329.00                  NaN   \n",
       " 8            1526.00           1445.00                  NaN   \n",
       " 9             656.00            884.00                  NaN   \n",
       " 10            654.00            879.00                  NaN   \n",
       " 11              2.00              5.00                  NaN   \n",
       " 12             57.00             59.00                  NaN   \n",
       " 13             59.00            199.00                  NaN   \n",
       " 14           -118.00           -140.00                  NaN   \n",
       " 15            253.00            -44.00                  NaN   \n",
       " 16            137.00             96.00                  NaN   \n",
       " 17            -78.00            103.00                  NaN   \n",
       " 18           1051.00            985.00                  NaN   \n",
       " 19              6.36              9.88                  NaN   \n",
       " 20              4.61             10.56                  NaN   \n",
       " 21             14.39             31.10                  NaN   \n",
       " 22              4.22             10.58                  NaN   \n",
       " 23            232.47            163.47                  NaN   \n",
       " 24            971.08           1339.56                  NaN   \n",
       " 25            743.00           2066.00                  NaN   \n",
       " 26              8.02              2.61                  NaN   \n",
       " 27           5723.00           7447.00                  NaN   \n",
       " 28              1.04              0.72                  NaN   \n",
       " 29            200.00            200.00                  NaN   \n",
       " 30              3.36              3.71                  NaN   \n",
       " 31             27.54              9.90                  NaN   \n",
       " 32       11433768.00       11798661.00                  NaN   \n",
       " \n",
       "                                               \n",
       "    2024/12(E)  (IFRS연결) 2025/12(E)  (IFRS연결)  \n",
       " 0                   NaN                  NaN  \n",
       " 1                   NaN                  NaN  \n",
       " 2                   NaN                  NaN  \n",
       " 3                   NaN                  NaN  \n",
       " 4                   NaN                  NaN  \n",
       " 5                   NaN                  NaN  \n",
       " 6                   NaN                  NaN  \n",
       " 7                   NaN                  NaN  \n",
       " 8                   NaN                  NaN  \n",
       " 9                   NaN                  NaN  \n",
       " 10                  NaN                  NaN  \n",
       " 11                  NaN                  NaN  \n",
       " 12                  NaN                  NaN  \n",
       " 13                  NaN                  NaN  \n",
       " 14                  NaN                  NaN  \n",
       " 15                  NaN                  NaN  \n",
       " 16                  NaN                  NaN  \n",
       " 17                  NaN                  NaN  \n",
       " 18                  NaN                  NaN  \n",
       " 19                  NaN                  NaN  \n",
       " 20                  NaN                  NaN  \n",
       " 21                  NaN                  NaN  \n",
       " 22                  NaN                  NaN  \n",
       " 23                  NaN                  NaN  \n",
       " 24                  NaN                  NaN  \n",
       " 25                  NaN                  NaN  \n",
       " 26                  NaN                  NaN  \n",
       " 27                  NaN                  NaN  \n",
       " 28                  NaN                  NaN  \n",
       " 29                  NaN                  NaN  \n",
       " 30                  NaN                  NaN  \n",
       " 31                  NaN                  NaN  \n",
       " 32                  NaN                  NaN  ]"
      ]
     },
     "execution_count": 102,
     "metadata": {},
     "output_type": "execute_result"
    }
   ],
   "source": [
    "import pandas as pd\n",
    "import json\n",
    "import requests\n",
    "\n",
    "ticker = 290120\n",
    "url = 'https://navercomp.wisereport.co.kr/v2/company/ajax/cF1001.aspx?cmp_cd=290120&fin_typ=4&freq_typ=Y&encparam=SUNzS3VCUDMrOUVJQ0U1Rmo0RlBEZz09&id=bG05RlB6cn'\n",
    "headers= {\n",
    "'Referer':'https://navercomp.wisereport.co.kr/v2/company/c1010001.aspx?cmp_cd=290120&target=finsum_more',\n",
    "'User-Agent' :\n",
    "'Mozilla/5.0 (Macintosh; Intel Mac OS X 10_15_7) AppleWebKit/537.36 (KHTML, like Gecko) Chrome/122.0.0.0 Safari/537.36',\n",
    "'X-Requested-With' :\n",
    "'XMLHttpRequest' }\n",
    "\n",
    "res = requests.get(url=url, headers=headers)\n",
    "df = pd.read_html(res.text)\n",
    "df"
   ]
  },
  {
   "cell_type": "code",
   "execution_count": 105,
   "id": "1c1f2f24",
   "metadata": {},
   "outputs": [
    {
     "data": {
      "text/html": [
       "<div>\n",
       "<style scoped>\n",
       "    .dataframe tbody tr th:only-of-type {\n",
       "        vertical-align: middle;\n",
       "    }\n",
       "\n",
       "    .dataframe tbody tr th {\n",
       "        vertical-align: top;\n",
       "    }\n",
       "\n",
       "    .dataframe thead tr th {\n",
       "        text-align: left;\n",
       "    }\n",
       "</style>\n",
       "<table border=\"1\" class=\"dataframe\">\n",
       "  <thead>\n",
       "    <tr>\n",
       "      <th></th>\n",
       "      <th>주요재무정보</th>\n",
       "      <th colspan=\"2\" halign=\"left\">연간</th>\n",
       "      <th>변화율</th>\n",
       "    </tr>\n",
       "    <tr>\n",
       "      <th></th>\n",
       "      <th>주요재무정보</th>\n",
       "      <th>2021/12  (IFRS연결)</th>\n",
       "      <th>2022/12  (IFRS연결)</th>\n",
       "      <th></th>\n",
       "    </tr>\n",
       "  </thead>\n",
       "  <tbody>\n",
       "    <tr>\n",
       "      <th>23</th>\n",
       "      <td>부채비율</td>\n",
       "      <td>189.70</td>\n",
       "      <td>295.24</td>\n",
       "      <td>0.556352</td>\n",
       "    </tr>\n",
       "    <tr>\n",
       "      <th>24</th>\n",
       "      <td>자본유보율</td>\n",
       "      <td>1985.05</td>\n",
       "      <td>1919.57</td>\n",
       "      <td>-0.032987</td>\n",
       "    </tr>\n",
       "    <tr>\n",
       "      <th>25</th>\n",
       "      <td>EPS(원)</td>\n",
       "      <td>20898.00</td>\n",
       "      <td>15620.00</td>\n",
       "      <td>-0.252560</td>\n",
       "    </tr>\n",
       "    <tr>\n",
       "      <th>26</th>\n",
       "      <td>PER(배)</td>\n",
       "      <td>2.31</td>\n",
       "      <td>1.82</td>\n",
       "      <td>-0.212121</td>\n",
       "    </tr>\n",
       "    <tr>\n",
       "      <th>27</th>\n",
       "      <td>BPS(원)</td>\n",
       "      <td>64409.00</td>\n",
       "      <td>77615.00</td>\n",
       "      <td>0.205033</td>\n",
       "    </tr>\n",
       "  </tbody>\n",
       "</table>\n",
       "</div>"
      ],
      "text/plain": [
       "    주요재무정보                연간                         변화율\n",
       "    주요재무정보 2021/12  (IFRS연결) 2022/12  (IFRS연결)          \n",
       "23    부채비율            189.70            295.24  0.556352\n",
       "24   자본유보율           1985.05           1919.57 -0.032987\n",
       "25  EPS(원)          20898.00          15620.00 -0.252560\n",
       "26  PER(배)              2.31              1.82 -0.212121\n",
       "27  BPS(원)          64409.00          77615.00  0.205033"
      ]
     },
     "execution_count": 105,
     "metadata": {},
     "output_type": "execute_result"
    }
   ],
   "source": [
    "import pandas as pd\n",
    "import json\n",
    "import requests\n",
    "\n",
    "# ticker 변수 설정\n",
    "ticker = '016250'\n",
    "\n",
    "# URL 템플릿\n",
    "url_template = 'https://navercomp.wisereport.co.kr/v2/company/ajax/cF1001.aspx?cmp_cd={}&fin_typ=4&freq_typ=Y&encparam=Wi9Ub01PdFpHRzI0aWJGWERQeFVDZz09&id=aFVlanREZS'\n",
    "\n",
    "# 대체된 URL 생성\n",
    "url = url_template.format(ticker)\n",
    "\n",
    "# Referer 템플릿\n",
    "referer_template = 'https://navercomp.wisereport.co.kr/v2/company/c1010001.aspx?cmp_cd=005930&target=finsum_more'\n",
    "\n",
    "# 대체된 Referer 생성\n",
    "referer = referer_template.replace('005930', ticker)\n",
    "\n",
    "headers = {\n",
    "    'Referer': referer,\n",
    "    'User-Agent': 'Mozilla/5.0 (Macintosh; Intel Mac OS X 10_15_7) AppleWebKit/537.36 (KHTML, like Gecko) Chrome/122.0.0.0 Safari/537.36',\n",
    "    'X-Requested-With': 'XMLHttpRequest'\n",
    "}\n",
    "\n",
    "res = requests.get(url=url, headers=headers)\n",
    "df = pd.read_html(res.text)[1]\n",
    "df = df[[('주요재무정보', '주요재무정보'),\n",
    "                 ('연간', '2021/12  (IFRS연결)'),\n",
    "                 ('연간', '2022/12  (IFRS연결)')]]\n",
    "df = df.iloc[23:28]\n",
    "df['변화율'] = (df.iloc[:, 2] - df.iloc[:, 1]) / df.iloc[:, 1]\n",
    "df\n"
   ]
  },
  {
   "cell_type": "code",
   "execution_count": 120,
   "id": "7001a302",
   "metadata": {},
   "outputs": [
    {
     "data": {
      "text/html": [
       "<div>\n",
       "<style scoped>\n",
       "    .dataframe tbody tr th:only-of-type {\n",
       "        vertical-align: middle;\n",
       "    }\n",
       "\n",
       "    .dataframe tbody tr th {\n",
       "        vertical-align: top;\n",
       "    }\n",
       "\n",
       "    .dataframe thead th {\n",
       "        text-align: right;\n",
       "    }\n",
       "</style>\n",
       "<table border=\"1\" class=\"dataframe\">\n",
       "  <thead>\n",
       "    <tr style=\"text-align: right;\">\n",
       "      <th></th>\n",
       "      <th>종목</th>\n",
       "      <th>변화율</th>\n",
       "      <th>(주요재무정보, 주요재무정보)</th>\n",
       "      <th>(연간, 2021/12  (IFRS연결))</th>\n",
       "      <th>(연간, 2022/12  (IFRS연결))</th>\n",
       "      <th>(변화율, )</th>\n",
       "      <th>(종목, )</th>\n",
       "    </tr>\n",
       "  </thead>\n",
       "  <tbody>\n",
       "    <tr>\n",
       "      <th>0</th>\n",
       "      <td>NaN</td>\n",
       "      <td>NaN</td>\n",
       "      <td>부채비율</td>\n",
       "      <td>232.47</td>\n",
       "      <td>163.47</td>\n",
       "      <td>-0.296812</td>\n",
       "      <td>290120</td>\n",
       "    </tr>\n",
       "    <tr>\n",
       "      <th>1</th>\n",
       "      <td>NaN</td>\n",
       "      <td>NaN</td>\n",
       "      <td>자본유보율</td>\n",
       "      <td>971.08</td>\n",
       "      <td>1339.56</td>\n",
       "      <td>0.379454</td>\n",
       "      <td>290120</td>\n",
       "    </tr>\n",
       "    <tr>\n",
       "      <th>2</th>\n",
       "      <td>NaN</td>\n",
       "      <td>NaN</td>\n",
       "      <td>EPS(원)</td>\n",
       "      <td>743.00</td>\n",
       "      <td>2066.00</td>\n",
       "      <td>1.780619</td>\n",
       "      <td>290120</td>\n",
       "    </tr>\n",
       "    <tr>\n",
       "      <th>3</th>\n",
       "      <td>NaN</td>\n",
       "      <td>NaN</td>\n",
       "      <td>PER(배)</td>\n",
       "      <td>8.02</td>\n",
       "      <td>2.61</td>\n",
       "      <td>-0.674564</td>\n",
       "      <td>290120</td>\n",
       "    </tr>\n",
       "    <tr>\n",
       "      <th>4</th>\n",
       "      <td>NaN</td>\n",
       "      <td>NaN</td>\n",
       "      <td>BPS(원)</td>\n",
       "      <td>5723.00</td>\n",
       "      <td>7447.00</td>\n",
       "      <td>0.301241</td>\n",
       "      <td>290120</td>\n",
       "    </tr>\n",
       "    <tr>\n",
       "      <th>...</th>\n",
       "      <td>...</td>\n",
       "      <td>...</td>\n",
       "      <td>...</td>\n",
       "      <td>...</td>\n",
       "      <td>...</td>\n",
       "      <td>...</td>\n",
       "      <td>...</td>\n",
       "    </tr>\n",
       "    <tr>\n",
       "      <th>140</th>\n",
       "      <td>NaN</td>\n",
       "      <td>NaN</td>\n",
       "      <td>부채비율</td>\n",
       "      <td>68.67</td>\n",
       "      <td>34.84</td>\n",
       "      <td>-0.492646</td>\n",
       "      <td>205470</td>\n",
       "    </tr>\n",
       "    <tr>\n",
       "      <th>141</th>\n",
       "      <td>NaN</td>\n",
       "      <td>NaN</td>\n",
       "      <td>자본유보율</td>\n",
       "      <td>5726.92</td>\n",
       "      <td>10745.64</td>\n",
       "      <td>0.876338</td>\n",
       "      <td>205470</td>\n",
       "    </tr>\n",
       "    <tr>\n",
       "      <th>142</th>\n",
       "      <td>NaN</td>\n",
       "      <td>NaN</td>\n",
       "      <td>EPS(원)</td>\n",
       "      <td>1158.00</td>\n",
       "      <td>1402.00</td>\n",
       "      <td>0.210708</td>\n",
       "      <td>205470</td>\n",
       "    </tr>\n",
       "    <tr>\n",
       "      <th>143</th>\n",
       "      <td>NaN</td>\n",
       "      <td>NaN</td>\n",
       "      <td>PER(배)</td>\n",
       "      <td>3.78</td>\n",
       "      <td>2.66</td>\n",
       "      <td>-0.296296</td>\n",
       "      <td>205470</td>\n",
       "    </tr>\n",
       "    <tr>\n",
       "      <th>144</th>\n",
       "      <td>NaN</td>\n",
       "      <td>NaN</td>\n",
       "      <td>BPS(원)</td>\n",
       "      <td>1547.00</td>\n",
       "      <td>2720.00</td>\n",
       "      <td>0.758242</td>\n",
       "      <td>205470</td>\n",
       "    </tr>\n",
       "  </tbody>\n",
       "</table>\n",
       "<p>145 rows × 7 columns</p>\n",
       "</div>"
      ],
      "text/plain": [
       "      종목  변화율 (주요재무정보, 주요재무정보)  (연간, 2021/12  (IFRS연결))  \\\n",
       "0    NaN  NaN             부채비율                   232.47   \n",
       "1    NaN  NaN            자본유보율                   971.08   \n",
       "2    NaN  NaN           EPS(원)                   743.00   \n",
       "3    NaN  NaN           PER(배)                     8.02   \n",
       "4    NaN  NaN           BPS(원)                  5723.00   \n",
       "..   ...  ...              ...                      ...   \n",
       "140  NaN  NaN             부채비율                    68.67   \n",
       "141  NaN  NaN            자본유보율                  5726.92   \n",
       "142  NaN  NaN           EPS(원)                  1158.00   \n",
       "143  NaN  NaN           PER(배)                     3.78   \n",
       "144  NaN  NaN           BPS(원)                  1547.00   \n",
       "\n",
       "     (연간, 2022/12  (IFRS연결))   (변화율, )  (종목, )  \n",
       "0                     163.47 -0.296812  290120  \n",
       "1                    1339.56  0.379454  290120  \n",
       "2                    2066.00  1.780619  290120  \n",
       "3                       2.61 -0.674564  290120  \n",
       "4                    7447.00  0.301241  290120  \n",
       "..                       ...       ...     ...  \n",
       "140                    34.84 -0.492646  205470  \n",
       "141                 10745.64  0.876338  205470  \n",
       "142                  1402.00  0.210708  205470  \n",
       "143                     2.66 -0.296296  205470  \n",
       "144                  2720.00  0.758242  205470  \n",
       "\n",
       "[145 rows x 7 columns]"
      ]
     },
     "execution_count": 120,
     "metadata": {},
     "output_type": "execute_result"
    }
   ],
   "source": [
    "import pandas as pd\n",
    "import json\n",
    "import requests\n",
    "\n",
    "# 분석할 종목들\n",
    "tickers = ['290120', '050120', '016250', '121440', '091590', '088910', '013120',\n",
    "           '012700', '241770', '101330', '053700', '023600', '115570', '036710',\n",
    "           '037760', '115480', '306040', '073540', '054940', '030530', '024800',\n",
    "           '033290', '124560', '104480', '081150', '106240', '225590', '003380',\n",
    "           '205470']\n",
    "\n",
    "# 결과를 저장할 데이터프레임\n",
    "result_df = pd.DataFrame(columns=['종목', '변화율'])\n",
    "\n",
    "# 각 종목에 대해 반복하여 데이터 수집 및 분석 수행\n",
    "for ticker in tickers:\n",
    "    # URL 및 Referer 생성\n",
    "    url_template = 'https://navercomp.wisereport.co.kr/v2/company/ajax/cF1001.aspx?cmp_cd={}&fin_typ=4&freq_typ=Y&encparam=Wi9Ub01PdFpHRzI0aWJGWERQeFVDZz09&id=aFVlanREZS'\n",
    "    url = url_template.format(ticker)\n",
    "    referer_template = 'https://navercomp.wisereport.co.kr/v2/company/c1010001.aspx?cmp_cd=005930&target=finsum_more'\n",
    "    referer = referer_template.replace('005930', ticker)\n",
    "    \n",
    "    # HTTP 요청\n",
    "    headers = {\n",
    "        'Referer': referer,\n",
    "        'User-Agent': 'Mozilla/5.0 (Macintosh; Intel Mac OS X 10_15_7) AppleWebKit/537.36 (KHTML, like Gecko) Chrome/122.0.0.0 Safari/537.36',\n",
    "        'X-Requested-With': 'XMLHttpRequest'\n",
    "    }\n",
    "    res = requests.get(url=url, headers=headers)\n",
    "    df = pd.read_html(res.text)[1]\n",
    "    \n",
    "    # 데이터 전처리 및 분석\n",
    "    df = df[[('주요재무정보', '주요재무정보'), ('연간', '2021/12  (IFRS연결)'), ('연간', '2022/12  (IFRS연결)')]]\n",
    "    df = df.iloc[23:28]\n",
    "    df['변화율'] = (df.iloc[:, 2] - df.iloc[:, 1]) / df.iloc[:, 1]\n",
    "    \n",
    "    # 종목별 결과를 데이터프레임에 추가\n",
    "    df['종목'] = ticker   # '종목' 열에 티커 값 할당\n",
    "    result_df = pd.concat([result_df, df], ignore_index=True)\n",
    "\n",
    "result_df"
   ]
  },
  {
   "cell_type": "code",
   "execution_count": 126,
   "id": "20d06a02",
   "metadata": {},
   "outputs": [
    {
     "data": {
      "text/plain": [
       "Index([                       '종목',                       '변화율',\n",
       "              ('주요재무정보', '주요재무정보'), ('연간', '2021/12  (IFRS연결)'),\n",
       "       ('연간', '2022/12  (IFRS연결)'),                 ('변화율', ''),\n",
       "                        ('종목', '')],\n",
       "      dtype='object')"
      ]
     },
     "execution_count": 126,
     "metadata": {},
     "output_type": "execute_result"
    }
   ],
   "source": [
    "result_df.columns"
   ]
  },
  {
   "cell_type": "code",
   "execution_count": 135,
   "id": "93f38df1",
   "metadata": {},
   "outputs": [
    {
     "data": {
      "text/html": [
       "<div>\n",
       "<style scoped>\n",
       "    .dataframe tbody tr th:only-of-type {\n",
       "        vertical-align: middle;\n",
       "    }\n",
       "\n",
       "    .dataframe tbody tr th {\n",
       "        vertical-align: top;\n",
       "    }\n",
       "\n",
       "    .dataframe thead th {\n",
       "        text-align: right;\n",
       "    }\n",
       "</style>\n",
       "<table border=\"1\" class=\"dataframe\">\n",
       "  <thead>\n",
       "    <tr style=\"text-align: right;\">\n",
       "      <th></th>\n",
       "      <th>종목</th>\n",
       "      <th>변화율</th>\n",
       "      <th>(주요재무정보, 주요재무정보)</th>\n",
       "      <th>(연간, 2021/12  (IFRS연결))</th>\n",
       "      <th>(연간, 2022/12  (IFRS연결))</th>\n",
       "      <th>(변화율, )</th>\n",
       "      <th>(종목, )</th>\n",
       "    </tr>\n",
       "  </thead>\n",
       "  <tbody>\n",
       "    <tr>\n",
       "      <th>0</th>\n",
       "      <td>NaN</td>\n",
       "      <td>NaN</td>\n",
       "      <td>부채비율</td>\n",
       "      <td>232.47</td>\n",
       "      <td>163.47</td>\n",
       "      <td>-0.296812</td>\n",
       "      <td>290120</td>\n",
       "    </tr>\n",
       "    <tr>\n",
       "      <th>1</th>\n",
       "      <td>NaN</td>\n",
       "      <td>NaN</td>\n",
       "      <td>자본유보율</td>\n",
       "      <td>971.08</td>\n",
       "      <td>1339.56</td>\n",
       "      <td>0.379454</td>\n",
       "      <td>290120</td>\n",
       "    </tr>\n",
       "    <tr>\n",
       "      <th>2</th>\n",
       "      <td>NaN</td>\n",
       "      <td>NaN</td>\n",
       "      <td>EPS(원)</td>\n",
       "      <td>743.00</td>\n",
       "      <td>2066.00</td>\n",
       "      <td>1.780619</td>\n",
       "      <td>290120</td>\n",
       "    </tr>\n",
       "    <tr>\n",
       "      <th>3</th>\n",
       "      <td>NaN</td>\n",
       "      <td>NaN</td>\n",
       "      <td>PER(배)</td>\n",
       "      <td>8.02</td>\n",
       "      <td>2.61</td>\n",
       "      <td>-0.674564</td>\n",
       "      <td>290120</td>\n",
       "    </tr>\n",
       "    <tr>\n",
       "      <th>4</th>\n",
       "      <td>NaN</td>\n",
       "      <td>NaN</td>\n",
       "      <td>BPS(원)</td>\n",
       "      <td>5723.00</td>\n",
       "      <td>7447.00</td>\n",
       "      <td>0.301241</td>\n",
       "      <td>290120</td>\n",
       "    </tr>\n",
       "    <tr>\n",
       "      <th>...</th>\n",
       "      <td>...</td>\n",
       "      <td>...</td>\n",
       "      <td>...</td>\n",
       "      <td>...</td>\n",
       "      <td>...</td>\n",
       "      <td>...</td>\n",
       "      <td>...</td>\n",
       "    </tr>\n",
       "    <tr>\n",
       "      <th>140</th>\n",
       "      <td>NaN</td>\n",
       "      <td>NaN</td>\n",
       "      <td>부채비율</td>\n",
       "      <td>68.67</td>\n",
       "      <td>34.84</td>\n",
       "      <td>-0.492646</td>\n",
       "      <td>205470</td>\n",
       "    </tr>\n",
       "    <tr>\n",
       "      <th>141</th>\n",
       "      <td>NaN</td>\n",
       "      <td>NaN</td>\n",
       "      <td>자본유보율</td>\n",
       "      <td>5726.92</td>\n",
       "      <td>10745.64</td>\n",
       "      <td>0.876338</td>\n",
       "      <td>205470</td>\n",
       "    </tr>\n",
       "    <tr>\n",
       "      <th>142</th>\n",
       "      <td>NaN</td>\n",
       "      <td>NaN</td>\n",
       "      <td>EPS(원)</td>\n",
       "      <td>1158.00</td>\n",
       "      <td>1402.00</td>\n",
       "      <td>0.210708</td>\n",
       "      <td>205470</td>\n",
       "    </tr>\n",
       "    <tr>\n",
       "      <th>143</th>\n",
       "      <td>NaN</td>\n",
       "      <td>NaN</td>\n",
       "      <td>PER(배)</td>\n",
       "      <td>3.78</td>\n",
       "      <td>2.66</td>\n",
       "      <td>-0.296296</td>\n",
       "      <td>205470</td>\n",
       "    </tr>\n",
       "    <tr>\n",
       "      <th>144</th>\n",
       "      <td>NaN</td>\n",
       "      <td>NaN</td>\n",
       "      <td>BPS(원)</td>\n",
       "      <td>1547.00</td>\n",
       "      <td>2720.00</td>\n",
       "      <td>0.758242</td>\n",
       "      <td>205470</td>\n",
       "    </tr>\n",
       "  </tbody>\n",
       "</table>\n",
       "<p>145 rows × 7 columns</p>\n",
       "</div>"
      ],
      "text/plain": [
       "      종목  변화율 (주요재무정보, 주요재무정보)  (연간, 2021/12  (IFRS연결))  \\\n",
       "0    NaN  NaN             부채비율                   232.47   \n",
       "1    NaN  NaN            자본유보율                   971.08   \n",
       "2    NaN  NaN           EPS(원)                   743.00   \n",
       "3    NaN  NaN           PER(배)                     8.02   \n",
       "4    NaN  NaN           BPS(원)                  5723.00   \n",
       "..   ...  ...              ...                      ...   \n",
       "140  NaN  NaN             부채비율                    68.67   \n",
       "141  NaN  NaN            자본유보율                  5726.92   \n",
       "142  NaN  NaN           EPS(원)                  1158.00   \n",
       "143  NaN  NaN           PER(배)                     3.78   \n",
       "144  NaN  NaN           BPS(원)                  1547.00   \n",
       "\n",
       "     (연간, 2022/12  (IFRS연결))   (변화율, )  (종목, )  \n",
       "0                     163.47 -0.296812  290120  \n",
       "1                    1339.56  0.379454  290120  \n",
       "2                    2066.00  1.780619  290120  \n",
       "3                       2.61 -0.674564  290120  \n",
       "4                    7447.00  0.301241  290120  \n",
       "..                       ...       ...     ...  \n",
       "140                    34.84 -0.492646  205470  \n",
       "141                 10745.64  0.876338  205470  \n",
       "142                  1402.00  0.210708  205470  \n",
       "143                     2.66 -0.296296  205470  \n",
       "144                  2720.00  0.758242  205470  \n",
       "\n",
       "[145 rows x 7 columns]"
      ]
     },
     "execution_count": 135,
     "metadata": {},
     "output_type": "execute_result"
    }
   ],
   "source": [
    "grouped_df = result_df.groupby(('종목', ''))\n",
    "grouped_df.head()"
   ]
  },
  {
   "cell_type": "code",
   "execution_count": 139,
   "id": "fa12de61",
   "metadata": {},
   "outputs": [
    {
     "data": {
      "text/plain": [
       "Index([       ('주요재무정보', '주요재무정보'), ('연간', '2021/12  (IFRS연결)'),\n",
       "       ('연간', '2022/12  (IFRS연결)'),                 ('변화율', ''),\n",
       "                        ('종목', '')],\n",
       "      dtype='object')"
      ]
     },
     "execution_count": 139,
     "metadata": {},
     "output_type": "execute_result"
    }
   ],
   "source": [
    "df = result_df.drop(columns=['종목', '변화율'])\n",
    "df.columns"
   ]
  },
  {
   "cell_type": "code",
   "execution_count": 146,
   "id": "5fcd47b8",
   "metadata": {},
   "outputs": [],
   "source": [
    "df = df.rename(columns={('주요재무정보', '주요재무정보'): '재무비율', \n",
    "                        ('연간', '2021/12  (IFRS연결)'): '2021/12', \n",
    "                        ('연간', '2022/12  (IFRS연결)'): '2022/12', \n",
    "                        ('변화율', ''): '변화율', \n",
    "                        ('종목', ''): '종목'})"
   ]
  },
  {
   "cell_type": "code",
   "execution_count": 147,
   "id": "622f037a",
   "metadata": {},
   "outputs": [
    {
     "data": {
      "text/plain": [
       "Index(['재무비율', '2021/12', '2022/12', '변화율', '종목'], dtype='object')"
      ]
     },
     "execution_count": 147,
     "metadata": {},
     "output_type": "execute_result"
    }
   ],
   "source": [
    "df.columns"
   ]
  },
  {
   "cell_type": "code",
   "execution_count": 158,
   "id": "e6f30768",
   "metadata": {},
   "outputs": [
    {
     "data": {
      "text/html": [
       "<div>\n",
       "<style scoped>\n",
       "    .dataframe tbody tr th:only-of-type {\n",
       "        vertical-align: middle;\n",
       "    }\n",
       "\n",
       "    .dataframe tbody tr th {\n",
       "        vertical-align: top;\n",
       "    }\n",
       "\n",
       "    .dataframe thead th {\n",
       "        text-align: right;\n",
       "    }\n",
       "</style>\n",
       "<table border=\"1\" class=\"dataframe\">\n",
       "  <thead>\n",
       "    <tr style=\"text-align: right;\">\n",
       "      <th></th>\n",
       "      <th>재무비율</th>\n",
       "      <th>2021/12</th>\n",
       "      <th>2022/12</th>\n",
       "      <th>변화율</th>\n",
       "      <th>종목</th>\n",
       "    </tr>\n",
       "  </thead>\n",
       "  <tbody>\n",
       "    <tr>\n",
       "      <th>0</th>\n",
       "      <td>부채비율</td>\n",
       "      <td>232.47</td>\n",
       "      <td>163.47</td>\n",
       "      <td>-0.296812</td>\n",
       "      <td>290120</td>\n",
       "    </tr>\n",
       "    <tr>\n",
       "      <th>1</th>\n",
       "      <td>자본유보율</td>\n",
       "      <td>971.08</td>\n",
       "      <td>1339.56</td>\n",
       "      <td>0.379454</td>\n",
       "      <td>290120</td>\n",
       "    </tr>\n",
       "    <tr>\n",
       "      <th>2</th>\n",
       "      <td>EPS(원)</td>\n",
       "      <td>743.00</td>\n",
       "      <td>2066.00</td>\n",
       "      <td>1.780619</td>\n",
       "      <td>290120</td>\n",
       "    </tr>\n",
       "    <tr>\n",
       "      <th>3</th>\n",
       "      <td>PER(배)</td>\n",
       "      <td>8.02</td>\n",
       "      <td>2.61</td>\n",
       "      <td>-0.674564</td>\n",
       "      <td>290120</td>\n",
       "    </tr>\n",
       "    <tr>\n",
       "      <th>4</th>\n",
       "      <td>BPS(원)</td>\n",
       "      <td>5723.00</td>\n",
       "      <td>7447.00</td>\n",
       "      <td>0.301241</td>\n",
       "      <td>290120</td>\n",
       "    </tr>\n",
       "    <tr>\n",
       "      <th>...</th>\n",
       "      <td>...</td>\n",
       "      <td>...</td>\n",
       "      <td>...</td>\n",
       "      <td>...</td>\n",
       "      <td>...</td>\n",
       "    </tr>\n",
       "    <tr>\n",
       "      <th>140</th>\n",
       "      <td>부채비율</td>\n",
       "      <td>68.67</td>\n",
       "      <td>34.84</td>\n",
       "      <td>-0.492646</td>\n",
       "      <td>205470</td>\n",
       "    </tr>\n",
       "    <tr>\n",
       "      <th>141</th>\n",
       "      <td>자본유보율</td>\n",
       "      <td>5726.92</td>\n",
       "      <td>10745.64</td>\n",
       "      <td>0.876338</td>\n",
       "      <td>205470</td>\n",
       "    </tr>\n",
       "    <tr>\n",
       "      <th>142</th>\n",
       "      <td>EPS(원)</td>\n",
       "      <td>1158.00</td>\n",
       "      <td>1402.00</td>\n",
       "      <td>0.210708</td>\n",
       "      <td>205470</td>\n",
       "    </tr>\n",
       "    <tr>\n",
       "      <th>143</th>\n",
       "      <td>PER(배)</td>\n",
       "      <td>3.78</td>\n",
       "      <td>2.66</td>\n",
       "      <td>-0.296296</td>\n",
       "      <td>205470</td>\n",
       "    </tr>\n",
       "    <tr>\n",
       "      <th>144</th>\n",
       "      <td>BPS(원)</td>\n",
       "      <td>1547.00</td>\n",
       "      <td>2720.00</td>\n",
       "      <td>0.758242</td>\n",
       "      <td>205470</td>\n",
       "    </tr>\n",
       "  </tbody>\n",
       "</table>\n",
       "<p>145 rows × 5 columns</p>\n",
       "</div>"
      ],
      "text/plain": [
       "       재무비율  2021/12   2022/12       변화율      종목\n",
       "0      부채비율   232.47    163.47 -0.296812  290120\n",
       "1     자본유보율   971.08   1339.56  0.379454  290120\n",
       "2    EPS(원)   743.00   2066.00  1.780619  290120\n",
       "3    PER(배)     8.02      2.61 -0.674564  290120\n",
       "4    BPS(원)  5723.00   7447.00  0.301241  290120\n",
       "..      ...      ...       ...       ...     ...\n",
       "140    부채비율    68.67     34.84 -0.492646  205470\n",
       "141   자본유보율  5726.92  10745.64  0.876338  205470\n",
       "142  EPS(원)  1158.00   1402.00  0.210708  205470\n",
       "143  PER(배)     3.78      2.66 -0.296296  205470\n",
       "144  BPS(원)  1547.00   2720.00  0.758242  205470\n",
       "\n",
       "[145 rows x 5 columns]"
      ]
     },
     "execution_count": 158,
     "metadata": {},
     "output_type": "execute_result"
    }
   ],
   "source": [
    "df"
   ]
  },
  {
   "cell_type": "code",
   "execution_count": 181,
   "id": "e871ce40",
   "metadata": {},
   "outputs": [
    {
     "data": {
      "text/plain": [
       "(18, 5)"
      ]
     },
     "execution_count": 181,
     "metadata": {},
     "output_type": "execute_result"
    }
   ],
   "source": [
    "#부채비율이 감소한 기업 추가 필터링\n",
    "df.loc[(df['재무비율'] == '부채비율') & (df['변화율'] < 0) & (df['2022/12'] < 200)]['종목'].unique()\n",
    "temp1 = df.loc[(df['재무비율'] == '부채비율') & (df['변화율'] < 0)]\n",
    "temp1.shape #18개로 필터링"
   ]
  },
  {
   "cell_type": "code",
   "execution_count": 187,
   "id": "aae34afb",
   "metadata": {},
   "outputs": [
    {
     "data": {
      "text/plain": [
       "(16, 5)"
      ]
     },
     "execution_count": 187,
     "metadata": {},
     "output_type": "execute_result"
    }
   ],
   "source": [
    "df.loc[(df['재무비율'] == 'EPS(원)') & (df['변화율'] > 0)]['종목'].unique()\n",
    "temp2 = df.loc[(df['재무비율'] == 'EPS(원)') & (df['변화율'] > 0)]\n",
    "temp2.shape #16개 필터링"
   ]
  },
  {
   "cell_type": "code",
   "execution_count": 194,
   "id": "4d399ad8",
   "metadata": {
    "scrolled": true
   },
   "outputs": [
    {
     "data": {
      "text/plain": [
       "0     290120\n",
       "1     050120\n",
       "2     091590\n",
       "3     101330\n",
       "4     053700\n",
       "5     023600\n",
       "6     115570\n",
       "7     024800\n",
       "8     124560\n",
       "9     106240\n",
       "10    205470\n",
       "Name: 종목, dtype: object"
      ]
     },
     "execution_count": 194,
     "metadata": {},
     "output_type": "execute_result"
    }
   ],
   "source": [
    "final = pd.merge(temp1, temp2, on='종목')\n",
    "final['종목'] #10가지 끝"
   ]
  },
  {
   "cell_type": "code",
   "execution_count": 247,
   "id": "e854a797",
   "metadata": {
    "scrolled": true
   },
   "outputs": [
    {
     "data": {
      "application/vnd.plotly.v1+json": {
       "config": {
        "plotlyServerURL": "https://plot.ly"
       },
       "data": [
        {
         "alignmentgroup": "True",
         "hovertemplate": "종목=%{x}<br>변화율=%{marker.color}<extra></extra>",
         "legendgroup": "",
         "marker": {
          "color": [
           -0.6745635910224439,
           -0.7013333333333333,
           -0.23726708074534172,
           -0.7828402366863905,
           -0.4610705596107057,
           -0.39175257731958757,
           -0.3653444676409186,
           -0.4357976653696498,
           -0.33333333333333337,
           -0.9727095516569202,
           -0.2962962962962962
          ],
          "coloraxis": "coloraxis",
          "pattern": {
           "shape": ""
          }
         },
         "name": "",
         "offsetgroup": "",
         "orientation": "v",
         "showlegend": false,
         "textposition": "auto",
         "type": "bar",
         "x": [
          "290120",
          "050120",
          "091590",
          "101330",
          "053700",
          "023600",
          "115570",
          "024800",
          "124560",
          "106240",
          "205470"
         ],
         "xaxis": "x",
         "y": [
          -0.6745635910224439,
          -0.7013333333333333,
          -0.23726708074534172,
          -0.7828402366863905,
          -0.4610705596107057,
          -0.39175257731958757,
          -0.3653444676409186,
          -0.4357976653696498,
          -0.33333333333333337,
          -0.9727095516569202,
          -0.2962962962962962
         ],
         "yaxis": "y"
        }
       ],
       "layout": {
        "barmode": "relative",
        "coloraxis": {
         "colorbar": {
          "title": {
           "text": "변화율"
          }
         },
         "colorscale": [
          [
           0,
           "rgb(247,251,255)"
          ],
          [
           0.125,
           "rgb(222,235,247)"
          ],
          [
           0.25,
           "rgb(198,219,239)"
          ],
          [
           0.375,
           "rgb(158,202,225)"
          ],
          [
           0.5,
           "rgb(107,174,214)"
          ],
          [
           0.625,
           "rgb(66,146,198)"
          ],
          [
           0.75,
           "rgb(33,113,181)"
          ],
          [
           0.875,
           "rgb(8,81,156)"
          ],
          [
           1,
           "rgb(8,48,107)"
          ]
         ]
        },
        "legend": {
         "tracegroupgap": 0
        },
        "margin": {
         "t": 60
        },
        "plot_bgcolor": "rgba(0,0,0,0)",
        "template": {
         "data": {
          "bar": [
           {
            "error_x": {
             "color": "rgb(36,36,36)"
            },
            "error_y": {
             "color": "rgb(36,36,36)"
            },
            "marker": {
             "line": {
              "color": "rgb(234,234,242)",
              "width": 0.5
             },
             "pattern": {
              "fillmode": "overlay",
              "size": 10,
              "solidity": 0.2
             }
            },
            "type": "bar"
           }
          ],
          "barpolar": [
           {
            "marker": {
             "line": {
              "color": "rgb(234,234,242)",
              "width": 0.5
             },
             "pattern": {
              "fillmode": "overlay",
              "size": 10,
              "solidity": 0.2
             }
            },
            "type": "barpolar"
           }
          ],
          "carpet": [
           {
            "aaxis": {
             "endlinecolor": "rgb(36,36,36)",
             "gridcolor": "white",
             "linecolor": "white",
             "minorgridcolor": "white",
             "startlinecolor": "rgb(36,36,36)"
            },
            "baxis": {
             "endlinecolor": "rgb(36,36,36)",
             "gridcolor": "white",
             "linecolor": "white",
             "minorgridcolor": "white",
             "startlinecolor": "rgb(36,36,36)"
            },
            "type": "carpet"
           }
          ],
          "choropleth": [
           {
            "colorbar": {
             "outlinewidth": 0,
             "tickcolor": "rgb(36,36,36)",
             "ticklen": 8,
             "ticks": "outside",
             "tickwidth": 2
            },
            "type": "choropleth"
           }
          ],
          "contour": [
           {
            "colorbar": {
             "outlinewidth": 0,
             "tickcolor": "rgb(36,36,36)",
             "ticklen": 8,
             "ticks": "outside",
             "tickwidth": 2
            },
            "colorscale": [
             [
              0,
              "rgb(2,4,25)"
             ],
             [
              0.06274509803921569,
              "rgb(24,15,41)"
             ],
             [
              0.12549019607843137,
              "rgb(47,23,57)"
             ],
             [
              0.18823529411764706,
              "rgb(71,28,72)"
             ],
             [
              0.25098039215686274,
              "rgb(97,30,82)"
             ],
             [
              0.3137254901960784,
              "rgb(123,30,89)"
             ],
             [
              0.3764705882352941,
              "rgb(150,27,91)"
             ],
             [
              0.4392156862745098,
              "rgb(177,22,88)"
             ],
             [
              0.5019607843137255,
              "rgb(203,26,79)"
             ],
             [
              0.5647058823529412,
              "rgb(223,47,67)"
             ],
             [
              0.6274509803921569,
              "rgb(236,76,61)"
             ],
             [
              0.6901960784313725,
              "rgb(242,107,73)"
             ],
             [
              0.7529411764705882,
              "rgb(244,135,95)"
             ],
             [
              0.8156862745098039,
              "rgb(245,162,122)"
             ],
             [
              0.8784313725490196,
              "rgb(246,188,153)"
             ],
             [
              0.9411764705882353,
              "rgb(247,212,187)"
             ],
             [
              1,
              "rgb(250,234,220)"
             ]
            ],
            "type": "contour"
           }
          ],
          "contourcarpet": [
           {
            "colorbar": {
             "outlinewidth": 0,
             "tickcolor": "rgb(36,36,36)",
             "ticklen": 8,
             "ticks": "outside",
             "tickwidth": 2
            },
            "type": "contourcarpet"
           }
          ],
          "heatmap": [
           {
            "colorbar": {
             "outlinewidth": 0,
             "tickcolor": "rgb(36,36,36)",
             "ticklen": 8,
             "ticks": "outside",
             "tickwidth": 2
            },
            "colorscale": [
             [
              0,
              "rgb(2,4,25)"
             ],
             [
              0.06274509803921569,
              "rgb(24,15,41)"
             ],
             [
              0.12549019607843137,
              "rgb(47,23,57)"
             ],
             [
              0.18823529411764706,
              "rgb(71,28,72)"
             ],
             [
              0.25098039215686274,
              "rgb(97,30,82)"
             ],
             [
              0.3137254901960784,
              "rgb(123,30,89)"
             ],
             [
              0.3764705882352941,
              "rgb(150,27,91)"
             ],
             [
              0.4392156862745098,
              "rgb(177,22,88)"
             ],
             [
              0.5019607843137255,
              "rgb(203,26,79)"
             ],
             [
              0.5647058823529412,
              "rgb(223,47,67)"
             ],
             [
              0.6274509803921569,
              "rgb(236,76,61)"
             ],
             [
              0.6901960784313725,
              "rgb(242,107,73)"
             ],
             [
              0.7529411764705882,
              "rgb(244,135,95)"
             ],
             [
              0.8156862745098039,
              "rgb(245,162,122)"
             ],
             [
              0.8784313725490196,
              "rgb(246,188,153)"
             ],
             [
              0.9411764705882353,
              "rgb(247,212,187)"
             ],
             [
              1,
              "rgb(250,234,220)"
             ]
            ],
            "type": "heatmap"
           }
          ],
          "heatmapgl": [
           {
            "colorbar": {
             "outlinewidth": 0,
             "tickcolor": "rgb(36,36,36)",
             "ticklen": 8,
             "ticks": "outside",
             "tickwidth": 2
            },
            "colorscale": [
             [
              0,
              "rgb(2,4,25)"
             ],
             [
              0.06274509803921569,
              "rgb(24,15,41)"
             ],
             [
              0.12549019607843137,
              "rgb(47,23,57)"
             ],
             [
              0.18823529411764706,
              "rgb(71,28,72)"
             ],
             [
              0.25098039215686274,
              "rgb(97,30,82)"
             ],
             [
              0.3137254901960784,
              "rgb(123,30,89)"
             ],
             [
              0.3764705882352941,
              "rgb(150,27,91)"
             ],
             [
              0.4392156862745098,
              "rgb(177,22,88)"
             ],
             [
              0.5019607843137255,
              "rgb(203,26,79)"
             ],
             [
              0.5647058823529412,
              "rgb(223,47,67)"
             ],
             [
              0.6274509803921569,
              "rgb(236,76,61)"
             ],
             [
              0.6901960784313725,
              "rgb(242,107,73)"
             ],
             [
              0.7529411764705882,
              "rgb(244,135,95)"
             ],
             [
              0.8156862745098039,
              "rgb(245,162,122)"
             ],
             [
              0.8784313725490196,
              "rgb(246,188,153)"
             ],
             [
              0.9411764705882353,
              "rgb(247,212,187)"
             ],
             [
              1,
              "rgb(250,234,220)"
             ]
            ],
            "type": "heatmapgl"
           }
          ],
          "histogram": [
           {
            "marker": {
             "pattern": {
              "fillmode": "overlay",
              "size": 10,
              "solidity": 0.2
             }
            },
            "type": "histogram"
           }
          ],
          "histogram2d": [
           {
            "colorbar": {
             "outlinewidth": 0,
             "tickcolor": "rgb(36,36,36)",
             "ticklen": 8,
             "ticks": "outside",
             "tickwidth": 2
            },
            "colorscale": [
             [
              0,
              "rgb(2,4,25)"
             ],
             [
              0.06274509803921569,
              "rgb(24,15,41)"
             ],
             [
              0.12549019607843137,
              "rgb(47,23,57)"
             ],
             [
              0.18823529411764706,
              "rgb(71,28,72)"
             ],
             [
              0.25098039215686274,
              "rgb(97,30,82)"
             ],
             [
              0.3137254901960784,
              "rgb(123,30,89)"
             ],
             [
              0.3764705882352941,
              "rgb(150,27,91)"
             ],
             [
              0.4392156862745098,
              "rgb(177,22,88)"
             ],
             [
              0.5019607843137255,
              "rgb(203,26,79)"
             ],
             [
              0.5647058823529412,
              "rgb(223,47,67)"
             ],
             [
              0.6274509803921569,
              "rgb(236,76,61)"
             ],
             [
              0.6901960784313725,
              "rgb(242,107,73)"
             ],
             [
              0.7529411764705882,
              "rgb(244,135,95)"
             ],
             [
              0.8156862745098039,
              "rgb(245,162,122)"
             ],
             [
              0.8784313725490196,
              "rgb(246,188,153)"
             ],
             [
              0.9411764705882353,
              "rgb(247,212,187)"
             ],
             [
              1,
              "rgb(250,234,220)"
             ]
            ],
            "type": "histogram2d"
           }
          ],
          "histogram2dcontour": [
           {
            "colorbar": {
             "outlinewidth": 0,
             "tickcolor": "rgb(36,36,36)",
             "ticklen": 8,
             "ticks": "outside",
             "tickwidth": 2
            },
            "colorscale": [
             [
              0,
              "rgb(2,4,25)"
             ],
             [
              0.06274509803921569,
              "rgb(24,15,41)"
             ],
             [
              0.12549019607843137,
              "rgb(47,23,57)"
             ],
             [
              0.18823529411764706,
              "rgb(71,28,72)"
             ],
             [
              0.25098039215686274,
              "rgb(97,30,82)"
             ],
             [
              0.3137254901960784,
              "rgb(123,30,89)"
             ],
             [
              0.3764705882352941,
              "rgb(150,27,91)"
             ],
             [
              0.4392156862745098,
              "rgb(177,22,88)"
             ],
             [
              0.5019607843137255,
              "rgb(203,26,79)"
             ],
             [
              0.5647058823529412,
              "rgb(223,47,67)"
             ],
             [
              0.6274509803921569,
              "rgb(236,76,61)"
             ],
             [
              0.6901960784313725,
              "rgb(242,107,73)"
             ],
             [
              0.7529411764705882,
              "rgb(244,135,95)"
             ],
             [
              0.8156862745098039,
              "rgb(245,162,122)"
             ],
             [
              0.8784313725490196,
              "rgb(246,188,153)"
             ],
             [
              0.9411764705882353,
              "rgb(247,212,187)"
             ],
             [
              1,
              "rgb(250,234,220)"
             ]
            ],
            "type": "histogram2dcontour"
           }
          ],
          "mesh3d": [
           {
            "colorbar": {
             "outlinewidth": 0,
             "tickcolor": "rgb(36,36,36)",
             "ticklen": 8,
             "ticks": "outside",
             "tickwidth": 2
            },
            "type": "mesh3d"
           }
          ],
          "parcoords": [
           {
            "line": {
             "colorbar": {
              "outlinewidth": 0,
              "tickcolor": "rgb(36,36,36)",
              "ticklen": 8,
              "ticks": "outside",
              "tickwidth": 2
             }
            },
            "type": "parcoords"
           }
          ],
          "pie": [
           {
            "automargin": true,
            "type": "pie"
           }
          ],
          "scatter": [
           {
            "fillpattern": {
             "fillmode": "overlay",
             "size": 10,
             "solidity": 0.2
            },
            "type": "scatter"
           }
          ],
          "scatter3d": [
           {
            "line": {
             "colorbar": {
              "outlinewidth": 0,
              "tickcolor": "rgb(36,36,36)",
              "ticklen": 8,
              "ticks": "outside",
              "tickwidth": 2
             }
            },
            "marker": {
             "colorbar": {
              "outlinewidth": 0,
              "tickcolor": "rgb(36,36,36)",
              "ticklen": 8,
              "ticks": "outside",
              "tickwidth": 2
             }
            },
            "type": "scatter3d"
           }
          ],
          "scattercarpet": [
           {
            "marker": {
             "colorbar": {
              "outlinewidth": 0,
              "tickcolor": "rgb(36,36,36)",
              "ticklen": 8,
              "ticks": "outside",
              "tickwidth": 2
             }
            },
            "type": "scattercarpet"
           }
          ],
          "scattergeo": [
           {
            "marker": {
             "colorbar": {
              "outlinewidth": 0,
              "tickcolor": "rgb(36,36,36)",
              "ticklen": 8,
              "ticks": "outside",
              "tickwidth": 2
             }
            },
            "type": "scattergeo"
           }
          ],
          "scattergl": [
           {
            "marker": {
             "colorbar": {
              "outlinewidth": 0,
              "tickcolor": "rgb(36,36,36)",
              "ticklen": 8,
              "ticks": "outside",
              "tickwidth": 2
             }
            },
            "type": "scattergl"
           }
          ],
          "scattermapbox": [
           {
            "marker": {
             "colorbar": {
              "outlinewidth": 0,
              "tickcolor": "rgb(36,36,36)",
              "ticklen": 8,
              "ticks": "outside",
              "tickwidth": 2
             }
            },
            "type": "scattermapbox"
           }
          ],
          "scatterpolar": [
           {
            "marker": {
             "colorbar": {
              "outlinewidth": 0,
              "tickcolor": "rgb(36,36,36)",
              "ticklen": 8,
              "ticks": "outside",
              "tickwidth": 2
             }
            },
            "type": "scatterpolar"
           }
          ],
          "scatterpolargl": [
           {
            "marker": {
             "colorbar": {
              "outlinewidth": 0,
              "tickcolor": "rgb(36,36,36)",
              "ticklen": 8,
              "ticks": "outside",
              "tickwidth": 2
             }
            },
            "type": "scatterpolargl"
           }
          ],
          "scatterternary": [
           {
            "marker": {
             "colorbar": {
              "outlinewidth": 0,
              "tickcolor": "rgb(36,36,36)",
              "ticklen": 8,
              "ticks": "outside",
              "tickwidth": 2
             }
            },
            "type": "scatterternary"
           }
          ],
          "surface": [
           {
            "colorbar": {
             "outlinewidth": 0,
             "tickcolor": "rgb(36,36,36)",
             "ticklen": 8,
             "ticks": "outside",
             "tickwidth": 2
            },
            "colorscale": [
             [
              0,
              "rgb(2,4,25)"
             ],
             [
              0.06274509803921569,
              "rgb(24,15,41)"
             ],
             [
              0.12549019607843137,
              "rgb(47,23,57)"
             ],
             [
              0.18823529411764706,
              "rgb(71,28,72)"
             ],
             [
              0.25098039215686274,
              "rgb(97,30,82)"
             ],
             [
              0.3137254901960784,
              "rgb(123,30,89)"
             ],
             [
              0.3764705882352941,
              "rgb(150,27,91)"
             ],
             [
              0.4392156862745098,
              "rgb(177,22,88)"
             ],
             [
              0.5019607843137255,
              "rgb(203,26,79)"
             ],
             [
              0.5647058823529412,
              "rgb(223,47,67)"
             ],
             [
              0.6274509803921569,
              "rgb(236,76,61)"
             ],
             [
              0.6901960784313725,
              "rgb(242,107,73)"
             ],
             [
              0.7529411764705882,
              "rgb(244,135,95)"
             ],
             [
              0.8156862745098039,
              "rgb(245,162,122)"
             ],
             [
              0.8784313725490196,
              "rgb(246,188,153)"
             ],
             [
              0.9411764705882353,
              "rgb(247,212,187)"
             ],
             [
              1,
              "rgb(250,234,220)"
             ]
            ],
            "type": "surface"
           }
          ],
          "table": [
           {
            "cells": {
             "fill": {
              "color": "rgb(231,231,240)"
             },
             "line": {
              "color": "white"
             }
            },
            "header": {
             "fill": {
              "color": "rgb(183,183,191)"
             },
             "line": {
              "color": "white"
             }
            },
            "type": "table"
           }
          ]
         },
         "layout": {
          "annotationdefaults": {
           "arrowcolor": "rgb(67,103,167)"
          },
          "autotypenumbers": "strict",
          "coloraxis": {
           "colorbar": {
            "outlinewidth": 0,
            "tickcolor": "rgb(36,36,36)",
            "ticklen": 8,
            "ticks": "outside",
            "tickwidth": 2
           }
          },
          "colorscale": {
           "sequential": [
            [
             0,
             "rgb(2,4,25)"
            ],
            [
             0.06274509803921569,
             "rgb(24,15,41)"
            ],
            [
             0.12549019607843137,
             "rgb(47,23,57)"
            ],
            [
             0.18823529411764706,
             "rgb(71,28,72)"
            ],
            [
             0.25098039215686274,
             "rgb(97,30,82)"
            ],
            [
             0.3137254901960784,
             "rgb(123,30,89)"
            ],
            [
             0.3764705882352941,
             "rgb(150,27,91)"
            ],
            [
             0.4392156862745098,
             "rgb(177,22,88)"
            ],
            [
             0.5019607843137255,
             "rgb(203,26,79)"
            ],
            [
             0.5647058823529412,
             "rgb(223,47,67)"
            ],
            [
             0.6274509803921569,
             "rgb(236,76,61)"
            ],
            [
             0.6901960784313725,
             "rgb(242,107,73)"
            ],
            [
             0.7529411764705882,
             "rgb(244,135,95)"
            ],
            [
             0.8156862745098039,
             "rgb(245,162,122)"
            ],
            [
             0.8784313725490196,
             "rgb(246,188,153)"
            ],
            [
             0.9411764705882353,
             "rgb(247,212,187)"
            ],
            [
             1,
             "rgb(250,234,220)"
            ]
           ],
           "sequentialminus": [
            [
             0,
             "rgb(2,4,25)"
            ],
            [
             0.06274509803921569,
             "rgb(24,15,41)"
            ],
            [
             0.12549019607843137,
             "rgb(47,23,57)"
            ],
            [
             0.18823529411764706,
             "rgb(71,28,72)"
            ],
            [
             0.25098039215686274,
             "rgb(97,30,82)"
            ],
            [
             0.3137254901960784,
             "rgb(123,30,89)"
            ],
            [
             0.3764705882352941,
             "rgb(150,27,91)"
            ],
            [
             0.4392156862745098,
             "rgb(177,22,88)"
            ],
            [
             0.5019607843137255,
             "rgb(203,26,79)"
            ],
            [
             0.5647058823529412,
             "rgb(223,47,67)"
            ],
            [
             0.6274509803921569,
             "rgb(236,76,61)"
            ],
            [
             0.6901960784313725,
             "rgb(242,107,73)"
            ],
            [
             0.7529411764705882,
             "rgb(244,135,95)"
            ],
            [
             0.8156862745098039,
             "rgb(245,162,122)"
            ],
            [
             0.8784313725490196,
             "rgb(246,188,153)"
            ],
            [
             0.9411764705882353,
             "rgb(247,212,187)"
            ],
            [
             1,
             "rgb(250,234,220)"
            ]
           ]
          },
          "colorway": [
           "rgb(76,114,176)",
           "rgb(221,132,82)",
           "rgb(85,168,104)",
           "rgb(196,78,82)",
           "rgb(129,114,179)",
           "rgb(147,120,96)",
           "rgb(218,139,195)",
           "rgb(140,140,140)",
           "rgb(204,185,116)",
           "rgb(100,181,205)"
          ],
          "font": {
           "color": "rgb(36,36,36)"
          },
          "geo": {
           "bgcolor": "white",
           "lakecolor": "white",
           "landcolor": "rgb(234,234,242)",
           "showlakes": true,
           "showland": true,
           "subunitcolor": "white"
          },
          "hoverlabel": {
           "align": "left"
          },
          "hovermode": "closest",
          "paper_bgcolor": "white",
          "plot_bgcolor": "rgb(234,234,242)",
          "polar": {
           "angularaxis": {
            "gridcolor": "white",
            "linecolor": "white",
            "showgrid": true,
            "ticks": ""
           },
           "bgcolor": "rgb(234,234,242)",
           "radialaxis": {
            "gridcolor": "white",
            "linecolor": "white",
            "showgrid": true,
            "ticks": ""
           }
          },
          "scene": {
           "xaxis": {
            "backgroundcolor": "rgb(234,234,242)",
            "gridcolor": "white",
            "gridwidth": 2,
            "linecolor": "white",
            "showbackground": true,
            "showgrid": true,
            "ticks": "",
            "zerolinecolor": "white"
           },
           "yaxis": {
            "backgroundcolor": "rgb(234,234,242)",
            "gridcolor": "white",
            "gridwidth": 2,
            "linecolor": "white",
            "showbackground": true,
            "showgrid": true,
            "ticks": "",
            "zerolinecolor": "white"
           },
           "zaxis": {
            "backgroundcolor": "rgb(234,234,242)",
            "gridcolor": "white",
            "gridwidth": 2,
            "linecolor": "white",
            "showbackground": true,
            "showgrid": true,
            "ticks": "",
            "zerolinecolor": "white"
           }
          },
          "shapedefaults": {
           "fillcolor": "rgb(67,103,167)",
           "line": {
            "width": 0
           },
           "opacity": 0.5
          },
          "ternary": {
           "aaxis": {
            "gridcolor": "white",
            "linecolor": "white",
            "showgrid": true,
            "ticks": ""
           },
           "baxis": {
            "gridcolor": "white",
            "linecolor": "white",
            "showgrid": true,
            "ticks": ""
           },
           "bgcolor": "rgb(234,234,242)",
           "caxis": {
            "gridcolor": "white",
            "linecolor": "white",
            "showgrid": true,
            "ticks": ""
           }
          },
          "xaxis": {
           "automargin": true,
           "gridcolor": "white",
           "linecolor": "white",
           "showgrid": true,
           "ticks": "",
           "title": {
            "standoff": 15
           },
           "zerolinecolor": "white"
          },
          "yaxis": {
           "automargin": true,
           "gridcolor": "white",
           "linecolor": "white",
           "showgrid": true,
           "ticks": "",
           "title": {
            "standoff": 15
           },
           "zerolinecolor": "white"
          }
         }
        },
        "title": {
         "text": "<b>종목별 PER 변화율<b>"
        },
        "xaxis": {
         "anchor": "y",
         "domain": [
          0,
          1
         ],
         "title": {
          "text": "종목"
         }
        },
        "yaxis": {
         "anchor": "x",
         "domain": [
          0,
          1
         ],
         "tickformat": "%",
         "title": {
          "text": "변화율"
         }
        }
       }
      },
      "text/html": [
       "<div>                            <div id=\"79893d9d-8b9e-4937-a453-d66b689d2b44\" class=\"plotly-graph-div\" style=\"height:525px; width:100%;\"></div>            <script type=\"text/javascript\">                require([\"plotly\"], function(Plotly) {                    window.PLOTLYENV=window.PLOTLYENV || {};                                    if (document.getElementById(\"79893d9d-8b9e-4937-a453-d66b689d2b44\")) {                    Plotly.newPlot(                        \"79893d9d-8b9e-4937-a453-d66b689d2b44\",                        [{\"alignmentgroup\":\"True\",\"hovertemplate\":\"\\uc885\\ubaa9=%{x}<br>\\ubcc0\\ud654\\uc728=%{marker.color}<extra></extra>\",\"legendgroup\":\"\",\"marker\":{\"color\":[-0.6745635910224439,-0.7013333333333333,-0.23726708074534172,-0.7828402366863905,-0.4610705596107057,-0.39175257731958757,-0.3653444676409186,-0.4357976653696498,-0.33333333333333337,-0.9727095516569202,-0.2962962962962962],\"coloraxis\":\"coloraxis\",\"pattern\":{\"shape\":\"\"}},\"name\":\"\",\"offsetgroup\":\"\",\"orientation\":\"v\",\"showlegend\":false,\"textposition\":\"auto\",\"x\":[\"290120\",\"050120\",\"091590\",\"101330\",\"053700\",\"023600\",\"115570\",\"024800\",\"124560\",\"106240\",\"205470\"],\"xaxis\":\"x\",\"y\":[-0.6745635910224439,-0.7013333333333333,-0.23726708074534172,-0.7828402366863905,-0.4610705596107057,-0.39175257731958757,-0.3653444676409186,-0.4357976653696498,-0.33333333333333337,-0.9727095516569202,-0.2962962962962962],\"yaxis\":\"y\",\"type\":\"bar\"}],                        {\"template\":{\"data\":{\"barpolar\":[{\"marker\":{\"line\":{\"color\":\"rgb(234,234,242)\",\"width\":0.5},\"pattern\":{\"fillmode\":\"overlay\",\"size\":10,\"solidity\":0.2}},\"type\":\"barpolar\"}],\"bar\":[{\"error_x\":{\"color\":\"rgb(36,36,36)\"},\"error_y\":{\"color\":\"rgb(36,36,36)\"},\"marker\":{\"line\":{\"color\":\"rgb(234,234,242)\",\"width\":0.5},\"pattern\":{\"fillmode\":\"overlay\",\"size\":10,\"solidity\":0.2}},\"type\":\"bar\"}],\"carpet\":[{\"aaxis\":{\"endlinecolor\":\"rgb(36,36,36)\",\"gridcolor\":\"white\",\"linecolor\":\"white\",\"minorgridcolor\":\"white\",\"startlinecolor\":\"rgb(36,36,36)\"},\"baxis\":{\"endlinecolor\":\"rgb(36,36,36)\",\"gridcolor\":\"white\",\"linecolor\":\"white\",\"minorgridcolor\":\"white\",\"startlinecolor\":\"rgb(36,36,36)\"},\"type\":\"carpet\"}],\"choropleth\":[{\"colorbar\":{\"outlinewidth\":0,\"tickcolor\":\"rgb(36,36,36)\",\"ticklen\":8,\"ticks\":\"outside\",\"tickwidth\":2},\"type\":\"choropleth\"}],\"contourcarpet\":[{\"colorbar\":{\"outlinewidth\":0,\"tickcolor\":\"rgb(36,36,36)\",\"ticklen\":8,\"ticks\":\"outside\",\"tickwidth\":2},\"type\":\"contourcarpet\"}],\"contour\":[{\"colorbar\":{\"outlinewidth\":0,\"tickcolor\":\"rgb(36,36,36)\",\"ticklen\":8,\"ticks\":\"outside\",\"tickwidth\":2},\"colorscale\":[[0.0,\"rgb(2,4,25)\"],[0.06274509803921569,\"rgb(24,15,41)\"],[0.12549019607843137,\"rgb(47,23,57)\"],[0.18823529411764706,\"rgb(71,28,72)\"],[0.25098039215686274,\"rgb(97,30,82)\"],[0.3137254901960784,\"rgb(123,30,89)\"],[0.3764705882352941,\"rgb(150,27,91)\"],[0.4392156862745098,\"rgb(177,22,88)\"],[0.5019607843137255,\"rgb(203,26,79)\"],[0.5647058823529412,\"rgb(223,47,67)\"],[0.6274509803921569,\"rgb(236,76,61)\"],[0.6901960784313725,\"rgb(242,107,73)\"],[0.7529411764705882,\"rgb(244,135,95)\"],[0.8156862745098039,\"rgb(245,162,122)\"],[0.8784313725490196,\"rgb(246,188,153)\"],[0.9411764705882353,\"rgb(247,212,187)\"],[1.0,\"rgb(250,234,220)\"]],\"type\":\"contour\"}],\"heatmapgl\":[{\"colorbar\":{\"outlinewidth\":0,\"tickcolor\":\"rgb(36,36,36)\",\"ticklen\":8,\"ticks\":\"outside\",\"tickwidth\":2},\"colorscale\":[[0.0,\"rgb(2,4,25)\"],[0.06274509803921569,\"rgb(24,15,41)\"],[0.12549019607843137,\"rgb(47,23,57)\"],[0.18823529411764706,\"rgb(71,28,72)\"],[0.25098039215686274,\"rgb(97,30,82)\"],[0.3137254901960784,\"rgb(123,30,89)\"],[0.3764705882352941,\"rgb(150,27,91)\"],[0.4392156862745098,\"rgb(177,22,88)\"],[0.5019607843137255,\"rgb(203,26,79)\"],[0.5647058823529412,\"rgb(223,47,67)\"],[0.6274509803921569,\"rgb(236,76,61)\"],[0.6901960784313725,\"rgb(242,107,73)\"],[0.7529411764705882,\"rgb(244,135,95)\"],[0.8156862745098039,\"rgb(245,162,122)\"],[0.8784313725490196,\"rgb(246,188,153)\"],[0.9411764705882353,\"rgb(247,212,187)\"],[1.0,\"rgb(250,234,220)\"]],\"type\":\"heatmapgl\"}],\"heatmap\":[{\"colorbar\":{\"outlinewidth\":0,\"tickcolor\":\"rgb(36,36,36)\",\"ticklen\":8,\"ticks\":\"outside\",\"tickwidth\":2},\"colorscale\":[[0.0,\"rgb(2,4,25)\"],[0.06274509803921569,\"rgb(24,15,41)\"],[0.12549019607843137,\"rgb(47,23,57)\"],[0.18823529411764706,\"rgb(71,28,72)\"],[0.25098039215686274,\"rgb(97,30,82)\"],[0.3137254901960784,\"rgb(123,30,89)\"],[0.3764705882352941,\"rgb(150,27,91)\"],[0.4392156862745098,\"rgb(177,22,88)\"],[0.5019607843137255,\"rgb(203,26,79)\"],[0.5647058823529412,\"rgb(223,47,67)\"],[0.6274509803921569,\"rgb(236,76,61)\"],[0.6901960784313725,\"rgb(242,107,73)\"],[0.7529411764705882,\"rgb(244,135,95)\"],[0.8156862745098039,\"rgb(245,162,122)\"],[0.8784313725490196,\"rgb(246,188,153)\"],[0.9411764705882353,\"rgb(247,212,187)\"],[1.0,\"rgb(250,234,220)\"]],\"type\":\"heatmap\"}],\"histogram2dcontour\":[{\"colorbar\":{\"outlinewidth\":0,\"tickcolor\":\"rgb(36,36,36)\",\"ticklen\":8,\"ticks\":\"outside\",\"tickwidth\":2},\"colorscale\":[[0.0,\"rgb(2,4,25)\"],[0.06274509803921569,\"rgb(24,15,41)\"],[0.12549019607843137,\"rgb(47,23,57)\"],[0.18823529411764706,\"rgb(71,28,72)\"],[0.25098039215686274,\"rgb(97,30,82)\"],[0.3137254901960784,\"rgb(123,30,89)\"],[0.3764705882352941,\"rgb(150,27,91)\"],[0.4392156862745098,\"rgb(177,22,88)\"],[0.5019607843137255,\"rgb(203,26,79)\"],[0.5647058823529412,\"rgb(223,47,67)\"],[0.6274509803921569,\"rgb(236,76,61)\"],[0.6901960784313725,\"rgb(242,107,73)\"],[0.7529411764705882,\"rgb(244,135,95)\"],[0.8156862745098039,\"rgb(245,162,122)\"],[0.8784313725490196,\"rgb(246,188,153)\"],[0.9411764705882353,\"rgb(247,212,187)\"],[1.0,\"rgb(250,234,220)\"]],\"type\":\"histogram2dcontour\"}],\"histogram2d\":[{\"colorbar\":{\"outlinewidth\":0,\"tickcolor\":\"rgb(36,36,36)\",\"ticklen\":8,\"ticks\":\"outside\",\"tickwidth\":2},\"colorscale\":[[0.0,\"rgb(2,4,25)\"],[0.06274509803921569,\"rgb(24,15,41)\"],[0.12549019607843137,\"rgb(47,23,57)\"],[0.18823529411764706,\"rgb(71,28,72)\"],[0.25098039215686274,\"rgb(97,30,82)\"],[0.3137254901960784,\"rgb(123,30,89)\"],[0.3764705882352941,\"rgb(150,27,91)\"],[0.4392156862745098,\"rgb(177,22,88)\"],[0.5019607843137255,\"rgb(203,26,79)\"],[0.5647058823529412,\"rgb(223,47,67)\"],[0.6274509803921569,\"rgb(236,76,61)\"],[0.6901960784313725,\"rgb(242,107,73)\"],[0.7529411764705882,\"rgb(244,135,95)\"],[0.8156862745098039,\"rgb(245,162,122)\"],[0.8784313725490196,\"rgb(246,188,153)\"],[0.9411764705882353,\"rgb(247,212,187)\"],[1.0,\"rgb(250,234,220)\"]],\"type\":\"histogram2d\"}],\"histogram\":[{\"marker\":{\"pattern\":{\"fillmode\":\"overlay\",\"size\":10,\"solidity\":0.2}},\"type\":\"histogram\"}],\"mesh3d\":[{\"colorbar\":{\"outlinewidth\":0,\"tickcolor\":\"rgb(36,36,36)\",\"ticklen\":8,\"ticks\":\"outside\",\"tickwidth\":2},\"type\":\"mesh3d\"}],\"parcoords\":[{\"line\":{\"colorbar\":{\"outlinewidth\":0,\"tickcolor\":\"rgb(36,36,36)\",\"ticklen\":8,\"ticks\":\"outside\",\"tickwidth\":2}},\"type\":\"parcoords\"}],\"pie\":[{\"automargin\":true,\"type\":\"pie\"}],\"scatter3d\":[{\"line\":{\"colorbar\":{\"outlinewidth\":0,\"tickcolor\":\"rgb(36,36,36)\",\"ticklen\":8,\"ticks\":\"outside\",\"tickwidth\":2}},\"marker\":{\"colorbar\":{\"outlinewidth\":0,\"tickcolor\":\"rgb(36,36,36)\",\"ticklen\":8,\"ticks\":\"outside\",\"tickwidth\":2}},\"type\":\"scatter3d\"}],\"scattercarpet\":[{\"marker\":{\"colorbar\":{\"outlinewidth\":0,\"tickcolor\":\"rgb(36,36,36)\",\"ticklen\":8,\"ticks\":\"outside\",\"tickwidth\":2}},\"type\":\"scattercarpet\"}],\"scattergeo\":[{\"marker\":{\"colorbar\":{\"outlinewidth\":0,\"tickcolor\":\"rgb(36,36,36)\",\"ticklen\":8,\"ticks\":\"outside\",\"tickwidth\":2}},\"type\":\"scattergeo\"}],\"scattergl\":[{\"marker\":{\"colorbar\":{\"outlinewidth\":0,\"tickcolor\":\"rgb(36,36,36)\",\"ticklen\":8,\"ticks\":\"outside\",\"tickwidth\":2}},\"type\":\"scattergl\"}],\"scattermapbox\":[{\"marker\":{\"colorbar\":{\"outlinewidth\":0,\"tickcolor\":\"rgb(36,36,36)\",\"ticklen\":8,\"ticks\":\"outside\",\"tickwidth\":2}},\"type\":\"scattermapbox\"}],\"scatterpolargl\":[{\"marker\":{\"colorbar\":{\"outlinewidth\":0,\"tickcolor\":\"rgb(36,36,36)\",\"ticklen\":8,\"ticks\":\"outside\",\"tickwidth\":2}},\"type\":\"scatterpolargl\"}],\"scatterpolar\":[{\"marker\":{\"colorbar\":{\"outlinewidth\":0,\"tickcolor\":\"rgb(36,36,36)\",\"ticklen\":8,\"ticks\":\"outside\",\"tickwidth\":2}},\"type\":\"scatterpolar\"}],\"scatter\":[{\"fillpattern\":{\"fillmode\":\"overlay\",\"size\":10,\"solidity\":0.2},\"type\":\"scatter\"}],\"scatterternary\":[{\"marker\":{\"colorbar\":{\"outlinewidth\":0,\"tickcolor\":\"rgb(36,36,36)\",\"ticklen\":8,\"ticks\":\"outside\",\"tickwidth\":2}},\"type\":\"scatterternary\"}],\"surface\":[{\"colorbar\":{\"outlinewidth\":0,\"tickcolor\":\"rgb(36,36,36)\",\"ticklen\":8,\"ticks\":\"outside\",\"tickwidth\":2},\"colorscale\":[[0.0,\"rgb(2,4,25)\"],[0.06274509803921569,\"rgb(24,15,41)\"],[0.12549019607843137,\"rgb(47,23,57)\"],[0.18823529411764706,\"rgb(71,28,72)\"],[0.25098039215686274,\"rgb(97,30,82)\"],[0.3137254901960784,\"rgb(123,30,89)\"],[0.3764705882352941,\"rgb(150,27,91)\"],[0.4392156862745098,\"rgb(177,22,88)\"],[0.5019607843137255,\"rgb(203,26,79)\"],[0.5647058823529412,\"rgb(223,47,67)\"],[0.6274509803921569,\"rgb(236,76,61)\"],[0.6901960784313725,\"rgb(242,107,73)\"],[0.7529411764705882,\"rgb(244,135,95)\"],[0.8156862745098039,\"rgb(245,162,122)\"],[0.8784313725490196,\"rgb(246,188,153)\"],[0.9411764705882353,\"rgb(247,212,187)\"],[1.0,\"rgb(250,234,220)\"]],\"type\":\"surface\"}],\"table\":[{\"cells\":{\"fill\":{\"color\":\"rgb(231,231,240)\"},\"line\":{\"color\":\"white\"}},\"header\":{\"fill\":{\"color\":\"rgb(183,183,191)\"},\"line\":{\"color\":\"white\"}},\"type\":\"table\"}]},\"layout\":{\"annotationdefaults\":{\"arrowcolor\":\"rgb(67,103,167)\"},\"autotypenumbers\":\"strict\",\"coloraxis\":{\"colorbar\":{\"outlinewidth\":0,\"tickcolor\":\"rgb(36,36,36)\",\"ticklen\":8,\"ticks\":\"outside\",\"tickwidth\":2}},\"colorscale\":{\"sequential\":[[0.0,\"rgb(2,4,25)\"],[0.06274509803921569,\"rgb(24,15,41)\"],[0.12549019607843137,\"rgb(47,23,57)\"],[0.18823529411764706,\"rgb(71,28,72)\"],[0.25098039215686274,\"rgb(97,30,82)\"],[0.3137254901960784,\"rgb(123,30,89)\"],[0.3764705882352941,\"rgb(150,27,91)\"],[0.4392156862745098,\"rgb(177,22,88)\"],[0.5019607843137255,\"rgb(203,26,79)\"],[0.5647058823529412,\"rgb(223,47,67)\"],[0.6274509803921569,\"rgb(236,76,61)\"],[0.6901960784313725,\"rgb(242,107,73)\"],[0.7529411764705882,\"rgb(244,135,95)\"],[0.8156862745098039,\"rgb(245,162,122)\"],[0.8784313725490196,\"rgb(246,188,153)\"],[0.9411764705882353,\"rgb(247,212,187)\"],[1.0,\"rgb(250,234,220)\"]],\"sequentialminus\":[[0.0,\"rgb(2,4,25)\"],[0.06274509803921569,\"rgb(24,15,41)\"],[0.12549019607843137,\"rgb(47,23,57)\"],[0.18823529411764706,\"rgb(71,28,72)\"],[0.25098039215686274,\"rgb(97,30,82)\"],[0.3137254901960784,\"rgb(123,30,89)\"],[0.3764705882352941,\"rgb(150,27,91)\"],[0.4392156862745098,\"rgb(177,22,88)\"],[0.5019607843137255,\"rgb(203,26,79)\"],[0.5647058823529412,\"rgb(223,47,67)\"],[0.6274509803921569,\"rgb(236,76,61)\"],[0.6901960784313725,\"rgb(242,107,73)\"],[0.7529411764705882,\"rgb(244,135,95)\"],[0.8156862745098039,\"rgb(245,162,122)\"],[0.8784313725490196,\"rgb(246,188,153)\"],[0.9411764705882353,\"rgb(247,212,187)\"],[1.0,\"rgb(250,234,220)\"]]},\"colorway\":[\"rgb(76,114,176)\",\"rgb(221,132,82)\",\"rgb(85,168,104)\",\"rgb(196,78,82)\",\"rgb(129,114,179)\",\"rgb(147,120,96)\",\"rgb(218,139,195)\",\"rgb(140,140,140)\",\"rgb(204,185,116)\",\"rgb(100,181,205)\"],\"font\":{\"color\":\"rgb(36,36,36)\"},\"geo\":{\"bgcolor\":\"white\",\"lakecolor\":\"white\",\"landcolor\":\"rgb(234,234,242)\",\"showlakes\":true,\"showland\":true,\"subunitcolor\":\"white\"},\"hoverlabel\":{\"align\":\"left\"},\"hovermode\":\"closest\",\"paper_bgcolor\":\"white\",\"plot_bgcolor\":\"rgb(234,234,242)\",\"polar\":{\"angularaxis\":{\"gridcolor\":\"white\",\"linecolor\":\"white\",\"showgrid\":true,\"ticks\":\"\"},\"bgcolor\":\"rgb(234,234,242)\",\"radialaxis\":{\"gridcolor\":\"white\",\"linecolor\":\"white\",\"showgrid\":true,\"ticks\":\"\"}},\"scene\":{\"xaxis\":{\"backgroundcolor\":\"rgb(234,234,242)\",\"gridcolor\":\"white\",\"gridwidth\":2,\"linecolor\":\"white\",\"showbackground\":true,\"showgrid\":true,\"ticks\":\"\",\"zerolinecolor\":\"white\"},\"yaxis\":{\"backgroundcolor\":\"rgb(234,234,242)\",\"gridcolor\":\"white\",\"gridwidth\":2,\"linecolor\":\"white\",\"showbackground\":true,\"showgrid\":true,\"ticks\":\"\",\"zerolinecolor\":\"white\"},\"zaxis\":{\"backgroundcolor\":\"rgb(234,234,242)\",\"gridcolor\":\"white\",\"gridwidth\":2,\"linecolor\":\"white\",\"showbackground\":true,\"showgrid\":true,\"ticks\":\"\",\"zerolinecolor\":\"white\"}},\"shapedefaults\":{\"fillcolor\":\"rgb(67,103,167)\",\"line\":{\"width\":0},\"opacity\":0.5},\"ternary\":{\"aaxis\":{\"gridcolor\":\"white\",\"linecolor\":\"white\",\"showgrid\":true,\"ticks\":\"\"},\"baxis\":{\"gridcolor\":\"white\",\"linecolor\":\"white\",\"showgrid\":true,\"ticks\":\"\"},\"bgcolor\":\"rgb(234,234,242)\",\"caxis\":{\"gridcolor\":\"white\",\"linecolor\":\"white\",\"showgrid\":true,\"ticks\":\"\"}},\"xaxis\":{\"automargin\":true,\"gridcolor\":\"white\",\"linecolor\":\"white\",\"showgrid\":true,\"ticks\":\"\",\"title\":{\"standoff\":15},\"zerolinecolor\":\"white\"},\"yaxis\":{\"automargin\":true,\"gridcolor\":\"white\",\"linecolor\":\"white\",\"showgrid\":true,\"ticks\":\"\",\"title\":{\"standoff\":15},\"zerolinecolor\":\"white\"}}},\"xaxis\":{\"anchor\":\"y\",\"domain\":[0.0,1.0],\"title\":{\"text\":\"\\uc885\\ubaa9\"}},\"yaxis\":{\"anchor\":\"x\",\"domain\":[0.0,1.0],\"title\":{\"text\":\"\\ubcc0\\ud654\\uc728\"},\"tickformat\":\"%\"},\"coloraxis\":{\"colorbar\":{\"title\":{\"text\":\"\\ubcc0\\ud654\\uc728\"}},\"colorscale\":[[0.0,\"rgb(247,251,255)\"],[0.125,\"rgb(222,235,247)\"],[0.25,\"rgb(198,219,239)\"],[0.375,\"rgb(158,202,225)\"],[0.5,\"rgb(107,174,214)\"],[0.625,\"rgb(66,146,198)\"],[0.75,\"rgb(33,113,181)\"],[0.875,\"rgb(8,81,156)\"],[1.0,\"rgb(8,48,107)\"]]},\"legend\":{\"tracegroupgap\":0},\"margin\":{\"t\":60},\"barmode\":\"relative\",\"title\":{\"text\":\"<b>\\uc885\\ubaa9\\ubcc4 PER \\ubcc0\\ud654\\uc728<b>\"},\"plot_bgcolor\":\"rgba(0,0,0,0)\"},                        {\"responsive\": true}                    ).then(function(){\n",
       "                            \n",
       "var gd = document.getElementById('79893d9d-8b9e-4937-a453-d66b689d2b44');\n",
       "var x = new MutationObserver(function (mutations, observer) {{\n",
       "        var display = window.getComputedStyle(gd).display;\n",
       "        if (!display || display === 'none') {{\n",
       "            console.log([gd, 'removed!']);\n",
       "            Plotly.purge(gd);\n",
       "            observer.disconnect();\n",
       "        }}\n",
       "}});\n",
       "\n",
       "// Listen for the removal of the full notebook cells\n",
       "var notebookContainer = gd.closest('#notebook-container');\n",
       "if (notebookContainer) {{\n",
       "    x.observe(notebookContainer, {childList: true});\n",
       "}}\n",
       "\n",
       "// Listen for the clearing of the current output cell\n",
       "var outputEl = gd.closest('.output');\n",
       "if (outputEl) {{\n",
       "    x.observe(outputEl, {childList: true});\n",
       "}}\n",
       "\n",
       "                        })                };                });            </script>        </div>"
      ]
     },
     "metadata": {},
     "output_type": "display_data"
    }
   ],
   "source": [
    "graph = pd.merge(df, final, on='종목')\n",
    "graph = graph[['재무비율', '2021/12', '2022/12', '변화율', '종목']]\n",
    "graph2 = graph.loc[graph['재무비율'] == 'PER(배)', ['변화율', '종목']]\n",
    "\n",
    "import plotly.express as px\n",
    "\n",
    "# 그래프 생성\n",
    "fig = px.bar(graph2, x='종목', y='변화율', color='변화율', color_continuous_scale='blues')\n",
    "\n",
    "# 레이아웃 설정\n",
    "fig.update_layout(\n",
    "    title='<b>종목별 PER 변화율<b>',\n",
    "    xaxis_title='종목',\n",
    "    yaxis_title='변화율',\n",
    "    yaxis_tickformat=\"%\",\n",
    "    plot_bgcolor='rgba(0,0,0,0)',\n",
    "    template='seaborn'\n",
    ")\n",
    "\n",
    "# 그래프 표시\n",
    "fig.show()\n"
   ]
  },
  {
   "cell_type": "code",
   "execution_count": 236,
   "id": "f6414969",
   "metadata": {},
   "outputs": [
    {
     "name": "stdout",
     "output_type": "stream",
     "text": [
      "BAR\n",
      "Bar Chart\n",
      "Supports categories and horizontal bar charts\n",
      "\n",
      "\n",
      "Parameters:\n",
      "===========\n",
      "    bargap : float\n",
      "        Sets the gap between bars\n",
      "        \t[0,1)\n",
      "    bargroupgap : float\n",
      "        Sets the gap between groups\n",
      "        \t[0,1)\n",
      "    barmode : string\n",
      "        Bar mode\n",
      "        \tgroup\n",
      "        \tstack\n",
      "        \toverlay\n",
      "    categories : string\n",
      "        Name of the column that contains the categories\n",
      "    orientation : string\n",
      "        Sets the orientation of the bars.\n",
      "        \th\n",
      "        \tv\n",
      "    sortbars : bool\n",
      "        Sort bars in descending order\n",
      "\n",
      "\n",
      "    colors : dict, list or string\n",
      "        Trace color\n",
      "        \tstring : applies to all traces\n",
      "        \tlist : applies to each trace in the order specified\n",
      "        \tdict : {column:value} for each column in the dataframe\n",
      "        values\n",
      "        \tcolorname : see cufflinks.colors.cnames\n",
      "        \thex : '#ffffff'\n",
      "        \trgb : 'rgb(23,50,23)'\n",
      "        \trgba : 'rgba(23,50,23,.5)\n",
      "    colorscale : string\n",
      "        Color scale name\n",
      "        If the color is preceded by a minus (-)\n",
      "        then the scale is inversed.\n",
      "        Only valid if 'colors' is null.\n",
      "        see cufflinks.colors.scales() for all available scales\n",
      "    data : figure\n",
      "        Plotly Figure\n",
      "    rangeslider : bool or dict\n",
      "        Defines if a range slider is displayed.\n",
      "        If True : displays a range slider\n",
      "        If dict : defines a range slider object\n",
      "        Example:\n",
      "        \t{'bgcolor':('blue',.3),'autorange':True}\n",
      "    text : string\n",
      "        Name of the column that contains the text values\n",
      "    width : int, list or dict\n",
      "        Line width\n",
      "        \tint : applies to all traces\n",
      "        \tlist : applies to each trace in the order specified\n",
      "        \tdict : {column:value} for each column in the dataframe\n",
      "\n",
      "    ERROR BARS\n",
      "        error_color : string\n",
      "            Color for error bars\n",
      "        error_opacity : float [0,1]\n",
      "            Color opacity for the error bars\n",
      "        error_thickness : float\n",
      "            Sets the line thickness of the error bars\n",
      "        error_trace : string\n",
      "            Name of the DataFrame column for which error\n",
      "            should be plotted. If omitted then errors apply to all traces.\n",
      "        error_type : string\n",
      "            Type of error bars\n",
      "            \tdata\n",
      "            \tconstant\n",
      "            \tpercent\n",
      "            \tsqrt\n",
      "            \tcontinuous\n",
      "            \tcontinuous_percent\n",
      "        error_values_minus : int, float or list\n",
      "            Values corresponding to the span of the error bars\n",
      "            below the trace coordinate\n",
      "        error_width : int or float\n",
      "            Sets the width (in pixels) of the cross-bar at both\n",
      "            ends of the error bars\n",
      "        error_x : int, float or list\n",
      "            Error values for the x axis\n",
      "        error_y : int, float or list\n",
      "            Error values for the y axis\n",
      "\n",
      "    LAYOUT\n",
      "        layout : Plotly Layout\n",
      "            If defined, this Layout is explicitly used for the Figure generation\n",
      "        dimensions : tuple \n",
      "            Dimensions for image/chart\n",
      "            \t(width,height)\n",
      "        fontfamily : string\n",
      "            HTML Font typeface that will be applied\n",
      "            It needs to exist on the system on which it operates.\n",
      "            Examples:\n",
      "            \t'Times New Roman'\n",
      "            \t'Open Sans'\n",
      "            \t'Monospace'\n",
      "        gridcolor : string\n",
      "            Sets the grid color\n",
      "            \tcolorname : see cufflinks.colors.cnames\n",
      "            \thex : '#ffffff'\n",
      "            \trgb : 'rgb(23,50,23)'\n",
      "            \trgba : 'rgba(23,50,23,.5)\n",
      "        legend : string\n",
      "            Defines where the legend should appear\n",
      "            Values:\n",
      "            \tbottom\n",
      "            \ttop\n",
      "        margin : dict or tuple\n",
      "            Sets the margin dimensions\n",
      "            \t{'l':left,'r':right,'b':bottom,'t':top}\n",
      "            \t(left,right,bottom,top)\n",
      "        secondary_y : string\n",
      "            Name of the column(s) to be charted on\n",
      "            the secondary axis\n",
      "        secondary_y_title : string\n",
      "            Sets the title of the secondary axis\n",
      "        showlegend : bool\n",
      "            Defines if the legend should appear\n",
      "        theme : string\n",
      "            Layout theme\n",
      "            \tsolar\n",
      "            \tpearl\n",
      "            \twhite\n",
      "            see cufflinks.getThemes() for all available themes\n",
      "        title : string\n",
      "            Chart title\n",
      "        xTitle : string\n",
      "            X Axis Title\n",
      "        yTitle : string\n",
      "            Y Axis Title\n",
      "        zerolinecolor : string\n",
      "            Sets the zero line color\n",
      "            \tcolorname : see cufflinks.colors.cnames\n",
      "            \thex : '#ffffff'\n",
      "            \trgb : 'rgb(23,50,23)'\n",
      "            \trgba : 'rgba(23,50,23,.5)\n",
      "        layout_update : dict\n",
      "            The Layout will be explicitly modified\n",
      "            with the values stated in the dictionary.\n",
      "            Not valid when Layout is passed as a parameter\n",
      "\n",
      "    ANNOTATIONS\n",
      "        annotations : dict\n",
      "            Dictionary of annotations\n",
      "            \t{x_point : text}\n",
      "        fontcolor : string\n",
      "            Text color\n",
      "        fontsize : int\n",
      "            Text size\n",
      "        textangle : int\n",
      "            Text angle\n",
      "\n",
      "    EXPORTS\n",
      "        asFigure : bool\n",
      "            If True then it returns a Plotly Figure\n",
      "        asImage : bool\n",
      "            If True then it returns an image (PNG)\n",
      "            While in ONLINE mode:\n",
      "            Image file is saved in the working directory\n",
      "            \tAccepts:\n",
      "            \t\tfilename\n",
      "            \t\tdimensions\n",
      "            \t\tscale\n",
      "            \t\tdisplay_image\n",
      "            While in OFFLINE mode:\n",
      "            Image file is downloaded (downloads folder) and a \n",
      "            regular plotly chart is displayed in Jupyter\n",
      "            \tAccepts:\n",
      "            \t\tfilename\n",
      "            \t\tdimensions\n",
      "        asPlot : bool\n",
      "            If True then the chart opens in a browser\n",
      "        asURL : bool\n",
      "            If True the chart url/path is returned.\n",
      "            No chart is displayed. \n",
      "            \tIf ONLINE : The URL is returned\n",
      "            \tIf OFFLINE : the local path is returned\n",
      "        display_image : bool\n",
      "            If True, then the image is displayed\n",
      "            after being saved.\n",
      "            Only valid if 'asImage=True'\n",
      "        filename : string\n",
      "            Filename to be saved as\n",
      "        online : bool\n",
      "            If True then the chart/image is rendered on the server\n",
      "            even when running in Offline mode\n",
      "        scale : int\n",
      "            Increase the resolution of the image by `scale` amount\n",
      "            Only valid if 'asImage=True'\n",
      "        sharing : string\n",
      "            Sets the sharing level permission\n",
      "            \tpublic - anyone can see the chart\n",
      "            \tprivate - only you can see this chart\n",
      "            \tsecret - only people with the link can see the chart\n",
      "\n",
      "    SHAPES\n",
      "        hline : float, list or dict\n",
      "            Draws a horizontal line at the indicated 'y'\n",
      "            position(s).\n",
      "            Extra parameters can be passed in the form of a\n",
      "            dictionary (see 'shapes')\n",
      "            \thline=4\n",
      "            \thline=[2,10]\n",
      "            \thline=[{'y':2,'color':'blue'},{'y':3,'color':'red'}]\n",
      "        hspan : tuple, list or dict\n",
      "            Draws a horizontal rectangle at the indicated\n",
      "            (y0,y1) positions.\n",
      "            Extra parameters can be passed in the form of a\n",
      "            dictionary (see 'shapes')\n",
      "            \thspan=(1,5)\n",
      "            \thspan=[(1,4),(6,10)]\n",
      "            \thspan=[{'y0':2,'y1':5,'color':'blue','fill':True,'opacity':.4}]\n",
      "        vline : float, list or dict\n",
      "            Draws a vertical line at the indicated 'x'\n",
      "            position(s).\n",
      "            Extra parameters can be passed in the form of a\n",
      "            dictionary (see 'shapes')\n",
      "            \tvline=4\n",
      "            \tvline=[2,10]\n",
      "            \tvline=[{'x':'2015-02-08','color':'blue'},{'x':'2015-03-08','color':'red'}]\n",
      "        vspan : tuple, list or dict\n",
      "            Draws a vertical rectangle at the indicated\n",
      "            (x0,x1) positions.\n",
      "            Extra parameters can be passed in the form of a\n",
      "            dictionary (see 'shapes')\n",
      "            \tvspan=('2015-02-08','2015-03-08')\n",
      "            \tvspan=[(1,4),(6,10)]\n",
      "            \tvspan=[{'x0':2,'x1':5,'color':'blue','fill':True,'opacity':.4}]\n",
      "        shapes : list or dict\n",
      "            List of dictionaries with the specification\n",
      "            of a given shape.\n",
      "            For more information\n",
      "            see help(cufflinks.tools.get_shape)\n",
      "\n",
      "    SUBPLOTS\n",
      "        horizontal_spacing : float [0-1]\n",
      "            Space between subplot columns\n",
      "        shape : (int,int)\n",
      "            Indicates the size of rows and columns.\n",
      "            If ommitted, then the shape is automatically set\n",
      "            * Only valid if subplots=True\n",
      "            \t(rows,columns)\n",
      "        shared_xaxes : bool\n",
      "            If True, subplots in the same grid column have one common\n",
      "            shared x-axis at the bottom of the grid.\n",
      "        shared_yaxes : bool\n",
      "            If True, subplots in the same grid row have one common\n",
      "            shared y-axis at the left of the grid.\n",
      "        subplot_titles : bool\n",
      "            If True, chart titles are displayed\n",
      "            at the top of each subplot.\n",
      "        subplots : bool\n",
      "            If True then each trace is placed in a subplot\n",
      "        vertical_spacing : float [0-1]\n",
      "            Space between subplot rows\n",
      "\n",
      "    AXIS\n",
      "        logx : bool\n",
      "            Sets the x axis to be of logarithmic scale\n",
      "        logy : bool\n",
      "            Sets the y axis to be of logarithmic scale\n",
      "        logz : bool\n",
      "            Sets the z axis to be of logarithmic scale\n",
      "        xrange : tuple\n",
      "            Sets the range for the x axis\n",
      "            \t(lower_bound,upper_bound)\n",
      "        yrange : tuple\n",
      "            Sets the range for the y axis\n",
      "            \t(lower_bound,upper_bound)\n",
      "\n",
      "EXAMPLES\n",
      "    >> cf.datagen.bars(10,5).iplot(kind='bar')\n",
      "    >> cf.datagen.bars().iplot(kind='bar',orientation='h')\n"
     ]
    }
   ],
   "source": [
    "cf.help('bar')"
   ]
  },
  {
   "cell_type": "code",
   "execution_count": null,
   "id": "2e21fe90",
   "metadata": {},
   "outputs": [],
   "source": []
  }
 ],
 "metadata": {
  "kernelspec": {
   "display_name": "Python 3 (ipykernel)",
   "language": "python",
   "name": "python3"
  },
  "language_info": {
   "codemirror_mode": {
    "name": "ipython",
    "version": 3
   },
   "file_extension": ".py",
   "mimetype": "text/x-python",
   "name": "python",
   "nbconvert_exporter": "python",
   "pygments_lexer": "ipython3",
   "version": "3.11.4"
  }
 },
 "nbformat": 4,
 "nbformat_minor": 5
}
